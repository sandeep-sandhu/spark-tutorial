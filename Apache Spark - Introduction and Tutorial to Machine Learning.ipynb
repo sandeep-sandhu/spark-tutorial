{
 "cells": [
  {
   "cell_type": "markdown",
   "metadata": {},
   "source": [
    "# Apache Spark - Hands on Tutorial\n",
    "\n",
    "Topics Covered:\n",
    "\n",
    "  1. Scala Language Basics\n",
    "  1. Intermediate Scala\n",
    "  1. Creating a Spark Session\n",
    "  1. Loading data\n",
    "  1. Exploring data\n",
    "  1. Viewing Jobs and performance using a simple operation\n",
    "  1. Transforming data\n",
    "  1. Training ML models\n",
    "  1. Examining trained models\n",
    "  1. Evaluating model performance\n",
    "  1. Saving Data"
   ]
  },
  {
   "cell_type": "markdown",
   "metadata": {},
   "source": [
    "## About the Apache Spark Platform\n",
    "\n",
    "Apache Spark is a unified analytics engine for large-scale data processing.\n",
    "\n",
    "It provides:\n",
    "  1. High-level APIs in Java, Scala, Python and R, and an optimized engine.\n",
    "  1. Supports a rich set of higher-level tools including Spark SQL for SQL and structured data processing\n",
    "  1. MLlib for machine learning\n",
    "  1. GraphX for graph processing\n",
    "  1. Structured Streaming for incremental computation and stream processing\n"
   ]
  },
  {
   "cell_type": "markdown",
   "metadata": {},
   "source": [
    "## Components of an Apache Spark Cluster\n",
    "\n",
    "Spark applications run as independent sets of processes on a cluster.\n",
    "\n",
    "At a high level, the mechanism is as follows:\n",
    "  1. An application is coordinated by the SparkContext object in your main program (called the driver program).\n",
    "  1. Specifically, to run on a cluster, the SparkContext connects to a cluster manager (either Spark’s own standalone cluster manager, Mesos, YARN or Kubernetes), which allocates resources across all applications.\n",
    "  1. Once connected, Spark acquires executors on nodes in the cluster, which are processes that run computations and store data for your application.\n",
    "  1. Next, it sends your application code (defined by JAR or Python files passed to SparkContext) to the executors.\n",
    "  1. Finally, SparkContext sends tasks to the executors to run.\n",
    "\n",
    "\n",
    "![Image](https://spark.apache.org/docs/latest/img/cluster-overview.png)"
   ]
  },
  {
   "cell_type": "markdown",
   "metadata": {},
   "source": [
    "## Important concepts for running Spark Applications on the cluster\n",
    "\n",
    "  1. Each application gets its own executor processes, which stay up for the duration of the whole application and run tasks in multiple threads.\n",
    "  1. This isolates applications from each other.\n",
    "  1. It also means that data cannot be shared across different Spark applications (instances of SparkContext) without writing it to an external storage system.\n",
    "  1. Spark is agnostic to the underlying cluster manager.\n",
    "  1. The driver program must listen for and accept incoming connections from its executors throughout its lifetime.\n",
    "  1. CP4D provides an API for submitting jobs to the Spark cluster, these inputs are taken by the \"Analytics engine for Apache Spark\" service in CP4D and used to launch a driver which runs the application on the cluster.\n"
   ]
  },
  {
   "cell_type": "markdown",
   "metadata": {},
   "source": [
    "## Important Terms:\n",
    "\n",
    "  1. **Application**: User program built on Spark. Consists of a driver program and executors on the cluster.\n",
    "  1. **Application jar**: A jar containing the user's Spark application. In some cases users will want to create an \"uber jar\" containing their application along with its dependencies. The user's jar should never include Hadoop or Spark libraries, however, these will be added at runtime.\n",
    "  1. **Driver program**: The process running the main() function of the application and creating the SparkContext\n",
    "  1. **Cluster manager**: An external service for acquiring resources on the cluster (e.g. standalone manager, Mesos, YARN, Kubernetes)\n",
    "  1. **Deploy mode**: Distinguishes where the driver process runs. In \"cluster\" mode, the framework launches the driver inside of the cluster. In \"client\" mode, the submitter launches the driver outside of the cluster.\n",
    "  1. **Worker node**: Any node that can run application code in the cluster\n",
    "  1. **Executor**: A process launched for an application on a worker node, that runs tasks and keeps data in memory or disk storage across them. Each application has its own executors.\n",
    "  1. **Task**: A unit of work that will be sent to one executor\n",
    "  1. **Job**: A parallel computation consisting of multiple tasks that gets spawned in response to a Spark action (e.g. save, collect); you'll see this term used in the driver's logs.\n",
    "  1. **Stage**: Each job gets divided into smaller sets of tasks called stages that depend on each other (similar to the map and reduce stages in MapReduce); you'll see this term used in the driver's logs.\n"
   ]
  },
  {
   "cell_type": "markdown",
   "metadata": {},
   "source": [
    "## Spark Scheduling:\n",
    "\n",
    "Spark has several facilities for scheduling resources between computations:\n",
    "  1. Each Spark application (instance of SparkContext) runs an independent set of executor processes. The cluster managers that Spark runs on provide facilities for scheduling across applications.\n",
    "  1. Within each Spark application, multiple “jobs” (Spark actions) may be running concurrently if they were submitted by different threads. Spark includes a fair scheduler to schedule resources within each SparkContext.\n",
    "  \n",
    "### Scheduling Across Applications\n",
    "\n",
    "When running on a cluster, each Spark application gets an independent set of executor JVMs that only run tasks and store data for that application.\n",
    "\n",
    "If multiple users need to share your cluster, there are different options to manage allocation, depending on the cluster manager:\n",
    "\n",
    "  1. **Static partitioning of resources**: Each application is given a maximum amount of resources it can use and holds onto them for its whole duration. Applications submitted to the standalone mode cluster will run in FIFO (first-in-first-out) order, and each application will try to use all available nodes. You can limit the resources an application uses by setting the - _spark.cores.max_, or _spark.deploy.defaultCores_, or _spark.executor.memory_ configuration properties.\n",
    "  1. **Dynamic Allocation of resources**: This is supported by clusters such as Kubernetes (k8s) where fine grained resource allocation and scheduling are available. Such cluster managers provide a mechanism to dynamically adjust the resources your application occupies based on the workload. This means that your application may give resources back to the cluster if they are no longer used and request them again later when there is demand."
   ]
  },
  {
   "cell_type": "markdown",
   "metadata": {},
   "source": [
    "## Example of Kubernetes cluster manager for Spark\n",
    "\n",
    "![Image](https://spark.apache.org/docs/latest/img/k8s-cluster-mode.png)"
   ]
  },
  {
   "cell_type": "markdown",
   "metadata": {},
   "source": [
    "---\n",
    "\n",
    "## Spark Monitoring\n",
    "\n",
    "Every SparkContext launches a Web UI, by default on port 4040, that displays useful information about the application. This includes:\n",
    "\n",
    "  1. A list of scheduler stages and tasks\n",
    "  1. A summary of RDD sizes and memory usage\n",
    "  1. Environmental information.\n",
    "  1. Information about the running executors\n",
    "\n",
    "This interface is accessible from http://<driver-node>:4040 in a web browser when running spark in standalone mode.\n",
    "\n",
    "Note: this information is only available for the duration of the application. To view the web UI after the applicaiton has finished, configure Spark to log Spark events to persisted storage.\n",
    "\n",
    "### Spark History Server\n",
    "It is still possible to construct the UI of an application through Spark’s history server, provided that the application’s event logs exist.\n",
    "    \n",
    "### Advanced Instrumentation\n",
    "Several external tools can be used to help profile the performance of Spark jobs:\n",
    "\n",
    "  1. Cluster-wide monitoring tools, such as Ganglia, can provide insight into overall cluster utilization and resource bottlenecks. For instance, a Ganglia dashboard can quickly reveal whether a particular workload is disk bound, network bound, or CPU bound.\n",
    "  1. OS profiling tools such as dstat, iostat, and iotop can provide fine-grained profiling on individual nodes.\n",
    "  1. JVM utilities such as jstack for providing stack traces, jmap for creating heap-dumps, jstat for reporting time-series statistics and jconsole for visually exploring various JVM properties are useful for those comfortable with JVM internals.\n"
   ]
  },
  {
   "cell_type": "markdown",
   "metadata": {},
   "source": [
    "---\n",
    "# 1. Brief introduciton to the Scala Language \n",
    "\n",
    "## Basic Scala\n",
    "\n",
    "This notebook gives a very brief introduciton to scala. For a more in-depth introduction, visit the scala language website at https://docs.scala-lang.org/ for extensive documentation suitable for all levels.\n",
    "\n",
    "Some of the scala language examples have been taken and modified from https://rockthejvm.com/p/scala-at-light-speed by Daniel Ciocîrlan. Do check out the tutorials offered by Daniel - I found them to be very useful.\n",
    "\n",
    "The following topics are covered lightly:\n",
    "  - Variables\n",
    "  - Mutable vs. Immutable variables\n",
    "  - Expressions\n",
    "  - Conditional expressions\n",
    "  - Code blocks\n",
    "  - Functions\n",
    "  - Argument types and return types"
   ]
  },
  {
   "cell_type": "markdown",
   "metadata": {},
   "source": [
    "Let us define a variable:"
   ]
  },
  {
   "cell_type": "code",
   "execution_count": 1,
   "metadata": {
    "id": "3b4d9ece9db04a7f8ccaf9591422f797"
   },
   "outputs": [
    {
     "data": {
      "text/plain": [
       "\u001b[36maNumber\u001b[39m: \u001b[32mInt\u001b[39m = \u001b[32m42\u001b[39m"
      ]
     },
     "execution_count": 1,
     "metadata": {},
     "output_type": "execute_result"
    }
   ],
   "source": [
    "val aNumber: Int = 42 // const int aNumber = 42;"
   ]
  },
  {
   "cell_type": "markdown",
   "metadata": {},
   "source": [
    "In Scala, by default, all variables are declared as IMMUTABLE values/objects declared by **'val'**\n",
    "\n",
    "The value of such variables cannot be changed once declared.\n",
    "\n",
    "So, this statement will not work:"
   ]
  },
  {
   "cell_type": "code",
   "execution_count": 2,
   "metadata": {
    "id": "51260bd419c04a1b9216b8d7449920dd"
   },
   "outputs": [
    {
     "ename": "Unknown Error",
     "evalue": "<console>:24: error: reassignment to val\n       aNumber = 5 + 6\n               ^\n",
     "output_type": "error",
     "traceback": []
    }
   ],
   "source": [
    "aNumber = 5 + 6"
   ]
  },
  {
   "cell_type": "markdown",
   "metadata": {},
   "source": [
    "Any modification to an object must return ANOTHER object"
   ]
  },
  {
   "cell_type": "markdown",
   "metadata": {},
   "source": [
    "Next, we'll declare a 'var' which is **mutable**, which means it's value can be changed:"
   ]
  },
  {
   "cell_type": "code",
   "execution_count": 2,
   "metadata": {
    "id": "89113a6baa9740a78b3819f1d37cf34f"
   },
   "outputs": [
    {
     "data": {
      "text/html": [
       "<div class=\"jp-RenderedText\">\n",
       "<pre><code><span style=\"color: rgb(0, 187, 187)\"><span class=\"ansi-cyan-fg\">newNumber</span></span>: <span style=\"color: rgb(0, 187, 0)\"><span class=\"ansi-green-fg\">Int</span></span> = <style>@keyframes fadein { from { opacity: 0; } to { opacity: 1; } }</style><span style=\"animation: fadein 2s;\"><span style=\"color: rgb(0, 187, 0)\"><span class=\"ansi-green-fg\">11</span></span></span></code></pre>\n",
       "</div>"
      ],
      "text/plain": [
       "\u001b[36mnewNumber\u001b[39m: \u001b[32mInt\u001b[39m = \u001b[32m11\u001b[39m"
      ]
     },
     "metadata": {},
     "output_type": "display_data"
    }
   ],
   "source": [
    "var newNumber = 5"
   ]
  },
  {
   "cell_type": "code",
   "execution_count": 3,
   "metadata": {
    "id": "73a11e4d836a40ebae2bbb17929ac544"
   },
   "outputs": [
    {
     "name": "stdout",
     "output_type": "stream",
     "text": [
      "11\n"
     ]
    }
   ],
   "source": [
    "newNumber = 5 + 6\n",
    "println(newNumber)"
   ]
  },
  {
   "cell_type": "markdown",
   "metadata": {},
   "source": [
    "Some of the basic data types in scala are: Int, Boolean, Char, Double, Float, String.\n",
    "\n",
    "Note that specifying a type is optional when declaring a variable or expresion, but it is a best practice and is always recommended."
   ]
  },
  {
   "cell_type": "code",
   "execution_count": 1,
   "metadata": {
    "id": "cba6ed0c97444bf3a75933ca487cc9db"
   },
   "outputs": [
    {
     "data": {
      "text/plain": [
       "\u001b[36maBoolean\u001b[39m: \u001b[32mBoolean\u001b[39m = \u001b[32mfalse\u001b[39m"
      ]
     },
     "execution_count": 1,
     "metadata": {},
     "output_type": "execute_result"
    }
   ],
   "source": [
    "val aBoolean: Boolean = false"
   ]
  },
  {
   "cell_type": "markdown",
   "metadata": {},
   "source": [
    "Strings and basic string operations:"
   ]
  },
  {
   "cell_type": "code",
   "execution_count": 5,
   "metadata": {
    "id": "a12b2116f73e4dc78735318a2a22a3dc"
   },
   "outputs": [
    {
     "data": {
      "text/plain": [
       "\u001b[36maString\u001b[39m: \u001b[32mString\u001b[39m = \u001b[32m\"I program in Scala\"\u001b[39m\n",
       "\u001b[36maComposedString\u001b[39m: \u001b[32mString\u001b[39m = \u001b[32m\"I program in Scala\"\u001b[39m"
      ]
     },
     "execution_count": 5,
     "metadata": {},
     "output_type": "execute_result"
    }
   ],
   "source": [
    "val aString = \"I program in Scala\"\n",
    "val aComposedString = \"I\" + \" \" + \"program\" + \" \" + \"in\" + \" \" + \"Scala\""
   ]
  },
  {
   "cell_type": "markdown",
   "metadata": {},
   "source": [
    "When printing or logging messages during a program's execution, its often required to format variables and string formatting is useful in such situations:"
   ]
  },
  {
   "cell_type": "code",
   "execution_count": 6,
   "metadata": {
    "id": "ee39e34d965d4bdb890258a1d7a82244"
   },
   "outputs": [
    {
     "data": {
      "text/plain": [
       "\u001b[36manInterpolatedString\u001b[39m: \u001b[32mString\u001b[39m = \u001b[32m\"The value of the variable is: 42\"\u001b[39m"
      ]
     },
     "execution_count": 6,
     "metadata": {},
     "output_type": "execute_result"
    }
   ],
   "source": [
    "val anInterpolatedString = s\"The value of the variable is: $aNumber\""
   ]
  },
  {
   "cell_type": "code",
   "execution_count": 7,
   "metadata": {
    "id": "4100ee2837044eb38186073ac5a4da28"
   },
   "outputs": [
    {
     "data": {
      "text/plain": [
       "\u001b[36mres6\u001b[39m: \u001b[32mString\u001b[39m = \u001b[32m\"Format an integer with this expression - 11, format a string with this expression - Another String\"\u001b[39m"
      ]
     },
     "execution_count": 7,
     "metadata": {},
     "output_type": "execute_result"
    }
   ],
   "source": [
    "\"Format an integer with this expression - %d, format a string with this expression - %s\".format(11, \"Another String\")"
   ]
  },
  {
   "cell_type": "markdown",
   "metadata": {},
   "source": [
    "Expressions are code that can be reduced to a value:"
   ]
  },
  {
   "cell_type": "code",
   "execution_count": 8,
   "metadata": {
    "id": "063f1657fe2847c481df353c915c3985"
   },
   "outputs": [
    {
     "data": {
      "text/plain": [
       "\u001b[36manExpression\u001b[39m: \u001b[32mInt\u001b[39m = \u001b[32m42\u001b[39m"
      ]
     },
     "execution_count": 8,
     "metadata": {},
     "output_type": "execute_result"
    }
   ],
   "source": [
    "val anExpression = 2 + 40"
   ]
  },
  {
   "cell_type": "markdown",
   "metadata": {},
   "source": [
    "Single line if-else expression:"
   ]
  },
  {
   "cell_type": "code",
   "execution_count": 9,
   "metadata": {
    "id": "e06a2dece57049558be13bb4dca84db3"
   },
   "outputs": [
    {
     "data": {
      "text/plain": [
       "\u001b[36mifExpression\u001b[39m: \u001b[32mInt\u001b[39m = \u001b[32m0\u001b[39m"
      ]
     },
     "execution_count": 9,
     "metadata": {},
     "output_type": "execute_result"
    }
   ],
   "source": [
    "val ifExpression = if (aNumber > 50) 100 else 0"
   ]
  },
  {
   "cell_type": "code",
   "execution_count": 10,
   "metadata": {
    "id": "dc5e702b707b459a84d2ed626d003aa0"
   },
   "outputs": [
    {
     "data": {
      "text/plain": [
       "\u001b[36mchainedIfExpression\u001b[39m: \u001b[32mInt\u001b[39m = \u001b[32m0\u001b[39m"
      ]
     },
     "execution_count": 10,
     "metadata": {},
     "output_type": "execute_result"
    }
   ],
   "source": [
    "val chainedIfExpression =\n",
    "    if (aNumber > 43) 56\n",
    "    else if (aNumber < 0) -2\n",
    "    else if (aNumber > 999) 78\n",
    "    else 0"
   ]
  },
  {
   "cell_type": "markdown",
   "metadata": {
    "id": "576a7d9ba75d47d58cba8001d7a9223f"
   },
   "source": [
    "A code block is wrapped up within curly braces - {}\n",
    "\n",
    "Multiple statements can be included in such a code block.\n",
    "\n",
    "The value returned by the last statement is returned by the code block when executing."
   ]
  },
  {
   "cell_type": "code",
   "execution_count": 11,
   "metadata": {
    "id": "576a7d9ba75d47d58cba8001d7a9223f"
   },
   "outputs": [
    {
     "data": {
      "text/plain": [
       "\u001b[36maCodeBlock\u001b[39m: \u001b[32mInt\u001b[39m = \u001b[32m70\u001b[39m"
      ]
     },
     "execution_count": 11,
     "metadata": {},
     "output_type": "execute_result"
    }
   ],
   "source": [
    "val aCodeBlock = {\n",
    "    // definitions\n",
    "    val aLocalValue = 67\n",
    "\n",
    "    // value of block is the value of the last expression\n",
    "    aLocalValue + 3\n",
    "}\n",
    "// Here, 70 is returned sic eit is the last statement."
   ]
  },
  {
   "cell_type": "markdown",
   "metadata": {
    "id": "037e0222b08e4e468beb0c8d127e8246"
   },
   "source": [
    "A function is defined by assigning a code block or expression to the function signature, see below:"
   ]
  },
  {
   "cell_type": "code",
   "execution_count": 12,
   "metadata": {
    "id": "037e0222b08e4e468beb0c8d127e8246"
   },
   "outputs": [
    {
     "data": {
      "text/plain": [
       "defined \u001b[32mfunction\u001b[39m \u001b[36mmyFunction\u001b[39m"
      ]
     },
     "execution_count": 12,
     "metadata": {},
     "output_type": "execute_result"
    }
   ],
   "source": [
    "def myFunction(x: Int, y: String): String = { // define argument types, also define return type\n",
    "    y + \" \" + x\n",
    "}"
   ]
  },
  {
   "cell_type": "code",
   "execution_count": 13,
   "metadata": {
    "id": "f6fd20e2950e48628ac62d3f8603a967"
   },
   "outputs": [
    {
     "data": {
      "text/plain": [
       "\u001b[36mres12\u001b[39m: \u001b[32mString\u001b[39m = \u001b[32m\"the number is 42\"\u001b[39m"
      ]
     },
     "execution_count": 13,
     "metadata": {},
     "output_type": "execute_result"
    }
   ],
   "source": [
    "myFunction(42, \"the number is\")"
   ]
  },
  {
   "cell_type": "markdown",
   "metadata": {
    "id": "9f852f8da53e4928885638f58cf5442c"
   },
   "source": [
    "Here is an example of a recursive function - to find a factorial of a given number."
   ]
  },
  {
   "cell_type": "code",
   "execution_count": 2,
   "metadata": {
    "id": "9f852f8da53e4928885638f58cf5442c"
   },
   "outputs": [
    {
     "data": {
      "text/plain": [
       "defined \u001b[32mfunction\u001b[39m \u001b[36mfactorial\u001b[39m"
      ]
     },
     "execution_count": 2,
     "metadata": {},
     "output_type": "execute_result"
    }
   ],
   "source": [
    "def factorial(n: Int): Int =\n",
    "    if (n <= 1) 1\n",
    "    else n * factorial(n - 1)\n",
    "\n",
    "/*\n",
    "factorial(5) = 5 * factorial(4) = 5 * 24 = 120\n",
    "factorial(4) = 4 * factorial(3) = 4 * 6\n",
    "factorial(3) = 3 * factorial(2) = 3 * 2\n",
    "factorial(2) = 2 * factorial(1) = 2 * 1\n",
    "factorial(1) = 1\n",
    "*/"
   ]
  },
  {
   "cell_type": "code",
   "execution_count": 3,
   "metadata": {
    "id": "834fcc050aff427582130b573a405d02"
   },
   "outputs": [
    {
     "data": {
      "text/plain": [
       "\u001b[36mres2\u001b[39m: \u001b[32mInt\u001b[39m = \u001b[32m1\u001b[39m"
      ]
     },
     "execution_count": 3,
     "metadata": {},
     "output_type": "execute_result"
    }
   ],
   "source": [
    "factorial(1)"
   ]
  },
  {
   "cell_type": "code",
   "execution_count": 4,
   "metadata": {},
   "outputs": [
    {
     "data": {
      "text/plain": [
       "\u001b[36mres3\u001b[39m: \u001b[32mInt\u001b[39m = \u001b[32m2\u001b[39m"
      ]
     },
     "execution_count": 4,
     "metadata": {},
     "output_type": "execute_result"
    }
   ],
   "source": [
    "factorial(2)"
   ]
  },
  {
   "cell_type": "code",
   "execution_count": 5,
   "metadata": {},
   "outputs": [
    {
     "data": {
      "text/plain": [
       "\u001b[36mres4\u001b[39m: \u001b[32mInt\u001b[39m = \u001b[32m6\u001b[39m"
      ]
     },
     "execution_count": 5,
     "metadata": {},
     "output_type": "execute_result"
    }
   ],
   "source": [
    "factorial(3)"
   ]
  },
  {
   "cell_type": "code",
   "execution_count": 6,
   "metadata": {},
   "outputs": [
    {
     "data": {
      "text/plain": [
       "\u001b[36mres5\u001b[39m: \u001b[32mInt\u001b[39m = \u001b[32m24\u001b[39m"
      ]
     },
     "execution_count": 6,
     "metadata": {},
     "output_type": "execute_result"
    }
   ],
   "source": [
    "factorial(4)"
   ]
  },
  {
   "cell_type": "markdown",
   "metadata": {
    "id": "a21ca62add2744618e6f0c20ced4f4bd"
   },
   "source": [
    "The Unit type implies no meaningful value is returned by the function.\n",
    "It is equivalent to \"void\" in other languages"
   ]
  },
  {
   "cell_type": "code",
   "execution_count": 7,
   "metadata": {
    "id": "a0b5771049d94ad49e7309912b84bf03"
   },
   "outputs": [
    {
     "data": {
      "text/plain": [
       "defined \u001b[32mfunction\u001b[39m \u001b[36mmyUnitReturningFunction\u001b[39m"
      ]
     },
     "execution_count": 7,
     "metadata": {},
     "output_type": "execute_result"
    }
   ],
   "source": [
    "def myUnitReturningFunction(): Unit = {\n",
    "    println(\"I don't return Unit\")\n",
    "}"
   ]
  },
  {
   "cell_type": "code",
   "execution_count": 8,
   "metadata": {
    "id": "26c261afd3f84c9ea8d051f69453b2a4"
   },
   "outputs": [
    {
     "name": "stdout",
     "output_type": "stream",
     "text": [
      "I don't return Unit\n"
     ]
    }
   ],
   "source": [
    "myUnitReturningFunction"
   ]
  },
  {
   "cell_type": "code",
   "execution_count": 9,
   "metadata": {
    "id": "5c17c8c25fb44e0790f6cbb58daa9854"
   },
   "outputs": [],
   "source": [
    "val theUnit = ()"
   ]
  },
  {
   "cell_type": "code",
   "execution_count": 10,
   "metadata": {
    "id": "11d92466863d43a3829b4e461b9d0044"
   },
   "outputs": [],
   "source": [
    "theUnit"
   ]
  },
  {
   "cell_type": "markdown",
   "metadata": {},
   "source": [
    "---\n",
    "## 2. Intermediate Scala\n",
    "\n",
    "  - Object Oriented language\n",
    "  - Class vs. Object\n",
    "  - Traits\n",
    "  - Case classes\n",
    "  - Serialisation\n",
    "  - Collections"
   ]
  },
  {
   "cell_type": "code",
   "execution_count": 22,
   "metadata": {
    "id": "4361ca106e4b440984ee72e76996557f"
   },
   "outputs": [
    {
     "data": {
      "text/plain": [
       "defined \u001b[32mclass\u001b[39m \u001b[36mAnimal\u001b[39m"
      ]
     },
     "execution_count": 22,
     "metadata": {},
     "output_type": "execute_result"
    }
   ],
   "source": [
    "// class and instance\n",
    "class Animal {\n",
    "    // define fields\n",
    "    val age: Int = 0\n",
    "    // define methods\n",
    "    def eat() = println(\"I'm eating\")\n",
    "}"
   ]
  },
  {
   "cell_type": "code",
   "execution_count": 23,
   "metadata": {
    "id": "13b696502de849a48f896f9921a34687"
   },
   "outputs": [
    {
     "data": {
      "text/plain": [
       "\u001b[36manAnimal\u001b[39m: \u001b[32mAnimal\u001b[39m = ammonite.$sess.cmd21$Helper$Animal@357ac956"
      ]
     },
     "execution_count": 23,
     "metadata": {},
     "output_type": "execute_result"
    }
   ],
   "source": [
    "val anAnimal = new Animal"
   ]
  },
  {
   "cell_type": "code",
   "execution_count": 24,
   "metadata": {
    "id": "5afe5dc0c6a34a60b8c05904158ba617"
   },
   "outputs": [
    {
     "data": {
      "text/plain": [
       "defined \u001b[32mclass\u001b[39m \u001b[36mDog\u001b[39m\n",
       "\u001b[36maDog\u001b[39m: \u001b[32mDog\u001b[39m = ammonite.$sess.cmd23$Helper$Dog@191bfaaa"
      ]
     },
     "execution_count": 24,
     "metadata": {},
     "output_type": "execute_result"
    }
   ],
   "source": [
    "// inheritance\n",
    "class Dog(val name: String) extends Animal // constructor definition\n",
    "val aDog = new Dog(\"Tommy\")"
   ]
  },
  {
   "cell_type": "code",
   "execution_count": 25,
   "metadata": {
    "id": "1b7d77ddbc654c8c96592661a6ed7086"
   },
   "outputs": [
    {
     "data": {
      "text/plain": [
       "\u001b[36mres24\u001b[39m: \u001b[32mString\u001b[39m = \u001b[32m\"Tommy\"\u001b[39m"
      ]
     },
     "execution_count": 25,
     "metadata": {},
     "output_type": "execute_result"
    }
   ],
   "source": [
    "// constructor arguments are NOT fields: need to put a val before the constructor argument\n",
    "aDog.name"
   ]
  },
  {
   "cell_type": "code",
   "execution_count": 26,
   "metadata": {
    "id": "3a0ddf16054b494c8991b955bd656271"
   },
   "outputs": [
    {
     "name": "stdout",
     "output_type": "stream",
     "text": [
      "I'm eating\n"
     ]
    },
    {
     "data": {
      "text/plain": [
       "\u001b[36maDeclaredAnimal\u001b[39m: \u001b[32mAnimal\u001b[39m = ammonite.$sess.cmd23$Helper$Dog@58c6a14e"
      ]
     },
     "execution_count": 26,
     "metadata": {},
     "output_type": "execute_result"
    }
   ],
   "source": [
    "// subtype polymorphism\n",
    "val aDeclaredAnimal: Animal = new Dog(\"Hachi\")\n",
    "aDeclaredAnimal.eat() // the most derived method will be called at runtime"
   ]
  },
  {
   "cell_type": "code",
   "execution_count": 27,
   "metadata": {
    "id": "3bb0ca5997f240db80f71396291ad812"
   },
   "outputs": [
    {
     "data": {
      "text/plain": [
       "defined \u001b[32mclass\u001b[39m \u001b[36mWalkingAnimal\u001b[39m"
      ]
     },
     "execution_count": 27,
     "metadata": {},
     "output_type": "execute_result"
    }
   ],
   "source": [
    "// abstract class\n",
    "abstract class WalkingAnimal {\n",
    "    val hasLegs = true // by default public, can restrict by adding protected or private\n",
    "    protected val numOfFeet = 4\n",
    "    def walk(): Unit\n",
    "}"
   ]
  },
  {
   "cell_type": "markdown",
   "metadata": {},
   "source": [
    "A class can have only one inheritance, but have multiple traits."
   ]
  },
  {
   "cell_type": "code",
   "execution_count": 28,
   "metadata": {
    "id": "1fd97d1fe89544f280cbc2acf5fe8dd8"
   },
   "outputs": [
    {
     "data": {
      "text/plain": [
       "defined \u001b[32mtrait\u001b[39m \u001b[36mCarnivore\u001b[39m"
      ]
     },
     "execution_count": 28,
     "metadata": {},
     "output_type": "execute_result"
    }
   ],
   "source": [
    "// \"interface\": ultimate abstract type\n",
    "trait Carnivore {\n",
    "    def eat(animal: Animal): Unit\n",
    "}"
   ]
  },
  {
   "cell_type": "code",
   "execution_count": 29,
   "metadata": {
    "id": "a001561c3a904bfd859ffff29e9cc111"
   },
   "outputs": [
    {
     "data": {
      "text/plain": [
       "defined \u001b[32mtrait\u001b[39m \u001b[36mPhilosopher\u001b[39m"
      ]
     },
     "execution_count": 29,
     "metadata": {},
     "output_type": "execute_result"
    }
   ],
   "source": [
    "trait Philosopher {\n",
    "    def ?!(thought: String): Unit // valid method name\n",
    "}"
   ]
  },
  {
   "cell_type": "markdown",
   "metadata": {},
   "source": [
    "Here is an emaple of single-class inheritance, multi-trait \"mixing\""
   ]
  },
  {
   "cell_type": "code",
   "execution_count": 30,
   "metadata": {
    "id": "9c0ba3bf19ec418c8854f88839d2d2b3"
   },
   "outputs": [
    {
     "data": {
      "text/plain": [
       "defined \u001b[32mclass\u001b[39m \u001b[36mCrocodile\u001b[39m"
      ]
     },
     "execution_count": 30,
     "metadata": {},
     "output_type": "execute_result"
    }
   ],
   "source": [
    "class Crocodile extends Animal with Carnivore with Philosopher {\n",
    "    override def eat(animal: Animal): Unit = println(\"I am eating you, animal!\")\n",
    "\n",
    "    override def ?!(thought: String): Unit = println(s\"I was thinking: $thought\")\n",
    "}"
   ]
  },
  {
   "cell_type": "code",
   "execution_count": 31,
   "metadata": {
    "id": "287301a27c9a4d85bd264fc803ff8d48"
   },
   "outputs": [
    {
     "data": {
      "text/plain": [
       "\u001b[36maCroc\u001b[39m: \u001b[32mCrocodile\u001b[39m = ammonite.$sess.cmd29$Helper$Crocodile@31f78889"
      ]
     },
     "execution_count": 31,
     "metadata": {},
     "output_type": "execute_result"
    }
   ],
   "source": [
    "val aCroc = new Crocodile"
   ]
  },
  {
   "cell_type": "code",
   "execution_count": 32,
   "metadata": {
    "id": "e22bf29abcd145959d9f9aac329bb1ef"
   },
   "outputs": [
    {
     "name": "stdout",
     "output_type": "stream",
     "text": [
      "I am eating you, animal!\n"
     ]
    }
   ],
   "source": [
    "aCroc.eat(aDog)"
   ]
  },
  {
   "cell_type": "markdown",
   "metadata": {},
   "source": [
    "This is the infix notation = object method argument, it is only available for methods with ONE argument"
   ]
  },
  {
   "cell_type": "code",
   "execution_count": 33,
   "metadata": {
    "id": "68ad846b8129438384e69d1c6cb44d3d"
   },
   "outputs": [
    {
     "name": "stdout",
     "output_type": "stream",
     "text": [
      "I am eating you, animal!\n"
     ]
    }
   ],
   "source": [
    "aCroc eat aDog"
   ]
  },
  {
   "cell_type": "markdown",
   "metadata": {},
   "source": [
    "Example of the use of a custom operator: **?!**"
   ]
  },
  {
   "cell_type": "code",
   "execution_count": 34,
   "metadata": {
    "id": "b494458b73ac46399c4fad8916284df9"
   },
   "outputs": [
    {
     "name": "stdout",
     "output_type": "stream",
     "text": [
      "I was thinking: What if we could fly?\n"
     ]
    }
   ],
   "source": [
    "aCroc ?! \"What if we could fly?\""
   ]
  },
  {
   "cell_type": "markdown",
   "metadata": {},
   "source": [
    "Operators in Scala are actually methods"
   ]
  },
  {
   "cell_type": "code",
   "execution_count": 35,
   "metadata": {
    "id": "3327ed405172431eb1877ef330aab7d2"
   },
   "outputs": [
    {
     "data": {
      "text/plain": [
       "\u001b[36mbasicMath\u001b[39m: \u001b[32mInt\u001b[39m = \u001b[32m3\u001b[39m"
      ]
     },
     "execution_count": 35,
     "metadata": {},
     "output_type": "execute_result"
    }
   ],
   "source": [
    "val basicMath = 1 + 2"
   ]
  },
  {
   "cell_type": "markdown",
   "metadata": {},
   "source": [
    "Equivalent expression showing that operator is a function:"
   ]
  },
  {
   "cell_type": "code",
   "execution_count": 36,
   "metadata": {
    "id": "7fbb92b73f9148428b701091350ef450"
   },
   "outputs": [
    {
     "data": {
      "text/plain": [
       "\u001b[36manotherBasicMath\u001b[39m: \u001b[32mInt\u001b[39m = \u001b[32m3\u001b[39m"
      ]
     },
     "execution_count": 36,
     "metadata": {},
     "output_type": "execute_result"
    }
   ],
   "source": [
    "val anotherBasicMath = 1.+(2)"
   ]
  },
  {
   "cell_type": "code",
   "execution_count": 37,
   "metadata": {
    "id": "90d058e822fd46b98b8228baf9f130af"
   },
   "outputs": [
    {
     "data": {
      "text/plain": [
       "\u001b[36mdinosaur\u001b[39m: \u001b[32mAnyRef\u001b[39m with \u001b[32mCarnivore\u001b[39m = ammonite.$sess.cmd36$Helper$$anon$1@38c22f2f"
      ]
     },
     "execution_count": 37,
     "metadata": {},
     "output_type": "execute_result"
    }
   ],
   "source": [
    "// Anonymous classes\n",
    "val dinosaur = new Carnivore {\n",
    "    override def eat(animal: Animal): Unit = println(\"I am a dinosaur so I can eat anything\")\n",
    "}"
   ]
  },
  {
   "cell_type": "code",
   "execution_count": 38,
   "metadata": {
    "id": "a3197b3e629e4a748e67fbc2e50d990e"
   },
   "outputs": [
    {
     "name": "stdout",
     "output_type": "stream",
     "text": [
      "I am a dinosaur so I can eat anything\n"
     ]
    }
   ],
   "source": [
    "dinosaur eat aDog"
   ]
  },
  {
   "cell_type": "markdown",
   "metadata": {},
   "source": [
    "An object is a singleton."
   ]
  },
  {
   "cell_type": "code",
   "execution_count": 39,
   "metadata": {
    "id": "bea085ee639345699cec12810a3b04a3"
   },
   "outputs": [
    {
     "data": {
      "text/plain": [
       "defined \u001b[32mobject\u001b[39m \u001b[36mMySingleton\u001b[39m"
      ]
     },
     "execution_count": 39,
     "metadata": {},
     "output_type": "execute_result"
    }
   ],
   "source": [
    "object MySingleton { // the only instance of the MySingleton type\n",
    "    val mySpecialValue = 53278\n",
    "    def mySpecialMethod(): Int = 5327\n",
    "    def apply(x: Int): Int = x + 1\n",
    "}"
   ]
  },
  {
   "cell_type": "markdown",
   "metadata": {},
   "source": [
    "A singleton cannot be instantiated:"
   ]
  },
  {
   "cell_type": "code",
   "execution_count": 39,
   "metadata": {
    "id": "a8b3403fbfde41509b2233efbba209b4"
   },
   "outputs": [
    {
     "name": "stderr",
     "output_type": "stream",
     "text": [
      "cmd39.sc:1: not found: type MySingleton\n",
      "val objInstance = new MySingleton\n",
      "                      ^Compilation Failed"
     ]
    },
    {
     "ename": "",
     "evalue": "",
     "output_type": "error",
     "traceback": [
      "Compilation Failed"
     ]
    }
   ],
   "source": [
    "val objInstance = new MySingleton"
   ]
  },
  {
   "cell_type": "code",
   "execution_count": 40,
   "metadata": {
    "id": "b42efdceb9b24d9789ac9f16f29c74a9"
   },
   "outputs": [
    {
     "data": {
      "text/plain": [
       "\u001b[36mres39\u001b[39m: \u001b[32mInt\u001b[39m = \u001b[32m5327\u001b[39m"
      ]
     },
     "execution_count": 40,
     "metadata": {},
     "output_type": "execute_result"
    }
   ],
   "source": [
    "MySingleton.mySpecialMethod()"
   ]
  },
  {
   "cell_type": "code",
   "execution_count": 41,
   "metadata": {
    "id": "5fcb6f3a4b804fac8dfe62315846928e"
   },
   "outputs": [
    {
     "data": {
      "text/plain": [
       "\u001b[36mres40\u001b[39m: \u001b[32mInt\u001b[39m = \u001b[32m66\u001b[39m"
      ]
     },
     "execution_count": 41,
     "metadata": {},
     "output_type": "execute_result"
    }
   ],
   "source": [
    "MySingleton.apply(65)"
   ]
  },
  {
   "cell_type": "code",
   "execution_count": 42,
   "metadata": {
    "id": "ce76e6c2e7c84c738820a8e744c00456"
   },
   "outputs": [
    {
     "data": {
      "text/plain": [
       "\u001b[36mres41\u001b[39m: \u001b[32mInt\u001b[39m = \u001b[32m66\u001b[39m"
      ]
     },
     "execution_count": 42,
     "metadata": {},
     "output_type": "execute_result"
    }
   ],
   "source": [
    "MySingleton(65) // equivalent to MySingleton.apply(65)"
   ]
  },
  {
   "cell_type": "markdown",
   "metadata": {},
   "source": [
    "### Companions - a companion object can be delcared with the same name as a class\n",
    "\n",
    "Companions can access each other's private fields/methods\n",
    "\n",
    "Singleton Animal and instances of Animal are different things, see below:"
   ]
  },
  {
   "cell_type": "code",
   "execution_count": 11,
   "metadata": {
    "id": "f56cd0e0bb1d4ff0899a2eb0bf2db3dd"
   },
   "outputs": [
    {
     "data": {
      "text/plain": [
       "defined \u001b[32mobject\u001b[39m \u001b[36mAnimal\u001b[39m"
      ]
     },
     "execution_count": 11,
     "metadata": {},
     "output_type": "execute_result"
    }
   ],
   "source": [
    "object Animal { // \n",
    "\n",
    "    val canLiveIndefinitely = false\n",
    "}"
   ]
  },
  {
   "cell_type": "markdown",
   "metadata": {},
   "source": [
    "Objects will have \"static\" fields/methods"
   ]
  },
  {
   "cell_type": "code",
   "execution_count": 44,
   "metadata": {
    "id": "0eb38112c15242aab3edc40940e311cc"
   },
   "outputs": [
    {
     "data": {
      "text/plain": [
       "\u001b[36manimalsCanLiveForever\u001b[39m: \u001b[32mBoolean\u001b[39m = \u001b[32mfalse\u001b[39m"
      ]
     },
     "execution_count": 44,
     "metadata": {},
     "output_type": "execute_result"
    }
   ],
   "source": [
    "val animalsCanLiveForever = Animal.canLiveIndefinitely"
   ]
  },
  {
   "cell_type": "markdown",
   "metadata": {},
   "source": [
    "**case classes**: these are lightweight data structures with some boilerplate.\n",
    "\n",
    "They are useful for:\n",
    "- sensible equals and hash code\n",
    "- serialization\n",
    "- companion with apply\n",
    "- pattern matching\n"
   ]
  },
  {
   "cell_type": "code",
   "execution_count": 45,
   "metadata": {
    "id": "b12d21f401f048febf4737a87de7615f"
   },
   "outputs": [
    {
     "data": {
      "text/plain": [
       "defined \u001b[32mclass\u001b[39m \u001b[36mPerson\u001b[39m"
      ]
     },
     "execution_count": 45,
     "metadata": {},
     "output_type": "execute_result"
    }
   ],
   "source": [
    "case class Person(name: String, age: Int)"
   ]
  },
  {
   "cell_type": "markdown",
   "metadata": {},
   "source": [
    "They may be constructed without using the keyword **new**"
   ]
  },
  {
   "cell_type": "code",
   "execution_count": 47,
   "metadata": {
    "id": "b12d21f401f048febf4737a87de7615f"
   },
   "outputs": [
    {
     "data": {
      "text/plain": [
       "\u001b[36mbob\u001b[39m: \u001b[32mPerson\u001b[39m = \u001b[33mPerson\u001b[39m(\u001b[32m\"Bob\"\u001b[39m, \u001b[32m54\u001b[39m)"
      ]
     },
     "execution_count": 47,
     "metadata": {},
     "output_type": "execute_result"
    }
   ],
   "source": [
    "val bob = Person(\"Bob\", 54) // Person.apply(\"Bob\", 54)"
   ]
  },
  {
   "cell_type": "markdown",
   "metadata": {
    "id": "b12d21f401f048febf4737a87de7615f"
   },
   "source": [
    "### Example of exceptions\n",
    "\n",
    "Use a try-catch-finally structure to handle exceptions. See this example:"
   ]
  },
  {
   "cell_type": "code",
   "execution_count": 12,
   "metadata": {
    "id": "b12d21f401f048febf4737a87de7615f"
   },
   "outputs": [
    {
     "data": {
      "text/plain": [
       "\u001b[36mres11\u001b[39m: \u001b[32mAny\u001b[39m = \u001b[32m\"some faulty error message\"\u001b[39m"
      ]
     },
     "execution_count": 12,
     "metadata": {},
     "output_type": "execute_result"
    }
   ],
   "source": [
    "try {\n",
    "\n",
    "    // code that can throw an error\n",
    "    val x: String = null\n",
    "    x.length\n",
    "\n",
    "} catch { // in Java: catch(Exception e) {...}\n",
    "\n",
    "    case e: Exception => \"some faulty error message\"\n",
    "\n",
    "} finally {\n",
    "// execute some code no matter what\n",
    "\n",
    "}"
   ]
  },
  {
   "cell_type": "markdown",
   "metadata": {
    "id": "d3c87bd2c2e649b0b78efd672b772314"
   },
   "source": [
    "### Generics"
   ]
  },
  {
   "cell_type": "code",
   "execution_count": 48,
   "metadata": {
    "id": "1446cdc83a1e4ab09c80d5e084817711"
   },
   "outputs": [
    {
     "data": {
      "text/plain": [
       "defined class MyList\n"
      ]
     },
     "metadata": {},
     "output_type": "display_data"
    }
   ],
   "source": [
    "abstract class MyList[T] {\n",
    "    def head: T\n",
    "    def tail: MyList[T]\n",
    "}"
   ]
  },
  {
   "cell_type": "code",
   "execution_count": 49,
   "metadata": {
    "id": "81aeeea3735d409c855c6851aff17320"
   },
   "outputs": [
    {
     "data": {
      "text/plain": [
       "aList = List(1, 2, 3)\n"
      ]
     },
     "metadata": {},
     "output_type": "display_data"
    },
    {
     "data": {
      "text/plain": [
       "List(1, 2, 3)"
      ]
     },
     "execution_count": 49,
     "metadata": {},
     "output_type": "execute_result"
    }
   ],
   "source": [
    "// using a generic with a concrete type\n",
    "val aList: List[Int] = List(1,2,3) // List.apply(1,2,3)"
   ]
  },
  {
   "cell_type": "code",
   "execution_count": 50,
   "metadata": {
    "id": "6d149792ece84204b55415e1b5875e88"
   },
   "outputs": [
    {
     "data": {
      "text/plain": [
       "first = 1\n"
      ]
     },
     "metadata": {},
     "output_type": "display_data"
    },
    {
     "data": {
      "text/plain": [
       "1"
      ]
     },
     "execution_count": 50,
     "metadata": {},
     "output_type": "execute_result"
    }
   ],
   "source": [
    "val first = aList.head // int"
   ]
  },
  {
   "cell_type": "code",
   "execution_count": 51,
   "metadata": {
    "id": "1c7fb961894c42f48f55c2ffc2489705"
   },
   "outputs": [
    {
     "data": {
      "text/plain": [
       "rest = List(2, 3)\n"
      ]
     },
     "metadata": {},
     "output_type": "display_data"
    },
    {
     "data": {
      "text/plain": [
       "List(2, 3)"
      ]
     },
     "execution_count": 51,
     "metadata": {},
     "output_type": "execute_result"
    }
   ],
   "source": [
    "val rest = aList.tail"
   ]
  },
  {
   "cell_type": "code",
   "execution_count": 52,
   "metadata": {
    "id": "e555aa8642794bbaa0fa491f59fd8c79"
   },
   "outputs": [
    {
     "data": {
      "text/plain": [
       "aStringList = List(hello, Scala)\n"
      ]
     },
     "metadata": {},
     "output_type": "display_data"
    },
    {
     "data": {
      "text/plain": [
       "List(hello, Scala)"
      ]
     },
     "execution_count": 52,
     "metadata": {},
     "output_type": "execute_result"
    }
   ],
   "source": [
    "val aStringList = List(\"hello\", \"Scala\")"
   ]
  },
  {
   "cell_type": "code",
   "execution_count": 53,
   "metadata": {
    "id": "211edb85950941b68296cea43e020bf0"
   },
   "outputs": [
    {
     "data": {
      "text/plain": [
       "firstString = hello\n"
      ]
     },
     "metadata": {},
     "output_type": "display_data"
    },
    {
     "data": {
      "text/plain": [
       "hello"
      ]
     },
     "execution_count": 53,
     "metadata": {},
     "output_type": "execute_result"
    }
   ],
   "source": [
    "val firstString = aStringList.head // string"
   ]
  },
  {
   "cell_type": "code",
   "execution_count": 54,
   "metadata": {
    "id": "57ab1c6389ed428a88ed0cccaf9014ca"
   },
   "outputs": [
    {
     "data": {
      "text/plain": [
       "reversedList = List(3, 2, 1)\n"
      ]
     },
     "metadata": {},
     "output_type": "display_data"
    },
    {
     "data": {
      "text/plain": [
       "List(3, 2, 1)"
      ]
     },
     "execution_count": 54,
     "metadata": {},
     "output_type": "execute_result"
    }
   ],
   "source": [
    "val reversedList = aList.reverse // returns a NEW list"
   ]
  },
  {
   "cell_type": "markdown",
   "metadata": {},
   "source": [
    "---\n",
    "## Scala Collections\n",
    "\n",
    "Lets use some of the important collections in scala.\n",
    "\n",
    "This is a vast topic, but in order to keep the focus of this tutorial on Apache Spark, it is only covered at a high level.\n",
    "\n",
    "### Lists, Sequences, Sets and Vectors"
   ]
  },
  {
   "cell_type": "code",
   "execution_count": 55,
   "metadata": {
    "id": "4fc5dfc462d14250a1353bd36b24a9e5"
   },
   "outputs": [
    {
     "data": {
      "text/plain": [
       "somelist = List(a, b, c, d, e)\n"
      ]
     },
     "metadata": {},
     "output_type": "display_data"
    },
    {
     "data": {
      "text/plain": [
       "List(a, b, c, d, e)"
      ]
     },
     "execution_count": 55,
     "metadata": {},
     "output_type": "execute_result"
    }
   ],
   "source": [
    "val somelist = List('a', 'b', 'c', 'd', 'e')"
   ]
  },
  {
   "cell_type": "code",
   "execution_count": 56,
   "metadata": {
    "id": "96cd284fbc654c20b29a7d7669d14365"
   },
   "outputs": [
    {
     "name": "stdout",
     "output_type": "stream",
     "text": [
      "a\n",
      "b\n",
      "c\n",
      "d\n",
      "e\n"
     ]
    },
    {
     "data": {
      "text/plain": [
       "List((), (), (), (), ())"
      ]
     },
     "execution_count": 56,
     "metadata": {},
     "output_type": "execute_result"
    }
   ],
   "source": [
    "somelist.map( x => println(x) )"
   ]
  },
  {
   "cell_type": "code",
   "execution_count": 57,
   "metadata": {
    "id": "5f89c5d393b04d89893569414f4c221f"
   },
   "outputs": [
    {
     "data": {
      "text/plain": [
       "someSeq = List(1, 2, 3, 4, 5)\n"
      ]
     },
     "metadata": {},
     "output_type": "display_data"
    },
    {
     "data": {
      "text/plain": [
       "List(1, 2, 3, 4, 5)"
      ]
     },
     "execution_count": 57,
     "metadata": {},
     "output_type": "execute_result"
    }
   ],
   "source": [
    "val someSeq = Seq(1,2,3,4,5)"
   ]
  },
  {
   "cell_type": "code",
   "execution_count": 58,
   "metadata": {
    "id": "c4594be6aa6749b18f45fb9496147505"
   },
   "outputs": [
    {
     "data": {
      "text/plain": [
       "vector1 = Vector(10, 20, 30, 40, 50)\n"
      ]
     },
     "metadata": {},
     "output_type": "display_data"
    },
    {
     "data": {
      "text/plain": [
       "Vector(10, 20, 30, 40, 50)"
      ]
     },
     "execution_count": 58,
     "metadata": {},
     "output_type": "execute_result"
    }
   ],
   "source": [
    "val vector1 = Vector(10, 20, 30, 40, 50)"
   ]
  },
  {
   "cell_type": "code",
   "execution_count": 59,
   "metadata": {
    "id": "e678e0862156434987f6fefc2264b65a"
   },
   "outputs": [
    {
     "data": {
      "text/plain": [
       "vector2 = Vector(10, 20, 30, 40, 50, 60)\n"
      ]
     },
     "metadata": {},
     "output_type": "display_data"
    },
    {
     "data": {
      "text/plain": [
       "Vector(10, 20, 30, 40, 50, 60)"
      ]
     },
     "execution_count": 59,
     "metadata": {},
     "output_type": "execute_result"
    }
   ],
   "source": [
    "val vector2 = vector1 :+ 60"
   ]
  },
  {
   "cell_type": "code",
   "execution_count": 60,
   "metadata": {
    "id": "88260162b1e04f568b66d843dc9a6c0a"
   },
   "outputs": [
    {
     "data": {
      "text/plain": [
       "vector3 = Vector(0, 10, 20, 30, 40, 50, 60)\n"
      ]
     },
     "metadata": {},
     "output_type": "display_data"
    },
    {
     "data": {
      "text/plain": [
       "Vector(0, 10, 20, 30, 40, 50, 60)"
      ]
     },
     "execution_count": 60,
     "metadata": {},
     "output_type": "execute_result"
    }
   ],
   "source": [
    "val vector3 = 0 +: vector2"
   ]
  },
  {
   "cell_type": "code",
   "execution_count": 61,
   "metadata": {
    "id": "0435758fc45447158a8082e33decc75d"
   },
   "outputs": [
    {
     "name": "stdout",
     "output_type": "stream",
     "text": [
      "0\n",
      "10\n",
      "20\n",
      "30\n",
      "40\n",
      "50\n",
      "60\n"
     ]
    }
   ],
   "source": [
    "for (item <- vector3) println(item)"
   ]
  },
  {
   "cell_type": "code",
   "execution_count": 62,
   "metadata": {
    "id": "98495e180826454188502a1713131c6d"
   },
   "outputs": [
    {
     "data": {
      "text/plain": [
       "someSet = Set()\n"
      ]
     },
     "metadata": {},
     "output_type": "display_data"
    },
    {
     "data": {
      "text/plain": [
       "Set()"
      ]
     },
     "execution_count": 62,
     "metadata": {},
     "output_type": "execute_result"
    }
   ],
   "source": [
    "val someSet = scala.collection.mutable.Set[Int]()"
   ]
  },
  {
   "cell_type": "code",
   "execution_count": 63,
   "metadata": {
    "id": "58c7b12e930d4939b3fb67e8388aabda"
   },
   "outputs": [
    {
     "data": {
      "text/plain": [
       "Set(1, 5, 2, 3, 4)"
      ]
     },
     "execution_count": 63,
     "metadata": {},
     "output_type": "execute_result"
    }
   ],
   "source": [
    "someSet += 1\n",
    "someSet += 2 += 3\n",
    "someSet ++= Vector(4, 5)"
   ]
  },
  {
   "cell_type": "code",
   "execution_count": 64,
   "metadata": {
    "id": "38a5b10269f6424e856823a78e209139"
   },
   "outputs": [
    {
     "name": "stdout",
     "output_type": "stream",
     "text": [
      "1\n",
      "5\n",
      "2\n",
      "3\n",
      "4\n"
     ]
    }
   ],
   "source": [
    "for (item <- someSet) println(item)"
   ]
  },
  {
   "cell_type": "code",
   "execution_count": 65,
   "metadata": {
    "id": "f4fcdddeb3ef4d6f81392ebb91ed09f8"
   },
   "outputs": [
    {
     "data": {
      "text/plain": [
       "Set(5, 2, 3, 4)"
      ]
     },
     "execution_count": 65,
     "metadata": {},
     "output_type": "execute_result"
    }
   ],
   "source": [
    "someSet -= 1"
   ]
  },
  {
   "cell_type": "markdown",
   "metadata": {},
   "source": [
    "### Tuples\n",
    "\n",
    "A tuple can be thought of as a record in a dataframe or a record from a database table."
   ]
  },
  {
   "cell_type": "code",
   "execution_count": 66,
   "metadata": {
    "id": "e0dc4edc6fdb4afc98f795931f616bda"
   },
   "outputs": [
    {
     "data": {
      "text/plain": [
       "aTuple = (Some name,20,Some City,Some address,400001)\n"
      ]
     },
     "metadata": {},
     "output_type": "display_data"
    },
    {
     "data": {
      "text/plain": [
       "(Some name,20,Some City,Some address,400001)"
      ]
     },
     "execution_count": 66,
     "metadata": {},
     "output_type": "execute_result"
    }
   ],
   "source": [
    "val aTuple = (\"Some name\", 20, \"Some City\", \"Some address\", 400001)"
   ]
  },
  {
   "cell_type": "markdown",
   "metadata": {},
   "source": [
    "Access a tuple with this notation:"
   ]
  },
  {
   "cell_type": "code",
   "execution_count": 67,
   "metadata": {
    "id": "1337e7a94bdc4e19a4c2253039428811"
   },
   "outputs": [
    {
     "data": {
      "text/plain": [
       "Some name"
      ]
     },
     "execution_count": 67,
     "metadata": {},
     "output_type": "execute_result"
    }
   ],
   "source": [
    "aTuple._1"
   ]
  },
  {
   "cell_type": "code",
   "execution_count": 68,
   "metadata": {
    "id": "d053d98205a146b78b86a2e7c3d658b7"
   },
   "outputs": [
    {
     "data": {
      "text/plain": [
       "20"
      ]
     },
     "execution_count": 68,
     "metadata": {},
     "output_type": "execute_result"
    }
   ],
   "source": [
    "aTuple._2"
   ]
  },
  {
   "cell_type": "code",
   "execution_count": 69,
   "metadata": {
    "id": "0a82a72de0ce47df9bc90b1c04f7e464"
   },
   "outputs": [
    {
     "data": {
      "text/plain": [
       "planets = List((Mercury,57.9), (Venus,108.2), (Earth,149.6), (Mars,227.9), (Jupiter,778.3))\n"
      ]
     },
     "metadata": {},
     "output_type": "display_data"
    },
    {
     "data": {
      "text/plain": [
       "List((Mercury,57.9), (Venus,108.2), (Earth,149.6), (Mars,227.9), (Jupiter,778.3))"
      ]
     },
     "execution_count": 69,
     "metadata": {},
     "output_type": "execute_result"
    }
   ],
   "source": [
    "val planets =\n",
    "  List((\"Mercury\", 57.9), (\"Venus\", 108.2), (\"Earth\", 149.6),\n",
    "       (\"Mars\", 227.9), (\"Jupiter\", 778.3))"
   ]
  },
  {
   "cell_type": "markdown",
   "metadata": {},
   "source": [
    "Example of pattern matching on a list of tuples:"
   ]
  },
  {
   "cell_type": "code",
   "execution_count": 70,
   "metadata": {
    "id": "7c00a2f2c9fb4b9983644290da14711e"
   },
   "outputs": [
    {
     "name": "stdout",
     "output_type": "stream",
     "text": [
      "Planet Mercury is 57.9 million kilometers from the sun\n",
      "Planet Venus is 108.2 million kilometers from the sun\n",
      "*Our planet is 149.6 million kilometers from the sun*\n",
      "Planet Mars is 227.9 million kilometers from the sun\n",
      "Planet Jupiter is 778.3 million kilometers from the sun\n"
     ]
    }
   ],
   "source": [
    "planets.foreach {\n",
    "  case (\"Earth\", distance) =>\n",
    "    println(s\"*Our planet is $distance million kilometers from the sun*\")\n",
    "  case (planetname, distance) =>\n",
    "    println(s\"Planet $planetname is $distance million kilometers from the sun\")\n",
    "}"
   ]
  },
  {
   "cell_type": "markdown",
   "metadata": {
    "id": "576a4e87f0eb45ec8e3bc6ed1cf6e4cd"
   },
   "source": [
    "### Maps\n",
    "\n",
    "Map data structure stores data as key-value pairs. Keys need to be unique."
   ]
  },
  {
   "cell_type": "code",
   "execution_count": 71,
   "metadata": {
    "id": "c1c49c3875da4394843f5e13ee907983"
   },
   "outputs": [
    {
     "data": {
      "text/plain": [
       "states = Map(DL -> Delhi)\n"
      ]
     },
     "metadata": {},
     "output_type": "display_data"
    },
    {
     "data": {
      "text/plain": [
       "Map(DL -> Delhi)"
      ]
     },
     "execution_count": 71,
     "metadata": {},
     "output_type": "execute_result"
    }
   ],
   "source": [
    "val states = collection.mutable.Map(\"DL\" -> \"Delhi\")"
   ]
  },
  {
   "cell_type": "code",
   "execution_count": 72,
   "metadata": {
    "id": "bf8211c7e02140cb80322468586992f5"
   },
   "outputs": [
    {
     "data": {
      "text/plain": [
       "Map(TN -> Tamil Nadu, MH -> Maharashtra, KA -> Karnataka, DL -> Delhi)"
      ]
     },
     "execution_count": 72,
     "metadata": {},
     "output_type": "execute_result"
    }
   ],
   "source": [
    "states += (\"MH\" -> \"Maharashtra\");\n",
    "states += (\"TN\" -> \"Tamil Nadu\");\n",
    "states += (\"KA\" -> \"Karnataka\");"
   ]
  },
  {
   "cell_type": "markdown",
   "metadata": {},
   "source": [
    "Iterate over the map as follows:"
   ]
  },
  {
   "cell_type": "code",
   "execution_count": 73,
   "metadata": {
    "id": "53bdd0776448499c835de50f64a9e127"
   },
   "outputs": [
    {
     "name": "stdout",
     "output_type": "stream",
     "text": [
      "key: TN, value: Tamil Nadu\n",
      "key: MH, value: Maharashtra\n",
      "key: KA, value: Karnataka\n",
      "key: DL, value: Delhi\n"
     ]
    }
   ],
   "source": [
    "for ((k,v) <- states) println(s\"key: $k, value: $v\")"
   ]
  },
  {
   "cell_type": "markdown",
   "metadata": {},
   "source": [
    "Another, more readable syntax is:"
   ]
  },
  {
   "cell_type": "code",
   "execution_count": 74,
   "metadata": {
    "id": "145942e8cbcd4e1d9bd21bdb72b23cf2"
   },
   "outputs": [
    {
     "name": "stdout",
     "output_type": "stream",
     "text": [
      "key: TN, value: Tamil Nadu\n",
      "key: MH, value: Maharashtra\n",
      "key: KA, value: Karnataka\n",
      "key: DL, value: Delhi\n"
     ]
    }
   ],
   "source": [
    "states.foreach {\n",
    "    case(code, statename) => println(s\"key: $code, value: $statename\")\n",
    "}"
   ]
  },
  {
   "cell_type": "markdown",
   "metadata": {},
   "source": [
    "---\n",
    "## Libraries for Apache Spark\n",
    "\n",
    "When running in a jupyter notebook, sometimes the required libraries may not exist in the classpath.\n",
    "\n",
    "Load essential spark libraries from maven public repositories at runtime like this:"
   ]
  },
  {
   "cell_type": "code",
   "execution_count": 2,
   "metadata": {
    "id": "a7ca08d823f240129c8c3b8e1deb4fa2"
   },
   "outputs": [
    {
     "data": {
      "text/plain": [
       "\u001b[32mimport \u001b[39m\u001b[36m$ivy.$                                   \n",
       "\u001b[39m\n",
       "\u001b[32mimport \u001b[39m\u001b[36m$ivy.$                                          \n",
       "\u001b[39m\n",
       "\u001b[32mimport \u001b[39m\u001b[36m$ivy.$                                    \n",
       "\u001b[39m\n",
       "\u001b[32mimport \u001b[39m\u001b[36m$ivy.$                                     \n",
       "\u001b[39m\n",
       "\u001b[32mimport \u001b[39m\u001b[36m$ivy.$                                        \n",
       "\u001b[39m\n",
       "\u001b[32mimport \u001b[39m\u001b[36m$ivy.$                                   \u001b[39m"
      ]
     },
     "execution_count": 2,
     "metadata": {},
     "output_type": "execute_result"
    }
   ],
   "source": [
    "import $ivy.`org.apache.spark::spark-core:3.2.0`\n",
    "import $ivy.`org.apache.spark::spark-mllib-local:3.2.0`\n",
    "import $ivy.`org.apache.spark::spark-mllib:3.2.0`\n",
    "import $ivy.`org.apache.spark::spark-graphx:3.2.0`\n",
    "import $ivy.`org.apache.spark::spark-streaming:3.2.0`\n",
    "import $ivy.`org.apache.spark::spark-tags:3.2.0`"
   ]
  },
  {
   "cell_type": "markdown",
   "metadata": {},
   "source": [
    "---\n",
    "\n",
    "## Import Spark Libraries"
   ]
  },
  {
   "cell_type": "code",
   "execution_count": 3,
   "metadata": {
    "id": "732e8d55868d4b848e8a1aa50e5a9a12"
   },
   "outputs": [
    {
     "data": {
      "text/plain": [
       "\u001b[32mimport \u001b[39m\u001b[36morg.apache.spark.SparkContext\n",
       "\u001b[39m\n",
       "\u001b[32mimport \u001b[39m\u001b[36morg.apache.spark.SparkConf\n",
       "\u001b[39m\n",
       "\u001b[32mimport \u001b[39m\u001b[36morg.apache.spark.sql.SparkSession\u001b[39m"
      ]
     },
     "execution_count": 3,
     "metadata": {},
     "output_type": "execute_result"
    }
   ],
   "source": [
    "import org.apache.spark.SparkContext\n",
    "import org.apache.spark.SparkConf\n",
    "import org.apache.spark.sql.SparkSession"
   ]
  },
  {
   "cell_type": "code",
   "execution_count": 4,
   "metadata": {
    "id": "cc8495eee18e4c97abe4af3ac3e87209"
   },
   "outputs": [
    {
     "data": {
      "text/plain": [
       "\u001b[32mimport \u001b[39m\u001b[36morg.apache.spark.ml.linalg.{Matrix, Vectors}\n",
       "\u001b[39m\n",
       "\u001b[32mimport \u001b[39m\u001b[36morg.apache.spark.sql.Row\n",
       "\u001b[39m\n",
       "\u001b[32mimport \u001b[39m\u001b[36morg.apache.spark.sql.Dataset\u001b[39m"
      ]
     },
     "execution_count": 4,
     "metadata": {},
     "output_type": "execute_result"
    }
   ],
   "source": [
    "import org.apache.spark.ml.linalg.{Matrix, Vectors}\n",
    "import org.apache.spark.sql.Row\n",
    "import org.apache.spark.sql.Dataset"
   ]
  },
  {
   "cell_type": "code",
   "execution_count": 5,
   "metadata": {
    "id": "ec63a53bf3c4458984c0ab716e5aa0b6"
   },
   "outputs": [
    {
     "data": {
      "text/plain": [
       "\u001b[32mimport \u001b[39m\u001b[36morg.apache.spark._\n",
       "\u001b[39m\n",
       "\u001b[32mimport \u001b[39m\u001b[36morg.apache.spark.sql._\n",
       "\u001b[39m\n",
       "\u001b[32mimport \u001b[39m\u001b[36morg.apache.spark.graphx._\n",
       "// To make some of the examples work we will also need RDD\n",
       "\u001b[39m\n",
       "\u001b[32mimport \u001b[39m\u001b[36morg.apache.spark.rdd.RDD\u001b[39m"
      ]
     },
     "execution_count": 5,
     "metadata": {},
     "output_type": "execute_result"
    }
   ],
   "source": [
    "import org.apache.spark._\n",
    "import org.apache.spark.sql._\n",
    "import org.apache.spark.graphx._\n",
    "// To make some of the examples work we will also need RDD\n",
    "import org.apache.spark.rdd.RDD"
   ]
  },
  {
   "cell_type": "code",
   "execution_count": 6,
   "metadata": {
    "id": "bbf5510bb79c40b18ded72a586e03f7a"
   },
   "outputs": [
    {
     "data": {
      "text/plain": [
       "\u001b[36mappName\u001b[39m: \u001b[32mString\u001b[39m = \u001b[32m\"SparkMLDemo\"\u001b[39m"
      ]
     },
     "execution_count": 6,
     "metadata": {},
     "output_type": "execute_result"
    }
   ],
   "source": [
    "val appName = \"SparkMLDemo\""
   ]
  },
  {
   "cell_type": "markdown",
   "metadata": {},
   "source": [
    "## Setup the Logger\n",
    "\n",
    "To control the volume of log messages, change the log4j configuraiton programatically like this:"
   ]
  },
  {
   "cell_type": "code",
   "execution_count": 7,
   "metadata": {
    "id": "9546af49dfa44cebaca97724c6add0b1"
   },
   "outputs": [
    {
     "data": {
      "text/plain": [
       "\u001b[32mimport \u001b[39m\u001b[36morg.apache.log4j.{Level, Logger}\n",
       "//Logger.getLogger(\"org\").setLevel(Level.INFO)\n",
       "\n",
       "\u001b[39m\n",
       "\u001b[36mlogger\u001b[39m: \u001b[32mLogger\u001b[39m = org.apache.log4j.Logger@cbed23b"
      ]
     },
     "execution_count": 7,
     "metadata": {},
     "output_type": "execute_result"
    }
   ],
   "source": [
    "import org.apache.log4j.{Level, Logger}\n",
    "//Logger.getLogger(\"org\").setLevel(Level.INFO)\n",
    "\n",
    "val logger: Logger = Logger.getLogger(appName)\n",
    "Logger.getLogger(\"org.apache.spark\").setLevel(Level.WARN)\n",
    "Logger.getLogger(\"org.apache.spark.storage.BlockManager\").setLevel(Level.ERROR)\n",
    "logger.setLevel(Level.INFO)"
   ]
  },
  {
   "cell_type": "markdown",
   "metadata": {},
   "source": [
    "---\n",
    "## Create Spark session"
   ]
  },
  {
   "cell_type": "code",
   "execution_count": null,
   "metadata": {},
   "outputs": [],
   "source": [
    "// close the spark session and spark context before starting a new one, if re-executing the notebook.\n",
    "spark.stop()\n",
    "sc.stop()"
   ]
  },
  {
   "cell_type": "code",
   "execution_count": 8,
   "metadata": {},
   "outputs": [
    {
     "data": {
      "text/plain": [
       "\u001b[36msparkConf\u001b[39m: \u001b[32mSparkConf\u001b[39m = org.apache.spark.SparkConf@7f9e6a3f"
      ]
     },
     "execution_count": 8,
     "metadata": {},
     "output_type": "execute_result"
    }
   ],
   "source": [
    "val sparkConf = new SparkConf()\n",
    "             .setAppName(appName)\n",
    "             //.setMaster(\"local[*]\")\n",
    "             //.setMaster(\"spark://localhost:7077\")\n",
    "             .setMaster(\"spark://sparkmaster320:7077\")\n",
    "             .set(\"spark.driver.extraClassPath\", \"/home/java_libs/db2jcc4.jar\")\n",
    "             .set(\"spark.executor.extraClassPath\", \"/home/java_libs/db2jcc4.jar\")\n",
    "             .set(\"spark.default.parallelism\", \"6\")"
   ]
  },
  {
   "cell_type": "code",
   "execution_count": 10,
   "metadata": {
    "id": "1e211dd28ca04c588d837d12902c7af8"
   },
   "outputs": [
    {
     "name": "stderr",
     "output_type": "stream",
     "text": [
      "23/01/30 09:07:46 WARN SparkSession$Builder: Using an existing SparkSession; some spark core configurations may not take effect.\n"
     ]
    },
    {
     "data": {
      "text/plain": [
       "\u001b[36mspark\u001b[39m: \u001b[32mSparkSession\u001b[39m = org.apache.spark.sql.SparkSession@3c6cd439"
      ]
     },
     "execution_count": 10,
     "metadata": {},
     "output_type": "execute_result"
    }
   ],
   "source": [
    "// Apply the config to start a spark session:\n",
    "val spark = org.apache.spark.sql.SparkSession.builder()\n",
    "    .config(sparkConf)\n",
    "    .getOrCreate()"
   ]
  },
  {
   "cell_type": "markdown",
   "metadata": {},
   "source": [
    "## Get information on Spark Session\n",
    "\n",
    "Use spark context and config objects to get essential information."
   ]
  },
  {
   "cell_type": "code",
   "execution_count": 11,
   "metadata": {
    "id": "42ddce31bb4249bc89cc454a78399602"
   },
   "outputs": [
    {
     "data": {
      "text/plain": [
       "\u001b[36msc\u001b[39m: \u001b[32mSparkContext\u001b[39m = org.apache.spark.SparkContext@956f293"
      ]
     },
     "execution_count": 11,
     "metadata": {},
     "output_type": "execute_result"
    }
   ],
   "source": [
    "val sc = spark.sparkContext"
   ]
  },
  {
   "cell_type": "code",
   "execution_count": 12,
   "metadata": {
    "id": "1ac76653ab504ac3972b3e7df13eff68"
   },
   "outputs": [
    {
     "name": "stdout",
     "output_type": "stream",
     "text": [
      "Spark Master: spark://sparkmaster320:7077, User: notebooker, Version: 3.2.0, Deployment mode: client\n",
      "Default Partitions: 2, Scheduling Mode: FIFO\n"
     ]
    }
   ],
   "source": [
    "println(\"Spark Master: %s, User: %s, Version: %s, Deployment mode: %s\".format(\n",
    "        sc.master, sc.sparkUser, sc.version, sc.deployMode\n",
    "    ))\n",
    "\n",
    "println(\"Default Partitions: %d, Scheduling Mode: %s\".format(\n",
    "         sc.defaultMinPartitions, sc.getSchedulingMode\n",
    "    ))"
   ]
  },
  {
   "cell_type": "code",
   "execution_count": 13,
   "metadata": {
    "id": "e891aa7630ef48f8898d5eb853111ac3"
   },
   "outputs": [
    {
     "name": "stdout",
     "output_type": "stream",
     "text": [
      "Configuration Parameter: spark.executor.extraClassPath=/home/java_libs/db2jcc4.jar\n",
      "Configuration Parameter: spark.driver.port=34217\n",
      "Configuration Parameter: spark.app.id=app-20230130033558-0001\n",
      "Configuration Parameter: spark.driver.extraClassPath=/home/java_libs/db2jcc4.jar\n",
      "Configuration Parameter: spark.app.startTime=1675049754134\n",
      "Configuration Parameter: spark.default.parallelism=6\n",
      "Configuration Parameter: spark.master=spark://sparkmaster320:7077\n",
      "Configuration Parameter: spark.app.name=SparkMLDemo\n",
      "Configuration Parameter: spark.executor.id=driver\n",
      "Configuration Parameter: spark.driver.host=ba601551daf7\n",
      "Configuration Parameter: spark.sql.warehouse.dir=file:/work/proj/SBI_DW/training/spark-warehouse\n"
     ]
    },
    {
     "data": {
      "text/plain": [
       "\u001b[36mconfig\u001b[39m: \u001b[32mSparkConf\u001b[39m = org.apache.spark.SparkConf@6258ddb5"
      ]
     },
     "execution_count": 13,
     "metadata": {},
     "output_type": "execute_result"
    }
   ],
   "source": [
    "val config = sc.getConf\n",
    "\n",
    "for ((k,v) <- config.getAll) println(s\"Configuration Parameter: $k=$v\")"
   ]
  },
  {
   "cell_type": "code",
   "execution_count": 62,
   "metadata": {},
   "outputs": [
    {
     "data": {
      "text/plain": [
       "\u001b[36mres61\u001b[39m: \u001b[32mOption\u001b[39m[\u001b[32mString\u001b[39m] = \u001b[33mSome\u001b[39m(\u001b[32m\"/home/java_libs/db2jcc4.jar\"\u001b[39m)"
      ]
     },
     "execution_count": 62,
     "metadata": {},
     "output_type": "execute_result"
    }
   ],
   "source": [
    "config.getOption(\"spark.executor.extraClassPath\")"
   ]
  },
  {
   "cell_type": "code",
   "execution_count": 61,
   "metadata": {
    "id": "73685a5331b447fe9921a52c8d154e43"
   },
   "outputs": [
    {
     "data": {
      "text/plain": [
       "\u001b[36mres60\u001b[39m: \u001b[32mOption\u001b[39m[\u001b[32mString\u001b[39m] = \u001b[32mNone\u001b[39m"
      ]
     },
     "execution_count": 61,
     "metadata": {},
     "output_type": "execute_result"
    }
   ],
   "source": [
    "config.getOption(\"spark.jars\")"
   ]
  },
  {
   "cell_type": "markdown",
   "metadata": {},
   "source": [
    "A few important helper functions to change operational parameters, and to check if some configuration parameters can be changed at runtime or not."
   ]
  },
  {
   "cell_type": "code",
   "execution_count": 85,
   "metadata": {
    "id": "426f2f7d3521489c845deaa5139a905d"
   },
   "outputs": [
    {
     "data": {
      "text/plain": [
       "false"
      ]
     },
     "execution_count": 85,
     "metadata": {},
     "output_type": "execute_result"
    }
   ],
   "source": [
    "spark.conf.isModifiable(\"spark.executor.memory\")"
   ]
  },
  {
   "cell_type": "code",
   "execution_count": 86,
   "metadata": {
    "id": "7060061d9cb642888d87bdf76b71e5ed"
   },
   "outputs": [
    {
     "data": {
      "text/plain": [
       "false"
      ]
     },
     "execution_count": 86,
     "metadata": {},
     "output_type": "execute_result"
    }
   ],
   "source": [
    "spark.conf.isModifiable(\"spark.jars\")"
   ]
  },
  {
   "cell_type": "code",
   "execution_count": 87,
   "metadata": {
    "id": "937b84b1044e4062a1522e11f77f37d5"
   },
   "outputs": [
    {
     "data": {
      "text/plain": [
       "/opt/ibm/scala/bin:/opt/ibm/jdk/bin://.local/bin://bin:/opt/ibm/spark/bin:/opt/ibm/conda/R/bin:/opt/ibm/conda/miniconda/bin:/usr/local/sbin:/usr/local/bin:/usr/sbin:/usr/bin:/sbin:/bin"
      ]
     },
     "execution_count": 87,
     "metadata": {},
     "output_type": "execute_result"
    }
   ],
   "source": [
    "sys.env(\"PATH\")"
   ]
  },
  {
   "cell_type": "markdown",
   "metadata": {},
   "source": [
    "---\n",
    "\n",
    "## Run a simple aggregation operation"
   ]
  },
  {
   "cell_type": "code",
   "execution_count": 63,
   "metadata": {
    "id": "d3ee38aa4b5d4393929363acd60c735c"
   },
   "outputs": [
    {
     "data": {
      "text/plain": [
       "\u001b[36mmyint_rdd\u001b[39m: \u001b[32mRDD\u001b[39m[\u001b[32mInt\u001b[39m] = myint_6parts ParallelCollectionRDD[0] at parallelize at cmd62.sc:1"
      ]
     },
     "execution_count": 63,
     "metadata": {},
     "output_type": "execute_result"
    }
   ],
   "source": [
    "val myint_rdd = sc.parallelize(0 to 1000000).setName(\"myint_6parts\")"
   ]
  },
  {
   "cell_type": "code",
   "execution_count": 64,
   "metadata": {
    "id": "05ad37741c834ecea4ac2aad14870416"
   },
   "outputs": [
    {
     "name": "stdout",
     "output_type": "stream",
     "text": [
      "Partition size: 6\n"
     ]
    }
   ],
   "source": [
    "println(\"Partition size: \" + myint_rdd.partitions.size)"
   ]
  },
  {
   "cell_type": "code",
   "execution_count": 65,
   "metadata": {},
   "outputs": [
    {
     "data": {
      "text/plain": [
       "\u001b[36mres64\u001b[39m: \u001b[32mRDD\u001b[39m[\u001b[32mInt\u001b[39m] = myint_6parts ParallelCollectionRDD[0] at parallelize at cmd62.sc:1"
      ]
     },
     "execution_count": 65,
     "metadata": {},
     "output_type": "execute_result"
    }
   ],
   "source": [
    "myint_rdd.cache()"
   ]
  },
  {
   "cell_type": "code",
   "execution_count": 66,
   "metadata": {
    "id": "5f2a0bbcf03d42e9aad2ab455a09a177"
   },
   "outputs": [
    {
     "name": "stdout",
     "output_type": "stream",
     "text": [
      "New RDD partition size: 12\n"
     ]
    },
    {
     "data": {
      "text/plain": [
       "\u001b[36mnewint_rdd\u001b[39m: \u001b[32mRDD\u001b[39m[\u001b[32mInt\u001b[39m] = myint_12parts MapPartitionsRDD[4] at repartition at cmd65.sc:1"
      ]
     },
     "execution_count": 66,
     "metadata": {},
     "output_type": "execute_result"
    }
   ],
   "source": [
    "val newint_rdd = myint_rdd.repartition(12).setName(\"myint_12parts\")\n",
    "println(\"New RDD partition size: \" + newint_rdd.partitions.size)"
   ]
  },
  {
   "cell_type": "code",
   "execution_count": 67,
   "metadata": {},
   "outputs": [
    {
     "data": {
      "text/plain": [
       "\u001b[36mres66\u001b[39m: \u001b[32mRDD\u001b[39m[\u001b[32mInt\u001b[39m] = myint_12parts MapPartitionsRDD[4] at repartition at cmd65.sc:1"
      ]
     },
     "execution_count": 67,
     "metadata": {},
     "output_type": "execute_result"
    }
   ],
   "source": [
    "newint_rdd.cache()"
   ]
  },
  {
   "cell_type": "markdown",
   "metadata": {},
   "source": [
    "## **VERY IMPORTANT CONCEPT**\n",
    "\n",
    "Spark evaluates all expressions and statements **'lazily'**.\n",
    "\n",
    "This means that actual operation on a dataframe or RDD or dataset is not started unless a result is required.\n",
    "\n",
    "Spark engine will keep delaying the operation until the last possible moment.\n",
    "\n",
    "For example, go to the job monitoring user interface and verify that the above statements did not trigger any operations.\n",
    "\n",
    "But the following statement will trigger a re-calculation since a result is required at this moment:"
   ]
  },
  {
   "cell_type": "code",
   "execution_count": 139,
   "metadata": {
    "id": "65e84a6192934041bb7d9d7c00654fbf"
   },
   "outputs": [
    {
     "data": {
      "text/plain": [
       "\u001b[36mres138\u001b[39m: \u001b[32mDouble\u001b[39m = \u001b[32m5.000005E11\u001b[39m"
      ]
     },
     "execution_count": 139,
     "metadata": {},
     "output_type": "execute_result"
    }
   ],
   "source": [
    "// first, look at the performance on 12 partitions in the spark jobs UI:\n",
    "// Our sample cluster has 3 nodes with 2 cores per node, hence a parallelism of 6 works best.\n",
    "newint_rdd.sum()"
   ]
  },
  {
   "cell_type": "code",
   "execution_count": 140,
   "metadata": {
    "id": "3200be7ce56344b08326343673289388"
   },
   "outputs": [
    {
     "data": {
      "text/plain": [
       "\u001b[36mres139\u001b[39m: \u001b[32mDouble\u001b[39m = \u001b[32m5.000005E11\u001b[39m"
      ]
     },
     "execution_count": 140,
     "metadata": {},
     "output_type": "execute_result"
    }
   ],
   "source": [
    "// next, compare it with the performance whe using 6 partitions\n",
    "// since this matches the core count of the cluster, it executes without any scheduler delay\n",
    "myint_rdd.sum()"
   ]
  },
  {
   "cell_type": "code",
   "execution_count": 141,
   "metadata": {
    "id": "8d2388e69eac46d98c06e3136366e624"
   },
   "outputs": [
    {
     "data": {
      "text/plain": [
       "\u001b[36mres140\u001b[39m: \u001b[32morg\u001b[39m.\u001b[32mapache\u001b[39m.\u001b[32mspark\u001b[39m.\u001b[32mutil\u001b[39m.\u001b[32mStatCounter\u001b[39m = (count: 1000001, mean: 500000.000000, stdev: 288675.423270, max: 1000000.000000, min: 0.000000)"
      ]
     },
     "execution_count": 141,
     "metadata": {},
     "output_type": "execute_result"
    }
   ],
   "source": [
    "myint_rdd.stats"
   ]
  },
  {
   "cell_type": "markdown",
   "metadata": {},
   "source": [
    "---\n",
    "\n",
    "## Load data to Dataframe\n",
    "\n",
    "Data can be loaded into a dataframe in several ways. This notebook will demonstrate the following two different approaches:\n",
    "\n",
    "  - Read a csv file\n",
    "  - Read a database table"
   ]
  },
  {
   "cell_type": "markdown",
   "metadata": {},
   "source": [
    "### About this Dataset\n",
    "\n",
    "This dataset is based on \"Bank Marketing\" UCI dataset (please check the description at: http://archive.ics.uci.edu/ml/datasets/Bank+Marketing).\n",
    "\n",
    "   The data is enriched by the addition of five new social and economic features/attributes (national wide indicators from a ~10M population country), published by the Banco de Portugal and publicly available at: https://www.bportugal.pt/estatisticasweb.\n",
    "   \n",
    "   The addition of the five new social and economic attributes (made available here) lead to substantial improvement in the prediction of a success, even when the duration of the call is not included.\n",
    "\n",
    "The binary classification goal is to predict if the client will subscribe a bank term deposit (variable y).\n",
    "\n",
    "### Input variables:\n",
    "\n",
    "#### Bank client data:\n",
    "  - 1. age (numeric)\n",
    "  - 2. job : type of job (categorical: \"admin.\", \"blue-collar\", \"entrepreneur\", \"housemaid\", \"management\", \"retired\", \"selfemployed\", \"services\", \"student\", \"technician\", \"unemployed\", \"unknown\")\n",
    "  - 3. marital : marital status (categorical: \"divorced\",\"married\",\"single\",\"unknown\"; note: \"divorced\" means divorced or widowed)\n",
    "  - 4. education (categorical: \"basic.4y\",\"basic.6y\",\"basic.9y\",\"high.school\",\"illiterate\",\"professional.course\",\"university.degree\",\"unknown\")\n",
    "  - 5. default: has credit in default? (categorical: \"no\",\"yes\",\"unknown\")\n",
    "  - 6. housing: has housing loan? (categorical: \"no\",\"yes\",\"unknown\")\n",
    "  - 7. loan: has personal loan? (categorical: \"no\",\"yes\",\"unknown\")\n",
    "#### Data related with the last contact of the current campaign:\n",
    "  - 8. contact: contact communication type (categorical: \"cellular\",\"telephone\") \n",
    "  - 9. month: last contact month of year (categorical: \"jan\", \"feb\", \"mar\", ..., \"nov\", \"dec\")\n",
    "  - 10. day_of_week: last contact day of the week (categorical: \"mon\",\"tue\",\"wed\",\"thu\",\"fri\")\n",
    "  - 11. duration: last contact duration, in seconds (numeric). Important note:  this attribute highly affects the output target (e.g., if duration=0 then y=\"no\"). Yet, the duration is not known before a call is performed. Also, after the end of the call y is obviously known. Thus, this input should only be included for benchmark purposes and should be discarded if the intention is to have a realistic predictive model.\n",
    "#### Other attributes:\n",
    "  - 12. campaign: number of contacts performed during this campaign and for this client (numeric, includes last contact)\n",
    "  - 13. pdays: number of days that passed by after the client was last contacted from a previous campaign (numeric; 999 means client was not previously contacted)\n",
    "  - 14. previous: number of contacts performed before this campaign and for this client (numeric)\n",
    "  - 15. poutcome: outcome of the previous marketing campaign (categorical: \"failure\",\"nonexistent\",\"success\")\n",
    "#### Social and economic context attributes\n",
    "  - 16. emp.var.rate: employment variation rate - quarterly indicator (numeric)\n",
    "  - 17. cons.price.idx: consumer price index - monthly indicator (numeric)     \n",
    "  - 18. cons.conf.idx: consumer confidence index - monthly indicator (numeric)     \n",
    "  - 19. euribor3m: euribor 3 month rate - daily indicator (numeric)\n",
    "  - 20. nr.employed: number of employees - quarterly indicator (numeric)\n",
    "\n",
    "#### Output variable (desired target):\n",
    "  - 21. y - has the client subscribed a term deposit? (binary: \"yes\",\"no\")\n",
    "\n",
    "#### Missing Attribute Values:\n",
    "There are several missing values in some categorical attributes, all coded with the \"unknown\" label. These missing values can be treated as a possible class label or using deletion or imputation techniques. \n"
   ]
  },
  {
   "cell_type": "code",
   "execution_count": 14,
   "metadata": {
    "id": "74af22bd326d4feca90f31116e0e9562"
   },
   "outputs": [
    {
     "data": {
      "text/plain": [
       "\u001b[32mimport \u001b[39m\u001b[36morg.apache.spark.sql.types.{DoubleType, IntegerType, StringType, StructType}\n",
       "\n",
       "\u001b[39m\n",
       "\u001b[36mbank_telemkt_schema\u001b[39m: \u001b[32mStructType\u001b[39m = \u001b[33mStructType\u001b[39m(\n",
       "  \u001b[33mStructField\u001b[39m(\u001b[32m\"age\"\u001b[39m, DoubleType, \u001b[32mtrue\u001b[39m, {}),\n",
       "  \u001b[33mStructField\u001b[39m(\u001b[32m\"job\"\u001b[39m, StringType, \u001b[32mtrue\u001b[39m, {}),\n",
       "  \u001b[33mStructField\u001b[39m(\u001b[32m\"marital\"\u001b[39m, StringType, \u001b[32mtrue\u001b[39m, {}),\n",
       "  \u001b[33mStructField\u001b[39m(\u001b[32m\"education\"\u001b[39m, StringType, \u001b[32mtrue\u001b[39m, {}),\n",
       "  \u001b[33mStructField\u001b[39m(\u001b[32m\"defaulted\"\u001b[39m, StringType, \u001b[32mtrue\u001b[39m, {}),\n",
       "  \u001b[33mStructField\u001b[39m(\u001b[32m\"housing\"\u001b[39m, StringType, \u001b[32mtrue\u001b[39m, {}),\n",
       "  \u001b[33mStructField\u001b[39m(\u001b[32m\"loan\"\u001b[39m, StringType, \u001b[32mtrue\u001b[39m, {}),\n",
       "  \u001b[33mStructField\u001b[39m(\u001b[32m\"contact_no\"\u001b[39m, StringType, \u001b[32mtrue\u001b[39m, {}),\n",
       "  \u001b[33mStructField\u001b[39m(\u001b[32m\"month_name\"\u001b[39m, StringType, \u001b[32mtrue\u001b[39m, {}),\n",
       "  \u001b[33mStructField\u001b[39m(\u001b[32m\"day_of_week\"\u001b[39m, StringType, \u001b[32mtrue\u001b[39m, {}),\n",
       "  \u001b[33mStructField\u001b[39m(\u001b[32m\"duration\"\u001b[39m, DoubleType, \u001b[32mtrue\u001b[39m, {}),\n",
       "  \u001b[33mStructField\u001b[39m(\u001b[32m\"campaign\"\u001b[39m, DoubleType, \u001b[32mtrue\u001b[39m, {}),\n",
       "  \u001b[33mStructField\u001b[39m(\u001b[32m\"pdays\"\u001b[39m, DoubleType, \u001b[32mtrue\u001b[39m, {}),\n",
       "  \u001b[33mStructField\u001b[39m(\u001b[32m\"previous\"\u001b[39m, DoubleType, \u001b[32mtrue\u001b[39m, {}),\n",
       "  \u001b[33mStructField\u001b[39m(\u001b[32m\"poutcome\"\u001b[39m, StringType, \u001b[32mtrue\u001b[39m, {}),\n",
       "  \u001b[33mStructField\u001b[39m(\u001b[32m\"emp_var_rate\"\u001b[39m, DoubleType, \u001b[32mtrue\u001b[39m, {}),\n",
       "  \u001b[33mStructField\u001b[39m(\u001b[32m\"cons_price_idx\"\u001b[39m, DoubleType, \u001b[32mtrue\u001b[39m, {}),\n",
       "  \u001b[33mStructField\u001b[39m(\u001b[32m\"cons_conf_idx\"\u001b[39m, DoubleType, \u001b[32mtrue\u001b[39m, {}),\n",
       "  \u001b[33mStructField\u001b[39m(\u001b[32m\"euribor3m\"\u001b[39m, DoubleType, \u001b[32mtrue\u001b[39m, {}),\n",
       "  \u001b[33mStructField\u001b[39m(\u001b[32m\"nr_employed\"\u001b[39m, DoubleType, \u001b[32mtrue\u001b[39m, {}),\n",
       "  \u001b[33mStructField\u001b[39m(\u001b[32m\"y\"\u001b[39m, StringType, \u001b[32mtrue\u001b[39m, {})\n",
       ")"
      ]
     },
     "execution_count": 14,
     "metadata": {},
     "output_type": "execute_result"
    }
   ],
   "source": [
    "// Declare a Schema\n",
    "import org.apache.spark.sql.types.{DoubleType, IntegerType, StringType, StructType}\n",
    "\n",
    "val bank_telemkt_schema: StructType = new StructType()\n",
    "    .add(\"age\", DoubleType, true)\n",
    "    .add(\"job\", StringType, true)\n",
    "    .add(\"marital\", StringType, true)\n",
    "    .add(\"education\", StringType, true)\n",
    "    .add(\"defaulted\", StringType, true)\n",
    "    .add(\"housing\", StringType, true)\n",
    "    .add(\"loan\", StringType, true)\n",
    "    .add(\"contact_no\", StringType, true)\n",
    "    .add(\"month_name\", StringType, true)\n",
    "    .add(\"day_of_week\", StringType, true)\n",
    "    .add(\"duration\", DoubleType, true)\n",
    "    .add(\"campaign\", DoubleType, true)\n",
    "    .add(\"pdays\", DoubleType, true)\n",
    "    .add(\"previous\", DoubleType, true)\n",
    "    .add(\"poutcome\", StringType, true)\n",
    "    .add(\"emp_var_rate\", DoubleType, true)\n",
    "    .add(\"cons_price_idx\", DoubleType, true)\n",
    "    .add(\"cons_conf_idx\", DoubleType, true)\n",
    "    .add(\"euribor3m\", DoubleType, true)\n",
    "    .add(\"nr_employed\", DoubleType, true)\n",
    "    .add(\"y\", StringType, true);"
   ]
  },
  {
   "cell_type": "code",
   "execution_count": 15,
   "metadata": {},
   "outputs": [
    {
     "data": {
      "text/plain": [
       "defined \u001b[32mclass\u001b[39m \u001b[36mModelDataRecord\u001b[39m"
      ]
     },
     "execution_count": 15,
     "metadata": {},
     "output_type": "execute_result"
    }
   ],
   "source": [
    "// declare a class if you want to use DataSets instead of Data Frames:\n",
    "case class ModelDataRecord(\n",
    "                            age: Double,\n",
    "                            job: String,\n",
    "                            marital: String,\n",
    "                            education: String,\n",
    "                            defaulted: String,\n",
    "                            housing: String,\n",
    "                            loan: String,\n",
    "                            contact_no: String,\n",
    "                            month_name: String,\n",
    "                            day_of_week: String,\n",
    "                            duration: Double,\n",
    "                            campaign: Double,\n",
    "                            pdays: Double,\n",
    "                            previous: Double,\n",
    "                            poutcome: String,\n",
    "                            emp_var_rate: Double,\n",
    "                            cons_price_idx: Double,\n",
    "                            cons_conf_idx: Double,\n",
    "                            euribor3m: Double,\n",
    "                            nr_employed: Double,\n",
    "                            y: String\n",
    "                          )"
   ]
  },
  {
   "cell_type": "markdown",
   "metadata": {},
   "source": [
    "### Variable Names\n",
    "\n",
    "Define variables with the column names.\n",
    "\n",
    "These will be used during data transformation and model training/evaluation later."
   ]
  },
  {
   "cell_type": "code",
   "execution_count": 145,
   "metadata": {},
   "outputs": [
    {
     "data": {
      "text/plain": [
       "\u001b[36moriginalLabelColname\u001b[39m: \u001b[32mString\u001b[39m = \u001b[32m\"y\"\u001b[39m\n",
       "\u001b[36mlabelColname\u001b[39m: \u001b[32mString\u001b[39m = \u001b[32m\"label\"\u001b[39m\n",
       "\u001b[36mnumerical_features\u001b[39m: \u001b[32mArray\u001b[39m[\u001b[32mString\u001b[39m] = \u001b[33mArray\u001b[39m(\n",
       "  \u001b[32m\"age\"\u001b[39m,\n",
       "  \u001b[32m\"duration\"\u001b[39m,\n",
       "  \u001b[32m\"pdays\"\u001b[39m,\n",
       "  \u001b[32m\"emp_var_rate\"\u001b[39m,\n",
       "  \u001b[32m\"cons_price_idx\"\u001b[39m,\n",
       "  \u001b[32m\"cons_conf_idx\"\u001b[39m,\n",
       "  \u001b[32m\"euribor3m\"\u001b[39m,\n",
       "  \u001b[32m\"nr_employed\"\u001b[39m\n",
       ")\n",
       "\u001b[36mcategorical_features\u001b[39m: \u001b[32mArray\u001b[39m[\u001b[32mString\u001b[39m] = \u001b[33mArray\u001b[39m(\n",
       "  \u001b[32m\"job\"\u001b[39m,\n",
       "  \u001b[32m\"marital\"\u001b[39m,\n",
       "  \u001b[32m\"education\"\u001b[39m,\n",
       "  \u001b[32m\"defaulted\"\u001b[39m,\n",
       "  \u001b[32m\"housing\"\u001b[39m,\n",
       "  \u001b[32m\"loan\"\u001b[39m,\n",
       "  \u001b[32m\"day_of_week\"\u001b[39m,\n",
       "  \u001b[32m\"poutcome\"\u001b[39m,\n",
       "  \u001b[32m\"month_name\"\u001b[39m\n",
       ")"
      ]
     },
     "execution_count": 145,
     "metadata": {},
     "output_type": "execute_result"
    }
   ],
   "source": [
    "val originalLabelColname=\"y\"\n",
    "val labelColname = \"label\"\n",
    "\n",
    "val numerical_features = Array(\"age\", \"duration\", \"pdays\", \"emp_var_rate\", \"cons_price_idx\", \"cons_conf_idx\", \"euribor3m\", \"nr_employed\");\n",
    "val categorical_features = Array(\"job\", \"marital\", \"education\", \"defaulted\", \"housing\", \"loan\", \"day_of_week\", \"poutcome\", \"month_name\");"
   ]
  },
  {
   "cell_type": "markdown",
   "metadata": {},
   "source": [
    "### Read data from file:"
   ]
  },
  {
   "cell_type": "code",
   "execution_count": 90,
   "metadata": {
    "id": "e25d6fc98cac416d84816ba044c26023"
   },
   "outputs": [
    {
     "data": {
      "text/plain": [
       "\u001b[32mimport \u001b[39m\u001b[36mspark.implicits._\n",
       "\n",
       "\u001b[39m\n",
       "\u001b[36minputDF\u001b[39m: \u001b[32mDataset\u001b[39m[\u001b[32mModelDataRecord\u001b[39m] = [age: double, job: string ... 19 more fields]"
      ]
     },
     "execution_count": 90,
     "metadata": {},
     "output_type": "execute_result"
    }
   ],
   "source": [
    "import spark.implicits._\n",
    "\n",
    "val inputDF = spark.read\n",
    "    .option(\"header\", \"true\")\n",
    "    .option(\"numPartitions\", 6)\n",
    "    .schema(bank_telemkt_schema)\n",
    "    //.csv(\"/project_data/data_asset/bank-additional-full.csv\")\n",
    "    .csv(\"/home/datasets/bank_telemkt/bank-additional-full.csv\").as[ModelDataRecord]"
   ]
  },
  {
   "cell_type": "code",
   "execution_count": 91,
   "metadata": {
    "id": "d4f2e23ce8fc41548fa8c3cdc7d333b0"
   },
   "outputs": [
    {
     "name": "stdout",
     "output_type": "stream",
     "text": [
      "root\n",
      " |-- age: double (nullable = true)\n",
      " |-- job: string (nullable = true)\n",
      " |-- marital: string (nullable = true)\n",
      " |-- education: string (nullable = true)\n",
      " |-- defaulted: string (nullable = true)\n",
      " |-- housing: string (nullable = true)\n",
      " |-- loan: string (nullable = true)\n",
      " |-- contact_no: string (nullable = true)\n",
      " |-- month_name: string (nullable = true)\n",
      " |-- day_of_week: string (nullable = true)\n",
      " |-- duration: double (nullable = true)\n",
      " |-- campaign: double (nullable = true)\n",
      " |-- pdays: double (nullable = true)\n",
      " |-- previous: double (nullable = true)\n",
      " |-- poutcome: string (nullable = true)\n",
      " |-- emp_var_rate: double (nullable = true)\n",
      " |-- cons_price_idx: double (nullable = true)\n",
      " |-- cons_conf_idx: double (nullable = true)\n",
      " |-- euribor3m: double (nullable = true)\n",
      " |-- nr_employed: double (nullable = true)\n",
      " |-- y: string (nullable = true)\n",
      "\n"
     ]
    }
   ],
   "source": [
    "inputDF.printSchema()"
   ]
  },
  {
   "cell_type": "markdown",
   "metadata": {},
   "source": [
    "### Reading data from a JDBC database connection"
   ]
  },
  {
   "cell_type": "code",
   "execution_count": 73,
   "metadata": {
    "tags": []
   },
   "outputs": [
    {
     "data": {
      "text/plain": [
       "\u001b[32mimport \u001b[39m\u001b[36m$ivy.$                               ;\n",
       "\n",
       "//import com.ibm.db2.jcc.DB2Driver;\u001b[39m"
      ]
     },
     "execution_count": 73,
     "metadata": {},
     "output_type": "execute_result"
    }
   ],
   "source": [
    "// load required JDC driver library from the maven public repository, if not already present in application:\n",
    "\n",
    "// this uses the IBM DB2 connector to read from a DB2 table\n",
    "import $ivy.`com.ibm.db2.jcc:db2jcc:db2jcc4`;\n",
    "\n",
    "//import com.ibm.db2.jcc.DB2Driver;"
   ]
  },
  {
   "cell_type": "code",
   "execution_count": 13,
   "metadata": {
    "tags": []
   },
   "outputs": [
    {
     "data": {
      "text/plain": [
       "\u001b[32mimport \u001b[39m\u001b[36mjava.util.Properties\n",
       "\n",
       "\u001b[39m\n",
       "\u001b[36mconnProp\u001b[39m: \u001b[32mProperties\u001b[39m = {password=abcdefgh, driver=com.ibm.db2.jcc.DB2Driver, user=db2inst1, url=jdbc:db2://localhost:50000/testdb}\n",
       "\u001b[36mres12_2\u001b[39m: \u001b[32mObject\u001b[39m = \u001b[32mnull\u001b[39m\n",
       "\u001b[36mres12_3\u001b[39m: \u001b[32mObject\u001b[39m = \u001b[32mnull\u001b[39m\n",
       "\u001b[36mres12_4\u001b[39m: \u001b[32mObject\u001b[39m = \u001b[32mnull\u001b[39m\n",
       "\u001b[36mres12_5\u001b[39m: \u001b[32mObject\u001b[39m = \u001b[32mnull\u001b[39m\n",
       "\u001b[36mtableName\u001b[39m: \u001b[32mString\u001b[39m = \u001b[32m\"DB2INST1.BANK_TELEMKT\"\u001b[39m"
      ]
     },
     "execution_count": 13,
     "metadata": {},
     "output_type": "execute_result"
    }
   ],
   "source": [
    "import java.util.Properties\n",
    "\n",
    "val connProp = new Properties()\n",
    "connProp.setProperty(\"driver\", \"com.ibm.db2.jcc.DB2Driver\")\n",
    "connProp.put(\"url\", \"jdbc:db2://localhost:50000/testdb\")\n",
    "connProp.put(\"user\", \"db2inst1\")\n",
    "connProp.put(\"password\", \"abcdefgh\")\n",
    "\n",
    "val tableName = \"DB2INST1.BANK_TELEMKT\""
   ]
  },
  {
   "cell_type": "code",
   "execution_count": 75,
   "metadata": {
    "tags": []
   },
   "outputs": [
    {
     "data": {
      "text/plain": [
       "\u001b[32mimport \u001b[39m\u001b[36mspark.implicits._\n",
       "\n",
       "\u001b[39m\n",
       "\u001b[36mbank_telemkt_df\u001b[39m: \u001b[32mDataFrame\u001b[39m = [AGE: double, JOB: string ... 19 more fields]"
      ]
     },
     "execution_count": 75,
     "metadata": {},
     "output_type": "execute_result"
    }
   ],
   "source": [
    "import spark.implicits._\n",
    "\n",
    "val bank_telemkt_df = spark.read\n",
    "    .format(\"jdbc\")\n",
    "    .option(\"driver\", connProp.getProperty(\"driver\"))\n",
    "    .option(\"connectionProvider\",\"db2\")\n",
    "    .option(\"url\", connProp.getProperty(\"url\"))\n",
    "    .option(\"dbtable\", tableName)// <- if using SQL query, specify it as dtable: \"(select * from xyz) dtq\"\n",
    "    .option(\"user\", connProp.getProperty(\"user\"))\n",
    "    .option(\"password\", connProp.getProperty(\"password\"))\n",
    "    .option(\"fetchsize\", 1000)\n",
    "    .option(\"numPartitions\", 6)\n",
    "    .option(\"partitionColumn\", \"duration\") // <- use a numeric column or date/timestamp\n",
    "    .option(\"lowerBound\", 0)\n",
    "    .option(\"upperBound\", 5000)\n",
    "    .load()"
   ]
  },
  {
   "cell_type": "code",
   "execution_count": 76,
   "metadata": {
    "tags": []
   },
   "outputs": [
    {
     "name": "stdout",
     "output_type": "stream",
     "text": [
      "Loaded data from database table 'DB2INST1.BANK_TELEMKT' into a dataframe with 6 partitions\n"
     ]
    }
   ],
   "source": [
    "println(\n",
    "      \"Loaded data from database table \\'%s\\' into a dataframe with %d partitions\".format(\n",
    "        tableName,\n",
    "        bank_telemkt_df.rdd.getNumPartitions)\n",
    "    );"
   ]
  },
  {
   "cell_type": "code",
   "execution_count": 77,
   "metadata": {},
   "outputs": [
    {
     "name": "stdout",
     "output_type": "stream",
     "text": [
      "+----+---------+-------+-----------+---------+-------+----+----------+----------+-----------+--------+--------+-----+--------+-----------+------------+--------------+-------------+---------+-----------+---+\n",
      "| AGE|      JOB|MARITAL|  EDUCATION|DEFAULTED|HOUSING|LOAN|CONTACT_NO|MONTH_NAME|DAY_OF_WEEK|DURATION|CAMPAIGN|PDAYS|PREVIOUS|   POUTCOME|EMP_VAR_RATE|CONS_PRICE_IDX|CONS_CONF_IDX|EURIBOR3M|NR_EMPLOYED|  Y|\n",
      "+----+---------+-------+-----------+---------+-------+----+----------+----------+-----------+--------+--------+-----+--------+-----------+------------+--------------+-------------+---------+-----------+---+\n",
      "|56.0|housemaid|married|   basic.4y|       no|     no|  no| telephone|       may|        mon|   261.0|     1.0|999.0|     0.0|nonexistent|         1.1|        93.994|        -36.4|    4.857|     5191.0| no|\n",
      "|57.0| services|married|high.school|  unknown|     no|  no| telephone|       may|        mon|   149.0|     1.0|999.0|     0.0|nonexistent|         1.1|        93.994|        -36.4|    4.857|     5191.0| no|\n",
      "+----+---------+-------+-----------+---------+-------+----+----------+----------+-----------+--------+--------+-----+--------+-----------+------------+--------------+-------------+---------+-----------+---+\n",
      "only showing top 2 rows\n",
      "\n"
     ]
    }
   ],
   "source": [
    "bank_telemkt_df.show(2)"
   ]
  },
  {
   "cell_type": "code",
   "execution_count": 79,
   "metadata": {
    "tags": []
   },
   "outputs": [
    {
     "data": {
      "text/plain": [
       "\u001b[36mnewCols\u001b[39m: \u001b[32mArray\u001b[39m[\u001b[32mString\u001b[39m] = \u001b[33mArray\u001b[39m(\n",
       "  \u001b[32m\"age\"\u001b[39m,\n",
       "  \u001b[32m\"job\"\u001b[39m,\n",
       "  \u001b[32m\"marital\"\u001b[39m,\n",
       "  \u001b[32m\"education\"\u001b[39m,\n",
       "  \u001b[32m\"defaulted\"\u001b[39m,\n",
       "  \u001b[32m\"housing\"\u001b[39m,\n",
       "  \u001b[32m\"loan\"\u001b[39m,\n",
       "  \u001b[32m\"contact_no\"\u001b[39m,\n",
       "  \u001b[32m\"month_name\"\u001b[39m,\n",
       "  \u001b[32m\"day_of_week\"\u001b[39m,\n",
       "  \u001b[32m\"duration\"\u001b[39m,\n",
       "  \u001b[32m\"campaign\"\u001b[39m,\n",
       "  \u001b[32m\"pdays\"\u001b[39m,\n",
       "  \u001b[32m\"previous\"\u001b[39m,\n",
       "  \u001b[32m\"poutcome\"\u001b[39m,\n",
       "  \u001b[32m\"emp_var_rate\"\u001b[39m,\n",
       "  \u001b[32m\"cons_price_idx\"\u001b[39m,\n",
       "  \u001b[32m\"cons_conf_idx\"\u001b[39m,\n",
       "  \u001b[32m\"euribor3m\"\u001b[39m,\n",
       "  \u001b[32m\"nr_employed\"\u001b[39m,\n",
       "  \u001b[32m\"y\"\u001b[39m\n",
       ")\n",
       "\u001b[36minputDF\u001b[39m: \u001b[32mDataFrame\u001b[39m = [age: double, job: string ... 19 more fields]"
      ]
     },
     "execution_count": 79,
     "metadata": {},
     "output_type": "execute_result"
    }
   ],
   "source": [
    "// convert all column names to lowercase for consistency:\n",
    "\n",
    "// first, create new column names which are lowercase of existing column names:\n",
    "val newCols = bank_telemkt_df.columns.map(x => x.toLowerCase() )\n",
    "\n",
    "// next, create a new dataframe with these new column names:\n",
    "val inputDF = bank_telemkt_df.toDF(newCols: _*)"
   ]
  },
  {
   "cell_type": "markdown",
   "metadata": {},
   "source": [
    "---\n",
    "\n",
    "## Explore the Data\n",
    "\n",
    "Show top 4 rows of the DataFrame loaded from this source."
   ]
  },
  {
   "cell_type": "code",
   "execution_count": 138,
   "metadata": {
    "id": "c4da689a11f244edaf8fcd30a0693351"
   },
   "outputs": [
    {
     "name": "stdout",
     "output_type": "stream",
     "text": [
      "+----+---------+-------+-----------+---------+-------+----+----------+----------+-----------+--------+--------+-----+--------+-----------+------------+--------------+-------------+---------+-----------+---+\n",
      "| age|      job|marital|  education|defaulted|housing|loan|contact_no|month_name|day_of_week|duration|campaign|pdays|previous|   poutcome|emp_var_rate|cons_price_idx|cons_conf_idx|euribor3m|nr_employed|  y|\n",
      "+----+---------+-------+-----------+---------+-------+----+----------+----------+-----------+--------+--------+-----+--------+-----------+------------+--------------+-------------+---------+-----------+---+\n",
      "|56.0|housemaid|married|   basic.4y|       no|     no|  no| telephone|       may|        mon|   261.0|     1.0|999.0|     0.0|nonexistent|         1.1|        93.994|        -36.4|    4.857|     5191.0| no|\n",
      "|57.0| services|married|high.school|  unknown|     no|  no| telephone|       may|        mon|   149.0|     1.0|999.0|     0.0|nonexistent|         1.1|        93.994|        -36.4|    4.857|     5191.0| no|\n",
      "|37.0| services|married|high.school|       no|    yes|  no| telephone|       may|        mon|   226.0|     1.0|999.0|     0.0|nonexistent|         1.1|        93.994|        -36.4|    4.857|     5191.0| no|\n",
      "|40.0|   admin.|married|   basic.6y|       no|     no|  no| telephone|       may|        mon|   151.0|     1.0|999.0|     0.0|nonexistent|         1.1|        93.994|        -36.4|    4.857|     5191.0| no|\n",
      "+----+---------+-------+-----------+---------+-------+----+----------+----------+-----------+--------+--------+-----+--------+-----------+------------+--------------+-------------+---------+-----------+---+\n",
      "only showing top 4 rows\n",
      "\n"
     ]
    }
   ],
   "source": [
    "inputDF.show(4)"
   ]
  },
  {
   "cell_type": "markdown",
   "metadata": {},
   "source": [
    "### Run any type of SQL queries on the dataframe\n",
    "\n",
    "First, declare the dataframe as a \"view\".\n",
    "\n",
    "Then, it will be available to query using SQL statements."
   ]
  },
  {
   "cell_type": "code",
   "execution_count": 94,
   "metadata": {
    "id": "a036dd089c1e473d8a1f28b033db05aa"
   },
   "outputs": [
    {
     "data": {
      "text/plain": [
       "\u001b[36mres93\u001b[39m: \u001b[32mLong\u001b[39m = \u001b[32m41188L\u001b[39m"
      ]
     },
     "execution_count": 94,
     "metadata": {},
     "output_type": "execute_result"
    }
   ],
   "source": [
    "inputDF.count()"
   ]
  },
  {
   "cell_type": "code",
   "execution_count": 95,
   "metadata": {
    "id": "e8eebccf4e56433bb6f58bd277281b9b"
   },
   "outputs": [],
   "source": [
    "inputDF.createOrReplaceTempView(\"input\")"
   ]
  },
  {
   "cell_type": "markdown",
   "metadata": {},
   "source": [
    "Now, a simple SQL statement can be run to query from this dataframe 'inputDF' that has been declared as a 'view'"
   ]
  },
  {
   "cell_type": "code",
   "execution_count": 96,
   "metadata": {
    "id": "f5e2cb522574421590afe37c9e0a1425"
   },
   "outputs": [
    {
     "name": "stdout",
     "output_type": "stream",
     "text": [
      "+-------------+--------+\n",
      "|          job|count(1)|\n",
      "+-------------+--------+\n",
      "|   management|    2924|\n",
      "|      retired|    1720|\n",
      "|      unknown|     330|\n",
      "|self-employed|    1421|\n",
      "|      student|     875|\n",
      "|  blue-collar|    9254|\n",
      "| entrepreneur|    1456|\n",
      "|       admin.|   10422|\n",
      "|   technician|    6743|\n",
      "|     services|    3969|\n",
      "|    housemaid|    1060|\n",
      "|   unemployed|    1014|\n",
      "+-------------+--------+\n",
      "\n"
     ]
    }
   ],
   "source": [
    "spark.sql(\"SELECT job, count(1) from input group by job\"\n",
    "         ).show();"
   ]
  },
  {
   "cell_type": "markdown",
   "metadata": {},
   "source": [
    "Lets write a slightly more complicated SQL query.\n",
    "\n",
    "Notice that the usual SQL expressions are available to use with Spark SQL."
   ]
  },
  {
   "cell_type": "code",
   "execution_count": 97,
   "metadata": {
    "id": "aaf4265a471747758bebb980843533d4"
   },
   "outputs": [
    {
     "data": {
      "text/plain": [
       "\u001b[36mqueryResultDF\u001b[39m: \u001b[32mDataFrame\u001b[39m = [job: string, Total_Count: bigint ... 1 more field]"
      ]
     },
     "execution_count": 97,
     "metadata": {},
     "output_type": "execute_result"
    }
   ],
   "source": [
    "val queryResultDF = spark.sql(\"SELECT job, count(1) as Total_Count, \" + \n",
    "          \"100.0*sum(case when y='yes' then 1 else 0 end)/count(1) as Outcome_Yes\" +\n",
    "          \" from input group by job\"\n",
    "         )"
   ]
  },
  {
   "cell_type": "code",
   "execution_count": 98,
   "metadata": {
    "id": "f031ff46501d4180800e4dbe6aa9457b"
   },
   "outputs": [
    {
     "name": "stdout",
     "output_type": "stream",
     "text": [
      "Total count for management = 2924, of which 11.2 % converted\n",
      "Total count for retired = 1720, of which 25.2 % converted\n",
      "Total count for unknown = 330, of which 11.2 % converted\n",
      "Total count for self-employed = 1421, of which 10.5 % converted\n",
      "Total count for student = 875, of which 31.4 % converted\n",
      "Total count for blue-collar = 9254, of which 6.9 % converted\n",
      "Total count for entrepreneur = 1456, of which 8.5 % converted\n",
      "Total count for admin. = 10422, of which 13.0 % converted\n",
      "Total count for technician = 6743, of which 10.8 % converted\n",
      "Total count for services = 3969, of which 8.1 % converted\n",
      "Total count for housemaid = 1060, of which 10.0 % converted\n",
      "Total count for unemployed = 1014, of which 14.2 % converted\n"
     ]
    }
   ],
   "source": [
    "queryResultDF.collect().foreach(\n",
    "    curr_row => println(\n",
    "        \"Total count for %s = %d, of which %2.1f %% converted\".format(curr_row(0), curr_row(1), curr_row(2) )\n",
    "    )\n",
    ")"
   ]
  },
  {
   "cell_type": "code",
   "execution_count": 100,
   "metadata": {
    "id": "bb4cd48ea3ff4a64a2b940154092b6e0"
   },
   "outputs": [
    {
     "name": "stdout",
     "output_type": "stream",
     "text": [
      "+-------+------------------+\n",
      "|summary|          duration|\n",
      "+-------+------------------+\n",
      "|  count|              4640|\n",
      "|   mean| 553.1911637931034|\n",
      "| stddev|401.17187076598645|\n",
      "|    min|              37.0|\n",
      "|    max|            4199.0|\n",
      "+-------+------------------+\n",
      "\n"
     ]
    }
   ],
   "source": [
    "inputDF.where(inputDF(\"y\") === \"yes\").describe(\"duration\").show()"
   ]
  },
  {
   "cell_type": "code",
   "execution_count": 101,
   "metadata": {
    "id": "bf873ecab23745f3812d83073c387634"
   },
   "outputs": [
    {
     "name": "stdout",
     "output_type": "stream",
     "text": [
      "+-------+------------------+\n",
      "|summary|          duration|\n",
      "+-------+------------------+\n",
      "|  count|             36548|\n",
      "|   mean|220.84480682937507|\n",
      "| stddev|207.09629330889348|\n",
      "|    min|               0.0|\n",
      "|    max|            4918.0|\n",
      "+-------+------------------+\n",
      "\n"
     ]
    }
   ],
   "source": [
    "inputDF.where(inputDF(\"y\") === \"no\").describe(\"duration\").show()"
   ]
  },
  {
   "cell_type": "code",
   "execution_count": 102,
   "metadata": {},
   "outputs": [
    {
     "data": {
      "text/plain": [
       "\u001b[32mimport \u001b[39m\u001b[36morg.apache.spark.ml.stat.KolmogorovSmirnovTest\n",
       "\u001b[39m\n",
       "\u001b[32mimport \u001b[39m\u001b[36morg.apache.spark.ml.stat.ANOVATest\n",
       "\u001b[39m\n",
       "\u001b[32mimport \u001b[39m\u001b[36morg.apache.spark.ml.stat.ChiSquareTest\u001b[39m"
      ]
     },
     "execution_count": 102,
     "metadata": {},
     "output_type": "execute_result"
    }
   ],
   "source": [
    "import org.apache.spark.ml.stat.KolmogorovSmirnovTest\n",
    "import org.apache.spark.ml.stat.ANOVATest\n",
    "import org.apache.spark.ml.stat.ChiSquareTest"
   ]
  },
  {
   "cell_type": "markdown",
   "metadata": {},
   "source": [
    "### K-S Test\n",
    "\n",
    "The two-sample K-S test compares and gives the difference betweed the CDF (cumulative distribution functions) of two samples.\n",
    "However, Spark MLlib does not have a two-samepl k-s test function.\n",
    "\n",
    "As a workaround, the one-sample K-S test is applied here to compare each sample one by one against the normal distribution CDF\n",
    "with given mean and standard deviation.\n"
   ]
  },
  {
   "cell_type": "code",
   "execution_count": 103,
   "metadata": {},
   "outputs": [
    {
     "data": {
      "text/plain": [
       "\u001b[36mksTestResult\u001b[39m: \u001b[32mRow\u001b[39m = [6.496780891040999E-11,0.36740306637984005]\n",
       "\u001b[36mksPvalue\u001b[39m: \u001b[32mDouble\u001b[39m = \u001b[32m6.496780891040999E-11\u001b[39m\n",
       "\u001b[36mksStatistic\u001b[39m: \u001b[32mDouble\u001b[39m = \u001b[32m0.36740306637984005\u001b[39m"
      ]
     },
     "execution_count": 103,
     "metadata": {},
     "output_type": "execute_result"
    }
   ],
   "source": [
    "val ksTestResult = KolmogorovSmirnovTest.test(inputDF.where(inputDF(\"y\") === \"yes\"), \"duration\", \"norm\", 220.844, 207.096).take(1)(0)\n",
    "val ksPvalue = ksTestResult.getDouble(0)\n",
    "val ksStatistic = ksTestResult.getDouble(1)"
   ]
  },
  {
   "cell_type": "code",
   "execution_count": 104,
   "metadata": {},
   "outputs": [
    {
     "data": {
      "text/plain": [
       "\u001b[36mksTestResult\u001b[39m: \u001b[32mRow\u001b[39m = [8.158118625090083E-11,0.15181821622812208]\n",
       "\u001b[36mksPvalue\u001b[39m: \u001b[32mDouble\u001b[39m = \u001b[32m8.158118625090083E-11\u001b[39m\n",
       "\u001b[36mksStatistic\u001b[39m: \u001b[32mDouble\u001b[39m = \u001b[32m0.15181821622812208\u001b[39m"
      ]
     },
     "execution_count": 104,
     "metadata": {},
     "output_type": "execute_result"
    }
   ],
   "source": [
    "val ksTestResult = KolmogorovSmirnovTest.test(inputDF.where(inputDF(\"y\") === \"no\"), \"duration\", \"norm\", 220.844, 207.096).take(1)(0)\n",
    "val ksPvalue = ksTestResult.getDouble(0)\n",
    "val ksStatistic = ksTestResult.getDouble(1)"
   ]
  },
  {
   "cell_type": "markdown",
   "metadata": {},
   "source": [
    "### Convenience function for comparing population for a continuous variable vs. each of the target variable's two classes"
   ]
  },
  {
   "cell_type": "code",
   "execution_count": 106,
   "metadata": {},
   "outputs": [
    {
     "data": {
      "text/plain": [
       "\u001b[32mimport \u001b[39m\u001b[36morg.apache.spark.sql.Dataset\n",
       "\n",
       "/** \n",
       "Convenience function to compare statistics on numerical column vs. the target values.\n",
       "It compares the two samples of a continuous variable - one sample each for the target variable's two classes\n",
       "*/\n",
       "\u001b[39m\n",
       "defined \u001b[32mfunction\u001b[39m \u001b[36mnumericalBivariateTable\u001b[39m"
      ]
     },
     "execution_count": 106,
     "metadata": {},
     "output_type": "execute_result"
    }
   ],
   "source": [
    "import org.apache.spark.sql.Dataset\n",
    "\n",
    "/** \n",
    "Convenience function to compare statistics on numerical column vs. the target values.\n",
    "It compares the two samples of a continuous variable - one sample each for the target variable's two classes\n",
    "*/\n",
    "def numericalBivariateTable(inputData: org.apache.spark.sql.Dataset[_],\n",
    "                            labelColName: String,\n",
    "                            colToAnalyse: String,\n",
    "                            label1: String,\n",
    "                            label2: String): org.apache.spark.sql.Dataset[_] = {\n",
    "    \n",
    "    import org.apache.spark.ml.stat.KolmogorovSmirnovTest\n",
    "    \n",
    "    val statsDF1 = inputData.where(inputData(labelColName) === label1).describe(colToAnalyse)\n",
    "        .withColumnRenamed(\"summary\",\"statistics_1\")\n",
    "        .withColumnRenamed(colToAnalyse, colToAnalyse + \"_\" + labelColName + \"_\" + label1)\n",
    "    \n",
    "    val statsDF2 = inputData.where(inputData(labelColName) === label2).describe(colToAnalyse)\n",
    "        .withColumnRenamed(\"summary\",\"statistics_2\")\n",
    "        .withColumnRenamed(colToAnalyse, colToAnalyse + \"_\" + labelColName + \"_\" + label2)\n",
    "    \n",
    "    val joinedDF = statsDF1.join(statsDF2, statsDF1(\"statistics_1\") ===  statsDF2(\"statistics_2\"),\"inner\")\n",
    "        .drop(\"statistics_2\")\n",
    "        .withColumnRenamed(\"statistics_1\",\"Statistic\")\n",
    "    \n",
    "    val tmpArray = joinedDF.collect()\n",
    "    val meanVal = tmpArray(1)(1).toString.toDouble\n",
    "    val sdVal = tmpArray(2)(1).toString.toDouble\n",
    "    \n",
    "    val ksTestResult1 = KolmogorovSmirnovTest.test(inputData.where(inputData(labelColName) === label1), colToAnalyse, \"norm\", meanVal, sdVal).take(1)(0)\n",
    "    val ksPvalue1 = ksTestResult1.getDouble(0)\n",
    "    val ksStatistic1 = ksTestResult1.getDouble(1)\n",
    "    \n",
    "    val ksTestResult2 = KolmogorovSmirnovTest.test(inputData.where(inputData(labelColName) === label2), colToAnalyse, \"norm\", meanVal, sdVal).take(1)(0)\n",
    "    val ksPvalue2 = ksTestResult2.getDouble(0)\n",
    "    val ksStatistic2 = ksTestResult2.getDouble(1)\n",
    "    \n",
    "    return joinedDF.union(Seq((\"K-S Statistic\", ksStatistic1, ksStatistic2)).toDF)\n",
    "    \n",
    "}"
   ]
  },
  {
   "cell_type": "code",
   "execution_count": 107,
   "metadata": {},
   "outputs": [
    {
     "name": "stdout",
     "output_type": "stream",
     "text": [
      "+-------------+-------------------+------------------+\n",
      "|    Statistic|      duration_y_no|    duration_y_yes|\n",
      "+-------------+-------------------+------------------+\n",
      "|        count|              36548|              4640|\n",
      "|         mean| 220.84480682937507| 553.1911637931034|\n",
      "|       stddev| 207.09629330889348|401.17187076598645|\n",
      "|          min|                0.0|              37.0|\n",
      "|          max|             4918.0|            4199.0|\n",
      "|K-S Statistic|0.15181978657453288|0.3674019979283104|\n",
      "+-------------+-------------------+------------------+\n",
      "\n"
     ]
    },
    {
     "data": {
      "text/plain": [
       "\u001b[36mduration_stats\u001b[39m: \u001b[32mDataset\u001b[39m[\u001b[32m_\u001b[39m] = [Statistic: string, duration_y_no: string ... 1 more field]"
      ]
     },
     "execution_count": 107,
     "metadata": {},
     "output_type": "execute_result"
    }
   ],
   "source": [
    "val duration_stats = numericalBivariateTable(inputDF, \"y\", \"duration\", \"no\", \"yes\")\n",
    "\n",
    "duration_stats.show(10)"
   ]
  },
  {
   "cell_type": "code",
   "execution_count": 108,
   "metadata": {},
   "outputs": [
    {
     "name": "stdout",
     "output_type": "stream",
     "text": [
      "+-------------+-------------------+------------------+\n",
      "|    Statistic|           age_y_no|         age_y_yes|\n",
      "+-------------+-------------------+------------------+\n",
      "|        count|              36548|              4640|\n",
      "|         mean| 39.911185290576775| 40.91314655172414|\n",
      "|       stddev|   9.89813179527967|13.837476239030554|\n",
      "|          min|               17.0|              17.0|\n",
      "|          max|               95.0|              98.0|\n",
      "|K-S Statistic|0.09278012965860277|0.1403293216252272|\n",
      "+-------------+-------------------+------------------+\n",
      "\n"
     ]
    },
    {
     "data": {
      "text/plain": [
       "\u001b[36mage_stats\u001b[39m: \u001b[32mDataset\u001b[39m[\u001b[32m_\u001b[39m] = [Statistic: string, age_y_no: string ... 1 more field]"
      ]
     },
     "execution_count": 108,
     "metadata": {},
     "output_type": "execute_result"
    }
   ],
   "source": [
    "val age_stats = numericalBivariateTable(inputDF, \"y\", \"age\", \"no\", \"yes\")\n",
    "\n",
    "age_stats.show(10)"
   ]
  },
  {
   "cell_type": "code",
   "execution_count": 109,
   "metadata": {},
   "outputs": [
    {
     "name": "stdout",
     "output_type": "stream",
     "text": [
      "+-------------+------------------+------------------+\n",
      "|    Statistic|        pdays_y_no|       pdays_y_yes|\n",
      "+-------------+------------------+------------------+\n",
      "|        count|             36548|              4640|\n",
      "|         mean| 984.1138776403634| 792.0355603448276|\n",
      "|       stddev|120.65686774517023| 403.4071808397044|\n",
      "|          min|               0.0|               0.0|\n",
      "|          max|             999.0|             999.0|\n",
      "|K-S Statistic| 0.534101209799114|0.4509048096821161|\n",
      "+-------------+------------------+------------------+\n",
      "\n"
     ]
    },
    {
     "data": {
      "text/plain": [
       "\u001b[36mpdays_stats\u001b[39m: \u001b[32mDataset\u001b[39m[\u001b[32m_\u001b[39m] = [Statistic: string, pdays_y_no: string ... 1 more field]"
      ]
     },
     "execution_count": 109,
     "metadata": {},
     "output_type": "execute_result"
    }
   ],
   "source": [
    "val pdays_stats = numericalBivariateTable(inputDF, \"y\", \"pdays\", \"no\", \"yes\")\n",
    "\n",
    "pdays_stats.show(10)"
   ]
  },
  {
   "cell_type": "code",
   "execution_count": 110,
   "metadata": {},
   "outputs": [
    {
     "name": "stdout",
     "output_type": "stream",
     "text": [
      "+-------------+-------------------+------------------+\n",
      "|    Statistic|     euribor3m_y_no|   euribor3m_y_yes|\n",
      "+-------------+-------------------+------------------+\n",
      "|        count|              36548|              4640|\n",
      "|         mean|  3.811491162306951| 2.123135129310318|\n",
      "|       stddev| 1.6381874709419575|1.7425979218386416|\n",
      "|          min|              0.634|             0.634|\n",
      "|          max|              5.045|             5.045|\n",
      "|K-S Statistic|0.36483589053153886|0.6084414888935559|\n",
      "+-------------+-------------------+------------------+\n",
      "\n"
     ]
    },
    {
     "data": {
      "text/plain": [
       "\u001b[36meuribor3m_stats\u001b[39m: \u001b[32mDataset\u001b[39m[\u001b[32m_\u001b[39m] = [Statistic: string, euribor3m_y_no: string ... 1 more field]"
      ]
     },
     "execution_count": 110,
     "metadata": {},
     "output_type": "execute_result"
    }
   ],
   "source": [
    "val euribor3m_stats = numericalBivariateTable(inputDF, \"y\", \"euribor3m\", \"no\", \"yes\")\n",
    "\n",
    "euribor3m_stats.show(10)"
   ]
  },
  {
   "cell_type": "code",
   "execution_count": 111,
   "metadata": {},
   "outputs": [
    {
     "name": "stdout",
     "output_type": "stream",
     "text": [
      "+-------------+-------------------+--------------------+\n",
      "|    Statistic|cons_price_idx_y_no|cons_price_idx_y_yes|\n",
      "+-------------+-------------------+--------------------+\n",
      "|        count|              36548|                4640|\n",
      "|         mean|  93.60375705925262|   93.35438599138075|\n",
      "|       stddev| 0.5589929413581802|  0.6766438009043876|\n",
      "|          min|             92.201|              92.201|\n",
      "|          max|             94.767|              94.767|\n",
      "|K-S Statistic|0.22440582351312138| 0.30829070578904105|\n",
      "+-------------+-------------------+--------------------+\n",
      "\n"
     ]
    },
    {
     "data": {
      "text/plain": [
       "\u001b[36mcons_price_idx_stats\u001b[39m: \u001b[32mDataset\u001b[39m[\u001b[32m_\u001b[39m] = [Statistic: string, cons_price_idx_y_no: string ... 1 more field]"
      ]
     },
     "execution_count": 111,
     "metadata": {},
     "output_type": "execute_result"
    }
   ],
   "source": [
    "val cons_price_idx_stats = numericalBivariateTable(inputDF, \"y\", \"cons_price_idx\", \"no\", \"yes\")\n",
    "\n",
    "cons_price_idx_stats.show(10)"
   ]
  },
  {
   "cell_type": "markdown",
   "metadata": {},
   "source": [
    "---\n",
    "## Transform the data\n",
    "\n",
    "  - Convert text columns into indexed data representing categorical variables\n",
    "  - Apply one-hot encoding to categorical variables\n",
    "  - Scale numerical variables using min-max values\n",
    "  - 'Assemble' feature columns together for ML algorithms to use for training\n",
    "  - Others: A wide variety of transformations are available out-of-the-box"
   ]
  },
  {
   "cell_type": "code",
   "execution_count": 112,
   "metadata": {
    "id": "4a53cd2a2b24477a8814a50c100aba3d"
   },
   "outputs": [
    {
     "data": {
      "text/plain": [
       "\u001b[32mimport \u001b[39m\u001b[36morg.apache.spark.ml.feature.{MinMaxScaler, OneHotEncoder, StringIndexer, VectorAssembler}\n",
       "\u001b[39m\n",
       "\u001b[32mimport \u001b[39m\u001b[36morg.apache.spark.ml.{Model, Pipeline, PipelineModel, PipelineStage}\n",
       "\u001b[39m\n",
       "\u001b[32mimport \u001b[39m\u001b[36morg.apache.spark.ml.linalg\u001b[39m"
      ]
     },
     "execution_count": 112,
     "metadata": {},
     "output_type": "execute_result"
    }
   ],
   "source": [
    "import org.apache.spark.ml.feature.{MinMaxScaler, OneHotEncoder, StringIndexer, VectorAssembler}\n",
    "import org.apache.spark.ml.{Model, Pipeline, PipelineModel, PipelineStage}\n",
    "import org.apache.spark.ml.linalg"
   ]
  },
  {
   "cell_type": "code",
   "execution_count": 113,
   "metadata": {
    "id": "870842de03e34c5cad86a3999966a2ad"
   },
   "outputs": [
    {
     "data": {
      "text/plain": [
       "\u001b[36mlabelIndexer\u001b[39m: \u001b[32mStringIndexer\u001b[39m = strIdx_648d3b0473d8"
      ]
     },
     "execution_count": 113,
     "metadata": {},
     "output_type": "execute_result"
    }
   ],
   "source": [
    "// first of all, index the binary label column:\n",
    "val labelIndexer = new StringIndexer()\n",
    "      .setInputCol(originalLabelColname)\n",
    "      .setOutputCol(\"label\")"
   ]
  },
  {
   "cell_type": "markdown",
   "metadata": {},
   "source": [
    "After declaring the indexer, we \"fit\" it on the data."
   ]
  },
  {
   "cell_type": "code",
   "execution_count": 114,
   "metadata": {},
   "outputs": [
    {
     "data": {
      "text/plain": [
       "\u001b[36mfittedIndexer\u001b[39m: \u001b[32mml\u001b[39m.\u001b[32mfeature\u001b[39m.\u001b[32mStringIndexerModel\u001b[39m = StringIndexerModel: uid=strIdx_648d3b0473d8, handleInvalid=error"
      ]
     },
     "execution_count": 114,
     "metadata": {},
     "output_type": "execute_result"
    }
   ],
   "source": [
    "val fittedIndexer = labelIndexer.fit(inputDF)"
   ]
  },
  {
   "cell_type": "markdown",
   "metadata": {},
   "source": [
    "Now, this \"fitted\" transformer is ready to be used. We run the transform on our dataset to get the required result.\n",
    "\n",
    "In this case, change the target variable form text to a categorical variable."
   ]
  },
  {
   "cell_type": "code",
   "execution_count": 115,
   "metadata": {},
   "outputs": [
    {
     "data": {
      "text/plain": [
       "\u001b[36mtransformedDF\u001b[39m: \u001b[32mDataFrame\u001b[39m = [age: double, job: string ... 20 more fields]"
      ]
     },
     "execution_count": 115,
     "metadata": {},
     "output_type": "execute_result"
    }
   ],
   "source": [
    "val transformedDF = fittedIndexer.transform(inputDF)"
   ]
  },
  {
   "cell_type": "code",
   "execution_count": 116,
   "metadata": {},
   "outputs": [
    {
     "name": "stdout",
     "output_type": "stream",
     "text": [
      "+----+---------+-------+-----------+---------+-------+----+----------+----------+-----------+--------+--------+-----+--------+-----------+------------+--------------+-------------+---------+-----------+---+-----+\n",
      "| age|      job|marital|  education|defaulted|housing|loan|contact_no|month_name|day_of_week|duration|campaign|pdays|previous|   poutcome|emp_var_rate|cons_price_idx|cons_conf_idx|euribor3m|nr_employed|  y|label|\n",
      "+----+---------+-------+-----------+---------+-------+----+----------+----------+-----------+--------+--------+-----+--------+-----------+------------+--------------+-------------+---------+-----------+---+-----+\n",
      "|56.0|housemaid|married|   basic.4y|       no|     no|  no| telephone|       may|        mon|   261.0|     1.0|999.0|     0.0|nonexistent|         1.1|        93.994|        -36.4|    4.857|     5191.0| no|  0.0|\n",
      "|57.0| services|married|high.school|  unknown|     no|  no| telephone|       may|        mon|   149.0|     1.0|999.0|     0.0|nonexistent|         1.1|        93.994|        -36.4|    4.857|     5191.0| no|  0.0|\n",
      "|37.0| services|married|high.school|       no|    yes|  no| telephone|       may|        mon|   226.0|     1.0|999.0|     0.0|nonexistent|         1.1|        93.994|        -36.4|    4.857|     5191.0| no|  0.0|\n",
      "|40.0|   admin.|married|   basic.6y|       no|     no|  no| telephone|       may|        mon|   151.0|     1.0|999.0|     0.0|nonexistent|         1.1|        93.994|        -36.4|    4.857|     5191.0| no|  0.0|\n",
      "+----+---------+-------+-----------+---------+-------+----+----------+----------+-----------+--------+--------+-----+--------+-----------+------------+--------------+-------------+---------+-----------+---+-----+\n",
      "only showing top 4 rows\n",
      "\n"
     ]
    }
   ],
   "source": [
    "transformedDF.show(4)"
   ]
  },
  {
   "cell_type": "markdown",
   "metadata": {},
   "source": [
    "----\n",
    "\n",
    "### Create data transformation Pipeline\n",
    "\n",
    "Instead of applying transformations one by one, let us collect these into a pipeline programatically and apply them all at once.\n",
    "\n",
    "In the code below, We'll use an ArrayBuffer to dynamically collect all transformations."
   ]
  },
  {
   "cell_type": "code",
   "execution_count": 117,
   "metadata": {
    "id": "5be1e624af9840c68b46b17c8c5b6e7e"
   },
   "outputs": [
    {
     "data": {
      "text/plain": [
       "\u001b[36mxforms\u001b[39m: \u001b[32mcollection\u001b[39m.\u001b[32mmutable\u001b[39m.\u001b[32mArrayBuffer\u001b[39m[\u001b[32mPipelineStage\u001b[39m] = \u001b[33mArrayBuffer\u001b[39m()"
      ]
     },
     "execution_count": 117,
     "metadata": {},
     "output_type": "execute_result"
    }
   ],
   "source": [
    "// this buffer \"xforms\" will accumulate all our transformations till we're ready to put them in a pipeline\n",
    "var xforms = scala.collection.mutable.ArrayBuffer.empty[PipelineStage];"
   ]
  },
  {
   "cell_type": "markdown",
   "metadata": {
    "id": "d2fc6eaace8f4a4288cdd3a0f6db3387"
   },
   "source": [
    "### Step 1: first of all, index the binary label column:"
   ]
  },
  {
   "cell_type": "code",
   "execution_count": 118,
   "metadata": {
    "id": "d2fc6eaace8f4a4288cdd3a0f6db3387"
   },
   "outputs": [
    {
     "data": {
      "text/plain": [
       "\u001b[36mlabelIndexer\u001b[39m: \u001b[32mStringIndexer\u001b[39m = strIdx_b92509fa5ad4\n",
       "\u001b[36mres117_1\u001b[39m: \u001b[32mcollection\u001b[39m.\u001b[32mmutable\u001b[39m.\u001b[32mArrayBuffer\u001b[39m[\u001b[32mPipelineStage\u001b[39m] = \u001b[33mArrayBuffer\u001b[39m(\n",
       "  strIdx_b92509fa5ad4\n",
       ")"
      ]
     },
     "execution_count": 118,
     "metadata": {},
     "output_type": "execute_result"
    }
   ],
   "source": [
    "val labelIndexer = new StringIndexer()\n",
    "  .setInputCol(originalLabelColname)\n",
    "  .setOutputCol(\"label\")\n",
    "\n",
    "// add this to the array buffer:\n",
    "xforms += labelIndexer;"
   ]
  },
  {
   "cell_type": "code",
   "execution_count": 119,
   "metadata": {},
   "outputs": [
    {
     "data": {
      "text/plain": [
       "\u001b[36mres118\u001b[39m: \u001b[32mInt\u001b[39m = \u001b[32m1\u001b[39m"
      ]
     },
     "execution_count": 119,
     "metadata": {},
     "output_type": "execute_result"
    }
   ],
   "source": [
    "xforms.length"
   ]
  },
  {
   "cell_type": "markdown",
   "metadata": {
    "id": "d2fc6eaace8f4a4288cdd3a0f6db3387"
   },
   "source": [
    "### Step 2: Next, add a column indexer for each categorical column.\n",
    "\n",
    "Notice how the colun name is used to set the input column name and create the output column name prefixed with \"idx_\"."
   ]
  },
  {
   "cell_type": "code",
   "execution_count": 120,
   "metadata": {
    "id": "d2fc6eaace8f4a4288cdd3a0f6db3387"
   },
   "outputs": [
    {
     "name": "stdout",
     "output_type": "stream",
     "text": [
      "Indexing categorical variables. Count of transformations at this point is now = 9\n"
     ]
    }
   ],
   "source": [
    "categorical_features.foreach(\n",
    "    x => \n",
    "    xforms += new StringIndexer().setInputCol(x).setOutputCol(\"idx_\" + x)\n",
    "    )\n",
    "\n",
    "println(s\"Indexing categorical variables. Count of transformations at this point is now = ${xforms.length}\")"
   ]
  },
  {
   "cell_type": "markdown",
   "metadata": {},
   "source": [
    "### Step 3: Next, apply one-hot encoding to all categorical variables:"
   ]
  },
  {
   "cell_type": "code",
   "execution_count": 121,
   "metadata": {
    "id": "d2fc6eaace8f4a4288cdd3a0f6db3387"
   },
   "outputs": [
    {
     "name": "stdout",
     "output_type": "stream",
     "text": [
      "One-hot encoding all categorical variables. Count of transformations at this point is now = 17\n"
     ]
    }
   ],
   "source": [
    "categorical_features.foreach(x => xforms += new OneHotEncoder().setInputCol(\"idx_\" + x).setOutputCol(\"vec_idx_\" + x))\n",
    "\n",
    "println(s\"One-hot encoding all categorical variables. Count of transformations at this point is now = ${xforms.length}\")"
   ]
  },
  {
   "cell_type": "markdown",
   "metadata": {
    "id": "d2fc6eaace8f4a4288cdd3a0f6db3387"
   },
   "source": [
    "At this point, let us ather all column names, these will be used in vector assembler later:"
   ]
  },
  {
   "cell_type": "code",
   "execution_count": 122,
   "metadata": {
    "id": "d2fc6eaace8f4a4288cdd3a0f6db3387"
   },
   "outputs": [
    {
     "data": {
      "text/html": [
       "<div class=\"jp-RenderedText\">\n",
       "<pre><code><span style=\"color: rgb(0, 187, 187)\"><span class=\"ansi-cyan-fg\">allColNames</span></span>: <span style=\"color: rgb(0, 187, 0)\"><span class=\"ansi-green-fg\">collection</span></span>.<span style=\"color: rgb(0, 187, 0)\"><span class=\"ansi-green-fg\">mutable</span></span>.<span style=\"color: rgb(0, 187, 0)\"><span class=\"ansi-green-fg\">ArrayBuffer</span></span>[<span style=\"color: rgb(0, 187, 0)\"><span class=\"ansi-green-fg\">String</span></span>] = <span style=\"color: yellow\"><span class=\"ansi-yellow-fg\">ArrayBuffer</span></span>(\n",
       "  <span style=\"color: rgb(0, 187, 0)\"><span class=\"ansi-green-fg\">&quot;vec_idx_job&quot;</span></span>,\n",
       "  <span style=\"color: rgb(0, 187, 0)\"><span class=\"ansi-green-fg\">&quot;vec_idx_marital&quot;</span></span>,\n",
       "  <span style=\"color: rgb(0, 187, 0)\"><span class=\"ansi-green-fg\">&quot;vec_idx_education&quot;</span></span>,\n",
       "  <span style=\"color: rgb(0, 187, 0)\"><span class=\"ansi-green-fg\">&quot;vec_idx_defaulted&quot;</span></span>,\n",
       "  <span style=\"color: rgb(0, 187, 0)\"><span class=\"ansi-green-fg\">&quot;vec_idx_housing&quot;</span></span>,\n",
       "  <span style=\"color: rgb(0, 187, 0)\"><span class=\"ansi-green-fg\">&quot;vec_idx_loan&quot;</span></span>,\n",
       "  <span style=\"color: rgb(0, 187, 0)\"><span class=\"ansi-green-fg\">&quot;vec_idx_day_of_week&quot;</span></span>,\n",
       "  <span style=\"color: rgb(0, 187, 0)\"><span class=\"ansi-green-fg\">&quot;vec_idx_poutcome&quot;</span></span>\n",
       ")</code></pre>\n",
       "</div>"
      ],
      "text/plain": [
       "\u001b[36mallColNames\u001b[39m: \u001b[32mcollection\u001b[39m.\u001b[32mmutable\u001b[39m.\u001b[32mArrayBuffer\u001b[39m[\u001b[32mString\u001b[39m] = \u001b[33mArrayBuffer\u001b[39m(\n",
       "  \u001b[32m\"vec_idx_job\"\u001b[39m,\n",
       "  \u001b[32m\"vec_idx_marital\"\u001b[39m,\n",
       "  \u001b[32m\"vec_idx_education\"\u001b[39m,\n",
       "  \u001b[32m\"vec_idx_defaulted\"\u001b[39m,\n",
       "  \u001b[32m\"vec_idx_housing\"\u001b[39m,\n",
       "  \u001b[32m\"vec_idx_loan\"\u001b[39m,\n",
       "  \u001b[32m\"vec_idx_day_of_week\"\u001b[39m,\n",
       "  \u001b[32m\"vec_idx_poutcome\"\u001b[39m\n",
       ")"
      ]
     },
     "metadata": {},
     "output_type": "display_data"
    }
   ],
   "source": [
    "var allColNames = scala.collection.mutable.ArrayBuffer.empty[String]\n",
    "\n",
    "categorical_features.foreach(x => allColNames += \"vec_idx_%s\".format(x))"
   ]
  },
  {
   "cell_type": "code",
   "execution_count": 123,
   "metadata": {
    "id": "d2fc6eaace8f4a4288cdd3a0f6db3387"
   },
   "outputs": [
    {
     "data": {
      "text/html": [
       "<div class=\"jp-RenderedText\">\n",
       "<pre><code><span style=\"color: rgb(0, 187, 187)\"><span class=\"ansi-cyan-fg\">numericalColNames</span></span>: <span style=\"color: rgb(0, 187, 0)\"><span class=\"ansi-green-fg\">collection</span></span>.<span style=\"color: rgb(0, 187, 0)\"><span class=\"ansi-green-fg\">mutable</span></span>.<span style=\"color: rgb(0, 187, 0)\"><span class=\"ansi-green-fg\">ArrayBuffer</span></span>[<span style=\"color: rgb(0, 187, 0)\"><span class=\"ansi-green-fg\">String</span></span>] = <span style=\"color: yellow\"><span class=\"ansi-yellow-fg\">ArrayBuffer</span></span>(\n",
       "  <span style=\"color: rgb(0, 187, 0)\"><span class=\"ansi-green-fg\">&quot;age&quot;</span></span>,\n",
       "  <span style=\"color: rgb(0, 187, 0)\"><span class=\"ansi-green-fg\">&quot;duration&quot;</span></span>,\n",
       "  <span style=\"color: rgb(0, 187, 0)\"><span class=\"ansi-green-fg\">&quot;pdays&quot;</span></span>,\n",
       "  <span style=\"color: rgb(0, 187, 0)\"><span class=\"ansi-green-fg\">&quot;emp_var_rate&quot;</span></span>,\n",
       "  <span style=\"color: rgb(0, 187, 0)\"><span class=\"ansi-green-fg\">&quot;cons_price_idx&quot;</span></span>,\n",
       "  <span style=\"color: rgb(0, 187, 0)\"><span class=\"ansi-green-fg\">&quot;cons_conf_idx&quot;</span></span>,\n",
       "  <span style=\"color: rgb(0, 187, 0)\"><span class=\"ansi-green-fg\">&quot;euribor3m&quot;</span></span>,\n",
       "  <span style=\"color: rgb(0, 187, 0)\"><span class=\"ansi-green-fg\">&quot;nr_employed&quot;</span></span>\n",
       ")</code></pre>\n",
       "</div>"
      ],
      "text/plain": [
       "\u001b[36mnumericalColNames\u001b[39m: \u001b[32mcollection\u001b[39m.\u001b[32mmutable\u001b[39m.\u001b[32mArrayBuffer\u001b[39m[\u001b[32mString\u001b[39m] = \u001b[33mArrayBuffer\u001b[39m(\n",
       "  \u001b[32m\"age\"\u001b[39m,\n",
       "  \u001b[32m\"duration\"\u001b[39m,\n",
       "  \u001b[32m\"pdays\"\u001b[39m,\n",
       "  \u001b[32m\"emp_var_rate\"\u001b[39m,\n",
       "  \u001b[32m\"cons_price_idx\"\u001b[39m,\n",
       "  \u001b[32m\"cons_conf_idx\"\u001b[39m,\n",
       "  \u001b[32m\"euribor3m\"\u001b[39m,\n",
       "  \u001b[32m\"nr_employed\"\u001b[39m\n",
       ")"
      ]
     },
     "metadata": {},
     "output_type": "display_data"
    }
   ],
   "source": [
    "// gather all numerical variables to assemble into a vector for applying scaling:\n",
    "var numericalColNames = scala.collection.mutable.ArrayBuffer.empty[String]\n",
    "\n",
    "numerical_features.foreach(y => numericalColNames += y)"
   ]
  },
  {
   "cell_type": "markdown",
   "metadata": {},
   "source": [
    "### Important Concept\n",
    "\n",
    "Note: The vector assembler gathers all numerical variables and creates a vector out of these. This is then used for other transformations.\n",
    "\n",
    "Almost all ML algorithms operate on a vector column of dependent variables. Hence, vector assembler is necessity in most situations."
   ]
  },
  {
   "cell_type": "markdown",
   "metadata": {},
   "source": [
    "### Step 4: Assemble all numerical features."
   ]
  },
  {
   "cell_type": "code",
   "execution_count": 124,
   "metadata": {
    "id": "d2fc6eaace8f4a4288cdd3a0f6db3387"
   },
   "outputs": [
    {
     "name": "stdout",
     "output_type": "stream",
     "text": [
      "Assembled together all numerical variables.\n",
      " Count of transformations at this point is now = 18\n"
     ]
    },
    {
     "data": {
      "text/plain": [
       "\u001b[36massembler1\u001b[39m: \u001b[32mVectorAssembler\u001b[39m = VectorAssembler: uid=vecAssembler_2e7df15b8426, handleInvalid=error, numInputCols=8\n",
       "\u001b[36mres123_1\u001b[39m: \u001b[32mcollection\u001b[39m.\u001b[32mmutable\u001b[39m.\u001b[32mArrayBuffer\u001b[39m[\u001b[32mPipelineStage\u001b[39m] = \u001b[33mArrayBuffer\u001b[39m(\n",
       "  strIdx_b92509fa5ad4,\n",
       "  strIdx_81f85490b36c,\n",
       "  strIdx_ce69f1f871b5,\n",
       "  strIdx_c015f894853f,\n",
       "  strIdx_32f039b5508e,\n",
       "  strIdx_aeb9100a7da0,\n",
       "  strIdx_df5472840729,\n",
       "  strIdx_c594c9129ba0,\n",
       "  strIdx_2994d75552c7,\n",
       "  oneHotEncoder_a2281c834864,\n",
       "  oneHotEncoder_2e9a416be7af,\n",
       "  oneHotEncoder_dd81b0e3ca9f,\n",
       "  oneHotEncoder_2edcf25b0c71,\n",
       "  oneHotEncoder_0c3912d2c3ba,\n",
       "  oneHotEncoder_051edbcf4b3a,\n",
       "  oneHotEncoder_456c6d53b3ae,\n",
       "  oneHotEncoder_49ca0d8f1c3d,\n",
       "  VectorAssembler: uid=vecAssembler_2e7df15b8426, handleInvalid=error, numInputCols=8\n",
       ")"
      ]
     },
     "execution_count": 124,
     "metadata": {},
     "output_type": "execute_result"
    }
   ],
   "source": [
    "val assembler1 = new VectorAssembler()\n",
    "  .setInputCols(numerical_features.toArray)\n",
    "  .setOutputCol(\"numericalfeatures\")\n",
    "\n",
    "xforms += assembler1;\n",
    "\n",
    "println(s\"Assembled together all numerical variables.\\n Count of transformations at this point is now = ${xforms.length}\")"
   ]
  },
  {
   "cell_type": "markdown",
   "metadata": {
    "id": "d2fc6eaace8f4a4288cdd3a0f6db3387"
   },
   "source": [
    "### Step 5: Apply a min-max scaler for the numerical features:"
   ]
  },
  {
   "cell_type": "code",
   "execution_count": 125,
   "metadata": {
    "id": "d2fc6eaace8f4a4288cdd3a0f6db3387"
   },
   "outputs": [
    {
     "name": "stdout",
     "output_type": "stream",
     "text": [
      "Scaled all numerical variables by min-max scaler.\n",
      " Count of transformations at this point is now = 19\n"
     ]
    },
    {
     "data": {
      "text/plain": [
       "\u001b[36mres124_0\u001b[39m: \u001b[32mcollection\u001b[39m.\u001b[32mmutable\u001b[39m.\u001b[32mArrayBuffer\u001b[39m[\u001b[32mPipelineStage\u001b[39m] = \u001b[33mArrayBuffer\u001b[39m(\n",
       "  strIdx_b92509fa5ad4,\n",
       "  strIdx_81f85490b36c,\n",
       "  strIdx_ce69f1f871b5,\n",
       "  strIdx_c015f894853f,\n",
       "  strIdx_32f039b5508e,\n",
       "  strIdx_aeb9100a7da0,\n",
       "  strIdx_df5472840729,\n",
       "  strIdx_c594c9129ba0,\n",
       "  strIdx_2994d75552c7,\n",
       "  oneHotEncoder_a2281c834864,\n",
       "  oneHotEncoder_2e9a416be7af,\n",
       "  oneHotEncoder_dd81b0e3ca9f,\n",
       "  oneHotEncoder_2edcf25b0c71,\n",
       "  oneHotEncoder_0c3912d2c3ba,\n",
       "  oneHotEncoder_051edbcf4b3a,\n",
       "  oneHotEncoder_456c6d53b3ae,\n",
       "  oneHotEncoder_49ca0d8f1c3d,\n",
       "  VectorAssembler: uid=vecAssembler_2e7df15b8426, handleInvalid=error, numInputCols=8,\n",
       "  minMaxScal_d34452318ea3\n",
       ")\n",
       "\u001b[36mres124_1\u001b[39m: \u001b[32mcollection\u001b[39m.\u001b[32mmutable\u001b[39m.\u001b[32mArrayBuffer\u001b[39m[\u001b[32mString\u001b[39m] = \u001b[33mArrayBuffer\u001b[39m(\n",
       "  \u001b[32m\"vec_idx_job\"\u001b[39m,\n",
       "  \u001b[32m\"vec_idx_marital\"\u001b[39m,\n",
       "  \u001b[32m\"vec_idx_education\"\u001b[39m,\n",
       "  \u001b[32m\"vec_idx_defaulted\"\u001b[39m,\n",
       "  \u001b[32m\"vec_idx_housing\"\u001b[39m,\n",
       "  \u001b[32m\"vec_idx_loan\"\u001b[39m,\n",
       "  \u001b[32m\"vec_idx_day_of_week\"\u001b[39m,\n",
       "  \u001b[32m\"vec_idx_poutcome\"\u001b[39m,\n",
       "  \u001b[32m\"scaledfeatures\"\u001b[39m\n",
       ")"
      ]
     },
     "execution_count": 125,
     "metadata": {},
     "output_type": "execute_result"
    }
   ],
   "source": [
    "xforms += new MinMaxScaler().setInputCol(\"numericalfeatures\").setOutputCol(\"scaledfeatures\");\n",
    "allColNames += \"scaledfeatures\"\n",
    "\n",
    "println(s\"Scaled all numerical variables by min-max scaler.\\n Count of transformations at this point is now = ${xforms.length}\")"
   ]
  },
  {
   "cell_type": "markdown",
   "metadata": {
    "id": "d2fc6eaace8f4a4288cdd3a0f6db3387"
   },
   "source": [
    "### Step 6: Finally, collect all columns into the \"features\" column, this is a vector column which is the set of all dependent variables to be used for model training."
   ]
  },
  {
   "cell_type": "code",
   "execution_count": 126,
   "metadata": {
    "id": "d2fc6eaace8f4a4288cdd3a0f6db3387"
   },
   "outputs": [
    {
     "name": "stdout",
     "output_type": "stream",
     "text": [
      "Collect all scaled numerical variables and the categorical variables together.\n",
      "Count of transformations at this point is now = 20\n"
     ]
    },
    {
     "data": {
      "text/plain": [
       "\u001b[36massembler2\u001b[39m: \u001b[32mVectorAssembler\u001b[39m = VectorAssembler: uid=vecAssembler_352e32d6ca96, handleInvalid=error, numInputCols=9\n",
       "\u001b[36mres125_1\u001b[39m: \u001b[32mcollection\u001b[39m.\u001b[32mmutable\u001b[39m.\u001b[32mArrayBuffer\u001b[39m[\u001b[32mPipelineStage\u001b[39m] = \u001b[33mArrayBuffer\u001b[39m(\n",
       "  strIdx_b92509fa5ad4,\n",
       "  strIdx_81f85490b36c,\n",
       "  strIdx_ce69f1f871b5,\n",
       "  strIdx_c015f894853f,\n",
       "  strIdx_32f039b5508e,\n",
       "  strIdx_aeb9100a7da0,\n",
       "  strIdx_df5472840729,\n",
       "  strIdx_c594c9129ba0,\n",
       "  strIdx_2994d75552c7,\n",
       "  oneHotEncoder_a2281c834864,\n",
       "  oneHotEncoder_2e9a416be7af,\n",
       "  oneHotEncoder_dd81b0e3ca9f,\n",
       "  oneHotEncoder_2edcf25b0c71,\n",
       "  oneHotEncoder_0c3912d2c3ba,\n",
       "  oneHotEncoder_051edbcf4b3a,\n",
       "  oneHotEncoder_456c6d53b3ae,\n",
       "  oneHotEncoder_49ca0d8f1c3d,\n",
       "  VectorAssembler: uid=vecAssembler_2e7df15b8426, handleInvalid=error, numInputCols=8,\n",
       "  minMaxScal_d34452318ea3,\n",
       "  VectorAssembler: uid=vecAssembler_352e32d6ca96, handleInvalid=error, numInputCols=9\n",
       ")"
      ]
     },
     "execution_count": 126,
     "metadata": {},
     "output_type": "execute_result"
    }
   ],
   "source": [
    "val assembler2 = new VectorAssembler()\n",
    "  .setInputCols(allColNames.toArray)\n",
    "  .setOutputCol(\"features\")\n",
    "\n",
    "xforms += assembler2;\n",
    "\n",
    "println(s\"Collect all scaled numerical variables and the categorical variables together.\")\n",
    "println(s\"Count of transformations at this point is now = ${xforms.length}\")"
   ]
  },
  {
   "cell_type": "code",
   "execution_count": 127,
   "metadata": {
    "id": "efb7be8898b045278d411fe70877c107"
   },
   "outputs": [
    {
     "name": "stdout",
     "output_type": "stream",
     "text": [
      "strIdx_b92509fa5ad4\n",
      "strIdx_81f85490b36c\n",
      "strIdx_ce69f1f871b5\n",
      "strIdx_c015f894853f\n",
      "strIdx_32f039b5508e\n",
      "strIdx_aeb9100a7da0\n",
      "strIdx_df5472840729\n",
      "strIdx_c594c9129ba0\n",
      "strIdx_2994d75552c7\n",
      "oneHotEncoder_a2281c834864\n",
      "oneHotEncoder_2e9a416be7af\n",
      "oneHotEncoder_dd81b0e3ca9f\n",
      "oneHotEncoder_2edcf25b0c71\n",
      "oneHotEncoder_0c3912d2c3ba\n",
      "oneHotEncoder_051edbcf4b3a\n",
      "oneHotEncoder_456c6d53b3ae\n",
      "oneHotEncoder_49ca0d8f1c3d\n",
      "VectorAssembler: uid=vecAssembler_2e7df15b8426, handleInvalid=error, numInputCols=8\n",
      "minMaxScal_d34452318ea3\n",
      "VectorAssembler: uid=vecAssembler_352e32d6ca96, handleInvalid=error, numInputCols=9\n"
     ]
    },
    {
     "data": {
      "text/plain": [
       "\u001b[36mres126\u001b[39m: \u001b[32mArray\u001b[39m[\u001b[32mUnit\u001b[39m] = \u001b[33mArray\u001b[39m(\n",
       "  (),\n",
       "  (),\n",
       "  (),\n",
       "  (),\n",
       "  (),\n",
       "  (),\n",
       "  (),\n",
       "  (),\n",
       "  (),\n",
       "  (),\n",
       "  (),\n",
       "  (),\n",
       "  (),\n",
       "  (),\n",
       "  (),\n",
       "  (),\n",
       "  (),\n",
       "  (),\n",
       "  (),\n",
       "  ()\n",
       ")"
      ]
     },
     "execution_count": 127,
     "metadata": {},
     "output_type": "execute_result"
    }
   ],
   "source": [
    "// print out all the transformations\n",
    "xforms.toArray.map(x => println(x))"
   ]
  },
  {
   "cell_type": "markdown",
   "metadata": {},
   "source": [
    "### Step 7: Next, create a model pipeline with all these transformations"
   ]
  },
  {
   "cell_type": "code",
   "execution_count": 128,
   "metadata": {
    "id": "d2fc6eaace8f4a4288cdd3a0f6db3387"
   },
   "outputs": [
    {
     "name": "stdout",
     "output_type": "stream",
     "text": [
      "Assembling pipeline with the following transformations: strIdx_b92509fa5ad4strIdx_81f85490b36cstrIdx_ce69f1f871b5strIdx_c015f894853fstrIdx_32f039b5508estrIdx_aeb9100a7da0strIdx_df5472840729strIdx_c594c9129ba0strIdx_2994d75552c7oneHotEncoder_a2281c834864oneHotEncoder_2e9a416be7afoneHotEncoder_dd81b0e3ca9foneHotEncoder_2edcf25b0c71oneHotEncoder_0c3912d2c3baoneHotEncoder_051edbcf4b3aoneHotEncoder_456c6d53b3aeoneHotEncoder_49ca0d8f1c3dVectorAssembler: uid=vecAssembler_2e7df15b8426, handleInvalid=error, numInputCols=8minMaxScal_d34452318ea3VectorAssembler: uid=vecAssembler_352e32d6ca96, handleInvalid=error, numInputCols=9\n"
     ]
    },
    {
     "data": {
      "text/plain": [
       "\u001b[36mxformPipeline\u001b[39m: \u001b[32mPipeline\u001b[39m = pipeline_ba250921493c"
      ]
     },
     "execution_count": 128,
     "metadata": {},
     "output_type": "execute_result"
    }
   ],
   "source": [
    "println(s\"Assembling pipeline with the following transformations: ${xforms.mkString}\")\n",
    "\n",
    "val xformPipeline = new Pipeline()\n",
    "  .setStages(xforms.toArray);"
   ]
  },
  {
   "cell_type": "markdown",
   "metadata": {},
   "source": [
    "### Step 8: Fit the pipeline to create the transformer object. "
   ]
  },
  {
   "cell_type": "code",
   "execution_count": 129,
   "metadata": {
    "id": "d2fc6eaace8f4a4288cdd3a0f6db3387"
   },
   "outputs": [
    {
     "data": {
      "text/plain": [
       "\u001b[36mdataTransformPipelineFitted\u001b[39m: \u001b[32mPipelineModel\u001b[39m = pipeline_ba250921493c"
      ]
     },
     "execution_count": 129,
     "metadata": {},
     "output_type": "execute_result"
    }
   ],
   "source": [
    "val dataTransformPipelineFitted = xformPipeline.fit(inputDF);"
   ]
  },
  {
   "cell_type": "code",
   "execution_count": 130,
   "metadata": {
    "collapsed": true,
    "jupyter": {
     "outputs_hidden": true
    },
    "tags": []
   },
   "outputs": [
    {
     "name": "stdout",
     "output_type": "stream",
     "text": [
      "Now saving the transformation pipeline to disk at: \n"
     ]
    },
    {
     "name": "stderr",
     "output_type": "stream",
     "text": [
      "23/01/30 12:13:14 INFO deprecation: mapred.output.dir is deprecated. Instead, use mapreduce.output.fileoutputformat.outputdir\n",
      "23/01/30 12:13:14 INFO FileOutputCommitter: File Output Committer Algorithm version is 1\n",
      "23/01/30 12:13:14 INFO FileOutputCommitter: FileOutputCommitter skip cleanup _temporary folders under output directory:false, ignore cleanup failures: false\n",
      "23/01/30 12:13:15 INFO FileOutputCommitter: File Output Committer Algorithm version is 1\n",
      "23/01/30 12:13:15 INFO FileOutputCommitter: FileOutputCommitter skip cleanup _temporary folders under output directory:false, ignore cleanup failures: false\n",
      "23/01/30 12:13:15 INFO FileOutputCommitter: File Output Committer Algorithm version is 1\n",
      "23/01/30 12:13:15 INFO FileOutputCommitter: FileOutputCommitter skip cleanup _temporary folders under output directory:false, ignore cleanup failures: false\n",
      "23/01/30 12:13:15 INFO FileOutputCommitter: File Output Committer Algorithm version is 1\n",
      "23/01/30 12:13:15 INFO FileOutputCommitter: FileOutputCommitter skip cleanup _temporary folders under output directory:false, ignore cleanup failures: false\n",
      "23/01/30 12:13:17 INFO FileOutputCommitter: File Output Committer Algorithm version is 1\n",
      "23/01/30 12:13:17 INFO FileOutputCommitter: FileOutputCommitter skip cleanup _temporary folders under output directory:false, ignore cleanup failures: false\n",
      "23/01/30 12:13:17 INFO FileOutputCommitter: File Output Committer Algorithm version is 1\n",
      "23/01/30 12:13:17 INFO FileOutputCommitter: FileOutputCommitter skip cleanup _temporary folders under output directory:false, ignore cleanup failures: false\n",
      "23/01/30 12:13:17 INFO FileOutputCommitter: File Output Committer Algorithm version is 1\n",
      "23/01/30 12:13:17 INFO FileOutputCommitter: FileOutputCommitter skip cleanup _temporary folders under output directory:false, ignore cleanup failures: false\n",
      "23/01/30 12:13:19 INFO FileOutputCommitter: File Output Committer Algorithm version is 1\n",
      "23/01/30 12:13:19 INFO FileOutputCommitter: FileOutputCommitter skip cleanup _temporary folders under output directory:false, ignore cleanup failures: false\n",
      "23/01/30 12:13:19 INFO FileOutputCommitter: File Output Committer Algorithm version is 1\n",
      "23/01/30 12:13:19 INFO FileOutputCommitter: FileOutputCommitter skip cleanup _temporary folders under output directory:false, ignore cleanup failures: false\n",
      "23/01/30 12:13:19 INFO FileOutputCommitter: File Output Committer Algorithm version is 1\n",
      "23/01/30 12:13:19 INFO FileOutputCommitter: FileOutputCommitter skip cleanup _temporary folders under output directory:false, ignore cleanup failures: false\n",
      "23/01/30 12:13:19 INFO FileOutputCommitter: File Output Committer Algorithm version is 1\n",
      "23/01/30 12:13:19 INFO FileOutputCommitter: FileOutputCommitter skip cleanup _temporary folders under output directory:false, ignore cleanup failures: false\n",
      "23/01/30 12:13:19 INFO FileOutputCommitter: File Output Committer Algorithm version is 1\n",
      "23/01/30 12:13:19 INFO FileOutputCommitter: FileOutputCommitter skip cleanup _temporary folders under output directory:false, ignore cleanup failures: false\n",
      "23/01/30 12:13:19 INFO FileOutputCommitter: File Output Committer Algorithm version is 1\n",
      "23/01/30 12:13:19 INFO FileOutputCommitter: FileOutputCommitter skip cleanup _temporary folders under output directory:false, ignore cleanup failures: false\n",
      "23/01/30 12:13:21 INFO FileOutputCommitter: File Output Committer Algorithm version is 1\n",
      "23/01/30 12:13:21 INFO FileOutputCommitter: FileOutputCommitter skip cleanup _temporary folders under output directory:false, ignore cleanup failures: false\n",
      "23/01/30 12:13:21 INFO FileOutputCommitter: File Output Committer Algorithm version is 1\n",
      "23/01/30 12:13:21 INFO FileOutputCommitter: FileOutputCommitter skip cleanup _temporary folders under output directory:false, ignore cleanup failures: false\n",
      "23/01/30 12:13:21 INFO FileOutputCommitter: File Output Committer Algorithm version is 1\n",
      "23/01/30 12:13:21 INFO FileOutputCommitter: FileOutputCommitter skip cleanup _temporary folders under output directory:false, ignore cleanup failures: false\n",
      "23/01/30 12:13:21 INFO FileOutputCommitter: File Output Committer Algorithm version is 1\n",
      "23/01/30 12:13:21 INFO FileOutputCommitter: FileOutputCommitter skip cleanup _temporary folders under output directory:false, ignore cleanup failures: false\n",
      "23/01/30 12:13:21 INFO FileOutputCommitter: File Output Committer Algorithm version is 1\n",
      "23/01/30 12:13:21 INFO FileOutputCommitter: FileOutputCommitter skip cleanup _temporary folders under output directory:false, ignore cleanup failures: false\n",
      "23/01/30 12:13:21 INFO FileOutputCommitter: File Output Committer Algorithm version is 1\n",
      "23/01/30 12:13:21 INFO FileOutputCommitter: FileOutputCommitter skip cleanup _temporary folders under output directory:false, ignore cleanup failures: false\n",
      "23/01/30 12:13:21 INFO FileOutputCommitter: File Output Committer Algorithm version is 1\n",
      "23/01/30 12:13:21 INFO FileOutputCommitter: FileOutputCommitter skip cleanup _temporary folders under output directory:false, ignore cleanup failures: false\n",
      "23/01/30 12:13:21 INFO FileOutputCommitter: File Output Committer Algorithm version is 1\n",
      "23/01/30 12:13:21 INFO FileOutputCommitter: FileOutputCommitter skip cleanup _temporary folders under output directory:false, ignore cleanup failures: false\n",
      "23/01/30 12:13:21 INFO FileOutputCommitter: File Output Committer Algorithm version is 1\n",
      "23/01/30 12:13:21 INFO FileOutputCommitter: FileOutputCommitter skip cleanup _temporary folders under output directory:false, ignore cleanup failures: false\n",
      "23/01/30 12:13:22 INFO FileOutputCommitter: File Output Committer Algorithm version is 1\n",
      "23/01/30 12:13:22 INFO FileOutputCommitter: FileOutputCommitter skip cleanup _temporary folders under output directory:false, ignore cleanup failures: false\n",
      "23/01/30 12:13:22 INFO FileOutputCommitter: File Output Committer Algorithm version is 1\n",
      "23/01/30 12:13:22 INFO FileOutputCommitter: FileOutputCommitter skip cleanup _temporary folders under output directory:false, ignore cleanup failures: false\n",
      "23/01/30 12:13:22 INFO FileOutputCommitter: File Output Committer Algorithm version is 1\n",
      "23/01/30 12:13:22 INFO FileOutputCommitter: FileOutputCommitter skip cleanup _temporary folders under output directory:false, ignore cleanup failures: false\n",
      "23/01/30 12:13:22 INFO FileOutputCommitter: File Output Committer Algorithm version is 1\n",
      "23/01/30 12:13:22 INFO FileOutputCommitter: FileOutputCommitter skip cleanup _temporary folders under output directory:false, ignore cleanup failures: false\n",
      "23/01/30 12:13:22 INFO FileOutputCommitter: File Output Committer Algorithm version is 1\n",
      "23/01/30 12:13:22 INFO FileOutputCommitter: FileOutputCommitter skip cleanup _temporary folders under output directory:false, ignore cleanup failures: false\n",
      "23/01/30 12:13:22 INFO FileOutputCommitter: File Output Committer Algorithm version is 1\n",
      "23/01/30 12:13:22 INFO FileOutputCommitter: FileOutputCommitter skip cleanup _temporary folders under output directory:false, ignore cleanup failures: false\n",
      "23/01/30 12:13:22 INFO FileOutputCommitter: File Output Committer Algorithm version is 1\n",
      "23/01/30 12:13:22 INFO FileOutputCommitter: FileOutputCommitter skip cleanup _temporary folders under output directory:false, ignore cleanup failures: false\n",
      "23/01/30 12:13:22 INFO FileOutputCommitter: File Output Committer Algorithm version is 1\n",
      "23/01/30 12:13:22 INFO FileOutputCommitter: FileOutputCommitter skip cleanup _temporary folders under output directory:false, ignore cleanup failures: false\n",
      "23/01/30 12:13:22 INFO FileOutputCommitter: File Output Committer Algorithm version is 1\n",
      "23/01/30 12:13:22 INFO FileOutputCommitter: FileOutputCommitter skip cleanup _temporary folders under output directory:false, ignore cleanup failures: false\n",
      "23/01/30 12:13:23 INFO FileOutputCommitter: File Output Committer Algorithm version is 1\n",
      "23/01/30 12:13:23 INFO FileOutputCommitter: FileOutputCommitter skip cleanup _temporary folders under output directory:false, ignore cleanup failures: false\n",
      "23/01/30 12:13:23 INFO FileOutputCommitter: File Output Committer Algorithm version is 1\n",
      "23/01/30 12:13:23 INFO FileOutputCommitter: FileOutputCommitter skip cleanup _temporary folders under output directory:false, ignore cleanup failures: false\n",
      "23/01/30 12:13:23 INFO FileOutputCommitter: File Output Committer Algorithm version is 1\n",
      "23/01/30 12:13:23 INFO FileOutputCommitter: FileOutputCommitter skip cleanup _temporary folders under output directory:false, ignore cleanup failures: false\n",
      "23/01/30 12:13:23 INFO FileOutputCommitter: File Output Committer Algorithm version is 1\n",
      "23/01/30 12:13:23 INFO FileOutputCommitter: FileOutputCommitter skip cleanup _temporary folders under output directory:false, ignore cleanup failures: false\n",
      "23/01/30 12:13:23 INFO FileOutputCommitter: File Output Committer Algorithm version is 1\n",
      "23/01/30 12:13:23 INFO FileOutputCommitter: FileOutputCommitter skip cleanup _temporary folders under output directory:false, ignore cleanup failures: false\n",
      "23/01/30 12:13:23 INFO FileOutputCommitter: File Output Committer Algorithm version is 1\n",
      "23/01/30 12:13:23 INFO FileOutputCommitter: FileOutputCommitter skip cleanup _temporary folders under output directory:false, ignore cleanup failures: false\n",
      "23/01/30 12:13:23 INFO FileOutputCommitter: File Output Committer Algorithm version is 1\n",
      "23/01/30 12:13:23 INFO FileOutputCommitter: FileOutputCommitter skip cleanup _temporary folders under output directory:false, ignore cleanup failures: false\n",
      "23/01/30 12:13:23 INFO FileOutputCommitter: File Output Committer Algorithm version is 1\n",
      "23/01/30 12:13:23 INFO FileOutputCommitter: FileOutputCommitter skip cleanup _temporary folders under output directory:false, ignore cleanup failures: false\n",
      "23/01/30 12:13:23 INFO FileOutputCommitter: File Output Committer Algorithm version is 1\n",
      "23/01/30 12:13:23 INFO FileOutputCommitter: FileOutputCommitter skip cleanup _temporary folders under output directory:false, ignore cleanup failures: false\n",
      "23/01/30 12:13:23 INFO FileOutputCommitter: File Output Committer Algorithm version is 1\n",
      "23/01/30 12:13:23 INFO FileOutputCommitter: FileOutputCommitter skip cleanup _temporary folders under output directory:false, ignore cleanup failures: false\n",
      "23/01/30 12:13:23 INFO FileOutputCommitter: File Output Committer Algorithm version is 1\n",
      "23/01/30 12:13:23 INFO FileOutputCommitter: FileOutputCommitter skip cleanup _temporary folders under output directory:false, ignore cleanup failures: false\n",
      "23/01/30 12:13:23 INFO FileOutputCommitter: File Output Committer Algorithm version is 1\n",
      "23/01/30 12:13:23 INFO FileOutputCommitter: FileOutputCommitter skip cleanup _temporary folders under output directory:false, ignore cleanup failures: false\n",
      "23/01/30 12:13:23 INFO FileOutputCommitter: File Output Committer Algorithm version is 1\n",
      "23/01/30 12:13:23 INFO FileOutputCommitter: FileOutputCommitter skip cleanup _temporary folders under output directory:false, ignore cleanup failures: false\n",
      "23/01/30 12:13:24 INFO FileOutputCommitter: File Output Committer Algorithm version is 1\n",
      "23/01/30 12:13:24 INFO FileOutputCommitter: FileOutputCommitter skip cleanup _temporary folders under output directory:false, ignore cleanup failures: false\n",
      "23/01/30 12:13:24 INFO FileOutputCommitter: File Output Committer Algorithm version is 1\n",
      "23/01/30 12:13:24 INFO FileOutputCommitter: FileOutputCommitter skip cleanup _temporary folders under output directory:false, ignore cleanup failures: false\n",
      "23/01/30 12:13:24 INFO FileOutputCommitter: File Output Committer Algorithm version is 1\n",
      "23/01/30 12:13:24 INFO FileOutputCommitter: FileOutputCommitter skip cleanup _temporary folders under output directory:false, ignore cleanup failures: false\n",
      "23/01/30 12:13:24 INFO FileOutputCommitter: File Output Committer Algorithm version is 1\n",
      "23/01/30 12:13:24 INFO FileOutputCommitter: FileOutputCommitter skip cleanup _temporary folders under output directory:false, ignore cleanup failures: false\n",
      "23/01/30 12:13:24 INFO FileOutputCommitter: File Output Committer Algorithm version is 1\n",
      "23/01/30 12:13:24 INFO FileOutputCommitter: FileOutputCommitter skip cleanup _temporary folders under output directory:false, ignore cleanup failures: false\n",
      "23/01/30 12:13:24 INFO FileOutputCommitter: File Output Committer Algorithm version is 1\n",
      "23/01/30 12:13:24 INFO FileOutputCommitter: FileOutputCommitter skip cleanup _temporary folders under output directory:false, ignore cleanup failures: false\n",
      "23/01/30 12:13:24 INFO FileOutputCommitter: File Output Committer Algorithm version is 1\n",
      "23/01/30 12:13:24 INFO FileOutputCommitter: FileOutputCommitter skip cleanup _temporary folders under output directory:false, ignore cleanup failures: false\n",
      "23/01/30 12:13:24 INFO FileOutputCommitter: File Output Committer Algorithm version is 1\n",
      "23/01/30 12:13:24 INFO FileOutputCommitter: FileOutputCommitter skip cleanup _temporary folders under output directory:false, ignore cleanup failures: false\n",
      "23/01/30 12:13:24 INFO FileOutputCommitter: File Output Committer Algorithm version is 1\n",
      "23/01/30 12:13:24 INFO FileOutputCommitter: FileOutputCommitter skip cleanup _temporary folders under output directory:false, ignore cleanup failures: false\n",
      "23/01/30 12:13:24 INFO FileOutputCommitter: File Output Committer Algorithm version is 1\n",
      "23/01/30 12:13:24 INFO FileOutputCommitter: FileOutputCommitter skip cleanup _temporary folders under output directory:false, ignore cleanup failures: false\n",
      "23/01/30 12:13:25 INFO FileOutputCommitter: File Output Committer Algorithm version is 1\n",
      "23/01/30 12:13:25 INFO FileOutputCommitter: FileOutputCommitter skip cleanup _temporary folders under output directory:false, ignore cleanup failures: false\n",
      "23/01/30 12:13:25 INFO FileOutputCommitter: File Output Committer Algorithm version is 1\n",
      "23/01/30 12:13:25 INFO FileOutputCommitter: FileOutputCommitter skip cleanup _temporary folders under output directory:false, ignore cleanup failures: false\n",
      "23/01/30 12:13:25 INFO FileOutputCommitter: File Output Committer Algorithm version is 1\n",
      "23/01/30 12:13:25 INFO FileOutputCommitter: FileOutputCommitter skip cleanup _temporary folders under output directory:false, ignore cleanup failures: false\n"
     ]
    }
   ],
   "source": [
    "println(\"Now saving the transformation pipeline to disk at: \")\n",
    "dataTransformPipelineFitted.write.overwrite().save(\"/tmp/dataTransformPipeline\")"
   ]
  },
  {
   "cell_type": "markdown",
   "metadata": {},
   "source": [
    "### Step 9: Use the fitted transformer to apply the transformations on the dataset"
   ]
  },
  {
   "cell_type": "code",
   "execution_count": 55,
   "metadata": {
    "id": "ed2b691a50a34327834a63002125cd67"
   },
   "outputs": [
    {
     "name": "stderr",
     "output_type": "stream",
     "text": [
      "23/01/29 21:36:20 INFO SparkMLDemo: Completed transforming data using the pipeline.\n"
     ]
    },
    {
     "data": {
      "text/plain": [
       "\u001b[36mpreparedDF\u001b[39m: \u001b[32mDataFrame\u001b[39m = [age: double, job: string ... 39 more fields]"
      ]
     },
     "execution_count": 55,
     "metadata": {},
     "output_type": "execute_result"
    }
   ],
   "source": [
    "// Run the transformation pipeline on the dataset to prepare the data for model building\n",
    "val preparedDF: org.apache.spark.sql.DataFrame = dataTransformPipelineFitted.transform(inputDF);\n",
    "\n",
    "println(\"Completed transforming data using the pipeline.\")"
   ]
  },
  {
   "cell_type": "code",
   "execution_count": 56,
   "metadata": {
    "id": "a352597c694749ee8592fc4554c81294"
   },
   "outputs": [
    {
     "name": "stderr",
     "output_type": "stream",
     "text": [
      "23/01/29 21:36:24 WARN package: Truncated the string representation of a plan since it was too large. This behavior can be adjusted by setting 'spark.sql.debug.maxToStringFields'.\n"
     ]
    },
    {
     "name": "stdout",
     "output_type": "stream",
     "text": [
      "+----+---------+-------+-----------+---------+-------+----+----------+----------+-----------+--------+--------+-----+--------+-----------+------------+--------------+-------------+---------+-----------+---+-----+-------+-----------+-------------+-------------+-----------+--------+---------------+------------+--------------+---------------+-----------------+-----------------+---------------+-------------+-------------------+----------------+--------------------+--------------------+--------------------+\n",
      "| age|      job|marital|  education|defaulted|housing|loan|contact_no|month_name|day_of_week|duration|campaign|pdays|previous|   poutcome|emp_var_rate|cons_price_idx|cons_conf_idx|euribor3m|nr_employed|  y|label|idx_job|idx_marital|idx_education|idx_defaulted|idx_housing|idx_loan|idx_day_of_week|idx_poutcome|   vec_idx_job|vec_idx_marital|vec_idx_education|vec_idx_defaulted|vec_idx_housing| vec_idx_loan|vec_idx_day_of_week|vec_idx_poutcome|   numericalfeatures|      scaledfeatures|            features|\n",
      "+----+---------+-------+-----------+---------+-------+----+----------+----------+-----------+--------+--------+-----+--------+-----------+------------+--------------+-------------+---------+-----------+---+-----+-------+-----------+-------------+-------------+-----------+--------+---------------+------------+--------------+---------------+-----------------+-----------------+---------------+-------------+-------------------+----------------+--------------------+--------------------+--------------------+\n",
      "|56.0|housemaid|married|   basic.4y|       no|     no|  no| telephone|       may|        mon|   261.0|     1.0|999.0|     0.0|nonexistent|         1.1|        93.994|        -36.4|    4.857|     5191.0| no|  0.0|    8.0|        0.0|          4.0|          0.0|        1.0|     0.0|            1.0|         0.0|(11,[8],[1.0])|  (3,[0],[1.0])|    (7,[4],[1.0])|    (2,[0],[1.0])|  (2,[1],[1.0])|(2,[0],[1.0])|      (4,[1],[1.0])|   (2,[0],[1.0])|[56.0,261.0,999.0...|[0.48148148148148...|(41,[8,11,18,21,2...|\n",
      "|57.0| services|married|high.school|  unknown|     no|  no| telephone|       may|        mon|   149.0|     1.0|999.0|     0.0|nonexistent|         1.1|        93.994|        -36.4|    4.857|     5191.0| no|  0.0|    3.0|        0.0|          1.0|          1.0|        1.0|     0.0|            1.0|         0.0|(11,[3],[1.0])|  (3,[0],[1.0])|    (7,[1],[1.0])|    (2,[1],[1.0])|  (2,[1],[1.0])|(2,[0],[1.0])|      (4,[1],[1.0])|   (2,[0],[1.0])|[57.0,149.0,999.0...|[0.49382716049382...|(41,[3,11,15,22,2...|\n",
      "|37.0| services|married|high.school|       no|    yes|  no| telephone|       may|        mon|   226.0|     1.0|999.0|     0.0|nonexistent|         1.1|        93.994|        -36.4|    4.857|     5191.0| no|  0.0|    3.0|        0.0|          1.0|          0.0|        0.0|     0.0|            1.0|         0.0|(11,[3],[1.0])|  (3,[0],[1.0])|    (7,[1],[1.0])|    (2,[0],[1.0])|  (2,[0],[1.0])|(2,[0],[1.0])|      (4,[1],[1.0])|   (2,[0],[1.0])|[37.0,226.0,999.0...|[0.24691358024691...|(41,[3,11,15,21,2...|\n",
      "|40.0|   admin.|married|   basic.6y|       no|     no|  no| telephone|       may|        mon|   151.0|     1.0|999.0|     0.0|nonexistent|         1.1|        93.994|        -36.4|    4.857|     5191.0| no|  0.0|    0.0|        0.0|          5.0|          0.0|        1.0|     0.0|            1.0|         0.0|(11,[0],[1.0])|  (3,[0],[1.0])|    (7,[5],[1.0])|    (2,[0],[1.0])|  (2,[1],[1.0])|(2,[0],[1.0])|      (4,[1],[1.0])|   (2,[0],[1.0])|[40.0,151.0,999.0...|[0.28395061728395...|(41,[0,11,19,21,2...|\n",
      "+----+---------+-------+-----------+---------+-------+----+----------+----------+-----------+--------+--------+-----+--------+-----------+------------+--------------+-------------+---------+-----------+---+-----+-------+-----------+-------------+-------------+-----------+--------+---------------+------------+--------------+---------------+-----------------+-----------------+---------------+-------------+-------------------+----------------+--------------------+--------------------+--------------------+\n",
      "only showing top 4 rows\n",
      "\n"
     ]
    }
   ],
   "source": [
    "preparedDF.show(4)"
   ]
  },
  {
   "cell_type": "markdown",
   "metadata": {},
   "source": [
    "### Define a convenience function to create the feature transformation pipeline programatically."
   ]
  },
  {
   "cell_type": "code",
   "execution_count": 139,
   "metadata": {},
   "outputs": [
    {
     "data": {
      "text/plain": [
       "\u001b[32mimport \u001b[39m\u001b[36morg.apache.spark.ml.{Model, Pipeline, PipelineModel, PipelineStage}\n",
       "\u001b[39m\n",
       "\u001b[32mimport \u001b[39m\u001b[36morg.apache.spark.ml.feature.{MinMaxScaler, OneHotEncoder, StringIndexer, VectorAssembler}\n",
       "\n",
       "/**\n",
       "* Transforms the raw dataset columns to a form usable for training the models -\n",
       "* e.g. string to categorical variables, one-hot encoding, scaling of continuous variables, etc.\n",
       "*\n",
       "* @param inputDF Input raw dataset\n",
       "* @param labelColname Name of the label column\n",
       "* @param categoricalFeatures List of column names which are categorical features\n",
       "* @param numericalFeatures List of column names which are numerical features\n",
       "* @return The fitted transformation pipeline\n",
       "*/\n",
       "\u001b[39m\n",
       "defined \u001b[32mfunction\u001b[39m \u001b[36mfirTransformDataPipeline\u001b[39m"
      ]
     },
     "execution_count": 139,
     "metadata": {},
     "output_type": "execute_result"
    }
   ],
   "source": [
    "import org.apache.spark.ml.{Model, Pipeline, PipelineModel, PipelineStage}\n",
    "import org.apache.spark.ml.feature.{MinMaxScaler, OneHotEncoder, StringIndexer, VectorAssembler}\n",
    "\n",
    "/**\n",
    "* Transforms the raw dataset columns to a form usable for training the models -\n",
    "* e.g. string to categorical variables, one-hot encoding, scaling of continuous variables, etc.\n",
    "*\n",
    "* @param inputDF Input raw dataset\n",
    "* @param labelColname Name of the label column\n",
    "* @param categoricalFeatures List of column names which are categorical features\n",
    "* @param numericalFeatures List of column names which are numerical features\n",
    "* @return The fitted transformation pipeline\n",
    "*/\n",
    "def firTransformDataPipeline(inputDF: Dataset[ModelDataRecord],\n",
    "                labelColname: String,\n",
    "                categoricalFeatures: Array[String],\n",
    "                numericalFeatures: Array[String]): PipelineModel = {\n",
    "\n",
    "    // this buffer \"xforms\" will accumulate all our transformations till we're ready to put them in a pipeline\n",
    "    var xforms = scala.collection.mutable.ArrayBuffer.empty[PipelineStage];\n",
    "\n",
    "    // first of all, index the binary label column:\n",
    "    val labelIndexer = new StringIndexer()\n",
    "      .setInputCol(labelColname)\n",
    "      .setOutputCol(\"label\")\n",
    "    xforms += labelIndexer;\n",
    "\n",
    "    // add a column indexer for each categorical column:\n",
    "    categoricalFeatures.foreach(x => xforms += new StringIndexer().setInputCol(x).setOutputCol(\"idx_\" + x))\n",
    "    logger.info(\"Indexing categorical variables.\")\n",
    "\n",
    "    categoricalFeatures.foreach(x => xforms += new OneHotEncoder().setInputCol(\"idx_\" + x).setOutputCol(\"vec_idx_\" + x))\n",
    "    logger.info(\"On-hot encoding all categorical variables.\")\n",
    "\n",
    "    // gather all column names, these will be used in vector assembler later:\n",
    "    var allColNames = scala.collection.mutable.ArrayBuffer.empty[String]\n",
    "    categoricalFeatures.foreach(x => allColNames += \"vec_idx_%s\".format(x))\n",
    "\n",
    "    // gather all numerical variables to assemble into a vector for scaling\n",
    "    var numericalColNames = scala.collection.mutable.ArrayBuffer.empty[String]\n",
    "    numericalFeatures.foreach(y => numericalColNames += y)\n",
    "    val assembler1 = new VectorAssembler()\n",
    "      .setInputCols(numericalColNames.toArray)\n",
    "      .setOutputCol(\"numericalfeatures\")\n",
    "    xforms += assembler1;\n",
    "    logger.info(\"Assembled together all numerical variables.\")\n",
    "\n",
    "    // apply a min-max scaler for the numerical features:\n",
    "    xforms += new MinMaxScaler().setInputCol(\"numericalfeatures\").setOutputCol(\"scaledfeatures\");\n",
    "    allColNames += \"scaledfeatures\"\n",
    "    logger.info(\"Scaled all numerical variables by min-max scaler.\")\n",
    "\n",
    "    // finally, collect all columns into the \"features\" column, this is a vector object\n",
    "    val assembler2 = new VectorAssembler()\n",
    "      .setInputCols(allColNames.toArray)\n",
    "      .setOutputCol(\"features\")\n",
    "    xforms += assembler2;\n",
    "\n",
    "    logger.info(\"Assembling pipeline with the following transformations: \\n\" + xforms.mkString(\" \\n\"))\n",
    "    val xformPipeline = new Pipeline()\n",
    "      .setStages(xforms.toArray);\n",
    "\n",
    "    val xformFitted = xformPipeline.fit(inputDF);\n",
    "    logger.info(\"Completed fitting the pipeline\")\n",
    "\n",
    "    return xformFitted\n",
    "}"
   ]
  },
  {
   "cell_type": "code",
   "execution_count": 144,
   "metadata": {},
   "outputs": [
    {
     "data": {
      "text/plain": [
       "\u001b[36mres143\u001b[39m: \u001b[32mArray\u001b[39m[\u001b[32mString\u001b[39m] = \u001b[33mArray\u001b[39m(\n",
       "  \u001b[32m\"job\"\u001b[39m,\n",
       "  \u001b[32m\"marital\"\u001b[39m,\n",
       "  \u001b[32m\"education\"\u001b[39m,\n",
       "  \u001b[32m\"defaulted\"\u001b[39m,\n",
       "  \u001b[32m\"housing\"\u001b[39m,\n",
       "  \u001b[32m\"loan\"\u001b[39m,\n",
       "  \u001b[32m\"day_of_week\"\u001b[39m,\n",
       "  \u001b[32m\"poutcome\"\u001b[39m\n",
       ")"
      ]
     },
     "execution_count": 144,
     "metadata": {},
     "output_type": "execute_result"
    }
   ],
   "source": [
    "categorical_features"
   ]
  },
  {
   "cell_type": "code",
   "execution_count": 146,
   "metadata": {},
   "outputs": [
    {
     "name": "stderr",
     "output_type": "stream",
     "text": [
      "23/01/30 13:48:52 INFO SparkMLDemo: Indexing categorical variables.\n",
      "23/01/30 13:48:52 INFO SparkMLDemo: On-hot encoding all categorical variables.\n",
      "23/01/30 13:48:52 INFO SparkMLDemo: Assembled together all numerical variables.\n",
      "23/01/30 13:48:52 INFO SparkMLDemo: Scaled all numerical variables by min-max scaler.\n",
      "23/01/30 13:48:52 INFO SparkMLDemo: Assembling pipeline with the following transformations: \n",
      "strIdx_387de59ef340 \n",
      "strIdx_da034cc60575 \n",
      "strIdx_cd96b3a27cc3 \n",
      "strIdx_cdb9382316bb \n",
      "strIdx_533d8e9f698e \n",
      "strIdx_710fcc1c2f06 \n",
      "strIdx_583318018d1f \n",
      "strIdx_bd235a3f2b37 \n",
      "strIdx_17810b26410a \n",
      "strIdx_f9e59d5bb2d9 \n",
      "oneHotEncoder_23267482a5e1 \n",
      "oneHotEncoder_9a097096c385 \n",
      "oneHotEncoder_1743522806e8 \n",
      "oneHotEncoder_606c90442245 \n",
      "oneHotEncoder_86b7ed7edbcc \n",
      "oneHotEncoder_7cff57b6ffd5 \n",
      "oneHotEncoder_7cbb64f05541 \n",
      "oneHotEncoder_246deca3c0cb \n",
      "oneHotEncoder_631138749c83 \n",
      "VectorAssembler: uid=vecAssembler_5dfd2d2c6bb9, handleInvalid=error, numInputCols=8 \n",
      "minMaxScal_e1a93ba7a235 \n",
      "VectorAssembler: uid=vecAssembler_72339199a57d, handleInvalid=error, numInputCols=10\n",
      "23/01/30 13:48:57 INFO SparkMLDemo: Completed fitting the pipeline\n"
     ]
    },
    {
     "data": {
      "text/plain": [
       "\u001b[36mxformPipeline\u001b[39m: \u001b[32mPipelineModel\u001b[39m = pipeline_09def6d18db0"
      ]
     },
     "execution_count": 146,
     "metadata": {},
     "output_type": "execute_result"
    }
   ],
   "source": [
    "val xformPipeline = firTransformDataPipeline(inputDF, originalLabelColname, categorical_features, numerical_features)"
   ]
  },
  {
   "cell_type": "markdown",
   "metadata": {},
   "source": [
    "### Investigate the fitted pipeline and its stages:"
   ]
  },
  {
   "cell_type": "code",
   "execution_count": 193,
   "metadata": {},
   "outputs": [
    {
     "data": {
      "text/plain": [
       "\u001b[36mpipelineStages\u001b[39m: \u001b[32mArray\u001b[39m[\u001b[32mPipelineStage\u001b[39m] = \u001b[33mArray\u001b[39m(\n",
       "  strIdx_387de59ef340,\n",
       "  strIdx_da034cc60575,\n",
       "  strIdx_cd96b3a27cc3,\n",
       "  strIdx_cdb9382316bb,\n",
       "  strIdx_533d8e9f698e,\n",
       "  strIdx_710fcc1c2f06,\n",
       "  strIdx_583318018d1f,\n",
       "  strIdx_bd235a3f2b37,\n",
       "  strIdx_17810b26410a,\n",
       "  strIdx_f9e59d5bb2d9,\n",
       "  oneHotEncoder_23267482a5e1,\n",
       "  oneHotEncoder_9a097096c385,\n",
       "  oneHotEncoder_1743522806e8,\n",
       "  oneHotEncoder_606c90442245,\n",
       "  oneHotEncoder_86b7ed7edbcc,\n",
       "  oneHotEncoder_7cff57b6ffd5,\n",
       "  oneHotEncoder_7cbb64f05541,\n",
       "  oneHotEncoder_246deca3c0cb,\n",
       "  oneHotEncoder_631138749c83,\n",
       "  VectorAssembler: uid=vecAssembler_5dfd2d2c6bb9, handleInvalid=error, numInputCols=8,\n",
       "  minMaxScal_e1a93ba7a235,\n",
       "  VectorAssembler: uid=vecAssembler_72339199a57d, handleInvalid=error, numInputCols=10\n",
       ")"
      ]
     },
     "execution_count": 193,
     "metadata": {},
     "output_type": "execute_result"
    }
   ],
   "source": [
    "val pipelineStages = xformPipeline.parent.extractParamMap.toSeq(0).value.asInstanceOf[Array[PipelineStage]]"
   ]
  },
  {
   "cell_type": "markdown",
   "metadata": {},
   "source": [
    "Print the parameters of all the stages:"
   ]
  },
  {
   "cell_type": "code",
   "execution_count": 207,
   "metadata": {},
   "outputs": [
    {
     "name": "stdout",
     "output_type": "stream",
     "text": [
      "0:class org.apache.spark.ml.feature.StringIndexer: strIdx_387de59ef340: {\n",
      "\tstrIdx_387de59ef340-handleInvalid: error,\n",
      "\tstrIdx_387de59ef340-inputCol: y,\n",
      "\tstrIdx_387de59ef340-outputCol: label,\n",
      "\tstrIdx_387de59ef340-stringOrderType: frequencyDesc\n",
      "}\n",
      "1:class org.apache.spark.ml.feature.StringIndexer: strIdx_da034cc60575: {\n",
      "\tstrIdx_da034cc60575-handleInvalid: error,\n",
      "\tstrIdx_da034cc60575-inputCol: job,\n",
      "\tstrIdx_da034cc60575-outputCol: idx_job,\n",
      "\tstrIdx_da034cc60575-stringOrderType: frequencyDesc\n",
      "}\n",
      "2:class org.apache.spark.ml.feature.StringIndexer: strIdx_cd96b3a27cc3: {\n",
      "\tstrIdx_cd96b3a27cc3-handleInvalid: error,\n",
      "\tstrIdx_cd96b3a27cc3-inputCol: marital,\n",
      "\tstrIdx_cd96b3a27cc3-outputCol: idx_marital,\n",
      "\tstrIdx_cd96b3a27cc3-stringOrderType: frequencyDesc\n",
      "}\n",
      "3:class org.apache.spark.ml.feature.StringIndexer: strIdx_cdb9382316bb: {\n",
      "\tstrIdx_cdb9382316bb-handleInvalid: error,\n",
      "\tstrIdx_cdb9382316bb-inputCol: education,\n",
      "\tstrIdx_cdb9382316bb-outputCol: idx_education,\n",
      "\tstrIdx_cdb9382316bb-stringOrderType: frequencyDesc\n",
      "}\n",
      "4:class org.apache.spark.ml.feature.StringIndexer: strIdx_533d8e9f698e: {\n",
      "\tstrIdx_533d8e9f698e-handleInvalid: error,\n",
      "\tstrIdx_533d8e9f698e-inputCol: defaulted,\n",
      "\tstrIdx_533d8e9f698e-outputCol: idx_defaulted,\n",
      "\tstrIdx_533d8e9f698e-stringOrderType: frequencyDesc\n",
      "}\n",
      "5:class org.apache.spark.ml.feature.StringIndexer: strIdx_710fcc1c2f06: {\n",
      "\tstrIdx_710fcc1c2f06-handleInvalid: error,\n",
      "\tstrIdx_710fcc1c2f06-inputCol: housing,\n",
      "\tstrIdx_710fcc1c2f06-outputCol: idx_housing,\n",
      "\tstrIdx_710fcc1c2f06-stringOrderType: frequencyDesc\n",
      "}\n",
      "6:class org.apache.spark.ml.feature.StringIndexer: strIdx_583318018d1f: {\n",
      "\tstrIdx_583318018d1f-handleInvalid: error,\n",
      "\tstrIdx_583318018d1f-inputCol: loan,\n",
      "\tstrIdx_583318018d1f-outputCol: idx_loan,\n",
      "\tstrIdx_583318018d1f-stringOrderType: frequencyDesc\n",
      "}\n",
      "7:class org.apache.spark.ml.feature.StringIndexer: strIdx_bd235a3f2b37: {\n",
      "\tstrIdx_bd235a3f2b37-handleInvalid: error,\n",
      "\tstrIdx_bd235a3f2b37-inputCol: day_of_week,\n",
      "\tstrIdx_bd235a3f2b37-outputCol: idx_day_of_week,\n",
      "\tstrIdx_bd235a3f2b37-stringOrderType: frequencyDesc\n",
      "}\n",
      "8:class org.apache.spark.ml.feature.StringIndexer: strIdx_17810b26410a: {\n",
      "\tstrIdx_17810b26410a-handleInvalid: error,\n",
      "\tstrIdx_17810b26410a-inputCol: poutcome,\n",
      "\tstrIdx_17810b26410a-outputCol: idx_poutcome,\n",
      "\tstrIdx_17810b26410a-stringOrderType: frequencyDesc\n",
      "}\n",
      "9:class org.apache.spark.ml.feature.StringIndexer: strIdx_f9e59d5bb2d9: {\n",
      "\tstrIdx_f9e59d5bb2d9-handleInvalid: error,\n",
      "\tstrIdx_f9e59d5bb2d9-inputCol: month_name,\n",
      "\tstrIdx_f9e59d5bb2d9-outputCol: idx_month_name,\n",
      "\tstrIdx_f9e59d5bb2d9-stringOrderType: frequencyDesc\n",
      "}\n",
      "10:class org.apache.spark.ml.feature.OneHotEncoder: oneHotEncoder_23267482a5e1: {\n",
      "\toneHotEncoder_23267482a5e1-dropLast: true,\n",
      "\toneHotEncoder_23267482a5e1-handleInvalid: error,\n",
      "\toneHotEncoder_23267482a5e1-inputCol: idx_job,\n",
      "\toneHotEncoder_23267482a5e1-outputCol: vec_idx_job\n",
      "}\n",
      "11:class org.apache.spark.ml.feature.OneHotEncoder: oneHotEncoder_9a097096c385: {\n",
      "\toneHotEncoder_9a097096c385-dropLast: true,\n",
      "\toneHotEncoder_9a097096c385-handleInvalid: error,\n",
      "\toneHotEncoder_9a097096c385-inputCol: idx_marital,\n",
      "\toneHotEncoder_9a097096c385-outputCol: vec_idx_marital\n",
      "}\n",
      "12:class org.apache.spark.ml.feature.OneHotEncoder: oneHotEncoder_1743522806e8: {\n",
      "\toneHotEncoder_1743522806e8-dropLast: true,\n",
      "\toneHotEncoder_1743522806e8-handleInvalid: error,\n",
      "\toneHotEncoder_1743522806e8-inputCol: idx_education,\n",
      "\toneHotEncoder_1743522806e8-outputCol: vec_idx_education\n",
      "}\n",
      "13:class org.apache.spark.ml.feature.OneHotEncoder: oneHotEncoder_606c90442245: {\n",
      "\toneHotEncoder_606c90442245-dropLast: true,\n",
      "\toneHotEncoder_606c90442245-handleInvalid: error,\n",
      "\toneHotEncoder_606c90442245-inputCol: idx_defaulted,\n",
      "\toneHotEncoder_606c90442245-outputCol: vec_idx_defaulted\n",
      "}\n",
      "14:class org.apache.spark.ml.feature.OneHotEncoder: oneHotEncoder_86b7ed7edbcc: {\n",
      "\toneHotEncoder_86b7ed7edbcc-dropLast: true,\n",
      "\toneHotEncoder_86b7ed7edbcc-handleInvalid: error,\n",
      "\toneHotEncoder_86b7ed7edbcc-inputCol: idx_housing,\n",
      "\toneHotEncoder_86b7ed7edbcc-outputCol: vec_idx_housing\n",
      "}\n",
      "15:class org.apache.spark.ml.feature.OneHotEncoder: oneHotEncoder_7cff57b6ffd5: {\n",
      "\toneHotEncoder_7cff57b6ffd5-dropLast: true,\n",
      "\toneHotEncoder_7cff57b6ffd5-handleInvalid: error,\n",
      "\toneHotEncoder_7cff57b6ffd5-inputCol: idx_loan,\n",
      "\toneHotEncoder_7cff57b6ffd5-outputCol: vec_idx_loan\n",
      "}\n",
      "16:class org.apache.spark.ml.feature.OneHotEncoder: oneHotEncoder_7cbb64f05541: {\n",
      "\toneHotEncoder_7cbb64f05541-dropLast: true,\n",
      "\toneHotEncoder_7cbb64f05541-handleInvalid: error,\n",
      "\toneHotEncoder_7cbb64f05541-inputCol: idx_day_of_week,\n",
      "\toneHotEncoder_7cbb64f05541-outputCol: vec_idx_day_of_week\n",
      "}\n",
      "17:class org.apache.spark.ml.feature.OneHotEncoder: oneHotEncoder_246deca3c0cb: {\n",
      "\toneHotEncoder_246deca3c0cb-dropLast: true,\n",
      "\toneHotEncoder_246deca3c0cb-handleInvalid: error,\n",
      "\toneHotEncoder_246deca3c0cb-inputCol: idx_poutcome,\n",
      "\toneHotEncoder_246deca3c0cb-outputCol: vec_idx_poutcome\n",
      "}\n",
      "18:class org.apache.spark.ml.feature.OneHotEncoder: oneHotEncoder_631138749c83: {\n",
      "\toneHotEncoder_631138749c83-dropLast: true,\n",
      "\toneHotEncoder_631138749c83-handleInvalid: error,\n",
      "\toneHotEncoder_631138749c83-inputCol: idx_month_name,\n",
      "\toneHotEncoder_631138749c83-outputCol: vec_idx_month_name\n",
      "}\n",
      "19:class org.apache.spark.ml.feature.VectorAssembler: VectorAssembler: uid=vecAssembler_5dfd2d2c6bb9, handleInvalid=error, numInputCols=8: {\n",
      "\tvecAssembler_5dfd2d2c6bb9-handleInvalid: error,\n",
      "\tvecAssembler_5dfd2d2c6bb9-inputCols: [Ljava.lang.String;@18954846,\n",
      "\tvecAssembler_5dfd2d2c6bb9-outputCol: numericalfeatures\n",
      "}\n",
      "20:class org.apache.spark.ml.feature.MinMaxScaler: minMaxScal_e1a93ba7a235: {\n",
      "\tminMaxScal_e1a93ba7a235-inputCol: numericalfeatures,\n",
      "\tminMaxScal_e1a93ba7a235-max: 1.0,\n",
      "\tminMaxScal_e1a93ba7a235-min: 0.0,\n",
      "\tminMaxScal_e1a93ba7a235-outputCol: scaledfeatures\n",
      "}\n",
      "21:class org.apache.spark.ml.feature.VectorAssembler: VectorAssembler: uid=vecAssembler_72339199a57d, handleInvalid=error, numInputCols=10: {\n",
      "\tvecAssembler_72339199a57d-handleInvalid: error,\n",
      "\tvecAssembler_72339199a57d-inputCols: [Ljava.lang.String;@68274720,\n",
      "\tvecAssembler_72339199a57d-outputCol: features\n",
      "}\n"
     ]
    },
    {
     "data": {
      "text/html": [
       "<div class=\"jp-RenderedText\">\n",
       "<pre><code><span style=\"color: rgb(0, 187, 187)\"><span class=\"ansi-cyan-fg\">counter</span></span>: <span style=\"color: rgb(0, 187, 0)\"><span class=\"ansi-green-fg\">Int</span></span> = <span style=\"color: rgb(0, 187, 0)\"><span class=\"ansi-green-fg\">22</span></span>\n",
       "<span style=\"color: rgb(0, 187, 187)\"><span class=\"ansi-cyan-fg\">res206_1</span></span>: <span style=\"color: rgb(0, 187, 0)\"><span class=\"ansi-green-fg\">Array</span></span>[<span style=\"color: rgb(0, 187, 0)\"><span class=\"ansi-green-fg\">Unit</span></span>] = <span style=\"color: yellow\"><span class=\"ansi-yellow-fg\">Array</span></span>(\n",
       "  (),\n",
       "  (),\n",
       "  (),\n",
       "  (),\n",
       "  (),\n",
       "  (),\n",
       "  (),\n",
       "  (),\n",
       "  (),\n",
       "  (),\n",
       "  (),\n",
       "  (),\n",
       "  (),\n",
       "  (),\n",
       "  (),\n",
       "  (),\n",
       "  (),\n",
       "  (),\n",
       "  (),\n",
       "  (),\n",
       "  (),\n",
       "  ()\n",
       ")</code></pre>\n",
       "</div>"
      ],
      "text/plain": [
       "\u001b[36mcounter\u001b[39m: \u001b[32mInt\u001b[39m = \u001b[32m22\u001b[39m\n",
       "\u001b[36mres206_1\u001b[39m: \u001b[32mArray\u001b[39m[\u001b[32mUnit\u001b[39m] = \u001b[33mArray\u001b[39m(\n",
       "  (),\n",
       "  (),\n",
       "  (),\n",
       "  (),\n",
       "  (),\n",
       "  (),\n",
       "  (),\n",
       "  (),\n",
       "  (),\n",
       "  (),\n",
       "  (),\n",
       "  (),\n",
       "  (),\n",
       "  (),\n",
       "  (),\n",
       "  (),\n",
       "  (),\n",
       "  (),\n",
       "  (),\n",
       "  (),\n",
       "  (),\n",
       "  ()\n",
       ")"
      ]
     },
     "metadata": {},
     "output_type": "display_data"
    }
   ],
   "source": [
    "var counter = 0\n",
    "pipelineStages.map( x => {println(counter + \":\" + x.getClass.toString + \": \" + x.toString + \": \" + x.extractParamMap); counter +=1;});"
   ]
  },
  {
   "cell_type": "markdown",
   "metadata": {},
   "source": [
    "### Now, transform the data to form usable for model training and inference"
   ]
  },
  {
   "cell_type": "code",
   "execution_count": 147,
   "metadata": {},
   "outputs": [
    {
     "data": {
      "text/plain": [
       "\u001b[36mpreparedDF\u001b[39m: \u001b[32mDataFrame\u001b[39m = [age: double, job: string ... 41 more fields]"
      ]
     },
     "execution_count": 147,
     "metadata": {},
     "output_type": "execute_result"
    }
   ],
   "source": [
    "val preparedDF: org.apache.spark.sql.DataFrame = xformPipeline.transform(inputDF)"
   ]
  },
  {
   "cell_type": "code",
   "execution_count": 148,
   "metadata": {},
   "outputs": [
    {
     "name": "stdout",
     "output_type": "stream",
     "text": [
      "+----+---------+-------+-----------+---------+-------+----+----------+----------+-----------+--------+--------+-----+--------+-----------+------------+--------------+-------------+---------+-----------+---+-----+-------+-----------+-------------+-------------+-----------+--------+---------------+------------+--------------+--------------+---------------+-----------------+-----------------+---------------+-------------+-------------------+----------------+------------------+--------------------+--------------------+--------------------+\n",
      "| age|      job|marital|  education|defaulted|housing|loan|contact_no|month_name|day_of_week|duration|campaign|pdays|previous|   poutcome|emp_var_rate|cons_price_idx|cons_conf_idx|euribor3m|nr_employed|  y|label|idx_job|idx_marital|idx_education|idx_defaulted|idx_housing|idx_loan|idx_day_of_week|idx_poutcome|idx_month_name|   vec_idx_job|vec_idx_marital|vec_idx_education|vec_idx_defaulted|vec_idx_housing| vec_idx_loan|vec_idx_day_of_week|vec_idx_poutcome|vec_idx_month_name|   numericalfeatures|      scaledfeatures|            features|\n",
      "+----+---------+-------+-----------+---------+-------+----+----------+----------+-----------+--------+--------+-----+--------+-----------+------------+--------------+-------------+---------+-----------+---+-----+-------+-----------+-------------+-------------+-----------+--------+---------------+------------+--------------+--------------+---------------+-----------------+-----------------+---------------+-------------+-------------------+----------------+------------------+--------------------+--------------------+--------------------+\n",
      "|56.0|housemaid|married|   basic.4y|       no|     no|  no| telephone|       may|        mon|   261.0|     1.0|999.0|     0.0|nonexistent|         1.1|        93.994|        -36.4|    4.857|     5191.0| no|  0.0|    8.0|        0.0|          4.0|          0.0|        1.0|     0.0|            1.0|         0.0|           0.0|(11,[8],[1.0])|  (3,[0],[1.0])|    (7,[4],[1.0])|    (2,[0],[1.0])|  (2,[1],[1.0])|(2,[0],[1.0])|      (4,[1],[1.0])|   (2,[0],[1.0])|     (9,[0],[1.0])|[56.0,261.0,999.0...|[0.48148148148148...|(50,[8,11,18,21,2...|\n",
      "|57.0| services|married|high.school|  unknown|     no|  no| telephone|       may|        mon|   149.0|     1.0|999.0|     0.0|nonexistent|         1.1|        93.994|        -36.4|    4.857|     5191.0| no|  0.0|    3.0|        0.0|          1.0|          1.0|        1.0|     0.0|            1.0|         0.0|           0.0|(11,[3],[1.0])|  (3,[0],[1.0])|    (7,[1],[1.0])|    (2,[1],[1.0])|  (2,[1],[1.0])|(2,[0],[1.0])|      (4,[1],[1.0])|   (2,[0],[1.0])|     (9,[0],[1.0])|[57.0,149.0,999.0...|[0.49382716049382...|(50,[3,11,15,22,2...|\n",
      "|37.0| services|married|high.school|       no|    yes|  no| telephone|       may|        mon|   226.0|     1.0|999.0|     0.0|nonexistent|         1.1|        93.994|        -36.4|    4.857|     5191.0| no|  0.0|    3.0|        0.0|          1.0|          0.0|        0.0|     0.0|            1.0|         0.0|           0.0|(11,[3],[1.0])|  (3,[0],[1.0])|    (7,[1],[1.0])|    (2,[0],[1.0])|  (2,[0],[1.0])|(2,[0],[1.0])|      (4,[1],[1.0])|   (2,[0],[1.0])|     (9,[0],[1.0])|[37.0,226.0,999.0...|[0.24691358024691...|(50,[3,11,15,21,2...|\n",
      "|40.0|   admin.|married|   basic.6y|       no|     no|  no| telephone|       may|        mon|   151.0|     1.0|999.0|     0.0|nonexistent|         1.1|        93.994|        -36.4|    4.857|     5191.0| no|  0.0|    0.0|        0.0|          5.0|          0.0|        1.0|     0.0|            1.0|         0.0|           0.0|(11,[0],[1.0])|  (3,[0],[1.0])|    (7,[5],[1.0])|    (2,[0],[1.0])|  (2,[1],[1.0])|(2,[0],[1.0])|      (4,[1],[1.0])|   (2,[0],[1.0])|     (9,[0],[1.0])|[40.0,151.0,999.0...|[0.28395061728395...|(50,[0,11,19,21,2...|\n",
      "+----+---------+-------+-----------+---------+-------+----+----------+----------+-----------+--------+--------+-----+--------+-----------+------------+--------------+-------------+---------+-----------+---+-----+-------+-----------+-------------+-------------+-----------+--------+---------------+------------+--------------+--------------+---------------+-----------------+-----------------+---------------+-------------+-------------------+----------------+------------------+--------------------+--------------------+--------------------+\n",
      "only showing top 4 rows\n",
      "\n"
     ]
    }
   ],
   "source": [
    "preparedDF.show(4)"
   ]
  },
  {
   "cell_type": "markdown",
   "metadata": {},
   "source": [
    "### Examine how the categorical features have transformed"
   ]
  },
  {
   "cell_type": "code",
   "execution_count": 212,
   "metadata": {},
   "outputs": [
    {
     "data": {
      "text/plain": [
       "\u001b[32mimport \u001b[39m\u001b[36morg.apache.spark.sql.types.{StringType, StructType}\n",
       "\u001b[39m\n",
       "\u001b[32mimport \u001b[39m\u001b[36morg.apache.spark.sql.{Row}\n",
       "\u001b[39m\n",
       "\u001b[32mimport \u001b[39m\u001b[36morg.apache.spark.sql.functions.{col, udf, _}\u001b[39m"
      ]
     },
     "execution_count": 212,
     "metadata": {},
     "output_type": "execute_result"
    }
   ],
   "source": [
    "import org.apache.spark.sql.types.{StringType, StructType}\n",
    "import org.apache.spark.sql.{Row}\n",
    "import org.apache.spark.sql.functions.{col, udf, _}"
   ]
  },
  {
   "cell_type": "code",
   "execution_count": 211,
   "metadata": {},
   "outputs": [
    {
     "name": "stdout",
     "output_type": "stream",
     "text": [
      "+------------+----+----+---+----+----+---+-----+----+---+---+\n",
      "|y_month_name| apr| aug|dec| jul| jun|mar|  may| nov|oct|sep|\n",
      "+------------+----+----+---+----+----+---+-----+----+---+---+\n",
      "|         yes| 539| 655| 89| 649| 559|276|  886| 416|315|256|\n",
      "|          no|2093|5523| 93|6525|4759|270|12883|3685|403|314|\n",
      "+------------+----+----+---+----+----+---+-----+----+---+---+\n",
      "\n"
     ]
    },
    {
     "data": {
      "text/plain": [
       "\u001b[32mimport \u001b[39m\u001b[36morg.apache.spark.sql.types.{StringType, StructType}\n",
       "\u001b[39m\n",
       "\u001b[32mimport \u001b[39m\u001b[36morg.apache.spark.sql.{Row}\n",
       "\n",
       "\u001b[39m\n",
       "\u001b[36mmonth_crosstab\u001b[39m: \u001b[32mDataFrame\u001b[39m = [y_month_name: string, apr: bigint ... 9 more fields]"
      ]
     },
     "execution_count": 211,
     "metadata": {},
     "output_type": "execute_result"
    }
   ],
   "source": [
    "val month_crosstab = inputDF.stat.crosstab(originalLabelColname, \"month_name\")\n",
    "\n",
    "month_crosstab.show()"
   ]
  },
  {
   "cell_type": "code",
   "execution_count": 221,
   "metadata": {},
   "outputs": [
    {
     "name": "stdout",
     "output_type": "stream",
     "text": [
      "+----------+--------------+------------------+\n",
      "|month_name|idx_month_name|vec_idx_month_name|\n",
      "+----------+--------------+------------------+\n",
      "|       may|           0.0|     (9,[0],[1.0])|\n",
      "|       may|           0.0|     (9,[0],[1.0])|\n",
      "+----------+--------------+------------------+\n",
      "only showing top 2 rows\n",
      "\n"
     ]
    }
   ],
   "source": [
    "preparedDF.where(col(\"month_name\") === \"may\").select(col(\"month_name\"), col(\"idx_month_name\"), col(\"vec_idx_month_name\")).show(2)"
   ]
  },
  {
   "cell_type": "code",
   "execution_count": 222,
   "metadata": {},
   "outputs": [
    {
     "name": "stdout",
     "output_type": "stream",
     "text": [
      "+----------+--------------+------------------+\n",
      "|month_name|idx_month_name|vec_idx_month_name|\n",
      "+----------+--------------+------------------+\n",
      "|       jul|           1.0|     (9,[1],[1.0])|\n",
      "|       jul|           1.0|     (9,[1],[1.0])|\n",
      "+----------+--------------+------------------+\n",
      "only showing top 2 rows\n",
      "\n"
     ]
    }
   ],
   "source": [
    "preparedDF.where(col(\"month_name\") === \"jul\").select(col(\"month_name\"), col(\"idx_month_name\"), col(\"vec_idx_month_name\")).show(2)"
   ]
  },
  {
   "cell_type": "code",
   "execution_count": 223,
   "metadata": {},
   "outputs": [
    {
     "name": "stdout",
     "output_type": "stream",
     "text": [
      "+----------+--------------+------------------+\n",
      "|month_name|idx_month_name|vec_idx_month_name|\n",
      "+----------+--------------+------------------+\n",
      "|       aug|           2.0|     (9,[2],[1.0])|\n",
      "|       aug|           2.0|     (9,[2],[1.0])|\n",
      "+----------+--------------+------------------+\n",
      "only showing top 2 rows\n",
      "\n"
     ]
    }
   ],
   "source": [
    "preparedDF.where(col(\"month_name\") === \"aug\").select(col(\"month_name\"), col(\"idx_month_name\"), col(\"vec_idx_month_name\")).show(2)"
   ]
  },
  {
   "cell_type": "code",
   "execution_count": 224,
   "metadata": {},
   "outputs": [
    {
     "name": "stdout",
     "output_type": "stream",
     "text": [
      "+----------+--------------+------------------+\n",
      "|month_name|idx_month_name|vec_idx_month_name|\n",
      "+----------+--------------+------------------+\n",
      "|       jun|           3.0|     (9,[3],[1.0])|\n",
      "|       jun|           3.0|     (9,[3],[1.0])|\n",
      "+----------+--------------+------------------+\n",
      "only showing top 2 rows\n",
      "\n"
     ]
    }
   ],
   "source": [
    "preparedDF.where(col(\"month_name\") === \"jun\").select(col(\"month_name\"), col(\"idx_month_name\"), col(\"vec_idx_month_name\")).show(2)"
   ]
  },
  {
   "cell_type": "code",
   "execution_count": 209,
   "metadata": {},
   "outputs": [
    {
     "name": "stdout",
     "output_type": "stream",
     "text": [
      "+------------+----+----+---+----+----+---+-----+----+---+---+\n",
      "|y_month_name| apr| aug|dec| jul| jun|mar|  may| nov|oct|sep|\n",
      "+------------+----+----+---+----+----+---+-----+----+---+---+\n",
      "|         yes| 539| 655| 89| 649| 559|276|  886| 416|315|256|\n",
      "|          no|2093|5523| 93|6525|4759|270|12883|3685|403|314|\n",
      "+------------+----+----+---+----+----+---+-----+----+---+---+\n",
      "\n"
     ]
    },
    {
     "data": {
      "text/plain": [
       "\u001b[36mmonth_crosstab\u001b[39m: \u001b[32mDataFrame\u001b[39m = [y_month_name: string, apr: bigint ... 9 more fields]\n",
       "\u001b[36mchisqTestResult\u001b[39m: \u001b[32mRow\u001b[39m = [[0.0,6.109124317532633E-11,0.07369442107074264,0.06240103278223397,0.01666732886397504,0.0,0.0,0.0,0.0],WrappedArray(1, 1, 1, 1, 1, 1, 1, 1, 1),[482.83247762738677,42.78524486317104,3.1987534332197667,3.4723915059566437,5.731069508518859,238.75663393025457,777.1928013995296,654.6000147318687,854.2406435112696]]\n",
       "\u001b[36mchisqpValues\u001b[39m: \u001b[32mlinalg\u001b[39m.\u001b[32mDenseVector\u001b[39m = [0.0,6.109124317532633E-11,0.07369442107074264,0.06240103278223397,0.01666732886397504,0.0,0.0,0.0,0.0]\n",
       "\u001b[36mchisqTestStatistics\u001b[39m: \u001b[32mlinalg\u001b[39m.\u001b[32mDenseVector\u001b[39m = [482.83247762738677,42.78524486317104,3.1987534332197667,3.4723915059566437,5.731069508518859,238.75663393025457,777.1928013995296,654.6000147318687,854.2406435112696]\n",
       "\u001b[36mcolnames\u001b[39m: \u001b[32mArray\u001b[39m[\u001b[32mString\u001b[39m] = \u001b[33mArray\u001b[39m(\n",
       "  \u001b[32m\"apr\"\u001b[39m,\n",
       "  \u001b[32m\"aug\"\u001b[39m,\n",
       "  \u001b[32m\"dec\"\u001b[39m,\n",
       "  \u001b[32m\"jul\"\u001b[39m,\n",
       "  \u001b[32m\"jun\"\u001b[39m,\n",
       "  \u001b[32m\"mar\"\u001b[39m,\n",
       "  \u001b[32m\"may\"\u001b[39m,\n",
       "  \u001b[32m\"nov\"\u001b[39m,\n",
       "  \u001b[32m\"oct\"\u001b[39m,\n",
       "  \u001b[32m\"sep\"\u001b[39m\n",
       ")"
      ]
     },
     "execution_count": 209,
     "metadata": {},
     "output_type": "execute_result"
    }
   ],
   "source": [
    "val chisqTestResult = ChiSquareTest.test(preparedDF, \"vec_idx_month_name\", labelColname).take(1)(0);\n",
    "// result has 3 parts:\n",
    "// - pValues\n",
    "// - degrees of freedom\n",
    "// - test statistics\n",
    "val chisqpValues = {chisqTestResult(0)}.asInstanceOf[org.apache.spark.ml.linalg.DenseVector]\n",
    "val chisqTestStatistics = {chisqTestResult(2)}.asInstanceOf[org.apache.spark.ml.linalg.DenseVector]\n",
    "val colnames = month_crosstab.columns.slice(1,11)"
   ]
  },
  {
   "cell_type": "markdown",
   "metadata": {},
   "source": [
    "As can be seen from this example below - the string encoder and on-hot encoder take the highest frequency value\n",
    "and encode it as 0, and then proceeding with the next higher frequency and so on.\n",
    "\n",
    "The matching one-hot encoded values can be easily identified in this example."
   ]
  },
  {
   "cell_type": "code",
   "execution_count": 225,
   "metadata": {},
   "outputs": [
    {
     "name": "stdout",
     "output_type": "stream",
     "text": [
      "+-----------+--------+--------+--------+-----------+----------+-------------------+-----------------+-------+\n",
      "|y_education|basic.4y|basic.6y|basic.9y|high.school|illiterate|professional.course|university.degree|unknown|\n",
      "+-----------+--------+--------+--------+-----------+----------+-------------------+-----------------+-------+\n",
      "|         no|    3748|    2104|    5572|       8484|        14|               4648|            10498|   1480|\n",
      "|        yes|     428|     188|     473|       1031|         4|                595|             1670|    251|\n",
      "+-----------+--------+--------+--------+-----------+----------+-------------------+-----------------+-------+\n",
      "\n"
     ]
    }
   ],
   "source": [
    "preparedDF.stat.crosstab(originalLabelColname, \"education\").show()"
   ]
  },
  {
   "cell_type": "code",
   "execution_count": 227,
   "metadata": {},
   "outputs": [
    {
     "name": "stdout",
     "output_type": "stream",
     "text": [
      "+-------------------+-----+----+----+----+----+----+----+---+\n",
      "|label_idx_education|  0.0| 1.0| 2.0| 3.0| 4.0| 5.0| 6.0|7.0|\n",
      "+-------------------+-----+----+----+----+----+----+----+---+\n",
      "|                0.0|10498|8484|5572|4648|3748|2104|1480| 14|\n",
      "|                1.0| 1670|1031| 473| 595| 428| 188| 251|  4|\n",
      "+-------------------+-----+----+----+----+----+----+----+---+\n",
      "\n"
     ]
    }
   ],
   "source": [
    "preparedDF.stat.crosstab(labelColname, \"idx_education\").show()"
   ]
  },
  {
   "cell_type": "code",
   "execution_count": 228,
   "metadata": {},
   "outputs": [
    {
     "name": "stdout",
     "output_type": "stream",
     "text": [
      "+-----+------+-----------+------------+---------+----------+-------+-------------+--------+-------+----------+----------+-------+\n",
      "|y_job|admin.|blue-collar|entrepreneur|housemaid|management|retired|self-employed|services|student|technician|unemployed|unknown|\n",
      "+-----+------+-----------+------------+---------+----------+-------+-------------+--------+-------+----------+----------+-------+\n",
      "|  yes|  1352|        638|         124|      106|       328|    434|          149|     323|    275|       730|       144|     37|\n",
      "|   no|  9070|       8616|        1332|      954|      2596|   1286|         1272|    3646|    600|      6013|       870|    293|\n",
      "+-----+------+-----------+------------+---------+----------+-------+-------------+--------+-------+----------+----------+-------+\n",
      "\n",
      "+---------+--------+-------+------+-------+\n",
      "|y_marital|divorced|married|single|unknown|\n",
      "+---------+--------+-------+------+-------+\n",
      "|       no|    4136|  22396|  9948|     68|\n",
      "|      yes|     476|   2532|  1620|     12|\n",
      "+---------+--------+-------+------+-------+\n",
      "\n",
      "+-----------+--------+--------+--------+-----------+----------+-------------------+-----------------+-------+\n",
      "|y_education|basic.4y|basic.6y|basic.9y|high.school|illiterate|professional.course|university.degree|unknown|\n",
      "+-----------+--------+--------+--------+-----------+----------+-------------------+-----------------+-------+\n",
      "|         no|    3748|    2104|    5572|       8484|        14|               4648|            10498|   1480|\n",
      "|        yes|     428|     188|     473|       1031|         4|                595|             1670|    251|\n",
      "+-----------+--------+--------+--------+-----------+----------+-------------------+-----------------+-------+\n",
      "\n",
      "+-----------+-----+-------+---+\n",
      "|y_defaulted|   no|unknown|yes|\n",
      "+-----------+-----+-------+---+\n",
      "|         no|28391|   8154|  3|\n",
      "|        yes| 4197|    443|  0|\n",
      "+-----------+-----+-------+---+\n",
      "\n",
      "+---------+-----+-------+-----+\n",
      "|y_housing|   no|unknown|  yes|\n",
      "+---------+-----+-------+-----+\n",
      "|       no|16596|    883|19069|\n",
      "|      yes| 2026|    107| 2507|\n",
      "+---------+-----+-------+-----+\n",
      "\n",
      "+------+-----+-------+----+\n",
      "|y_loan|   no|unknown| yes|\n",
      "+------+-----+-------+----+\n",
      "|    no|30100|    883|5565|\n",
      "|   yes| 3850|    107| 683|\n",
      "+------+-----+-------+----+\n",
      "\n",
      "+-------------+----+----+----+----+----+\n",
      "|y_day_of_week| fri| mon| thu| tue| wed|\n",
      "+-------------+----+----+----+----+----+\n",
      "|           no|6981|7667|7578|7137|7185|\n",
      "|          yes| 846| 847|1045| 953| 949|\n",
      "+-------------+----+----+----+----+----+\n",
      "\n",
      "+----------+-------+-----------+-------+\n",
      "|y_poutcome|failure|nonexistent|success|\n",
      "+----------+-------+-----------+-------+\n",
      "|        no|   3647|      32422|    479|\n",
      "|       yes|    605|       3141|    894|\n",
      "+----------+-------+-----------+-------+\n",
      "\n",
      "+------------+----+----+---+----+----+---+-----+----+---+---+\n",
      "|y_month_name| apr| aug|dec| jul| jun|mar|  may| nov|oct|sep|\n",
      "+------------+----+----+---+----+----+---+-----+----+---+---+\n",
      "|         yes| 539| 655| 89| 649| 559|276|  886| 416|315|256|\n",
      "|          no|2093|5523| 93|6525|4759|270|12883|3685|403|314|\n",
      "+------------+----+----+---+----+----+---+-----+----+---+---+\n",
      "\n"
     ]
    },
    {
     "data": {
      "text/plain": [
       "\u001b[36mres227\u001b[39m: \u001b[32mArray\u001b[39m[\u001b[32mUnit\u001b[39m] = \u001b[33mArray\u001b[39m((), (), (), (), (), (), (), (), ())"
      ]
     },
     "execution_count": 228,
     "metadata": {},
     "output_type": "execute_result"
    }
   ],
   "source": [
    "categorical_features.map( x => preparedDF.stat.crosstab(originalLabelColname, x).show())"
   ]
  },
  {
   "cell_type": "markdown",
   "metadata": {},
   "source": [
    "## Select subset of features\n",
    "\n",
    "Let us create an additional model which uses a selected subset of features and evaluate this model's performance vs. the one with all the features."
   ]
  },
  {
   "cell_type": "code",
   "execution_count": 229,
   "metadata": {},
   "outputs": [
    {
     "data": {
      "text/plain": [
       "\u001b[36mbest_subset_categorical\u001b[39m: \u001b[32mArray\u001b[39m[\u001b[32mString\u001b[39m] = \u001b[33mArray\u001b[39m(\n",
       "  \u001b[32m\"campaign\"\u001b[39m,\n",
       "  \u001b[32m\"month_name\"\u001b[39m,\n",
       "  \u001b[32m\"job\"\u001b[39m,\n",
       "  \u001b[32m\"day_of_week\"\u001b[39m,\n",
       "  \u001b[32m\"education\"\u001b[39m,\n",
       "  \u001b[32m\"marital\"\u001b[39m\n",
       ")\n",
       "\u001b[36mbest_subset_numerical\u001b[39m: \u001b[32mArray\u001b[39m[\u001b[32mString\u001b[39m] = \u001b[33mArray\u001b[39m(\n",
       "  \u001b[32m\"duration\"\u001b[39m,\n",
       "  \u001b[32m\"pdays\"\u001b[39m,\n",
       "  \u001b[32m\"euribor3m\"\u001b[39m,\n",
       "  \u001b[32m\"cons_price_idx\"\u001b[39m,\n",
       "  \u001b[32m\"age\"\u001b[39m\n",
       ")"
      ]
     },
     "execution_count": 229,
     "metadata": {},
     "output_type": "execute_result"
    }
   ],
   "source": [
    "val best_subset_categorical = Array(\n",
    "    \"campaign\", \"month_name\", \"job\", \"day_of_week\", \"education\", \"marital\"\n",
    ")\n",
    "\n",
    "val best_subset_numerical = Array(\n",
    "    \"duration\", \"pdays\", \"euribor3m\", \"cons_price_idx\", \"age\"\n",
    ")"
   ]
  },
  {
   "cell_type": "markdown",
   "metadata": {},
   "source": [
    "Fit a new transformation pipeline with subset of features."
   ]
  },
  {
   "cell_type": "code",
   "execution_count": 230,
   "metadata": {},
   "outputs": [
    {
     "name": "stderr",
     "output_type": "stream",
     "text": [
      "23/01/30 15:48:32 INFO SparkMLDemo: Indexing categorical variables.\n",
      "23/01/30 15:48:32 INFO SparkMLDemo: On-hot encoding all categorical variables.\n",
      "23/01/30 15:48:32 INFO SparkMLDemo: Assembled together all numerical variables.\n",
      "23/01/30 15:48:32 INFO SparkMLDemo: Scaled all numerical variables by min-max scaler.\n",
      "23/01/30 15:48:32 INFO SparkMLDemo: Assembling pipeline with the following transformations: \n",
      "strIdx_137ba1783896 \n",
      "strIdx_b09b13da7231 \n",
      "strIdx_cfb343f416ed \n",
      "strIdx_7bb6f881461d \n",
      "strIdx_8ecf1d33f435 \n",
      "strIdx_06062ff464e4 \n",
      "strIdx_68c715321a64 \n",
      "oneHotEncoder_70bc9bd017bc \n",
      "oneHotEncoder_2794034dd822 \n",
      "oneHotEncoder_f07f9736b2e7 \n",
      "oneHotEncoder_3ef22556dc1c \n",
      "oneHotEncoder_eff9887e73d9 \n",
      "oneHotEncoder_3ab2df8bc876 \n",
      "VectorAssembler: uid=vecAssembler_60128f25a3ca, handleInvalid=error, numInputCols=5 \n",
      "minMaxScal_e7ce508fa355 \n",
      "VectorAssembler: uid=vecAssembler_5566e14c9193, handleInvalid=error, numInputCols=7\n",
      "23/01/30 15:48:35 INFO SparkMLDemo: Completed fitting the pipeline\n"
     ]
    },
    {
     "data": {
      "text/plain": [
       "\u001b[36mxformPipeline2\u001b[39m: \u001b[32mPipelineModel\u001b[39m = pipeline_c49d59177ceb"
      ]
     },
     "execution_count": 230,
     "metadata": {},
     "output_type": "execute_result"
    }
   ],
   "source": [
    "val xformPipeline2 = firTransformDataPipeline(inputDF, originalLabelColname, best_subset_categorical, best_subset_numerical)"
   ]
  },
  {
   "cell_type": "code",
   "execution_count": 231,
   "metadata": {},
   "outputs": [
    {
     "data": {
      "text/plain": [
       "\u001b[36mpreparedDF2\u001b[39m: \u001b[32mDataFrame\u001b[39m = [age: double, job: string ... 35 more fields]"
      ]
     },
     "execution_count": 231,
     "metadata": {},
     "output_type": "execute_result"
    }
   ],
   "source": [
    "val preparedDF2 = xformPipeline2.transform(inputDF)"
   ]
  },
  {
   "cell_type": "code",
   "execution_count": 232,
   "metadata": {},
   "outputs": [
    {
     "name": "stdout",
     "output_type": "stream",
     "text": [
      "+----+---------+-------+-----------+---------+-------+----+----------+----------+-----------+--------+--------+-----+--------+-----------+------------+--------------+-------------+---------+-----------+---+-----+------------+--------------+-------+---------------+-------------+-----------+----------------+------------------+--------------+-------------------+-----------------+---------------+--------------------+--------------------+--------------------+\n",
      "| age|      job|marital|  education|defaulted|housing|loan|contact_no|month_name|day_of_week|duration|campaign|pdays|previous|   poutcome|emp_var_rate|cons_price_idx|cons_conf_idx|euribor3m|nr_employed|  y|label|idx_campaign|idx_month_name|idx_job|idx_day_of_week|idx_education|idx_marital|vec_idx_campaign|vec_idx_month_name|   vec_idx_job|vec_idx_day_of_week|vec_idx_education|vec_idx_marital|   numericalfeatures|      scaledfeatures|            features|\n",
      "+----+---------+-------+-----------+---------+-------+----+----------+----------+-----------+--------+--------+-----+--------+-----------+------------+--------------+-------------+---------+-----------+---+-----+------------+--------------+-------+---------------+-------------+-----------+----------------+------------------+--------------+-------------------+-----------------+---------------+--------------------+--------------------+--------------------+\n",
      "|56.0|housemaid|married|   basic.4y|       no|     no|  no| telephone|       may|        mon|   261.0|     1.0|999.0|     0.0|nonexistent|         1.1|        93.994|        -36.4|    4.857|     5191.0| no|  0.0|         0.0|           0.0|    8.0|            1.0|          4.0|        0.0|  (41,[0],[1.0])|     (9,[0],[1.0])|(11,[8],[1.0])|      (4,[1],[1.0])|    (7,[4],[1.0])|  (3,[0],[1.0])|[261.0,999.0,4.85...|[0.05307035380235...|(80,[0,41,58,62,6...|\n",
      "|57.0| services|married|high.school|  unknown|     no|  no| telephone|       may|        mon|   149.0|     1.0|999.0|     0.0|nonexistent|         1.1|        93.994|        -36.4|    4.857|     5191.0| no|  0.0|         0.0|           0.0|    3.0|            1.0|          1.0|        0.0|  (41,[0],[1.0])|     (9,[0],[1.0])|(11,[3],[1.0])|      (4,[1],[1.0])|    (7,[1],[1.0])|  (3,[0],[1.0])|[149.0,999.0,4.85...|[0.03029686864579...|(80,[0,41,53,62,6...|\n",
      "|37.0| services|married|high.school|       no|    yes|  no| telephone|       may|        mon|   226.0|     1.0|999.0|     0.0|nonexistent|         1.1|        93.994|        -36.4|    4.857|     5191.0| no|  0.0|         0.0|           0.0|    3.0|            1.0|          1.0|        0.0|  (41,[0],[1.0])|     (9,[0],[1.0])|(11,[3],[1.0])|      (4,[1],[1.0])|    (7,[1],[1.0])|  (3,[0],[1.0])|[226.0,999.0,4.85...|[0.04595363969093...|(80,[0,41,53,62,6...|\n",
      "|40.0|   admin.|married|   basic.6y|       no|     no|  no| telephone|       may|        mon|   151.0|     1.0|999.0|     0.0|nonexistent|         1.1|        93.994|        -36.4|    4.857|     5191.0| no|  0.0|         0.0|           0.0|    0.0|            1.0|          5.0|        0.0|  (41,[0],[1.0])|     (9,[0],[1.0])|(11,[0],[1.0])|      (4,[1],[1.0])|    (7,[5],[1.0])|  (3,[0],[1.0])|[151.0,999.0,4.85...|[0.03070353802358...|(80,[0,41,50,62,7...|\n",
      "+----+---------+-------+-----------+---------+-------+----+----------+----------+-----------+--------+--------+-----+--------+-----------+------------+--------------+-------------+---------+-----------+---+-----+------------+--------------+-------+---------------+-------------+-----------+----------------+------------------+--------------+-------------------+-----------------+---------------+--------------------+--------------------+--------------------+\n",
      "only showing top 4 rows\n",
      "\n"
     ]
    }
   ],
   "source": [
    "preparedDF2.show(4)"
   ]
  },
  {
   "cell_type": "markdown",
   "metadata": {
    "id": "ed2b691a50a34327834a63002125cd67"
   },
   "source": [
    "## Split data into Test-Train sets\n",
    "\n",
    "Randomly select records to split the prepared data into train-test datasets.\n",
    "\n",
    "Here a ratio of 90% training and 10% testing has been specified."
   ]
  },
  {
   "cell_type": "code",
   "execution_count": 241,
   "metadata": {
    "id": "ed2b691a50a34327834a63002125cd67"
   },
   "outputs": [
    {
     "data": {
      "text/plain": [
       "\u001b[36mtrainingDF\u001b[39m: \u001b[32mDataset\u001b[39m[\u001b[32mRow\u001b[39m] = [age: double, job: string ... 41 more fields]\n",
       "\u001b[36mtestDF\u001b[39m: \u001b[32mDataset\u001b[39m[\u001b[32mRow\u001b[39m] = [age: double, job: string ... 41 more fields]"
      ]
     },
     "execution_count": 241,
     "metadata": {},
     "output_type": "execute_result"
    }
   ],
   "source": [
    "val Array(trainingDF, testDF) = preparedDF.randomSplit(Array(0.9, 0.1))"
   ]
  },
  {
   "cell_type": "code",
   "execution_count": 242,
   "metadata": {
    "id": "ed2b691a50a34327834a63002125cd67"
   },
   "outputs": [
    {
     "data": {
      "text/plain": [
       "\u001b[36mres241_0\u001b[39m: \u001b[32mDataset\u001b[39m[\u001b[32mRow\u001b[39m] = [age: double, job: string ... 41 more fields]\n",
       "\u001b[36mres241_1\u001b[39m: \u001b[32mDataset\u001b[39m[\u001b[32mRow\u001b[39m] = [age: double, job: string ... 41 more fields]"
      ]
     },
     "execution_count": 242,
     "metadata": {},
     "output_type": "execute_result"
    }
   ],
   "source": [
    "// At this point, these two datasets may be \"cached\" for improving Spark performance:\n",
    "trainingDF.cache()\n",
    "testDF.cache()"
   ]
  },
  {
   "cell_type": "code",
   "execution_count": 243,
   "metadata": {
    "id": "2c0198bc86734910959d80775a4afff3"
   },
   "outputs": [
    {
     "name": "stdout",
     "output_type": "stream",
     "text": [
      "+----+-------+-------+-----------+---------+-------+----+----------+----------+-----------+--------+--------+-----+--------+-----------+------------+--------------+-------------+---------+-----------+---+-----+-------+-----------+-------------+-------------+-----------+--------+---------------+------------+--------------+---------------+---------------+-----------------+-----------------+---------------+-------------+-------------------+----------------+------------------+--------------------+--------------------+--------------------+\n",
      "| age|    job|marital|  education|defaulted|housing|loan|contact_no|month_name|day_of_week|duration|campaign|pdays|previous|   poutcome|emp_var_rate|cons_price_idx|cons_conf_idx|euribor3m|nr_employed|  y|label|idx_job|idx_marital|idx_education|idx_defaulted|idx_housing|idx_loan|idx_day_of_week|idx_poutcome|idx_month_name|    vec_idx_job|vec_idx_marital|vec_idx_education|vec_idx_defaulted|vec_idx_housing| vec_idx_loan|vec_idx_day_of_week|vec_idx_poutcome|vec_idx_month_name|   numericalfeatures|      scaledfeatures|            features|\n",
      "+----+-------+-------+-----------+---------+-------+----+----------+----------+-----------+--------+--------+-----+--------+-----------+------------+--------------+-------------+---------+-----------+---+-----+-------+-----------+-------------+-------------+-----------+--------+---------------+------------+--------------+---------------+---------------+-----------------+-----------------+---------------+-------------+-------------------+----------------+------------------+--------------------+--------------------+--------------------+\n",
      "|18.0|student| single|   basic.4y|       no|     no|  no|  cellular|       apr|        thu|   108.0|     1.0|999.0|     0.0|nonexistent|        -1.8|        93.075|        -47.1|    1.365|     5099.1| no|  0.0|   10.0|        1.0|          4.0|          0.0|        1.0|     0.0|            0.0|         0.0|           5.0|(11,[10],[1.0])|  (3,[1],[1.0])|    (7,[4],[1.0])|    (2,[0],[1.0])|  (2,[1],[1.0])|(2,[0],[1.0])|      (4,[0],[1.0])|   (2,[0],[1.0])|     (9,[5],[1.0])|[18.0,108.0,999.0...|[0.01234567901234...|(50,[10,12,18,21,...|\n",
      "|18.0|student| single|high.school|       no|     no|  no| telephone|       nov|        thu|    75.0|     1.0|999.0|     0.0|nonexistent|        -0.1|          93.2|        -42.0|    4.245|     5195.8| no|  0.0|   10.0|        1.0|          1.0|          0.0|        1.0|     0.0|            0.0|         0.0|           4.0|(11,[10],[1.0])|  (3,[1],[1.0])|    (7,[1],[1.0])|    (2,[0],[1.0])|  (2,[1],[1.0])|(2,[0],[1.0])|      (4,[0],[1.0])|   (2,[0],[1.0])|     (9,[4],[1.0])|[18.0,75.0,999.0,...|[0.01234567901234...|(50,[10,12,15,21,...|\n",
      "|18.0|student| single|high.school|       no|    yes| yes|  cellular|       mar|        tue|   103.0|     1.0|999.0|     0.0|nonexistent|        -1.8|        92.843|        -50.0|    1.687|     5099.1| no|  0.0|   10.0|        1.0|          1.0|          0.0|        0.0|     1.0|            3.0|         0.0|           8.0|(11,[10],[1.0])|  (3,[1],[1.0])|    (7,[1],[1.0])|    (2,[0],[1.0])|  (2,[0],[1.0])|(2,[1],[1.0])|      (4,[3],[1.0])|   (2,[0],[1.0])|     (9,[8],[1.0])|[18.0,103.0,999.0...|[0.01234567901234...|(50,[10,12,15,21,...|\n",
      "|19.0|student| single|   basic.4y|       no|     no| yes|  cellular|       apr|        wed|   371.0|     2.0|999.0|     0.0|nonexistent|        -1.8|        93.075|        -47.1|    1.405|     5099.1|yes|  1.0|   10.0|        1.0|          4.0|          0.0|        1.0|     1.0|            2.0|         0.0|           5.0|(11,[10],[1.0])|  (3,[1],[1.0])|    (7,[4],[1.0])|    (2,[0],[1.0])|  (2,[1],[1.0])|(2,[1],[1.0])|      (4,[2],[1.0])|   (2,[0],[1.0])|     (9,[5],[1.0])|[19.0,371.0,999.0...|[0.02469135802469...|(50,[10,12,18,21,...|\n",
      "|19.0|student| single|   basic.6y|       no|     no|  no|  cellular|       mar|        tue|   136.0|     1.0|999.0|     0.0|nonexistent|        -1.8|        92.843|        -50.0|    1.556|     5099.1|yes|  1.0|   10.0|        1.0|          5.0|          0.0|        1.0|     0.0|            3.0|         0.0|           8.0|(11,[10],[1.0])|  (3,[1],[1.0])|    (7,[5],[1.0])|    (2,[0],[1.0])|  (2,[1],[1.0])|(2,[0],[1.0])|      (4,[3],[1.0])|   (2,[0],[1.0])|     (9,[8],[1.0])|[19.0,136.0,999.0...|[0.02469135802469...|(50,[10,12,19,21,...|\n",
      "+----+-------+-------+-----------+---------+-------+----+----------+----------+-----------+--------+--------+-----+--------+-----------+------------+--------------+-------------+---------+-----------+---+-----+-------+-----------+-------------+-------------+-----------+--------+---------------+------------+--------------+---------------+---------------+-----------------+-----------------+---------------+-------------+-------------------+----------------+------------------+--------------------+--------------------+--------------------+\n",
      "only showing top 5 rows\n",
      "\n"
     ]
    }
   ],
   "source": [
    "trainingDF.show(5)"
   ]
  },
  {
   "cell_type": "markdown",
   "metadata": {},
   "source": [
    "Repeat test-train split for best subset data as well:"
   ]
  },
  {
   "cell_type": "code",
   "execution_count": 233,
   "metadata": {},
   "outputs": [
    {
     "data": {
      "text/plain": [
       "\u001b[36mtrainingDF2\u001b[39m: \u001b[32mDataset\u001b[39m[\u001b[32mRow\u001b[39m] = [age: double, job: string ... 35 more fields]\n",
       "\u001b[36mtestDF2\u001b[39m: \u001b[32mDataset\u001b[39m[\u001b[32mRow\u001b[39m] = [age: double, job: string ... 35 more fields]"
      ]
     },
     "execution_count": 233,
     "metadata": {},
     "output_type": "execute_result"
    }
   ],
   "source": [
    "val Array(trainingDF2, testDF2) = preparedDF2.randomSplit(Array(0.9, 0.1))"
   ]
  },
  {
   "cell_type": "code",
   "execution_count": 234,
   "metadata": {},
   "outputs": [
    {
     "data": {
      "text/plain": [
       "\u001b[36mres233_0\u001b[39m: \u001b[32mDataset\u001b[39m[\u001b[32mRow\u001b[39m] = [age: double, job: string ... 35 more fields]\n",
       "\u001b[36mres233_1\u001b[39m: \u001b[32mDataset\u001b[39m[\u001b[32mRow\u001b[39m] = [age: double, job: string ... 35 more fields]"
      ]
     },
     "execution_count": 234,
     "metadata": {},
     "output_type": "execute_result"
    }
   ],
   "source": [
    "trainingDF2.cache()\n",
    "testDF2.cache()"
   ]
  },
  {
   "cell_type": "code",
   "execution_count": 235,
   "metadata": {},
   "outputs": [
    {
     "name": "stdout",
     "output_type": "stream",
     "text": [
      "+----+-------+-------+-----------+---------+-------+----+----------+----------+-----------+--------+--------+-----+--------+-----------+------------+--------------+-------------+---------+-----------+---+-----+------------+--------------+-------+---------------+-------------+-----------+----------------+------------------+---------------+-------------------+-----------------+---------------+--------------------+--------------------+--------------------+\n",
      "| age|    job|marital|  education|defaulted|housing|loan|contact_no|month_name|day_of_week|duration|campaign|pdays|previous|   poutcome|emp_var_rate|cons_price_idx|cons_conf_idx|euribor3m|nr_employed|  y|label|idx_campaign|idx_month_name|idx_job|idx_day_of_week|idx_education|idx_marital|vec_idx_campaign|vec_idx_month_name|    vec_idx_job|vec_idx_day_of_week|vec_idx_education|vec_idx_marital|   numericalfeatures|      scaledfeatures|            features|\n",
      "+----+-------+-------+-----------+---------+-------+----+----------+----------+-----------+--------+--------+-----+--------+-----------+------------+--------------+-------------+---------+-----------+---+-----+------------+--------------+-------+---------------+-------------+-----------+----------------+------------------+---------------+-------------------+-----------------+---------------+--------------------+--------------------+--------------------+\n",
      "|18.0|student| single|   basic.4y|       no|     no|  no|  cellular|       apr|        thu|   108.0|     1.0|999.0|     0.0|nonexistent|        -1.8|        93.075|        -47.1|    1.365|     5099.1| no|  0.0|         0.0|           5.0|   10.0|            0.0|          4.0|        1.0|  (41,[0],[1.0])|     (9,[5],[1.0])|(11,[10],[1.0])|      (4,[0],[1.0])|    (7,[4],[1.0])|  (3,[1],[1.0])|[108.0,999.0,1.36...|[0.02196014640097...|(80,[0,46,60,61,6...|\n",
      "|18.0|student| single|high.school|       no|     no|  no| telephone|       nov|        thu|    75.0|     1.0|999.0|     0.0|nonexistent|        -0.1|          93.2|        -42.0|    4.245|     5195.8| no|  0.0|         0.0|           4.0|   10.0|            0.0|          1.0|        1.0|  (41,[0],[1.0])|     (9,[4],[1.0])|(11,[10],[1.0])|      (4,[0],[1.0])|    (7,[1],[1.0])|  (3,[1],[1.0])|[75.0,999.0,4.245...|[0.01525010166734...|(80,[0,45,60,61,6...|\n",
      "|18.0|student| single|high.school|       no|    yes| yes|  cellular|       mar|        tue|   103.0|     1.0|999.0|     0.0|nonexistent|        -1.8|        92.843|        -50.0|    1.687|     5099.1| no|  0.0|         0.0|           8.0|   10.0|            3.0|          1.0|        1.0|  (41,[0],[1.0])|     (9,[8],[1.0])|(11,[10],[1.0])|      (4,[3],[1.0])|    (7,[1],[1.0])|  (3,[1],[1.0])|[103.0,999.0,1.68...|[0.02094347295648...|(80,[0,49,60,64,6...|\n",
      "|19.0|student| single|   basic.4y|       no|     no| yes|  cellular|       apr|        wed|   371.0|     2.0|999.0|     0.0|nonexistent|        -1.8|        93.075|        -47.1|    1.405|     5099.1|yes|  1.0|         1.0|           5.0|   10.0|            2.0|          4.0|        1.0|  (41,[1],[1.0])|     (9,[5],[1.0])|(11,[10],[1.0])|      (4,[2],[1.0])|    (7,[4],[1.0])|  (3,[1],[1.0])|[371.0,999.0,1.40...|[0.07543716958113...|(80,[1,46,60,63,6...|\n",
      "|19.0|student| single|   basic.6y|       no|     no|  no|  cellular|       mar|        tue|   136.0|     1.0|999.0|     0.0|nonexistent|        -1.8|        92.843|        -50.0|    1.556|     5099.1|yes|  1.0|         0.0|           8.0|   10.0|            3.0|          5.0|        1.0|  (41,[0],[1.0])|     (9,[8],[1.0])|(11,[10],[1.0])|      (4,[3],[1.0])|    (7,[5],[1.0])|  (3,[1],[1.0])|[136.0,999.0,1.55...|[0.02765351769011...|(80,[0,49,60,64,7...|\n",
      "+----+-------+-------+-----------+---------+-------+----+----------+----------+-----------+--------+--------+-----+--------+-----------+------------+--------------+-------------+---------+-----------+---+-----+------------+--------------+-------+---------------+-------------+-----------+----------------+------------------+---------------+-------------------+-----------------+---------------+--------------------+--------------------+--------------------+\n",
      "only showing top 5 rows\n",
      "\n"
     ]
    }
   ],
   "source": [
    "trainingDF2.show(5)"
   ]
  },
  {
   "cell_type": "markdown",
   "metadata": {},
   "source": [
    "---\n",
    "## Train a Logistic Regression Model\n",
    "\n",
    "Use the Spark Mlib libraries to train different machine learning models on this dataset."
   ]
  },
  {
   "cell_type": "code",
   "execution_count": 236,
   "metadata": {
    "id": "da1b2c7c3bd24bc2b0f630b0e0b76966"
   },
   "outputs": [
    {
     "data": {
      "text/plain": [
       "\u001b[32mimport \u001b[39m\u001b[36morg.apache.spark.ml.classification.{GBTClassifier, LogisticRegression, LogisticRegressionModel, RandomForestClassifier}\n",
       "\u001b[39m\n",
       "\u001b[32mimport \u001b[39m\u001b[36morg.apache.spark.ml.tuning.{CrossValidator, CrossValidatorModel, ParamGridBuilder, TrainValidationSplit, TrainValidationSplitModel}\n",
       "\u001b[39m\n",
       "\u001b[32mimport \u001b[39m\u001b[36morg.apache.spark.ml.evaluation.BinaryClassificationEvaluator\u001b[39m"
      ]
     },
     "execution_count": 236,
     "metadata": {},
     "output_type": "execute_result"
    }
   ],
   "source": [
    "import org.apache.spark.ml.classification.{GBTClassifier, LogisticRegression, LogisticRegressionModel, RandomForestClassifier}\n",
    "import org.apache.spark.ml.tuning.{CrossValidator, CrossValidatorModel, ParamGridBuilder, TrainValidationSplit, TrainValidationSplitModel}\n",
    "import org.apache.spark.ml.evaluation.BinaryClassificationEvaluator"
   ]
  },
  {
   "cell_type": "code",
   "execution_count": 237,
   "metadata": {
    "id": "505584b5a2d0458183628d3ddb5b83cb"
   },
   "outputs": [
    {
     "data": {
      "text/plain": [
       "\u001b[36mlr\u001b[39m: \u001b[32mLogisticRegression\u001b[39m = logreg_c3d52860028e"
      ]
     },
     "execution_count": 237,
     "metadata": {},
     "output_type": "execute_result"
    }
   ],
   "source": [
    "val lr = new LogisticRegression()"
   ]
  },
  {
   "cell_type": "markdown",
   "metadata": {},
   "source": [
    "Set parameters using setter methods."
   ]
  },
  {
   "cell_type": "code",
   "execution_count": 238,
   "metadata": {
    "id": "cb4ca023f934415788a10ab0cef04d4d"
   },
   "outputs": [
    {
     "data": {
      "text/plain": [
       "\u001b[36mres237\u001b[39m: \u001b[32mLogisticRegression\u001b[39m = logreg_c3d52860028e"
      ]
     },
     "execution_count": 238,
     "metadata": {},
     "output_type": "execute_result"
    }
   ],
   "source": [
    "lr.setMaxIter(100)\n",
    "    .setFamily(\"binomial\")\n",
    "    .setFitIntercept(true)\n",
    "    .setThreshold(0.35)\n",
    "    .setLabelCol(labelColname);"
   ]
  },
  {
   "cell_type": "code",
   "execution_count": 239,
   "metadata": {
    "id": "7fb25e87ded64c46bfdc02915ee0fd02"
   },
   "outputs": [
    {
     "name": "stdout",
     "output_type": "stream",
     "text": [
      "aggregationDepth: suggested depth for treeAggregate (>= 2) (default: 2)\n",
      "elasticNetParam: the ElasticNet mixing parameter, in range [0, 1]. For alpha = 0, the penalty is an L2 penalty. For alpha = 1, it is an L1 penalty (default: 0.0)\n",
      "family: The name of family which is a description of the label distribution to be used in the model. Supported options: auto, binomial, multinomial. (default: auto, current: binomial)\n",
      "featuresCol: features column name (default: features)\n",
      "fitIntercept: whether to fit an intercept term (default: true, current: true)\n",
      "labelCol: label column name (default: label, current: label)\n",
      "lowerBoundsOnCoefficients: The lower bounds on coefficients if fitting under bound constrained optimization. (undefined)\n",
      "lowerBoundsOnIntercepts: The lower bounds on intercepts if fitting under bound constrained optimization. (undefined)\n",
      "maxBlockSizeInMB: Maximum memory in MB for stacking input data into blocks. Data is stacked within partitions. If more than remaining data size in a partition then it is adjusted to the data size. Default 0.0 represents choosing optimal value, depends on specific algorithm. Must be >= 0. (default: 0.0)\n",
      "maxIter: maximum number of iterations (>= 0) (default: 100, current: 100)\n",
      "predictionCol: prediction column name (default: prediction)\n",
      "probabilityCol: Column name for predicted class conditional probabilities. Note: Not all models output well-calibrated probability estimates! These probabilities should be treated as confidences, not precise probabilities (default: probability)\n",
      "rawPredictionCol: raw prediction (a.k.a. confidence) column name (default: rawPrediction)\n",
      "regParam: regularization parameter (>= 0) (default: 0.0)\n",
      "standardization: whether to standardize the training features before fitting the model (default: true)\n",
      "threshold: threshold in binary classification prediction, in range [0, 1] (default: 0.5, current: 0.35)\n",
      "thresholds: Thresholds in multi-class classification to adjust the probability of predicting each class. Array must have length equal to the number of classes, with values > 0 excepting that at most one value may be 0. The class with largest value p/t is predicted, where p is the original probability of that class and t is the class's threshold (undefined)\n",
      "tol: the convergence tolerance for iterative algorithms (>= 0) (default: 1.0E-6)\n",
      "upperBoundsOnCoefficients: The upper bounds on coefficients if fitting under bound constrained optimization. (undefined)\n",
      "upperBoundsOnIntercepts: The upper bounds on intercepts if fitting under bound constrained optimization. (undefined)\n",
      "weightCol: weight column name. If this is not set or empty, we treat all instance weights as 1.0 (undefined)\n"
     ]
    }
   ],
   "source": [
    "println(lr.explainParams())"
   ]
  },
  {
   "cell_type": "markdown",
   "metadata": {
    "id": "2e808d9856a34c5393190b78aabec153"
   },
   "source": [
    "### List all parameters of the model:"
   ]
  },
  {
   "cell_type": "code",
   "execution_count": 240,
   "metadata": {
    "id": "4375a500a64c4a369f75070f97b931ff"
   },
   "outputs": [
    {
     "name": "stdout",
     "output_type": "stream",
     "text": [
      "Parameter _threshold = 0.35\n",
      "Parameter _elasticNetParam = 0.0\n",
      "Parameter _predictionCol = prediction\n",
      "Parameter _tol = 1.0E-6\n",
      "Parameter _labelCol = label\n",
      "Parameter _maxIter = 100\n",
      "Parameter _featuresCol = features\n",
      "Parameter _aggregationDepth = 2\n",
      "Parameter _regParam = 0.0\n",
      "Parameter _family = binomial\n",
      "Parameter _rawPredictionCol = rawPrediction\n",
      "Parameter _maxBlockSizeInMB = 0.0\n",
      "Parameter _probabilityCol = probability\n",
      "Parameter _fitIntercept = true\n",
      "Parameter _standardization = true\n"
     ]
    }
   ],
   "source": [
    "lr.extractParamMap().toSeq.foreach(\n",
    "    x => println(\n",
    "        \"Parameter %s = %s\".format(\n",
    "            x.param.toString substring (1 + x.param.toString indexOf \"__\" ),\n",
    "            x.value)\n",
    "    )\n",
    ")"
   ]
  },
  {
   "cell_type": "code",
   "execution_count": 244,
   "metadata": {
    "id": "1aad3266c5cc441d86bf77aeef98b505",
    "tags": []
   },
   "outputs": [
    {
     "name": "stderr",
     "output_type": "stream",
     "text": [
      "23/01/30 15:54:15 INFO LBFGS: Step Size: 3.574\n",
      "23/01/30 15:54:15 INFO LBFGS: Val and Grad Norm: 0.316549 (rel: 0.104) 0.308898\n",
      "23/01/30 15:54:15 INFO LBFGS: Step Size: 1.000\n",
      "23/01/30 15:54:15 INFO LBFGS: Val and Grad Norm: 0.245978 (rel: 0.223) 0.0965974\n",
      "23/01/30 15:54:15 INFO LBFGS: Step Size: 1.000\n",
      "23/01/30 15:54:15 INFO LBFGS: Val and Grad Norm: 0.232709 (rel: 0.0539) 0.0500178\n",
      "23/01/30 15:54:16 INFO LBFGS: Step Size: 1.000\n",
      "23/01/30 15:54:16 INFO LBFGS: Val and Grad Norm: 0.222595 (rel: 0.0435) 0.0367947\n",
      "23/01/30 15:54:16 INFO LBFGS: Step Size: 1.000\n",
      "23/01/30 15:54:16 INFO LBFGS: Val and Grad Norm: 0.214510 (rel: 0.0363) 0.0243518\n",
      "23/01/30 15:54:16 INFO LBFGS: Step Size: 1.000\n",
      "23/01/30 15:54:16 INFO LBFGS: Val and Grad Norm: 0.211601 (rel: 0.0136) 0.0194000\n",
      "23/01/30 15:54:16 INFO LBFGS: Step Size: 1.000\n",
      "23/01/30 15:54:16 INFO LBFGS: Val and Grad Norm: 0.210507 (rel: 0.00517) 0.00815788\n",
      "23/01/30 15:54:16 INFO LBFGS: Step Size: 1.000\n",
      "23/01/30 15:54:16 INFO LBFGS: Val and Grad Norm: 0.210409 (rel: 0.000466) 0.00278714\n",
      "23/01/30 15:54:17 INFO LBFGS: Step Size: 1.000\n",
      "23/01/30 15:54:17 INFO LBFGS: Val and Grad Norm: 0.210384 (rel: 0.000120) 0.00178501\n",
      "23/01/30 15:54:17 INFO LBFGS: Step Size: 1.000\n",
      "23/01/30 15:54:17 INFO LBFGS: Val and Grad Norm: 0.210369 (rel: 6.94e-05) 0.00194379\n",
      "23/01/30 15:54:17 INFO LBFGS: Step Size: 1.000\n",
      "23/01/30 15:54:17 INFO LBFGS: Val and Grad Norm: 0.210338 (rel: 0.000147) 0.00216757\n",
      "23/01/30 15:54:17 INFO LBFGS: Step Size: 1.000\n",
      "23/01/30 15:54:17 INFO LBFGS: Val and Grad Norm: 0.210292 (rel: 0.000221) 0.00247070\n",
      "23/01/30 15:54:17 INFO LBFGS: Step Size: 1.000\n",
      "23/01/30 15:54:17 INFO LBFGS: Val and Grad Norm: 0.210219 (rel: 0.000345) 0.00423045\n",
      "23/01/30 15:54:17 INFO LBFGS: Step Size: 1.000\n",
      "23/01/30 15:54:17 INFO LBFGS: Val and Grad Norm: 0.210112 (rel: 0.000511) 0.00342988\n",
      "23/01/30 15:54:17 INFO LBFGS: Step Size: 1.000\n",
      "23/01/30 15:54:17 INFO LBFGS: Val and Grad Norm: 0.209948 (rel: 0.000781) 0.00476926\n",
      "23/01/30 15:54:18 INFO LBFGS: Step Size: 1.000\n",
      "23/01/30 15:54:18 INFO LBFGS: Val and Grad Norm: 0.209798 (rel: 0.000714) 0.00440737\n",
      "23/01/30 15:54:18 INFO LBFGS: Step Size: 1.000\n",
      "23/01/30 15:54:18 INFO LBFGS: Val and Grad Norm: 0.209689 (rel: 0.000519) 0.00289848\n",
      "23/01/30 15:54:18 INFO LBFGS: Step Size: 1.000\n",
      "23/01/30 15:54:18 INFO LBFGS: Val and Grad Norm: 0.209627 (rel: 0.000297) 0.00191320\n",
      "23/01/30 15:54:18 INFO LBFGS: Step Size: 1.000\n",
      "23/01/30 15:54:18 INFO LBFGS: Val and Grad Norm: 0.209592 (rel: 0.000166) 0.00194797\n",
      "23/01/30 15:54:18 INFO LBFGS: Step Size: 1.000\n",
      "23/01/30 15:54:18 INFO LBFGS: Val and Grad Norm: 0.209552 (rel: 0.000191) 0.00478070\n",
      "23/01/30 15:54:18 INFO LBFGS: Step Size: 1.000\n",
      "23/01/30 15:54:18 INFO LBFGS: Val and Grad Norm: 0.209506 (rel: 0.000216) 0.00196116\n",
      "23/01/30 15:54:19 INFO LBFGS: Step Size: 1.000\n",
      "23/01/30 15:54:19 INFO LBFGS: Val and Grad Norm: 0.209482 (rel: 0.000118) 0.00171958\n",
      "23/01/30 15:54:19 INFO LBFGS: Step Size: 1.000\n",
      "23/01/30 15:54:19 INFO LBFGS: Val and Grad Norm: 0.209455 (rel: 0.000128) 0.00169713\n",
      "23/01/30 15:54:19 INFO LBFGS: Step Size: 1.000\n",
      "23/01/30 15:54:19 INFO LBFGS: Val and Grad Norm: 0.209414 (rel: 0.000193) 0.00195689\n",
      "23/01/30 15:54:19 INFO LBFGS: Step Size: 1.000\n",
      "23/01/30 15:54:19 INFO LBFGS: Val and Grad Norm: 0.209400 (rel: 6.92e-05) 0.00443602\n",
      "23/01/30 15:54:19 INFO LBFGS: Step Size: 1.000\n",
      "23/01/30 15:54:19 INFO LBFGS: Val and Grad Norm: 0.209346 (rel: 0.000257) 0.00150288\n",
      "23/01/30 15:54:19 INFO LBFGS: Step Size: 1.000\n",
      "23/01/30 15:54:19 INFO LBFGS: Val and Grad Norm: 0.209325 (rel: 9.84e-05) 0.00109240\n",
      "23/01/30 15:54:19 INFO LBFGS: Step Size: 1.000\n",
      "23/01/30 15:54:19 INFO LBFGS: Val and Grad Norm: 0.209303 (rel: 0.000105) 0.00127776\n",
      "23/01/30 15:54:19 INFO LBFGS: Step Size: 1.000\n",
      "23/01/30 15:54:19 INFO LBFGS: Val and Grad Norm: 0.209278 (rel: 0.000121) 0.00152379\n",
      "23/01/30 15:54:19 INFO StrongWolfeLineSearch: Line search t: 0.34825418675364306 fval: 0.20926902429929303 rhs: 0.209278012131662 cdd: -1.7069481160872683E-9\n",
      "23/01/30 15:54:19 INFO LBFGS: Step Size: 0.3483\n",
      "23/01/30 15:54:19 INFO LBFGS: Val and Grad Norm: 0.209269 (rel: 4.30e-05) 0.00120539\n",
      "23/01/30 15:54:19 INFO LBFGS: Step Size: 1.000\n",
      "23/01/30 15:54:19 INFO LBFGS: Val and Grad Norm: 0.209262 (rel: 3.28e-05) 0.000596647\n",
      "23/01/30 15:54:20 INFO LBFGS: Step Size: 1.000\n",
      "23/01/30 15:54:20 INFO LBFGS: Val and Grad Norm: 0.209259 (rel: 1.64e-05) 0.000601629\n",
      "23/01/30 15:54:20 INFO LBFGS: Step Size: 1.000\n",
      "23/01/30 15:54:20 INFO LBFGS: Val and Grad Norm: 0.209256 (rel: 1.40e-05) 0.00125880\n",
      "23/01/30 15:54:20 INFO LBFGS: Step Size: 1.000\n",
      "23/01/30 15:54:20 INFO LBFGS: Val and Grad Norm: 0.209252 (rel: 1.57e-05) 0.000537945\n",
      "23/01/30 15:54:20 INFO LBFGS: Step Size: 1.000\n",
      "23/01/30 15:54:20 INFO LBFGS: Val and Grad Norm: 0.209251 (rel: 9.36e-06) 0.000486550\n",
      "23/01/30 15:54:20 INFO LBFGS: Step Size: 1.000\n",
      "23/01/30 15:54:20 INFO LBFGS: Val and Grad Norm: 0.209249 (rel: 7.31e-06) 0.000436543\n",
      "23/01/30 15:54:20 INFO LBFGS: Step Size: 1.000\n",
      "23/01/30 15:54:20 INFO LBFGS: Val and Grad Norm: 0.209247 (rel: 9.98e-06) 0.000283379\n",
      "23/01/30 15:54:20 INFO StrongWolfeLineSearch: Line search t: 0.44429538295474336 fval: 0.20924650421436267 rhs: 0.20924691513078242 cdd: -7.579132952690825E-14\n",
      "23/01/30 15:54:20 INFO LBFGS: Step Size: 0.4443\n",
      "23/01/30 15:54:20 INFO LBFGS: Val and Grad Norm: 0.209247 (rel: 1.96e-06) 0.000315532\n",
      "23/01/30 15:54:21 INFO LBFGS: Step Size: 1.000\n",
      "23/01/30 15:54:21 INFO LBFGS: Val and Grad Norm: 0.209246 (rel: 2.31e-06) 0.000173009\n",
      "23/01/30 15:54:21 INFO LBFGS: Step Size: 1.000\n",
      "23/01/30 15:54:21 INFO LBFGS: Val and Grad Norm: 0.209246 (rel: 1.62e-06) 0.000177860\n",
      "23/01/30 15:54:21 INFO LBFGS: Step Size: 1.000\n",
      "23/01/30 15:54:21 INFO LBFGS: Val and Grad Norm: 0.209245 (rel: 3.66e-06) 0.000273876\n",
      "23/01/30 15:54:21 INFO LBFGS: Step Size: 1.000\n",
      "23/01/30 15:54:21 INFO LBFGS: Val and Grad Norm: 0.209244 (rel: 6.11e-06) 0.000441912\n",
      "23/01/30 15:54:21 INFO LBFGS: Step Size: 1.000\n",
      "23/01/30 15:54:21 INFO LBFGS: Val and Grad Norm: 0.209242 (rel: 1.01e-05) 0.000494728\n",
      "23/01/30 15:54:21 INFO LBFGS: Step Size: 1.000\n",
      "23/01/30 15:54:21 INFO LBFGS: Val and Grad Norm: 0.209239 (rel: 1.29e-05) 0.000616859\n",
      "23/01/30 15:54:21 INFO LBFGS: Step Size: 1.000\n",
      "23/01/30 15:54:21 INFO LBFGS: Val and Grad Norm: 0.209238 (rel: 4.45e-06) 0.00129094\n",
      "23/01/30 15:54:21 INFO LBFGS: Step Size: 1.000\n",
      "23/01/30 15:54:21 INFO LBFGS: Val and Grad Norm: 0.209236 (rel: 1.13e-05) 0.000325023\n",
      "23/01/30 15:54:22 INFO LBFGS: Step Size: 1.000\n",
      "23/01/30 15:54:22 INFO LBFGS: Val and Grad Norm: 0.209235 (rel: 2.04e-06) 0.000261913\n",
      "23/01/30 15:54:22 INFO LBFGS: Step Size: 1.000\n",
      "23/01/30 15:54:22 INFO LBFGS: Val and Grad Norm: 0.209234 (rel: 5.38e-06) 0.000339595\n",
      "23/01/30 15:54:22 INFO LBFGS: Step Size: 1.000\n",
      "23/01/30 15:54:22 INFO LBFGS: Val and Grad Norm: 0.209233 (rel: 4.90e-06) 0.000572036\n",
      "23/01/30 15:54:22 INFO LBFGS: Step Size: 1.000\n",
      "23/01/30 15:54:22 INFO LBFGS: Val and Grad Norm: 0.209232 (rel: 4.07e-06) 0.000184677\n",
      "23/01/30 15:54:22 INFO LBFGS: Step Size: 1.000\n",
      "23/01/30 15:54:22 INFO LBFGS: Val and Grad Norm: 0.209232 (rel: 1.23e-06) 0.000140628\n",
      "23/01/30 15:54:22 INFO LBFGS: Step Size: 1.000\n",
      "23/01/30 15:54:22 INFO LBFGS: Val and Grad Norm: 0.209232 (rel: 1.30e-06) 0.000155571\n",
      "23/01/30 15:54:22 INFO LBFGS: Step Size: 1.000\n",
      "23/01/30 15:54:22 INFO LBFGS: Val and Grad Norm: 0.209231 (rel: 4.71e-06) 0.000227158\n",
      "23/01/30 15:54:22 INFO LBFGS: Step Size: 1.000\n",
      "23/01/30 15:54:22 INFO LBFGS: Val and Grad Norm: 0.209230 (rel: 4.11e-06) 0.000464024\n",
      "23/01/30 15:54:22 INFO LBFGS: Step Size: 1.000\n",
      "23/01/30 15:54:22 INFO LBFGS: Val and Grad Norm: 0.209229 (rel: 5.60e-06) 0.000264945\n",
      "23/01/30 15:54:23 INFO LBFGS: Step Size: 1.000\n",
      "23/01/30 15:54:23 INFO LBFGS: Val and Grad Norm: 0.209228 (rel: 4.05e-06) 0.000159296\n",
      "23/01/30 15:54:23 INFO LBFGS: Step Size: 1.000\n",
      "23/01/30 15:54:23 INFO LBFGS: Val and Grad Norm: 0.209227 (rel: 1.96e-06) 0.000311674\n",
      "23/01/30 15:54:23 INFO LBFGS: Step Size: 1.000\n",
      "23/01/30 15:54:23 INFO LBFGS: Val and Grad Norm: 0.209227 (rel: 3.90e-07) 0.000433875\n",
      "23/01/30 15:54:23 INFO LBFGS: Step Size: 1.000\n",
      "23/01/30 15:54:23 INFO LBFGS: Val and Grad Norm: 0.209227 (rel: 1.16e-06) 0.000139002\n",
      "23/01/30 15:54:23 INFO LBFGS: Step Size: 1.000\n",
      "23/01/30 15:54:23 INFO LBFGS: Val and Grad Norm: 0.209227 (rel: 5.04e-07) 9.88347e-05\n",
      "23/01/30 15:54:23 INFO LBFGS: Step Size: 1.000\n",
      "23/01/30 15:54:23 INFO LBFGS: Val and Grad Norm: 0.209227 (rel: 7.53e-07) 0.000140541\n",
      "23/01/30 15:54:23 INFO LBFGS: Step Size: 1.000\n",
      "23/01/30 15:54:23 INFO LBFGS: Val and Grad Norm: 0.209226 (rel: 1.07e-06) 0.000158484\n",
      "23/01/30 15:54:24 INFO StrongWolfeLineSearch: Line search t: 0.2483121884021804 fval: 0.20922632035027458 rhs: 0.20922647801107555 cdd: -3.520529413457485E-12\n",
      "23/01/30 15:54:24 INFO LBFGS: Step Size: 0.2483\n",
      "23/01/30 15:54:24 INFO LBFGS: Val and Grad Norm: 0.209226 (rel: 7.54e-07) 0.000245847\n",
      "23/01/30 15:54:24 INFO LBFGS: Step Size: 1.000\n",
      "23/01/30 15:54:24 INFO LBFGS: Val and Grad Norm: 0.209226 (rel: 1.66e-06) 0.000146285\n",
      "23/01/30 15:54:24 INFO LBFGS: Step Size: 1.000\n",
      "23/01/30 15:54:24 INFO LBFGS: Val and Grad Norm: 0.209226 (rel: 1.60e-06) 0.000143391\n",
      "23/01/30 15:54:24 INFO LBFGS: Step Size: 1.000\n",
      "23/01/30 15:54:24 INFO LBFGS: Val and Grad Norm: 0.209225 (rel: 1.73e-06) 0.000244243\n",
      "23/01/30 15:54:24 INFO LBFGS: Step Size: 1.000\n",
      "23/01/30 15:54:24 INFO LBFGS: Val and Grad Norm: 0.209225 (rel: 1.68e-06) 0.000253351\n",
      "23/01/30 15:54:24 INFO LBFGS: Step Size: 1.000\n",
      "23/01/30 15:54:24 INFO LBFGS: Val and Grad Norm: 0.209225 (rel: 1.68e-06) 0.000158196\n",
      "23/01/30 15:54:24 INFO LBFGS: Step Size: 1.000\n",
      "23/01/30 15:54:24 INFO LBFGS: Val and Grad Norm: 0.209224 (rel: 1.77e-06) 0.000123533\n",
      "23/01/30 15:54:24 INFO LBFGS: Step Size: 1.000\n",
      "23/01/30 15:54:24 INFO LBFGS: Val and Grad Norm: 0.209224 (rel: 4.48e-07) 0.000152682\n",
      "23/01/30 15:54:24 INFO LBFGS: Step Size: 1.000\n",
      "23/01/30 15:54:25 INFO LBFGS: Val and Grad Norm: 0.209224 (rel: 3.27e-07) 6.74984e-05\n",
      "23/01/30 15:54:25 INFO LBFGS: Step Size: 1.000\n",
      "23/01/30 15:54:25 INFO LBFGS: Val and Grad Norm: 0.209224 (rel: 2.16e-07) 5.50610e-05\n",
      "23/01/30 15:54:25 INFO LBFGS: Step Size: 1.000\n",
      "23/01/30 15:54:25 INFO LBFGS: Val and Grad Norm: 0.209224 (rel: 8.18e-08) 0.000120924\n",
      "23/01/30 15:54:25 INFO LBFGS: Step Size: 1.000\n",
      "23/01/30 15:54:25 INFO LBFGS: Val and Grad Norm: 0.209224 (rel: 9.75e-08) 6.78809e-05\n",
      "23/01/30 15:54:25 INFO LBFGS: Step Size: 1.000\n",
      "23/01/30 15:54:25 INFO LBFGS: Val and Grad Norm: 0.209224 (rel: 9.65e-08) 4.03463e-05\n",
      "23/01/30 15:54:25 INFO LBFGS: Step Size: 1.000\n",
      "23/01/30 15:54:25 INFO LBFGS: Val and Grad Norm: 0.209224 (rel: 3.11e-08) 3.13854e-05\n",
      "23/01/30 15:54:25 INFO LBFGS: Step Size: 1.000\n",
      "23/01/30 15:54:25 INFO LBFGS: Val and Grad Norm: 0.209224 (rel: 5.11e-08) 3.03245e-05\n",
      "23/01/30 15:54:25 INFO LBFGS: Step Size: 1.000\n",
      "23/01/30 15:54:25 INFO LBFGS: Val and Grad Norm: 0.209224 (rel: 7.72e-08) 5.20168e-05\n",
      "23/01/30 15:54:25 INFO LBFGS: Step Size: 1.000\n",
      "23/01/30 15:54:25 INFO LBFGS: Val and Grad Norm: 0.209224 (rel: 7.58e-08) 3.64311e-05\n",
      "23/01/30 15:54:25 INFO LBFGS: Step Size: 1.000\n",
      "23/01/30 15:54:25 INFO LBFGS: Val and Grad Norm: 0.209224 (rel: 7.26e-08) 3.34666e-05\n",
      "23/01/30 15:54:25 INFO LBFGS: Step Size: 1.000\n",
      "23/01/30 15:54:25 INFO LBFGS: Val and Grad Norm: 0.209224 (rel: 1.53e-07) 5.06768e-05\n",
      "23/01/30 15:54:25 INFO LBFGS: Step Size: 1.000\n",
      "23/01/30 15:54:25 INFO LBFGS: Val and Grad Norm: 0.209224 (rel: 2.31e-07) 0.000118081\n",
      "23/01/30 15:54:26 INFO LBFGS: Step Size: 1.000\n",
      "23/01/30 15:54:26 INFO LBFGS: Val and Grad Norm: 0.209224 (rel: 3.50e-07) 0.000111191\n",
      "23/01/30 15:54:26 INFO LBFGS: Step Size: 1.000\n",
      "23/01/30 15:54:26 INFO LBFGS: Val and Grad Norm: 0.209223 (rel: 1.15e-06) 0.000101312\n",
      "23/01/30 15:54:26 INFO StrongWolfeLineSearch: Line search t: 0.3909027348376626 fval: 0.20922339427221523 rhs: 0.2092234797245601 cdd: -9.462910331790853E-14\n",
      "23/01/30 15:54:26 INFO LBFGS: Step Size: 0.3909\n",
      "23/01/30 15:54:26 INFO LBFGS: Val and Grad Norm: 0.209223 (rel: 4.09e-07) 0.000134085\n",
      "23/01/30 15:54:26 INFO LBFGS: Step Size: 1.000\n",
      "23/01/30 15:54:26 INFO LBFGS: Val and Grad Norm: 0.209223 (rel: 4.49e-07) 0.000131828\n",
      "23/01/30 15:54:26 INFO LBFGS: Step Size: 1.000\n",
      "23/01/30 15:54:26 INFO LBFGS: Val and Grad Norm: 0.209223 (rel: 2.80e-07) 7.47696e-05\n",
      "23/01/30 15:54:26 INFO LBFGS: Step Size: 1.000\n",
      "23/01/30 15:54:26 INFO LBFGS: Val and Grad Norm: 0.209223 (rel: 1.50e-07) 5.17181e-05\n",
      "23/01/30 15:54:26 INFO LBFGS: Step Size: 1.000\n",
      "23/01/30 15:54:26 INFO LBFGS: Val and Grad Norm: 0.209223 (rel: 3.01e-07) 5.08486e-05\n",
      "23/01/30 15:54:26 INFO LBFGS: Step Size: 1.000\n",
      "23/01/30 15:54:26 INFO LBFGS: Val and Grad Norm: 0.209223 (rel: 2.74e-07) 8.50223e-05\n",
      "23/01/30 15:54:26 INFO LBFGS: Step Size: 1.000\n",
      "23/01/30 15:54:26 INFO LBFGS: Val and Grad Norm: 0.209223 (rel: 2.20e-07) 9.31888e-05\n",
      "23/01/30 15:54:26 INFO LBFGS: Step Size: 1.000\n",
      "23/01/30 15:54:26 INFO LBFGS: Val and Grad Norm: 0.209223 (rel: 1.73e-07) 4.51425e-05\n",
      "23/01/30 15:54:27 INFO LBFGS: Step Size: 1.000\n",
      "23/01/30 15:54:27 INFO LBFGS: Val and Grad Norm: 0.209223 (rel: 1.29e-07) 4.29904e-05\n",
      "23/01/30 15:54:27 INFO LBFGS: Step Size: 1.000\n",
      "23/01/30 15:54:27 INFO LBFGS: Val and Grad Norm: 0.209223 (rel: 1.21e-07) 5.32332e-05\n",
      "23/01/30 15:54:27 INFO LBFGS: Step Size: 1.000\n",
      "23/01/30 15:54:27 INFO LBFGS: Val and Grad Norm: 0.209223 (rel: 3.81e-07) 0.000143467\n",
      "23/01/30 15:54:27 INFO LBFGS: Step Size: 1.000\n",
      "23/01/30 15:54:27 INFO LBFGS: Val and Grad Norm: 0.209223 (rel: 4.82e-07) 9.86752e-05\n",
      "23/01/30 15:54:27 INFO LBFGS: Step Size: 1.000\n",
      "23/01/30 15:54:27 INFO LBFGS: Val and Grad Norm: 0.209223 (rel: 4.83e-07) 6.80761e-05\n",
      "23/01/30 15:54:27 INFO StrongWolfeLineSearch: Line search t: 0.4882527909480028 fval: 0.20922263617814474 rhs: 0.2092226740114581 cdd: -5.065528141298286E-16\n",
      "23/01/30 15:54:27 INFO LBFGS: Step Size: 0.4883\n",
      "23/01/30 15:54:27 INFO LBFGS: Val and Grad Norm: 0.209223 (rel: 1.81e-07) 0.000150733\n",
      "23/01/30 15:54:27 INFO LBFGS: Step Size: 1.000\n",
      "23/01/30 15:54:27 INFO LBFGS: Val and Grad Norm: 0.209223 (rel: 2.47e-07) 6.06604e-05\n",
      "23/01/30 15:54:27 INFO LBFGS: Step Size: 1.000\n",
      "23/01/30 15:54:27 INFO LBFGS: Val and Grad Norm: 0.209223 (rel: 1.17e-07) 4.98176e-05\n",
      "23/01/30 15:54:27 INFO LBFGS: Converged because max iterations reached\n"
     ]
    },
    {
     "data": {
      "text/plain": [
       "\u001b[36mlrModel1\u001b[39m: \u001b[32mLogisticRegressionModel\u001b[39m = LogisticRegressionModel: uid=logreg_c3d52860028e, numClasses=2, numFeatures=50"
      ]
     },
     "execution_count": 244,
     "metadata": {},
     "output_type": "execute_result"
    }
   ],
   "source": [
    "// Now Learn a LogisticRegression model. This uses the parameters stored in lr.\n",
    "val lrModel1 = lr.fit(trainingDF);"
   ]
  },
  {
   "cell_type": "markdown",
   "metadata": {},
   "source": [
    "### Understand the fitted model\n",
    "\n",
    "Extract the parameters and performance metrics of the fitted model."
   ]
  },
  {
   "cell_type": "code",
   "execution_count": 245,
   "metadata": {},
   "outputs": [
    {
     "name": "stdout",
     "output_type": "stream",
     "text": [
      "Prediction labels:  0.0 1.0\n",
      "True Positive Rate By Label:  0.9540030441400305 0.5675482487491065\n",
      "Recall By Label:  0.9540030441400305 0.5675482487491065\n",
      "Precision By Label:  0.9452554744525548 0.611867454405343\n",
      "False Positive Rate By Label:  0.43245175125089347 0.04599695585996956\n",
      "F-Measure By Label:  0.9496091145991152 0.5888751545117429\n",
      "Accuracy: 0.910222150241585\n",
      "Total no of Iterations: 100\n"
     ]
    }
   ],
   "source": [
    "print(\"Prediction labels: \")\n",
    "lrModel1.summary.labels.foreach( x => print(\" \" + x))\n",
    "print(\"\\nTrue Positive Rate By Label: \")\n",
    "lrModel1.summary.truePositiveRateByLabel.foreach( x => print(\" \" + x))\n",
    "print(\"\\nRecall By Label: \")\n",
    "lrModel1.summary.recallByLabel.foreach( x => print(\" \" + x))\n",
    "print(\"\\nPrecision By Label: \")\n",
    "lrModel1.summary.precisionByLabel.foreach( x => print(\" \" + x))\n",
    "print(\"\\nFalse Positive Rate By Label: \")\n",
    "lrModel1.summary.falsePositiveRateByLabel.foreach( x => print(\" \" + x))\n",
    "print(\"\\nF-Measure By Label: \")\n",
    "lrModel1.summary.fMeasureByLabel.foreach( x => print(\" \" + x))\n",
    "println(\"\\nAccuracy: \" + lrModel1.summary.accuracy)\n",
    "println(\"Total no of Iterations: \" + lrModel1.summary.totalIterations)\n",
    "// labelCol // label"
   ]
  },
  {
   "cell_type": "markdown",
   "metadata": {},
   "source": [
    "### Wrap these commands into a convenience function:"
   ]
  },
  {
   "cell_type": "code",
   "execution_count": 246,
   "metadata": {},
   "outputs": [
    {
     "data": {
      "text/plain": [
       "defined \u001b[32mfunction\u001b[39m \u001b[36mgetModelFitSummary\u001b[39m"
      ]
     },
     "execution_count": 246,
     "metadata": {},
     "output_type": "execute_result"
    }
   ],
   "source": [
    "/**\n",
    "Extract model fit performance from a binary classifiction model\n",
    "*/\n",
    "def getModelFitSummary(sc:SparkContext, fittedModel:LogisticRegressionModel):DataFrame = {\n",
    "    if( fittedModel.numClasses == 2){\n",
    "        val summaryDF = sc.parallelize(\n",
    "            Array(\n",
    "              (\"Prediction labels\", fittedModel.summary.labels(0), fittedModel.summary.labels(1) )\n",
    "            , (\"True Positive Rate\", fittedModel.summary.truePositiveRateByLabel(0), fittedModel.summary.truePositiveRateByLabel(1) )\n",
    "            , (\"Recall\", fittedModel.summary.recallByLabel(0), fittedModel.summary.recallByLabel(1) )\n",
    "            , (\"Precision\", fittedModel.summary.precisionByLabel(0), fittedModel.summary.precisionByLabel(1) )\n",
    "            , (\"False Positive Rate\", fittedModel.summary.falsePositiveRateByLabel(0), fittedModel.summary.falsePositiveRateByLabel(1) )\n",
    "            , (\"F-measure\", fittedModel.summary.fMeasureByLabel(0), fittedModel.summary.fMeasureByLabel(1) )\n",
    "            , (\"Total Accuracy\", 0.0, fittedModel.summary.accuracy )\n",
    "            , (\"Area Under ROC\", 0.0, fittedModel.binarySummary.areaUnderROC)\n",
    "            )\n",
    "            ).toDF(Array(\"Metric\", \"Class_0\", \"Class_1\"): _*)\n",
    "\n",
    "        return summaryDF\n",
    "    }\n",
    "    return null\n",
    "}"
   ]
  },
  {
   "cell_type": "code",
   "execution_count": 247,
   "metadata": {},
   "outputs": [
    {
     "name": "stdout",
     "output_type": "stream",
     "text": [
      "+-------------------+-------------------+-------------------+\n",
      "|             Metric|            Class_0|            Class_1|\n",
      "+-------------------+-------------------+-------------------+\n",
      "|  Prediction labels|                0.0|                1.0|\n",
      "| True Positive Rate| 0.9540030441400305| 0.5675482487491065|\n",
      "|             Recall| 0.9540030441400305| 0.5675482487491065|\n",
      "|          Precision| 0.9452554744525548|  0.611867454405343|\n",
      "|False Positive Rate|0.43245175125089347|0.04599695585996956|\n",
      "|          F-measure| 0.9496091145991152| 0.5888751545117429|\n",
      "|     Total Accuracy|                0.0|  0.910222150241585|\n",
      "|     Area Under ROC|                0.0| 0.9366489871543373|\n",
      "+-------------------+-------------------+-------------------+\n",
      "\n"
     ]
    },
    {
     "data": {
      "text/plain": [
       "\u001b[36mlrmodel1_summary\u001b[39m: \u001b[32mDataFrame\u001b[39m = [Metric: string, Class_0: double ... 1 more field]"
      ]
     },
     "execution_count": 247,
     "metadata": {},
     "output_type": "execute_result"
    }
   ],
   "source": [
    "val lrmodel1_summary = getModelFitSummary(spark.sparkContext, lrModel1)\n",
    "\n",
    "lrmodel1_summary.show(10)"
   ]
  },
  {
   "cell_type": "code",
   "execution_count": 248,
   "metadata": {},
   "outputs": [
    {
     "data": {
      "text/plain": [
       "\u001b[36mres247\u001b[39m: \u001b[32mlinalg\u001b[39m.\u001b[32mVector\u001b[39m = [0.08929699811858023,-0.12991105334224565,0.10660142417505587,0.0035108312116281085,0.05015596724370776,0.4334691081349534,-0.11275155612992703,-0.08362680602814758,0.0022494988198624158,0.1832846920962329,0.2533553293269838,0.3790928746135225,0.4567786711449594,0.32985034825169035,-0.2674248674989839,-0.4256658042471482,-0.49222255172482904,-0.3990814004052108,-0.47235513585234873,-0.3995417988274074,-0.2903718016139603,0.1902187433847383,-0.12245630399105265,0.02796183082914988,0.04008613501539039,0.08763729127949141,0.032406713072771494,0.08293763583846984,-0.10119501477903015,0.20084202716608857,0.11343769207386381,-0.5396409612701998,-1.0112351384318294,-0.8447128285517715,0.10421454370594475,0.6135613168062243,-0.6207939396904261,-0.5378100985337787,-0.25508736139086624,0.045457782736203954,0.05287103483647745,1.5511249151553137,0.07652248872014075,23.072170029479025,-0.8945340833066275,-6.686053732452271,3.819435183913021,0.005465113050888893,1.1902859207658534,0.1823161931495593]"
      ]
     },
     "execution_count": 248,
     "metadata": {},
     "output_type": "execute_result"
    }
   ],
   "source": [
    "lrModel1.coefficients"
   ]
  },
  {
   "cell_type": "code",
   "execution_count": 249,
   "metadata": {},
   "outputs": [
    {
     "name": "stdout",
     "output_type": "stream",
     "text": [
      "{\n",
      "\tlogreg_c3d52860028e-aggregationDepth: 2,\n",
      "\tlogreg_c3d52860028e-elasticNetParam: 0.0,\n",
      "\tlogreg_c3d52860028e-family: binomial,\n",
      "\tlogreg_c3d52860028e-featuresCol: features,\n",
      "\tlogreg_c3d52860028e-fitIntercept: true,\n",
      "\tlogreg_c3d52860028e-labelCol: label,\n",
      "\tlogreg_c3d52860028e-maxBlockSizeInMB: 0.0,\n",
      "\tlogreg_c3d52860028e-maxIter: 100,\n",
      "\tlogreg_c3d52860028e-predictionCol: prediction,\n",
      "\tlogreg_c3d52860028e-probabilityCol: probability,\n",
      "\tlogreg_c3d52860028e-rawPredictionCol: rawPrediction,\n",
      "\tlogreg_c3d52860028e-regParam: 0.0,\n",
      "\tlogreg_c3d52860028e-standardization: true,\n",
      "\tlogreg_c3d52860028e-threshold: 0.35,\n",
      "\tlogreg_c3d52860028e-tol: 1.0E-6\n",
      "}\n"
     ]
    }
   ],
   "source": [
    "println(lrModel1.extractParamMap())"
   ]
  },
  {
   "cell_type": "code",
   "execution_count": 250,
   "metadata": {},
   "outputs": [
    {
     "data": {
      "text/plain": [
       "\u001b[36mres249\u001b[39m: \u001b[32mInt\u001b[39m = \u001b[32m50\u001b[39m"
      ]
     },
     "execution_count": 250,
     "metadata": {},
     "output_type": "execute_result"
    }
   ],
   "source": [
    "lrModel1.numFeatures"
   ]
  },
  {
   "cell_type": "code",
   "execution_count": 251,
   "metadata": {},
   "outputs": [
    {
     "data": {
      "text/plain": [
       "\u001b[36mres250\u001b[39m: \u001b[32mInt\u001b[39m = \u001b[32m2\u001b[39m"
      ]
     },
     "execution_count": 251,
     "metadata": {},
     "output_type": "execute_result"
    }
   ],
   "source": [
    "lrModel1.numClasses"
   ]
  },
  {
   "cell_type": "code",
   "execution_count": 253,
   "metadata": {},
   "outputs": [
    {
     "name": "stderr",
     "output_type": "stream",
     "text": [
      "23/01/30 15:55:36 INFO FileOutputCommitter: File Output Committer Algorithm version is 1\n",
      "23/01/30 15:55:36 INFO FileOutputCommitter: FileOutputCommitter skip cleanup _temporary folders under output directory:false, ignore cleanup failures: false\n",
      "23/01/30 15:55:37 INFO FileOutputCommitter: File Output Committer Algorithm version is 1\n",
      "23/01/30 15:55:37 INFO FileOutputCommitter: FileOutputCommitter skip cleanup _temporary folders under output directory:false, ignore cleanup failures: false\n",
      "23/01/30 15:55:37 INFO FileOutputCommitter: File Output Committer Algorithm version is 1\n",
      "23/01/30 15:55:37 INFO FileOutputCommitter: FileOutputCommitter skip cleanup _temporary folders under output directory:false, ignore cleanup failures: false\n"
     ]
    }
   ],
   "source": [
    "lrModel1.write.overwrite().save(\"/tmp/lr_model1\")"
   ]
  },
  {
   "cell_type": "markdown",
   "metadata": {},
   "source": [
    "### Hyperparameter Tuning\n",
    "\n",
    "We can use grid-search to find the best set of parameters for this model."
   ]
  },
  {
   "cell_type": "code",
   "execution_count": 255,
   "metadata": {
    "id": "be9e9a320b064eda8421fb49ab8c67e3"
   },
   "outputs": [
    {
     "data": {
      "text/plain": [
       "\u001b[36mparamGridLR\u001b[39m: \u001b[32mArray\u001b[39m[\u001b[32mml\u001b[39m.\u001b[32mparam\u001b[39m.\u001b[32mParamMap\u001b[39m] = \u001b[33mArray\u001b[39m(\n",
       "  {\n",
       "\tlogreg_c3d52860028e-elasticNetParam: 0.0075,\n",
       "\tlogreg_c3d52860028e-regParam: 0.0025\n",
       "},\n",
       "  {\n",
       "\tlogreg_c3d52860028e-elasticNetParam: 0.01,\n",
       "\tlogreg_c3d52860028e-regParam: 0.0025\n",
       "},\n",
       "  {\n",
       "\tlogreg_c3d52860028e-elasticNetParam: 0.0075,\n",
       "\tlogreg_c3d52860028e-regParam: 0.005\n",
       "},\n",
       "  {\n",
       "\tlogreg_c3d52860028e-elasticNetParam: 0.01,\n",
       "\tlogreg_c3d52860028e-regParam: 0.005\n",
       "}\n",
       ")"
      ]
     },
     "execution_count": 255,
     "metadata": {},
     "output_type": "execute_result"
    }
   ],
   "source": [
    "// We use a ParamGridBuilder to construct a grid of hyper-parameters to search over.\n",
    "// TrainValidationSplit will try all combinations of values and determine best model using\n",
    "// the evaluator.\n",
    "val paramGridLR = new ParamGridBuilder()\n",
    "  .addGrid(lr.regParam, Array(0.0025, 0.005))\n",
    "  .addGrid(lr.elasticNetParam, Array(0.0075, 0.01))\n",
    "  .build()"
   ]
  },
  {
   "cell_type": "markdown",
   "metadata": {},
   "source": [
    "Define a performance metric to be used by the grid-search to identify the best performing model.\n",
    "\n",
    "Here, we define the performance metric to be used as the \"Area under the Precision-recall curve\"."
   ]
  },
  {
   "cell_type": "code",
   "execution_count": 256,
   "metadata": {
    "id": "b4f56b64dc004b8ea002730eda5eaa3b"
   },
   "outputs": [
    {
     "data": {
      "text/plain": [
       "\u001b[36mbinaryEvaluator\u001b[39m: \u001b[32mBinaryClassificationEvaluator\u001b[39m = BinaryClassificationEvaluator: uid=binEval_a664d6d37f22, metricName=areaUnderPR, numBins=1000"
      ]
     },
     "execution_count": 256,
     "metadata": {},
     "output_type": "execute_result"
    }
   ],
   "source": [
    "val binaryEvaluator = new BinaryClassificationEvaluator()\n",
    "  .setLabelCol(labelColname)\n",
    "  .setMetricName(\"areaUnderPR\");"
   ]
  },
  {
   "cell_type": "code",
   "execution_count": 257,
   "metadata": {
    "id": "2dfa26eb897c4dec9f0ed8a1495d3c9d"
   },
   "outputs": [
    {
     "data": {
      "text/plain": [
       "\u001b[36mxfoldValidator\u001b[39m: \u001b[32mCrossValidator\u001b[39m = cv_310b21052e7d"
      ]
     },
     "execution_count": 257,
     "metadata": {},
     "output_type": "execute_result"
    }
   ],
   "source": [
    "val xfoldValidator = new CrossValidator()\n",
    "  .setEstimator(lr)\n",
    "  .setNumFolds(10)\n",
    "  .setEvaluator(binaryEvaluator)\n",
    "  .setEstimatorParamMaps(paramGridLR)\n",
    "  .setCollectSubModels(false)\n",
    "  .setParallelism(2)"
   ]
  },
  {
   "cell_type": "code",
   "execution_count": 258,
   "metadata": {
    "collapsed": true,
    "id": "c2f8225322774fe08e96e957605e34da",
    "jupyter": {
     "outputs_hidden": true
    },
    "tags": []
   },
   "outputs": [
    {
     "name": "stderr",
     "output_type": "stream",
     "text": [
      "23/01/30 15:57:03 INFO OWLQN: Step Size: 0.9854\n",
      "23/01/30 15:57:03 INFO OWLQN: Val and Grad Norm: 0.307416 (rel: 0.126) 0.176688\n",
      "23/01/30 15:57:03 INFO OWLQN: Step Size: 0.9854\n",
      "23/01/30 15:57:04 INFO OWLQN: Val and Grad Norm: 0.307426 (rel: 0.126) 0.176672\n",
      "23/01/30 15:57:04 INFO OWLQN: Step Size: 1.000\n",
      "23/01/30 15:57:04 INFO OWLQN: Val and Grad Norm: 0.240222 (rel: 0.219) 0.0721266\n",
      "23/01/30 15:57:04 INFO OWLQN: Step Size: 1.000\n",
      "23/01/30 15:57:04 INFO OWLQN: Val and Grad Norm: 0.240240 (rel: 0.219) 0.0721294\n",
      "23/01/30 15:57:04 INFO OWLQN: Step Size: 1.000\n",
      "23/01/30 15:57:04 INFO OWLQN: Val and Grad Norm: 0.229298 (rel: 0.0455) 0.0377960\n",
      "23/01/30 15:57:04 INFO OWLQN: Step Size: 1.000\n",
      "23/01/30 15:57:04 INFO OWLQN: Val and Grad Norm: 0.229317 (rel: 0.0455) 0.0377921\n",
      "23/01/30 15:57:04 INFO OWLQN: Step Size: 1.000\n",
      "23/01/30 15:57:04 INFO OWLQN: Val and Grad Norm: 0.221291 (rel: 0.0349) 0.0268653\n",
      "23/01/30 15:57:05 INFO OWLQN: Step Size: 1.000\n",
      "23/01/30 15:57:05 INFO OWLQN: Val and Grad Norm: 0.221312 (rel: 0.0349) 0.0268628\n",
      "23/01/30 15:57:05 INFO OWLQN: Step Size: 1.000\n",
      "23/01/30 15:57:05 INFO OWLQN: Val and Grad Norm: 0.217625 (rel: 0.0166) 0.0173198\n",
      "23/01/30 15:57:05 INFO OWLQN: Step Size: 1.000\n",
      "23/01/30 15:57:05 INFO OWLQN: Val and Grad Norm: 0.217648 (rel: 0.0166) 0.0173170\n",
      "23/01/30 15:57:05 INFO OWLQN: Step Size: 1.000\n",
      "23/01/30 15:57:05 INFO OWLQN: Val and Grad Norm: 0.215266 (rel: 0.0108) 0.00914962\n",
      "23/01/30 15:57:05 INFO OWLQN: Step Size: 1.000\n",
      "23/01/30 15:57:05 INFO OWLQN: Val and Grad Norm: 0.215290 (rel: 0.0108) 0.00914749\n",
      "23/01/30 15:57:05 INFO OWLQN: Step Size: 1.000\n",
      "23/01/30 15:57:05 INFO OWLQN: Val and Grad Norm: 0.214851 (rel: 0.00193) 0.00436097\n",
      "23/01/30 15:57:05 INFO OWLQN: Step Size: 1.000\n",
      "23/01/30 15:57:05 INFO OWLQN: Val and Grad Norm: 0.214875 (rel: 0.00193) 0.00436137\n",
      "23/01/30 15:57:06 INFO OWLQN: Step Size: 1.000\n",
      "23/01/30 15:57:06 INFO OWLQN: Val and Grad Norm: 0.214747 (rel: 0.000486) 0.00351843\n",
      "23/01/30 15:57:06 INFO OWLQN: Step Size: 1.000\n",
      "23/01/30 15:57:06 INFO OWLQN: Val and Grad Norm: 0.214771 (rel: 0.000485) 0.00352334\n",
      "23/01/30 15:57:06 INFO OWLQN: Step Size: 1.000\n",
      "23/01/30 15:57:06 INFO OWLQN: Val and Grad Norm: 0.214709 (rel: 0.000177) 0.00587264\n",
      "23/01/30 15:57:06 INFO OWLQN: Step Size: 1.000\n",
      "23/01/30 15:57:06 INFO OWLQN: Val and Grad Norm: 0.214733 (rel: 0.000179) 0.00583879\n",
      "23/01/30 15:57:06 INFO OWLQN: Step Size: 1.000\n",
      "23/01/30 15:57:06 INFO OWLQN: Val and Grad Norm: 0.214640 (rel: 0.000321) 0.00122052\n",
      "23/01/30 15:57:06 INFO OWLQN: Step Size: 1.000\n",
      "23/01/30 15:57:06 INFO OWLQN: Val and Grad Norm: 0.214665 (rel: 0.000317) 0.00121739\n",
      "23/01/30 15:57:06 INFO OWLQN: Step Size: 1.000\n",
      "23/01/30 15:57:06 INFO OWLQN: Val and Grad Norm: 0.214633 (rel: 3.28e-05) 0.000721120\n",
      "23/01/30 15:57:06 INFO OWLQN: Step Size: 1.000\n",
      "23/01/30 15:57:06 INFO OWLQN: Val and Grad Norm: 0.214658 (rel: 3.27e-05) 0.000719589\n",
      "23/01/30 15:57:06 INFO OWLQN: Step Size: 1.000\n",
      "23/01/30 15:57:06 INFO OWLQN: Val and Grad Norm: 0.214628 (rel: 2.11e-05) 0.000312224\n",
      "23/01/30 15:57:07 INFO OWLQN: Step Size: 1.000\n",
      "23/01/30 15:57:07 INFO OWLQN: Val and Grad Norm: 0.214653 (rel: 2.13e-05) 0.000314770\n",
      "23/01/30 15:57:07 INFO OWLQN: Step Size: 1.000\n",
      "23/01/30 15:57:07 INFO OWLQN: Val and Grad Norm: 0.214627 (rel: 5.13e-06) 0.000357604\n",
      "23/01/30 15:57:07 INFO OWLQN: Step Size: 1.000\n",
      "23/01/30 15:57:07 INFO OWLQN: Val and Grad Norm: 0.214652 (rel: 5.30e-06) 0.000362048\n",
      "23/01/30 15:57:07 INFO OWLQN: Step Size: 1.000\n",
      "23/01/30 15:57:07 INFO OWLQN: Val and Grad Norm: 0.214626 (rel: 5.98e-06) 0.000265535\n",
      "23/01/30 15:57:07 INFO OWLQN: Step Size: 1.000\n",
      "23/01/30 15:57:07 INFO OWLQN: Val and Grad Norm: 0.214651 (rel: 5.82e-06) 0.000262401\n",
      "23/01/30 15:57:07 INFO OWLQN: Step Size: 1.000\n",
      "23/01/30 15:57:07 INFO OWLQN: Val and Grad Norm: 0.214625 (rel: 6.36e-06) 0.000339144\n",
      "23/01/30 15:57:07 INFO OWLQN: Step Size: 1.000\n",
      "23/01/30 15:57:07 INFO OWLQN: Val and Grad Norm: 0.214649 (rel: 6.31e-06) 0.000272111\n",
      "23/01/30 15:57:07 INFO OWLQN: Step Size: 1.000\n",
      "23/01/30 15:57:07 INFO OWLQN: Val and Grad Norm: 0.214624 (rel: 2.49e-06) 0.000282557\n",
      "23/01/30 15:57:07 INFO OWLQN: Step Size: 1.000\n",
      "23/01/30 15:57:07 INFO OWLQN: Val and Grad Norm: 0.214649 (rel: 1.80e-06) 0.000365134\n",
      "23/01/30 15:57:07 INFO OWLQN: Step Size: 1.000\n",
      "23/01/30 15:57:07 INFO OWLQN: Val and Grad Norm: 0.214624 (rel: 2.04e-06) 0.000128188\n",
      "23/01/30 15:57:08 INFO OWLQN: Step Size: 1.000\n",
      "23/01/30 15:57:08 INFO OWLQN: Val and Grad Norm: 0.214648 (rel: 2.40e-06) 0.000148851\n",
      "23/01/30 15:57:08 INFO OWLQN: Step Size: 1.000\n",
      "23/01/30 15:57:08 INFO OWLQN: Val and Grad Norm: 0.214623 (rel: 1.32e-06) 0.000136078\n",
      "23/01/30 15:57:08 INFO OWLQN: Step Size: 1.000\n",
      "23/01/30 15:57:08 INFO OWLQN: Val and Grad Norm: 0.214648 (rel: 1.02e-06) 0.000119147\n",
      "23/01/30 15:57:08 INFO OWLQN: Step Size: 1.000\n",
      "23/01/30 15:57:08 INFO OWLQN: Val and Grad Norm: 0.214648 (rel: 1.11e-06) 0.000282470\n",
      "23/01/30 15:57:08 INFO OWLQN: Step Size: 0.5000\n",
      "23/01/30 15:57:08 INFO OWLQN: Val and Grad Norm: 0.214623 (rel: 1.10e-06) 0.000194258\n",
      "23/01/30 15:57:09 INFO OWLQN: Step Size: 1.000\n",
      "23/01/30 15:57:09 INFO OWLQN: Val and Grad Norm: 0.214623 (rel: 3.21e-07) 0.000282507\n",
      "23/01/30 15:57:09 INFO OWLQN: Step Size: 0.5000\n",
      "23/01/30 15:57:09 INFO OWLQN: Val and Grad Norm: 0.214648 (rel: 1.12e-06) 0.000137349\n",
      "23/01/30 15:57:09 INFO OWLQN: Step Size: 1.000\n",
      "23/01/30 15:57:09 INFO OWLQN: Val and Grad Norm: 0.214623 (rel: 1.45e-06) 0.000187598\n",
      "23/01/30 15:57:09 INFO OWLQN: Step Size: 1.000\n",
      "23/01/30 15:57:09 INFO OWLQN: Val and Grad Norm: 0.214623 (rel: 6.56e-07) 0.000154009\n",
      "23/01/30 15:57:10 INFO OWLQN: Step Size: 0.5000\n",
      "23/01/30 15:57:10 INFO OWLQN: Val and Grad Norm: 0.214648 (rel: 6.58e-07) 0.000151810\n",
      "23/01/30 15:57:10 INFO OWLQN: Step Size: 1.000\n",
      "23/01/30 15:57:10 INFO OWLQN: Val and Grad Norm: 0.214623 (rel: 3.26e-07) 5.52028e-05\n",
      "23/01/30 15:57:10 INFO OWLQN: Step Size: 1.000\n",
      "23/01/30 15:57:10 INFO OWLQN: Val and Grad Norm: 0.214623 (rel: 7.82e-08) 5.35533e-05\n",
      "23/01/30 15:57:10 INFO OWLQN: Step Size: 0.5000\n",
      "23/01/30 15:57:10 INFO OWLQN: Val and Grad Norm: 0.214647 (rel: 3.66e-07) 0.000100370\n",
      "23/01/30 15:57:10 INFO OWLQN: Step Size: 1.000\n",
      "23/01/30 15:57:10 INFO OWLQN: Val and Grad Norm: 0.214623 (rel: 2.82e-08) 8.72141e-05\n",
      "23/01/30 15:57:11 INFO OWLQN: Step Size: 1.000\n",
      "23/01/30 15:57:11 INFO OWLQN: Val and Grad Norm: 0.214623 (rel: 1.12e-07) 1.87304e-05\n",
      "23/01/30 15:57:11 INFO OWLQN: Step Size: 0.5000\n",
      "23/01/30 15:57:11 INFO OWLQN: Val and Grad Norm: 0.214647 (rel: 2.86e-07) 7.43491e-05\n",
      "23/01/30 15:57:11 INFO OWLQN: Step Size: 1.000\n",
      "23/01/30 15:57:11 INFO OWLQN: Val and Grad Norm: 0.214623 (rel: 1.40e-08) 1.48293e-05\n",
      "23/01/30 15:57:11 INFO OWLQN: Step Size: 1.000\n",
      "23/01/30 15:57:11 INFO OWLQN: Val and Grad Norm: 0.214623 (rel: 1.67e-08) 1.45895e-05\n",
      "23/01/30 15:57:11 INFO OWLQN: Step Size: 0.5000\n",
      "23/01/30 15:57:11 INFO OWLQN: Val and Grad Norm: 0.214647 (rel: 1.70e-07) 8.20549e-05\n",
      "23/01/30 15:57:12 INFO OWLQN: Step Size: 1.000\n",
      "23/01/30 15:57:12 INFO OWLQN: Val and Grad Norm: 0.214623 (rel: 9.27e-09) 1.68990e-05\n",
      "23/01/30 15:57:12 INFO OWLQN: Step Size: 1.000\n",
      "23/01/30 15:57:12 INFO OWLQN: Val and Grad Norm: 0.214623 (rel: 6.68e-09) 1.01339e-05\n",
      "23/01/30 15:57:12 INFO OWLQN: Step Size: 0.5000\n",
      "23/01/30 15:57:12 INFO OWLQN: Val and Grad Norm: 0.214647 (rel: 1.91e-07) 5.09217e-05\n",
      "23/01/30 15:57:12 INFO OWLQN: Step Size: 1.000\n",
      "23/01/30 15:57:12 INFO OWLQN: Val and Grad Norm: 0.214623 (rel: 4.94e-09) 1.28784e-05\n",
      "23/01/30 15:57:13 INFO OWLQN: Step Size: 1.000\n",
      "23/01/30 15:57:13 INFO OWLQN: Val and Grad Norm: 0.214623 (rel: 2.77e-09) 1.66337e-05\n",
      "23/01/30 15:57:13 INFO OWLQN: Step Size: 0.5000\n",
      "23/01/30 15:57:13 INFO OWLQN: Val and Grad Norm: 0.214647 (rel: 8.37e-08) 5.77605e-05\n",
      "23/01/30 15:57:13 INFO OWLQN: Step Size: 1.000\n",
      "23/01/30 15:57:13 INFO OWLQN: Val and Grad Norm: 0.214623 (rel: 4.29e-09) 1.43707e-05\n",
      "23/01/30 15:57:13 INFO OWLQN: Step Size: 1.000\n",
      "23/01/30 15:57:13 INFO OWLQN: Val and Grad Norm: 0.214623 (rel: 4.24e-09) 1.34962e-05\n",
      "23/01/30 15:57:13 INFO OWLQN: Step Size: 0.5000\n",
      "23/01/30 15:57:13 INFO OWLQN: Val and Grad Norm: 0.214647 (rel: 8.41e-08) 3.82996e-05\n",
      "23/01/30 15:57:13 INFO OWLQN: Step Size: 1.000\n",
      "23/01/30 15:57:13 INFO OWLQN: Val and Grad Norm: 0.214623 (rel: 2.87e-09) 1.17764e-05\n",
      "23/01/30 15:57:14 INFO OWLQN: Step Size: 1.000\n",
      "23/01/30 15:57:14 INFO OWLQN: Val and Grad Norm: 0.214623 (rel: 2.22e-09) 1.29519e-05\n",
      "23/01/30 15:57:14 INFO OWLQN: Step Size: 0.5000\n",
      "23/01/30 15:57:14 INFO OWLQN: Val and Grad Norm: 0.214647 (rel: 5.13e-08) 3.34556e-05\n",
      "23/01/30 15:57:14 INFO OWLQN: Step Size: 1.000\n",
      "23/01/30 15:57:14 INFO OWLQN: Val and Grad Norm: 0.214623 (rel: 2.50e-09) 1.09504e-05\n",
      "23/01/30 15:57:14 INFO OWLQN: Step Size: 1.000\n",
      "23/01/30 15:57:14 INFO OWLQN: Val and Grad Norm: 0.214623 (rel: 1.90e-09) 1.01158e-05\n",
      "23/01/30 15:57:14 INFO OWLQN: Step Size: 0.5000\n",
      "23/01/30 15:57:14 INFO OWLQN: Val and Grad Norm: 0.214647 (rel: 3.39e-08) 2.27559e-05\n",
      "23/01/30 15:57:14 INFO OWLQN: Step Size: 1.000\n",
      "23/01/30 15:57:14 INFO OWLQN: Val and Grad Norm: 0.214623 (rel: 1.47e-09) 8.38727e-06\n",
      "23/01/30 15:57:14 INFO OWLQN: Step Size: 1.000\n",
      "23/01/30 15:57:14 INFO OWLQN: Val and Grad Norm: 0.214647 (rel: 8.14e-09) 4.24074e-05\n",
      "23/01/30 15:57:15 INFO OWLQN: Step Size: 1.000\n",
      "23/01/30 15:57:15 INFO OWLQN: Val and Grad Norm: 0.214623 (rel: 1.03e-09) 7.40258e-06\n",
      "23/01/30 15:57:15 INFO OWLQN: Converged because function values converged\n",
      "23/01/30 15:57:15 INFO OWLQN: Step Size: 1.000\n",
      "23/01/30 15:57:15 INFO OWLQN: Val and Grad Norm: 0.214647 (rel: 4.44e-08) 1.18911e-05\n",
      "23/01/30 15:57:15 INFO OWLQN: Step Size: 1.000\n",
      "23/01/30 15:57:15 INFO OWLQN: Val and Grad Norm: 0.214647 (rel: 1.29e-08) 1.17176e-05\n",
      "23/01/30 15:57:15 INFO OWLQN: Step Size: 1.000\n",
      "23/01/30 15:57:15 INFO OWLQN: Val and Grad Norm: 0.214647 (rel: 1.92e-08) 3.72163e-05\n",
      "23/01/30 15:57:15 INFO OWLQN: Step Size: 1.000\n",
      "23/01/30 15:57:15 INFO OWLQN: Val and Grad Norm: 0.214647 (rel: 4.75e-09) 2.75996e-05\n",
      "23/01/30 15:57:16 INFO OWLQN: Step Size: 1.000\n",
      "23/01/30 15:57:16 INFO OWLQN: Val and Grad Norm: 0.214647 (rel: 1.24e-08) 1.13791e-05\n",
      "23/01/30 15:57:16 INFO OWLQN: Step Size: 1.000\n",
      "23/01/30 15:57:16 INFO OWLQN: Val and Grad Norm: 0.214647 (rel: 3.28e-09) 1.01344e-05\n",
      "23/01/30 15:57:16 INFO OWLQN: Step Size: 1.000\n",
      "23/01/30 15:57:16 INFO OWLQN: Val and Grad Norm: 0.214647 (rel: 2.28e-09) 1.44584e-05\n",
      "23/01/30 15:57:17 INFO OWLQN: Step Size: 1.000\n",
      "23/01/30 15:57:17 INFO OWLQN: Val and Grad Norm: 0.214647 (rel: 4.18e-09) 9.87487e-06\n",
      "23/01/30 15:57:17 INFO OWLQN: Step Size: 1.000\n",
      "23/01/30 15:57:17 INFO OWLQN: Val and Grad Norm: 0.214647 (rel: 1.53e-09) 1.11602e-05\n",
      "23/01/30 15:57:17 INFO OWLQN: Step Size: 1.000\n",
      "23/01/30 15:57:17 INFO OWLQN: Val and Grad Norm: 0.214647 (rel: 2.35e-09) 8.29639e-06\n",
      "23/01/30 15:57:17 INFO OWLQN: Converged because function values converged\n",
      "23/01/30 15:57:24 INFO OWLQN: Step Size: 0.9854\n",
      "23/01/30 15:57:24 INFO OWLQN: Val and Grad Norm: 0.307525 (rel: 0.126) 0.176062\n",
      "23/01/30 15:57:24 INFO OWLQN: Step Size: 0.9854\n",
      "23/01/30 15:57:24 INFO OWLQN: Val and Grad Norm: 0.307506 (rel: 0.126) 0.176093\n",
      "23/01/30 15:57:24 INFO OWLQN: Step Size: 1.000\n",
      "23/01/30 15:57:24 INFO OWLQN: Val and Grad Norm: 0.241716 (rel: 0.214) 0.0715415\n",
      "23/01/30 15:57:24 INFO OWLQN: Step Size: 1.000\n",
      "23/01/30 15:57:24 INFO OWLQN: Val and Grad Norm: 0.241752 (rel: 0.214) 0.0715472\n",
      "23/01/30 15:57:24 INFO OWLQN: Step Size: 1.000\n",
      "23/01/30 15:57:24 INFO OWLQN: Val and Grad Norm: 0.231194 (rel: 0.0435) 0.0369422\n",
      "23/01/30 15:57:24 INFO OWLQN: Step Size: 1.000\n",
      "23/01/30 15:57:24 INFO OWLQN: Val and Grad Norm: 0.231231 (rel: 0.0435) 0.0369343\n",
      "23/01/30 15:57:25 INFO OWLQN: Step Size: 1.000\n",
      "23/01/30 15:57:25 INFO OWLQN: Val and Grad Norm: 0.223814 (rel: 0.0319) 0.0260180\n",
      "23/01/30 15:57:25 INFO OWLQN: Step Size: 1.000\n",
      "23/01/30 15:57:25 INFO OWLQN: Val and Grad Norm: 0.223856 (rel: 0.0319) 0.0260105\n",
      "23/01/30 15:57:25 INFO OWLQN: Step Size: 1.000\n",
      "23/01/30 15:57:25 INFO OWLQN: Val and Grad Norm: 0.220488 (rel: 0.0149) 0.0166562\n",
      "23/01/30 15:57:25 INFO OWLQN: Step Size: 1.000\n",
      "23/01/30 15:57:25 INFO OWLQN: Val and Grad Norm: 0.220532 (rel: 0.0148) 0.0166478\n",
      "23/01/30 15:57:25 INFO OWLQN: Step Size: 1.000\n",
      "23/01/30 15:57:25 INFO OWLQN: Val and Grad Norm: 0.218610 (rel: 0.00852) 0.0102025\n",
      "23/01/30 15:57:25 INFO OWLQN: Step Size: 1.000\n",
      "23/01/30 15:57:25 INFO OWLQN: Val and Grad Norm: 0.218657 (rel: 0.00850) 0.0102246\n",
      "23/01/30 15:57:25 INFO OWLQN: Step Size: 1.000\n",
      "23/01/30 15:57:25 INFO OWLQN: Val and Grad Norm: 0.218373 (rel: 0.00108) 0.00606906\n",
      "23/01/30 15:57:25 INFO OWLQN: Step Size: 1.000\n",
      "23/01/30 15:57:25 INFO OWLQN: Val and Grad Norm: 0.218419 (rel: 0.00108) 0.00606527\n",
      "23/01/30 15:57:26 INFO OWLQN: Step Size: 1.000\n",
      "23/01/30 15:57:26 INFO OWLQN: Val and Grad Norm: 0.218309 (rel: 0.000505) 0.00366065\n",
      "23/01/30 15:57:26 INFO OWLQN: Step Size: 1.000\n",
      "23/01/30 15:57:26 INFO OWLQN: Val and Grad Norm: 0.218263 (rel: 0.000506) 0.00365116\n",
      "23/01/30 15:57:26 INFO OWLQN: Step Size: 1.000\n",
      "23/01/30 15:57:26 INFO OWLQN: Val and Grad Norm: 0.218240 (rel: 0.000317) 0.00316055\n",
      "23/01/30 15:57:26 INFO OWLQN: Step Size: 1.000\n",
      "23/01/30 15:57:26 INFO OWLQN: Val and Grad Norm: 0.218194 (rel: 0.000316) 0.00315763\n",
      "23/01/30 15:57:26 INFO OWLQN: Step Size: 1.000\n",
      "23/01/30 15:57:26 INFO OWLQN: Val and Grad Norm: 0.218208 (rel: 0.000146) 0.00469242\n",
      "23/01/30 15:57:26 INFO OWLQN: Step Size: 1.000\n",
      "23/01/30 15:57:26 INFO OWLQN: Val and Grad Norm: 0.218160 (rel: 0.000153) 0.00464042\n",
      "23/01/30 15:57:26 INFO OWLQN: Step Size: 1.000\n",
      "23/01/30 15:57:26 INFO OWLQN: Val and Grad Norm: 0.218151 (rel: 0.000261) 0.00140191\n",
      "23/01/30 15:57:26 INFO OWLQN: Step Size: 1.000\n",
      "23/01/30 15:57:26 INFO OWLQN: Val and Grad Norm: 0.218104 (rel: 0.000257) 0.00139008\n",
      "23/01/30 15:57:26 INFO OWLQN: Step Size: 1.000\n",
      "23/01/30 15:57:26 INFO OWLQN: Step Size: 1.000\n",
      "23/01/30 15:57:26 INFO OWLQN: Val and Grad Norm: 0.218097 (rel: 3.28e-05) 0.000424068\n",
      "23/01/30 15:57:26 INFO OWLQN: Val and Grad Norm: 0.218144 (rel: 3.28e-05) 0.000431056\n",
      "23/01/30 15:57:27 INFO OWLQN: Step Size: 1.000\n",
      "23/01/30 15:57:27 INFO OWLQN: Val and Grad Norm: 0.218143 (rel: 6.44e-06) 0.000255243\n",
      "23/01/30 15:57:27 INFO OWLQN: Step Size: 1.000\n",
      "23/01/30 15:57:27 INFO OWLQN: Val and Grad Norm: 0.218096 (rel: 6.26e-06) 0.000249908\n",
      "23/01/30 15:57:27 INFO OWLQN: Step Size: 1.000\n",
      "23/01/30 15:57:27 INFO OWLQN: Val and Grad Norm: 0.218142 (rel: 2.91e-06) 0.000289127\n",
      "23/01/30 15:57:27 INFO OWLQN: Step Size: 1.000\n",
      "23/01/30 15:57:27 INFO OWLQN: Val and Grad Norm: 0.218095 (rel: 2.60e-06) 0.000312721\n",
      "23/01/30 15:57:27 INFO OWLQN: Step Size: 1.000\n",
      "23/01/30 15:57:27 INFO OWLQN: Val and Grad Norm: 0.218142 (rel: 1.55e-06) 0.000205520\n",
      "23/01/30 15:57:27 INFO OWLQN: Step Size: 1.000\n",
      "23/01/30 15:57:27 INFO OWLQN: Val and Grad Norm: 0.218095 (rel: 1.65e-06) 0.000181383\n",
      "23/01/30 15:57:27 INFO OWLQN: Step Size: 1.000\n",
      "23/01/30 15:57:27 INFO OWLQN: Val and Grad Norm: 0.218141 (rel: 1.25e-06) 0.000141806\n",
      "23/01/30 15:57:27 INFO OWLQN: Step Size: 1.000\n",
      "23/01/30 15:57:27 INFO OWLQN: Val and Grad Norm: 0.218095 (rel: 1.10e-06) 0.000143936\n",
      "23/01/30 15:57:27 INFO OWLQN: Step Size: 1.000\n",
      "23/01/30 15:57:27 INFO OWLQN: Val and Grad Norm: 0.218141 (rel: 1.14e-06) 0.000150919\n",
      "23/01/30 15:57:27 INFO OWLQN: Step Size: 1.000\n",
      "23/01/30 15:57:27 INFO OWLQN: Val and Grad Norm: 0.218094 (rel: 1.20e-06) 0.000139019\n",
      "23/01/30 15:57:28 INFO OWLQN: Step Size: 1.000\n",
      "23/01/30 15:57:28 INFO OWLQN: Val and Grad Norm: 0.218141 (rel: 1.81e-06) 9.65766e-05\n",
      "23/01/30 15:57:28 INFO OWLQN: Step Size: 1.000\n",
      "23/01/30 15:57:28 INFO OWLQN: Val and Grad Norm: 0.218094 (rel: 1.36e-06) 0.000199939\n",
      "23/01/30 15:57:28 INFO OWLQN: Step Size: 1.000\n",
      "23/01/30 15:57:28 INFO OWLQN: Val and Grad Norm: 0.218094 (rel: 4.47e-07) 0.000119769\n",
      "23/01/30 15:57:28 INFO OWLQN: Step Size: 0.5000\n",
      "23/01/30 15:57:28 INFO OWLQN: Val and Grad Norm: 0.218141 (rel: 3.69e-07) 0.000118733\n",
      "23/01/30 15:57:28 INFO OWLQN: Step Size: 1.000\n",
      "23/01/30 15:57:28 INFO OWLQN: Val and Grad Norm: 0.218094 (rel: 3.44e-07) 8.28639e-05\n",
      "23/01/30 15:57:28 INFO OWLQN: Step Size: 1.000\n",
      "23/01/30 15:57:28 INFO OWLQN: Val and Grad Norm: 0.218094 (rel: 1.47e-07) 4.76875e-05\n",
      "23/01/30 15:57:29 INFO OWLQN: Step Size: 0.5000\n",
      "23/01/30 15:57:29 INFO OWLQN: Val and Grad Norm: 0.218141 (rel: 1.84e-07) 8.51463e-05\n",
      "23/01/30 15:57:29 INFO OWLQN: Step Size: 1.000\n",
      "23/01/30 15:57:29 INFO OWLQN: Val and Grad Norm: 0.218094 (rel: 7.70e-08) 3.40667e-05\n",
      "23/01/30 15:57:30 INFO OWLQN: Step Size: 1.000\n",
      "23/01/30 15:57:30 INFO OWLQN: Val and Grad Norm: 0.218141 (rel: 6.56e-08) 0.000140817\n",
      "23/01/30 15:57:30 INFO OWLQN: Step Size: 1.000\n",
      "23/01/30 15:57:30 INFO OWLQN: Val and Grad Norm: 0.218094 (rel: 4.25e-08) 2.84011e-05\n",
      "23/01/30 15:57:30 INFO OWLQN: Step Size: 1.000\n",
      "23/01/30 15:57:30 INFO OWLQN: Val and Grad Norm: 0.218141 (rel: 1.90e-07) 3.87273e-05\n",
      "23/01/30 15:57:30 INFO OWLQN: Step Size: 1.000\n",
      "23/01/30 15:57:30 INFO OWLQN: Val and Grad Norm: 0.218094 (rel: 2.91e-08) 2.22439e-05\n",
      "23/01/30 15:57:30 INFO OWLQN: Step Size: 1.000\n",
      "23/01/30 15:57:30 INFO OWLQN: Val and Grad Norm: 0.218141 (rel: 2.98e-08) 2.75817e-05\n",
      "23/01/30 15:57:30 INFO OWLQN: Step Size: 1.000\n",
      "23/01/30 15:57:30 INFO OWLQN: Val and Grad Norm: 0.218094 (rel: 2.01e-08) 1.33107e-05\n",
      "23/01/30 15:57:30 INFO OWLQN: Step Size: 1.000\n",
      "23/01/30 15:57:30 INFO OWLQN: Val and Grad Norm: 0.218141 (rel: 2.73e-08) 1.85524e-05\n",
      "23/01/30 15:57:30 INFO OWLQN: Step Size: 1.000\n",
      "23/01/30 15:57:30 INFO OWLQN: Val and Grad Norm: 0.218094 (rel: 1.02e-08) 1.13899e-05\n",
      "23/01/30 15:57:30 INFO OWLQN: Step Size: 1.000\n",
      "23/01/30 15:57:30 INFO OWLQN: Val and Grad Norm: 0.218141 (rel: 1.93e-08) 1.58999e-05\n",
      "23/01/30 15:57:31 INFO OWLQN: Step Size: 1.000\n",
      "23/01/30 15:57:31 INFO OWLQN: Val and Grad Norm: 0.218094 (rel: 5.77e-09) 1.02114e-05\n",
      "23/01/30 15:57:31 INFO OWLQN: Step Size: 1.000\n",
      "23/01/30 15:57:31 INFO OWLQN: Val and Grad Norm: 0.218094 (rel: 1.19e-09) 1.21539e-05\n",
      "23/01/30 15:57:31 INFO OWLQN: Step Size: 1.000\n",
      "23/01/30 15:57:31 INFO OWLQN: Val and Grad Norm: 0.218141 (rel: 8.42e-09) 1.70406e-05\n",
      "23/01/30 15:57:31 INFO OWLQN: Step Size: 1.000\n",
      "23/01/30 15:57:31 INFO OWLQN: Val and Grad Norm: 0.218094 (rel: 1.39e-09) 3.72137e-06\n",
      "23/01/30 15:57:31 INFO OWLQN: Step Size: 1.000\n",
      "23/01/30 15:57:31 INFO OWLQN: Val and Grad Norm: 0.218141 (rel: 4.46e-09) 7.45548e-06\n",
      "23/01/30 15:57:31 INFO OWLQN: Step Size: 1.000\n",
      "23/01/30 15:57:31 INFO OWLQN: Val and Grad Norm: 0.218094 (rel: 4.22e-10) 3.31498e-06\n",
      "23/01/30 15:57:31 INFO OWLQN: Step Size: 1.000\n",
      "23/01/30 15:57:31 INFO OWLQN: Val and Grad Norm: 0.218141 (rel: 2.33e-09) 6.19892e-06\n",
      "23/01/30 15:57:31 INFO OWLQN: Step Size: 1.000\n",
      "23/01/30 15:57:31 INFO OWLQN: Val and Grad Norm: 0.218094 (rel: 6.46e-10) 2.09319e-06\n",
      "23/01/30 15:57:31 INFO OWLQN: Step Size: 1.000\n",
      "23/01/30 15:57:31 INFO OWLQN: Val and Grad Norm: 0.218141 (rel: 4.12e-09) 6.67082e-06\n",
      "23/01/30 15:57:31 INFO OWLQN: Step Size: 1.000\n",
      "23/01/30 15:57:31 INFO OWLQN: Val and Grad Norm: 0.218094 (rel: 6.47e-10) 3.22456e-06\n",
      "23/01/30 15:57:32 INFO OWLQN: Step Size: 0.5000\n",
      "23/01/30 15:57:32 INFO OWLQN: Val and Grad Norm: 0.218141 (rel: 1.35e-09) 5.18705e-06\n",
      "23/01/30 15:57:32 INFO OWLQN: Step Size: 0.5000\n",
      "23/01/30 15:57:32 INFO OWLQN: Val and Grad Norm: 0.218094 (rel: 1.06e-10) 3.99954e-06\n",
      "23/01/30 15:57:32 INFO OWLQN: Step Size: 1.000\n",
      "23/01/30 15:57:32 INFO OWLQN: Val and Grad Norm: 0.218141 (rel: 8.45e-10) 4.22930e-06\n",
      "23/01/30 15:57:32 INFO OWLQN: Step Size: 1.000\n",
      "23/01/30 15:57:32 INFO OWLQN: Val and Grad Norm: 0.218094 (rel: 2.12e-10) 1.42089e-06\n",
      "23/01/30 15:57:32 INFO OWLQN: Step Size: 1.000\n",
      "23/01/30 15:57:32 INFO OWLQN: Val and Grad Norm: 0.218094 (rel: 1.05e-10) 1.07150e-06\n",
      "23/01/30 15:57:32 INFO OWLQN: Step Size: 0.5000\n",
      "23/01/30 15:57:32 INFO OWLQN: Val and Grad Norm: 0.218141 (rel: 4.60e-10) 3.79312e-06\n",
      "23/01/30 15:57:32 INFO OWLQN: Step Size: 1.000\n",
      "23/01/30 15:57:32 INFO OWLQN: Val and Grad Norm: 0.218094 (rel: 2.42e-11) 2.06043e-06\n",
      "23/01/30 15:57:32 INFO OWLQN: Step Size: 1.000\n",
      "23/01/30 15:57:32 INFO OWLQN: Val and Grad Norm: 0.218141 (rel: 4.72e-10) 5.60654e-06\n",
      "23/01/30 15:57:32 INFO OWLQN: Step Size: 1.000\n",
      "23/01/30 15:57:32 INFO OWLQN: Val and Grad Norm: 0.218094 (rel: 9.92e-11) 9.30386e-07\n",
      "23/01/30 15:57:32 INFO OWLQN: Converged because function values converged\n",
      "23/01/30 15:57:33 INFO OWLQN: Step Size: 1.000\n",
      "23/01/30 15:57:33 INFO OWLQN: Val and Grad Norm: 0.218141 (rel: 5.40e-10) 3.97760e-06\n",
      "23/01/30 15:57:33 INFO OWLQN: Step Size: 1.000\n",
      "23/01/30 15:57:33 INFO OWLQN: Val and Grad Norm: 0.218141 (rel: 2.92e-10) 2.99151e-06\n",
      "23/01/30 15:57:33 INFO OWLQN: Step Size: 1.000\n",
      "23/01/30 15:57:33 INFO OWLQN: Val and Grad Norm: 0.218141 (rel: 1.46e-10) 1.54878e-06\n",
      "23/01/30 15:57:33 INFO OWLQN: Step Size: 1.000\n",
      "23/01/30 15:57:33 INFO OWLQN: Val and Grad Norm: 0.218141 (rel: 6.18e-11) 1.12002e-06\n",
      "23/01/30 15:57:33 INFO OWLQN: Converged because function values converged\n",
      "23/01/30 15:57:38 INFO OWLQN: Step Size: 0.9853\n",
      "23/01/30 15:57:38 INFO OWLQN: Val and Grad Norm: 0.306759 (rel: 0.126) 0.176815\n",
      "23/01/30 15:57:38 INFO OWLQN: Step Size: 0.9853\n",
      "23/01/30 15:57:38 INFO OWLQN: Val and Grad Norm: 0.306749 (rel: 0.126) 0.176830\n",
      "23/01/30 15:57:38 INFO OWLQN: Step Size: 1.000\n",
      "23/01/30 15:57:38 INFO OWLQN: Val and Grad Norm: 0.239549 (rel: 0.219) 0.0726349\n",
      "23/01/30 15:57:38 INFO OWLQN: Step Size: 1.000\n",
      "23/01/30 15:57:38 INFO OWLQN: Val and Grad Norm: 0.239531 (rel: 0.219) 0.0726317\n",
      "23/01/30 15:57:38 INFO OWLQN: Step Size: 1.000\n",
      "23/01/30 15:57:38 INFO OWLQN: Val and Grad Norm: 0.228605 (rel: 0.0457) 0.0377030\n",
      "23/01/30 15:57:38 INFO OWLQN: Step Size: 1.000\n",
      "23/01/30 15:57:38 INFO OWLQN: Val and Grad Norm: 0.228587 (rel: 0.0457) 0.0377069\n",
      "23/01/30 15:57:38 INFO OWLQN: Step Size: 1.000\n",
      "23/01/30 15:57:38 INFO OWLQN: Val and Grad Norm: 0.220732 (rel: 0.0344) 0.0267440\n",
      "23/01/30 15:57:38 INFO OWLQN: Step Size: 1.000\n",
      "23/01/30 15:57:38 INFO OWLQN: Val and Grad Norm: 0.220709 (rel: 0.0345) 0.0267409\n",
      "23/01/30 15:57:38 INFO OWLQN: Step Size: 1.000\n",
      "23/01/30 15:57:38 INFO OWLQN: Val and Grad Norm: 0.217021 (rel: 0.0168) 0.0175236\n",
      "23/01/30 15:57:39 INFO OWLQN: Step Size: 1.000\n",
      "23/01/30 15:57:39 INFO OWLQN: Val and Grad Norm: 0.216996 (rel: 0.0168) 0.0175203\n",
      "23/01/30 15:57:39 INFO OWLQN: Step Size: 1.000\n",
      "23/01/30 15:57:39 INFO OWLQN: Val and Grad Norm: 0.214696 (rel: 0.0107) 0.0125531\n",
      "23/01/30 15:57:39 INFO OWLQN: Step Size: 1.000\n",
      "23/01/30 15:57:39 INFO OWLQN: Val and Grad Norm: 0.214671 (rel: 0.0107) 0.0125569\n",
      "23/01/30 15:57:39 INFO OWLQN: Step Size: 1.000\n",
      "23/01/30 15:57:39 INFO OWLQN: Val and Grad Norm: 0.214364 (rel: 0.00155) 0.00685027\n",
      "23/01/30 15:57:39 INFO OWLQN: Step Size: 1.000\n",
      "23/01/30 15:57:39 INFO OWLQN: Val and Grad Norm: 0.214340 (rel: 0.00154) 0.00681849\n",
      "23/01/30 15:57:39 INFO OWLQN: Step Size: 1.000\n",
      "23/01/30 15:57:39 INFO OWLQN: Val and Grad Norm: 0.214191 (rel: 0.000809) 0.00436423\n",
      "23/01/30 15:57:39 INFO OWLQN: Step Size: 1.000\n",
      "23/01/30 15:57:39 INFO OWLQN: Val and Grad Norm: 0.214167 (rel: 0.000805) 0.00438176\n",
      "23/01/30 15:57:39 INFO OWLQN: Step Size: 1.000\n",
      "23/01/30 15:57:39 INFO OWLQN: Val and Grad Norm: 0.214072 (rel: 0.000556) 0.00403907\n",
      "23/01/30 15:57:39 INFO OWLQN: Step Size: 1.000\n",
      "23/01/30 15:57:39 INFO OWLQN: Val and Grad Norm: 0.214048 (rel: 0.000558) 0.00405191\n",
      "23/01/30 15:57:39 INFO OWLQN: Step Size: 1.000\n",
      "23/01/30 15:57:39 INFO OWLQN: Val and Grad Norm: 0.214059 (rel: 5.76e-05) 0.00458920\n",
      "23/01/30 15:57:39 INFO OWLQN: Step Size: 1.000\n",
      "23/01/30 15:57:39 INFO OWLQN: Val and Grad Norm: 0.214041 (rel: 3.05e-05) 0.00483320\n",
      "23/01/30 15:57:40 INFO OWLQN: Step Size: 1.000\n",
      "23/01/30 15:57:40 INFO OWLQN: Val and Grad Norm: 0.213955 (rel: 0.000490) 0.00186098\n",
      "23/01/30 15:57:40 INFO OWLQN: Step Size: 1.000\n",
      "23/01/30 15:57:40 INFO OWLQN: Val and Grad Norm: 0.213931 (rel: 0.000515) 0.00195540\n",
      "23/01/30 15:57:40 INFO OWLQN: Step Size: 1.000\n",
      "23/01/30 15:57:40 INFO OWLQN: Val and Grad Norm: 0.213938 (rel: 7.81e-05) 0.000843126\n",
      "23/01/30 15:57:40 INFO OWLQN: Step Size: 1.000\n",
      "23/01/30 15:57:40 INFO OWLQN: Val and Grad Norm: 0.213914 (rel: 7.89e-05) 0.000928870\n",
      "23/01/30 15:57:40 INFO OWLQN: Step Size: 1.000\n",
      "23/01/30 15:57:40 INFO OWLQN: Val and Grad Norm: 0.213933 (rel: 2.26e-05) 0.000473299\n",
      "23/01/30 15:57:40 INFO OWLQN: Step Size: 1.000\n",
      "23/01/30 15:57:40 INFO OWLQN: Val and Grad Norm: 0.213909 (rel: 2.59e-05) 0.000513833\n",
      "23/01/30 15:57:40 INFO OWLQN: Step Size: 1.000\n",
      "23/01/30 15:57:40 INFO OWLQN: Val and Grad Norm: 0.213931 (rel: 7.91e-06) 0.000475694\n",
      "23/01/30 15:57:40 INFO OWLQN: Step Size: 1.000\n",
      "23/01/30 15:57:40 INFO OWLQN: Val and Grad Norm: 0.213907 (rel: 8.58e-06) 0.000495987\n",
      "23/01/30 15:57:40 INFO OWLQN: Step Size: 1.000\n",
      "23/01/30 15:57:40 INFO OWLQN: Val and Grad Norm: 0.213930 (rel: 4.88e-06) 0.000244268\n",
      "23/01/30 15:57:40 INFO OWLQN: Step Size: 1.000\n",
      "23/01/30 15:57:40 INFO OWLQN: Val and Grad Norm: 0.213906 (rel: 4.97e-06) 0.000246239\n",
      "23/01/30 15:57:41 INFO OWLQN: Step Size: 1.000\n",
      "23/01/30 15:57:41 INFO OWLQN: Val and Grad Norm: 0.213930 (rel: 3.47e-06) 0.000216303\n",
      "23/01/30 15:57:41 INFO OWLQN: Step Size: 1.000\n",
      "23/01/30 15:57:41 INFO OWLQN: Val and Grad Norm: 0.213905 (rel: 3.30e-06) 0.000236920\n",
      "23/01/30 15:57:41 INFO OWLQN: Step Size: 1.000\n",
      "23/01/30 15:57:41 INFO OWLQN: Val and Grad Norm: 0.213928 (rel: 6.35e-06) 0.000223542\n",
      "23/01/30 15:57:41 INFO OWLQN: Step Size: 1.000\n",
      "23/01/30 15:57:41 INFO OWLQN: Val and Grad Norm: 0.213904 (rel: 5.33e-06) 0.000223419\n",
      "23/01/30 15:57:41 INFO OWLQN: Step Size: 0.5000\n",
      "23/01/30 15:57:41 INFO OWLQN: Val and Grad Norm: 0.213927 (rel: 3.30e-06) 0.000326385\n",
      "23/01/30 15:57:41 INFO OWLQN: Step Size: 0.5000\n",
      "23/01/30 15:57:41 INFO OWLQN: Val and Grad Norm: 0.213903 (rel: 3.59e-06) 0.000296237\n",
      "23/01/30 15:57:41 INFO OWLQN: Step Size: 1.000\n",
      "23/01/30 15:57:41 INFO OWLQN: Val and Grad Norm: 0.213927 (rel: 1.27e-06) 0.000358429\n",
      "23/01/30 15:57:42 INFO OWLQN: Step Size: 1.000\n",
      "23/01/30 15:57:42 INFO OWLQN: Val and Grad Norm: 0.213903 (rel: 2.01e-06) 0.000325449\n",
      "23/01/30 15:57:42 INFO OWLQN: Step Size: 1.000\n",
      "23/01/30 15:57:42 INFO OWLQN: Val and Grad Norm: 0.213927 (rel: 3.05e-06) 0.000163542\n",
      "23/01/30 15:57:42 INFO OWLQN: Step Size: 1.000\n",
      "23/01/30 15:57:42 INFO OWLQN: Val and Grad Norm: 0.213902 (rel: 3.01e-06) 0.000148352\n",
      "23/01/30 15:57:42 INFO OWLQN: Step Size: 1.000\n",
      "23/01/30 15:57:42 INFO OWLQN: Val and Grad Norm: 0.213926 (rel: 8.59e-07) 0.000223936\n",
      "23/01/30 15:57:42 INFO OWLQN: Step Size: 1.000\n",
      "23/01/30 15:57:42 INFO OWLQN: Val and Grad Norm: 0.213902 (rel: 9.62e-07) 0.000223038\n",
      "23/01/30 15:57:42 INFO OWLQN: Step Size: 1.000\n",
      "23/01/30 15:57:42 INFO OWLQN: Val and Grad Norm: 0.213926 (rel: 5.17e-07) 0.000177416\n",
      "23/01/30 15:57:42 INFO OWLQN: Step Size: 1.000\n",
      "23/01/30 15:57:42 INFO OWLQN: Val and Grad Norm: 0.213902 (rel: 8.77e-07) 0.000208617\n",
      "23/01/30 15:57:42 INFO OWLQN: Step Size: 1.000\n",
      "23/01/30 15:57:42 INFO OWLQN: Val and Grad Norm: 0.213926 (rel: 7.51e-07) 0.000179788\n",
      "23/01/30 15:57:42 INFO OWLQN: Step Size: 1.000\n",
      "23/01/30 15:57:42 INFO OWLQN: Val and Grad Norm: 0.213902 (rel: 1.06e-06) 0.000143391\n",
      "23/01/30 15:57:42 INFO OWLQN: Step Size: 1.000\n",
      "23/01/30 15:57:42 INFO OWLQN: Val and Grad Norm: 0.213926 (rel: 5.38e-07) 0.000104374\n",
      "23/01/30 15:57:42 INFO OWLQN: Step Size: 1.000\n",
      "23/01/30 15:57:42 INFO OWLQN: Val and Grad Norm: 0.213901 (rel: 5.50e-07) 0.000124697\n",
      "23/01/30 15:57:43 INFO OWLQN: Step Size: 1.000\n",
      "23/01/30 15:57:43 INFO OWLQN: Val and Grad Norm: 0.213926 (rel: 3.26e-07) 9.98387e-05\n",
      "23/01/30 15:57:43 INFO OWLQN: Step Size: 1.000\n",
      "23/01/30 15:57:43 INFO OWLQN: Val and Grad Norm: 0.213901 (rel: 3.60e-07) 9.15016e-05\n",
      "23/01/30 15:57:43 INFO OWLQN: Step Size: 1.000\n",
      "23/01/30 15:57:43 INFO OWLQN: Val and Grad Norm: 0.213926 (rel: 1.69e-07) 7.33569e-05\n",
      "23/01/30 15:57:43 INFO OWLQN: Step Size: 1.000\n",
      "23/01/30 15:57:43 INFO OWLQN: Val and Grad Norm: 0.213901 (rel: 1.69e-07) 7.00744e-05\n",
      "23/01/30 15:57:43 INFO OWLQN: Step Size: 1.000\n",
      "23/01/30 15:57:43 INFO OWLQN: Val and Grad Norm: 0.213926 (rel: 1.27e-07) 5.23802e-05\n",
      "23/01/30 15:57:43 INFO OWLQN: Step Size: 1.000\n",
      "23/01/30 15:57:43 INFO OWLQN: Val and Grad Norm: 0.213901 (rel: 9.93e-08) 5.34372e-05\n",
      "23/01/30 15:57:43 INFO OWLQN: Step Size: 1.000\n",
      "23/01/30 15:57:43 INFO OWLQN: Val and Grad Norm: 0.213926 (rel: 5.99e-08) 3.48453e-05\n",
      "23/01/30 15:57:43 INFO OWLQN: Step Size: 1.000\n",
      "23/01/30 15:57:43 INFO OWLQN: Val and Grad Norm: 0.213901 (rel: 5.84e-08) 3.38407e-05\n",
      "23/01/30 15:57:43 INFO OWLQN: Step Size: 1.000\n",
      "23/01/30 15:57:43 INFO OWLQN: Val and Grad Norm: 0.213926 (rel: 2.60e-08) 2.72013e-05\n",
      "23/01/30 15:57:43 INFO OWLQN: Step Size: 1.000\n",
      "23/01/30 15:57:43 INFO OWLQN: Val and Grad Norm: 0.213901 (rel: 2.24e-08) 2.09681e-05\n",
      "23/01/30 15:57:44 INFO OWLQN: Step Size: 1.000\n",
      "23/01/30 15:57:44 INFO OWLQN: Val and Grad Norm: 0.213926 (rel: 2.43e-08) 1.68625e-05\n",
      "23/01/30 15:57:44 INFO OWLQN: Step Size: 1.000\n",
      "23/01/30 15:57:44 INFO OWLQN: Val and Grad Norm: 0.213901 (rel: 1.97e-08) 2.11498e-05\n",
      "23/01/30 15:57:44 INFO OWLQN: Step Size: 1.000\n",
      "23/01/30 15:57:44 INFO OWLQN: Val and Grad Norm: 0.213926 (rel: 1.40e-08) 1.41700e-05\n",
      "23/01/30 15:57:44 INFO OWLQN: Step Size: 1.000\n",
      "23/01/30 15:57:44 INFO OWLQN: Val and Grad Norm: 0.213901 (rel: 1.95e-08) 2.72898e-05\n",
      "23/01/30 15:57:44 INFO OWLQN: Step Size: 1.000\n",
      "23/01/30 15:57:44 INFO OWLQN: Val and Grad Norm: 0.213926 (rel: 9.80e-09) 1.30109e-05\n",
      "23/01/30 15:57:44 INFO OWLQN: Step Size: 1.000\n",
      "23/01/30 15:57:44 INFO OWLQN: Val and Grad Norm: 0.213901 (rel: 2.08e-08) 1.83403e-05\n",
      "23/01/30 15:57:44 INFO OWLQN: Step Size: 1.000\n",
      "23/01/30 15:57:44 INFO OWLQN: Val and Grad Norm: 0.213926 (rel: 6.66e-09) 1.10905e-05\n",
      "23/01/30 15:57:44 INFO OWLQN: Step Size: 1.000\n",
      "23/01/30 15:57:44 INFO OWLQN: Step Size: 1.000\n",
      "23/01/30 15:57:44 INFO OWLQN: Val and Grad Norm: 0.213926 (rel: 4.07e-09) 1.06035e-05\n",
      "23/01/30 15:57:44 INFO OWLQN: Val and Grad Norm: 0.213901 (rel: 1.23e-08) 1.54103e-05\n",
      "23/01/30 15:57:44 INFO OWLQN: Step Size: 1.000\n",
      "23/01/30 15:57:44 INFO OWLQN: Val and Grad Norm: 0.213926 (rel: 3.51e-09) 1.06255e-05\n",
      "23/01/30 15:57:44 INFO OWLQN: Step Size: 1.000\n",
      "23/01/30 15:57:44 INFO OWLQN: Val and Grad Norm: 0.213901 (rel: 4.71e-09) 1.60414e-05\n",
      "23/01/30 15:57:44 INFO OWLQN: Step Size: 1.000\n",
      "23/01/30 15:57:44 INFO OWLQN: Val and Grad Norm: 0.213926 (rel: 2.99e-09) 1.09712e-05\n",
      "23/01/30 15:57:45 INFO OWLQN: Step Size: 1.000\n",
      "23/01/30 15:57:45 INFO OWLQN: Val and Grad Norm: 0.213901 (rel: 5.94e-09) 8.11800e-06\n",
      "23/01/30 15:57:45 INFO OWLQN: Step Size: 1.000\n",
      "23/01/30 15:57:45 INFO OWLQN: Val and Grad Norm: 0.213926 (rel: 2.36e-09) 1.51752e-05\n",
      "23/01/30 15:57:45 INFO OWLQN: Step Size: 1.000\n",
      "23/01/30 15:57:45 INFO OWLQN: Val and Grad Norm: 0.213926 (rel: 2.09e-09) 1.48422e-05\n",
      "23/01/30 15:57:45 INFO OWLQN: Step Size: 1.000\n",
      "23/01/30 15:57:45 INFO OWLQN: Val and Grad Norm: 0.213901 (rel: 3.56e-09) 8.06092e-06\n",
      "23/01/30 15:57:45 INFO OWLQN: Step Size: 1.000\n",
      "23/01/30 15:57:45 INFO OWLQN: Val and Grad Norm: 0.213901 (rel: 5.70e-09) 8.39030e-06\n",
      "23/01/30 15:57:45 INFO OWLQN: Step Size: 1.000\n",
      "23/01/30 15:57:45 INFO OWLQN: Val and Grad Norm: 0.213926 (rel: 3.68e-09) 1.06402e-05\n",
      "23/01/30 15:57:45 INFO OWLQN: Step Size: 1.000\n",
      "23/01/30 15:57:45 INFO OWLQN: Val and Grad Norm: 0.213926 (rel: 1.26e-09) 1.11108e-05\n",
      "23/01/30 15:57:45 INFO OWLQN: Step Size: 0.5000\n",
      "23/01/30 15:57:45 INFO OWLQN: Val and Grad Norm: 0.213901 (rel: 2.43e-09) 1.02846e-05\n",
      "23/01/30 15:57:45 INFO OWLQN: Step Size: 1.000\n",
      "23/01/30 15:57:45 INFO OWLQN: Val and Grad Norm: 0.213926 (rel: 1.87e-09) 8.41439e-06\n",
      "23/01/30 15:57:46 INFO OWLQN: Step Size: 1.000\n",
      "23/01/30 15:57:46 INFO OWLQN: Step Size: 0.5000\n",
      "23/01/30 15:57:46 INFO OWLQN: Val and Grad Norm: 0.213926 (rel: 8.63e-10) 7.61313e-06\n",
      "23/01/30 15:57:46 INFO OWLQN: Val and Grad Norm: 0.213901 (rel: 2.12e-09) 1.04797e-05\n",
      "23/01/30 15:57:46 INFO OWLQN: Converged because function values converged\n",
      "23/01/30 15:57:46 INFO OWLQN: Step Size: 0.5000\n",
      "23/01/30 15:57:46 INFO OWLQN: Val and Grad Norm: 0.213901 (rel: 1.46e-09) 1.03720e-05\n",
      "23/01/30 15:57:46 INFO OWLQN: Step Size: 0.5000\n",
      "23/01/30 15:57:46 INFO OWLQN: Val and Grad Norm: 0.213901 (rel: 1.96e-09) 6.68470e-06\n",
      "23/01/30 15:57:46 INFO OWLQN: Step Size: 0.5000\n",
      "23/01/30 15:57:46 INFO OWLQN: Val and Grad Norm: 0.213901 (rel: 6.59e-10) 7.08694e-06\n",
      "23/01/30 15:57:46 INFO OWLQN: Converged because function values converged\n",
      "23/01/30 15:57:51 INFO OWLQN: Step Size: 0.9853\n",
      "23/01/30 15:57:51 INFO OWLQN: Val and Grad Norm: 0.306858 (rel: 0.126) 0.176204\n",
      "23/01/30 15:57:51 INFO OWLQN: Step Size: 0.9853\n",
      "23/01/30 15:57:51 INFO OWLQN: Val and Grad Norm: 0.306839 (rel: 0.126) 0.176235\n",
      "23/01/30 15:57:51 INFO OWLQN: Step Size: 1.000\n",
      "23/01/30 15:57:51 INFO OWLQN: Val and Grad Norm: 0.241052 (rel: 0.214) 0.0720410\n",
      "23/01/30 15:57:51 INFO OWLQN: Step Size: 1.000\n",
      "23/01/30 15:57:51 INFO OWLQN: Val and Grad Norm: 0.241016 (rel: 0.215) 0.0720346\n",
      "23/01/30 15:57:51 INFO OWLQN: Step Size: 1.000\n",
      "23/01/30 15:57:51 INFO OWLQN: Val and Grad Norm: 0.230538 (rel: 0.0436) 0.0367695\n",
      "23/01/30 15:57:51 INFO OWLQN: Step Size: 1.000\n",
      "23/01/30 15:57:51 INFO OWLQN: Val and Grad Norm: 0.230502 (rel: 0.0436) 0.0367775\n",
      "23/01/30 15:57:52 INFO OWLQN: Step Size: 1.000\n",
      "23/01/30 15:57:52 INFO OWLQN: Val and Grad Norm: 0.223348 (rel: 0.0312) 0.0259826\n",
      "23/01/30 15:57:52 INFO OWLQN: Step Size: 1.000\n",
      "23/01/30 15:57:52 INFO OWLQN: Val and Grad Norm: 0.223307 (rel: 0.0312) 0.0259916\n",
      "23/01/30 15:57:52 INFO OWLQN: Step Size: 1.000\n",
      "23/01/30 15:57:52 INFO OWLQN: Val and Grad Norm: 0.219913 (rel: 0.0154) 0.0169121\n",
      "23/01/30 15:57:52 INFO OWLQN: Step Size: 1.000\n",
      "23/01/30 15:57:52 INFO OWLQN: Val and Grad Norm: 0.219870 (rel: 0.0154) 0.0169250\n",
      "23/01/30 15:57:52 INFO OWLQN: Step Size: 1.000\n",
      "23/01/30 15:57:52 INFO OWLQN: Val and Grad Norm: 0.217895 (rel: 0.00918) 0.0103650\n",
      "23/01/30 15:57:52 INFO OWLQN: Step Size: 1.000\n",
      "23/01/30 15:57:52 INFO OWLQN: Val and Grad Norm: 0.217849 (rel: 0.00919) 0.0103581\n",
      "23/01/30 15:57:52 INFO OWLQN: Step Size: 1.000\n",
      "23/01/30 15:57:52 INFO OWLQN: Val and Grad Norm: 0.217669 (rel: 0.00103) 0.00580441\n",
      "23/01/30 15:57:53 INFO OWLQN: Step Size: 1.000\n",
      "23/01/30 15:57:53 INFO OWLQN: Val and Grad Norm: 0.217624 (rel: 0.00103) 0.00581725\n",
      "23/01/30 15:57:53 INFO OWLQN: Step Size: 1.000\n",
      "23/01/30 15:57:53 INFO OWLQN: Val and Grad Norm: 0.217551 (rel: 0.000541) 0.00309724\n",
      "23/01/30 15:57:53 INFO OWLQN: Step Size: 1.000\n",
      "23/01/30 15:57:53 INFO OWLQN: Val and Grad Norm: 0.217506 (rel: 0.000542) 0.00309387\n",
      "23/01/30 15:57:53 INFO OWLQN: Step Size: 1.000\n",
      "23/01/30 15:57:53 INFO OWLQN: Val and Grad Norm: 0.217469 (rel: 0.000379) 0.00262971\n",
      "23/01/30 15:57:53 INFO OWLQN: Step Size: 1.000\n",
      "23/01/30 15:57:53 INFO OWLQN: Val and Grad Norm: 0.217423 (rel: 0.000377) 0.00263138\n",
      "23/01/30 15:57:53 INFO OWLQN: Step Size: 1.000\n",
      "23/01/30 15:57:53 INFO OWLQN: Val and Grad Norm: 0.217444 (rel: 0.000116) 0.00277457\n",
      "23/01/30 15:57:53 INFO OWLQN: Step Size: 1.000\n",
      "23/01/30 15:57:53 INFO OWLQN: Val and Grad Norm: 0.217398 (rel: 0.000118) 0.00278469\n",
      "23/01/30 15:57:53 INFO OWLQN: Step Size: 1.000\n",
      "23/01/30 15:57:53 INFO OWLQN: Val and Grad Norm: 0.217407 (rel: 0.000168) 0.000849168\n",
      "23/01/30 15:57:54 INFO OWLQN: Step Size: 1.000\n",
      "23/01/30 15:57:54 INFO OWLQN: Val and Grad Norm: 0.217361 (rel: 0.000170) 0.000855916\n",
      "23/01/30 15:57:54 INFO OWLQN: Step Size: 1.000\n",
      "23/01/30 15:57:54 INFO OWLQN: Val and Grad Norm: 0.217403 (rel: 1.87e-05) 0.000506221\n",
      "23/01/30 15:57:54 INFO OWLQN: Step Size: 1.000\n",
      "23/01/30 15:57:54 INFO OWLQN: Val and Grad Norm: 0.217357 (rel: 1.91e-05) 0.000514238\n",
      "23/01/30 15:57:54 INFO OWLQN: Step Size: 1.000\n",
      "23/01/30 15:57:54 INFO OWLQN: Val and Grad Norm: 0.217402 (rel: 6.23e-06) 0.000194408\n",
      "23/01/30 15:57:54 INFO OWLQN: Step Size: 1.000\n",
      "23/01/30 15:57:54 INFO OWLQN: Val and Grad Norm: 0.217355 (rel: 6.28e-06) 0.000195703\n",
      "23/01/30 15:57:54 INFO OWLQN: Step Size: 1.000\n",
      "23/01/30 15:57:54 INFO OWLQN: Val and Grad Norm: 0.217401 (rel: 1.51e-06) 0.000152215\n",
      "23/01/30 15:57:54 INFO OWLQN: Step Size: 1.000\n",
      "23/01/30 15:57:54 INFO OWLQN: Val and Grad Norm: 0.217355 (rel: 1.54e-06) 0.000151282\n",
      "23/01/30 15:57:54 INFO OWLQN: Step Size: 1.000\n",
      "23/01/30 15:57:54 INFO OWLQN: Val and Grad Norm: 0.217401 (rel: 1.26e-06) 0.000167109\n",
      "23/01/30 15:57:54 INFO OWLQN: Step Size: 1.000\n",
      "23/01/30 15:57:54 INFO OWLQN: Val and Grad Norm: 0.217355 (rel: 1.38e-06) 0.000158788\n",
      "23/01/30 15:57:54 INFO OWLQN: Step Size: 1.000\n",
      "23/01/30 15:57:54 INFO OWLQN: Val and Grad Norm: 0.217401 (rel: 1.37e-06) 0.000128146\n",
      "23/01/30 15:57:55 INFO OWLQN: Step Size: 1.000\n",
      "23/01/30 15:57:55 INFO OWLQN: Val and Grad Norm: 0.217354 (rel: 1.34e-06) 0.000146896\n",
      "23/01/30 15:57:55 INFO OWLQN: Step Size: 1.000\n",
      "23/01/30 15:57:55 INFO OWLQN: Val and Grad Norm: 0.217400 (rel: 8.89e-07) 0.000236112\n",
      "23/01/30 15:57:55 INFO OWLQN: Step Size: 1.000\n",
      "23/01/30 15:57:55 INFO OWLQN: Val and Grad Norm: 0.217354 (rel: 1.05e-06) 0.000169865\n",
      "23/01/30 15:57:55 INFO OWLQN: Step Size: 1.000\n",
      "23/01/30 15:57:55 INFO OWLQN: Val and Grad Norm: 0.217400 (rel: 4.44e-07) 0.000136230\n",
      "23/01/30 15:57:55 INFO OWLQN: Step Size: 1.000\n",
      "23/01/30 15:57:55 INFO OWLQN: Val and Grad Norm: 0.217354 (rel: 1.30e-07) 0.000179467\n",
      "23/01/30 15:57:55 INFO OWLQN: Step Size: 1.000\n",
      "23/01/30 15:57:55 INFO OWLQN: Val and Grad Norm: 0.217400 (rel: 6.08e-07) 0.000121633\n",
      "23/01/30 15:57:55 INFO OWLQN: Step Size: 1.000\n",
      "23/01/30 15:57:55 INFO OWLQN: Val and Grad Norm: 0.217354 (rel: 7.79e-07) 9.59995e-05\n",
      "23/01/30 15:57:55 INFO OWLQN: Step Size: 1.000\n",
      "23/01/30 15:57:55 INFO OWLQN: Val and Grad Norm: 0.217400 (rel: 2.00e-07) 7.72304e-05\n",
      "23/01/30 15:57:55 INFO OWLQN: Step Size: 1.000\n",
      "23/01/30 15:57:55 INFO OWLQN: Val and Grad Norm: 0.217354 (rel: 1.51e-07) 6.56453e-05\n",
      "23/01/30 15:57:56 INFO OWLQN: Step Size: 1.000\n",
      "23/01/30 15:57:56 INFO OWLQN: Val and Grad Norm: 0.217400 (rel: 1.71e-07) 5.28630e-05\n",
      "23/01/30 15:57:56 INFO OWLQN: Step Size: 1.000\n",
      "23/01/30 15:57:56 INFO OWLQN: Val and Grad Norm: 0.217354 (rel: 1.17e-07) 3.02896e-05\n",
      "23/01/30 15:57:56 INFO OWLQN: Step Size: 1.000\n",
      "23/01/30 15:57:56 INFO OWLQN: Val and Grad Norm: 0.217400 (rel: 4.91e-08) 4.11489e-05\n",
      "23/01/30 15:57:56 INFO OWLQN: Step Size: 1.000\n",
      "23/01/30 15:57:56 INFO OWLQN: Val and Grad Norm: 0.217354 (rel: 3.04e-08) 2.76369e-05\n",
      "23/01/30 15:57:56 INFO OWLQN: Step Size: 1.000\n",
      "23/01/30 15:57:56 INFO OWLQN: Val and Grad Norm: 0.217400 (rel: 3.61e-08) 2.06793e-05\n",
      "23/01/30 15:57:56 INFO OWLQN: Step Size: 1.000\n",
      "23/01/30 15:57:56 INFO OWLQN: Val and Grad Norm: 0.217354 (rel: 2.19e-08) 1.68145e-05\n",
      "23/01/30 15:57:56 INFO OWLQN: Step Size: 1.000\n",
      "23/01/30 15:57:56 INFO OWLQN: Val and Grad Norm: 0.217400 (rel: 1.41e-08) 1.52122e-05\n",
      "23/01/30 15:57:56 INFO OWLQN: Step Size: 1.000\n",
      "23/01/30 15:57:56 INFO OWLQN: Val and Grad Norm: 0.217354 (rel: 8.85e-09) 1.10161e-05\n",
      "23/01/30 15:57:56 INFO OWLQN: Step Size: 1.000\n",
      "23/01/30 15:57:56 INFO OWLQN: Val and Grad Norm: 0.217400 (rel: 8.35e-09) 1.40994e-05\n",
      "23/01/30 15:57:56 INFO OWLQN: Step Size: 1.000\n",
      "23/01/30 15:57:56 INFO OWLQN: Val and Grad Norm: 0.217354 (rel: 4.23e-09) 9.30005e-06\n",
      "23/01/30 15:57:57 INFO OWLQN: Step Size: 1.000\n",
      "23/01/30 15:57:57 INFO OWLQN: Val and Grad Norm: 0.217400 (rel: 6.30e-09) 9.45395e-06\n",
      "23/01/30 15:57:57 INFO OWLQN: Step Size: 1.000\n",
      "23/01/30 15:57:57 INFO OWLQN: Val and Grad Norm: 0.217354 (rel: 3.59e-09) 7.45580e-06\n",
      "23/01/30 15:57:57 INFO OWLQN: Step Size: 1.000\n",
      "23/01/30 15:57:57 INFO OWLQN: Val and Grad Norm: 0.217400 (rel: 7.49e-09) 7.97598e-06\n",
      "23/01/30 15:57:57 INFO OWLQN: Step Size: 1.000\n",
      "23/01/30 15:57:57 INFO OWLQN: Val and Grad Norm: 0.217354 (rel: 2.08e-09) 1.54695e-05\n",
      "23/01/30 15:57:57 INFO OWLQN: Step Size: 1.000\n",
      "23/01/30 15:57:57 INFO OWLQN: Val and Grad Norm: 0.217354 (rel: 3.59e-09) 5.17874e-06\n",
      "23/01/30 15:57:57 INFO OWLQN: Step Size: 0.5000\n",
      "23/01/30 15:57:57 INFO OWLQN: Val and Grad Norm: 0.217400 (rel: 2.84e-09) 1.18776e-05\n",
      "23/01/30 15:57:57 INFO OWLQN: Step Size: 1.000\n",
      "23/01/30 15:57:57 INFO OWLQN: Val and Grad Norm: 0.217354 (rel: 1.20e-09) 6.13850e-06\n",
      "23/01/30 15:57:57 INFO OWLQN: Step Size: 1.000\n",
      "23/01/30 15:57:57 INFO OWLQN: Val and Grad Norm: 0.217400 (rel: 2.90e-09) 9.67523e-06\n",
      "23/01/30 15:57:57 INFO OWLQN: Step Size: 1.000\n",
      "23/01/30 15:57:57 INFO OWLQN: Val and Grad Norm: 0.217354 (rel: 8.10e-10) 7.14281e-06\n",
      "23/01/30 15:57:58 INFO OWLQN: Step Size: 1.000\n",
      "23/01/30 15:57:58 INFO OWLQN: Val and Grad Norm: 0.217400 (rel: 1.88e-09) 5.04750e-06\n",
      "23/01/30 15:57:58 INFO OWLQN: Step Size: 1.000\n",
      "23/01/30 15:57:58 INFO OWLQN: Val and Grad Norm: 0.217354 (rel: 1.37e-09) 3.60608e-06\n",
      "23/01/30 15:57:58 INFO OWLQN: Step Size: 1.000\n",
      "23/01/30 15:57:58 INFO OWLQN: Val and Grad Norm: 0.217400 (rel: 2.48e-10) 6.20445e-06\n",
      "23/01/30 15:57:58 INFO OWLQN: Step Size: 1.000\n",
      "23/01/30 15:57:58 INFO OWLQN: Val and Grad Norm: 0.217354 (rel: 6.34e-11) 4.90419e-06\n",
      "23/01/30 15:57:58 INFO OWLQN: Step Size: 1.000\n",
      "23/01/30 15:57:58 INFO OWLQN: Val and Grad Norm: 0.217400 (rel: 6.97e-10) 3.20178e-06\n",
      "23/01/30 15:57:58 INFO OWLQN: Step Size: 1.000\n",
      "23/01/30 15:57:58 INFO OWLQN: Val and Grad Norm: 0.217354 (rel: 4.67e-10) 2.24495e-06\n",
      "23/01/30 15:57:58 INFO OWLQN: Step Size: 1.000\n",
      "23/01/30 15:57:58 INFO OWLQN: Val and Grad Norm: 0.217400 (rel: 2.30e-10) 2.68841e-06\n",
      "23/01/30 15:57:58 INFO OWLQN: Step Size: 1.000\n",
      "23/01/30 15:57:58 INFO OWLQN: Val and Grad Norm: 0.217354 (rel: 1.18e-10) 1.72347e-06\n",
      "23/01/30 15:57:58 INFO OWLQN: Step Size: 1.000\n",
      "23/01/30 15:57:58 INFO OWLQN: Val and Grad Norm: 0.217400 (rel: 2.26e-10) 2.55813e-06\n",
      "23/01/30 15:57:58 INFO OWLQN: Step Size: 1.000\n",
      "23/01/30 15:57:58 INFO OWLQN: Val and Grad Norm: 0.217354 (rel: 8.15e-11) 1.14369e-06\n",
      "23/01/30 15:57:58 INFO OWLQN: Step Size: 1.000\n",
      "23/01/30 15:57:58 INFO OWLQN: Val and Grad Norm: 0.217400 (rel: 1.41e-10) 2.10772e-06\n",
      "23/01/30 15:57:59 INFO OWLQN: Step Size: 1.000\n",
      "23/01/30 15:57:59 INFO OWLQN: Val and Grad Norm: 0.217354 (rel: 4.94e-11) 1.11652e-06\n",
      "23/01/30 15:57:59 INFO OWLQN: Converged because function values converged\n",
      "23/01/30 15:57:59 INFO OWLQN: Step Size: 1.000\n",
      "23/01/30 15:57:59 INFO OWLQN: Val and Grad Norm: 0.217400 (rel: 1.03e-10) 1.75934e-06\n",
      "23/01/30 15:57:59 INFO OWLQN: Converged because function values converged\n",
      "23/01/30 15:58:03 INFO OWLQN: Step Size: 0.9826\n",
      "23/01/30 15:58:03 INFO OWLQN: Val and Grad Norm: 0.308213 (rel: 0.126) 0.176913\n",
      "23/01/30 15:58:03 INFO OWLQN: Step Size: 0.9826\n",
      "23/01/30 15:58:03 INFO OWLQN: Val and Grad Norm: 0.308222 (rel: 0.126) 0.176897\n",
      "23/01/30 15:58:03 INFO OWLQN: Step Size: 1.000\n",
      "23/01/30 15:58:03 INFO OWLQN: Val and Grad Norm: 0.241275 (rel: 0.217) 0.0724279\n",
      "23/01/30 15:58:03 INFO OWLQN: Step Size: 1.000\n",
      "23/01/30 15:58:03 INFO OWLQN: Val and Grad Norm: 0.241293 (rel: 0.217) 0.0724304\n",
      "23/01/30 15:58:03 INFO OWLQN: Step Size: 1.000\n",
      "23/01/30 15:58:03 INFO OWLQN: Val and Grad Norm: 0.230360 (rel: 0.0452) 0.0380120\n",
      "23/01/30 15:58:03 INFO OWLQN: Step Size: 1.000\n",
      "23/01/30 15:58:03 INFO OWLQN: Val and Grad Norm: 0.230378 (rel: 0.0452) 0.0380084\n",
      "23/01/30 15:58:03 INFO OWLQN: Step Size: 1.000\n",
      "23/01/30 15:58:03 INFO OWLQN: Val and Grad Norm: 0.222363 (rel: 0.0347) 0.0266824\n",
      "23/01/30 15:58:04 INFO OWLQN: Step Size: 1.000\n",
      "23/01/30 15:58:04 INFO OWLQN: Val and Grad Norm: 0.222384 (rel: 0.0347) 0.0266772\n",
      "23/01/30 15:58:04 INFO OWLQN: Step Size: 1.000\n",
      "23/01/30 15:58:04 INFO OWLQN: Val and Grad Norm: 0.218882 (rel: 0.0157) 0.0186942\n",
      "23/01/30 15:58:04 INFO OWLQN: Step Size: 1.000\n",
      "23/01/30 15:58:04 INFO OWLQN: Val and Grad Norm: 0.218905 (rel: 0.0156) 0.0186883\n",
      "23/01/30 15:58:04 INFO OWLQN: Step Size: 1.000\n",
      "23/01/30 15:58:04 INFO OWLQN: Val and Grad Norm: 0.218448 (rel: 0.00198) 0.0319381\n",
      "23/01/30 15:58:04 INFO OWLQN: Step Size: 1.000\n",
      "23/01/30 15:58:04 INFO OWLQN: Val and Grad Norm: 0.218472 (rel: 0.00198) 0.0319424\n",
      "23/01/30 15:58:04 INFO OWLQN: Step Size: 1.000\n",
      "23/01/30 15:58:04 INFO OWLQN: Val and Grad Norm: 0.215970 (rel: 0.0113) 0.00418502\n",
      "23/01/30 15:58:04 INFO OWLQN: Step Size: 1.000\n",
      "23/01/30 15:58:04 INFO OWLQN: Val and Grad Norm: 0.215994 (rel: 0.0113) 0.00418543\n",
      "23/01/30 15:58:04 INFO OWLQN: Step Size: 1.000\n",
      "23/01/30 15:58:04 INFO OWLQN: Val and Grad Norm: 0.215797 (rel: 0.000799) 0.00419887\n",
      "23/01/30 15:58:04 INFO OWLQN: Step Size: 1.000\n",
      "23/01/30 15:58:04 INFO OWLQN: Val and Grad Norm: 0.215821 (rel: 0.000799) 0.00419993\n",
      "23/01/30 15:58:04 INFO OWLQN: Step Size: 1.000\n",
      "23/01/30 15:58:04 INFO OWLQN: Val and Grad Norm: 0.215774 (rel: 0.000105) 0.00733347\n",
      "23/01/30 15:58:04 INFO OWLQN: Step Size: 1.000\n",
      "23/01/30 15:58:04 INFO OWLQN: Val and Grad Norm: 0.215799 (rel: 0.000102) 0.00733969\n",
      "23/01/30 15:58:04 INFO OWLQN: Step Size: 1.000\n",
      "23/01/30 15:58:04 INFO OWLQN: Val and Grad Norm: 0.215646 (rel: 0.000595) 0.00235322\n",
      "23/01/30 15:58:05 INFO OWLQN: Step Size: 1.000\n",
      "23/01/30 15:58:05 INFO OWLQN: Val and Grad Norm: 0.215671 (rel: 0.000595) 0.00236598\n",
      "23/01/30 15:58:05 INFO OWLQN: Step Size: 1.000\n",
      "23/01/30 15:58:05 INFO OWLQN: Val and Grad Norm: 0.215614 (rel: 0.000150) 0.00186200\n",
      "23/01/30 15:58:05 INFO OWLQN: Step Size: 1.000\n",
      "23/01/30 15:58:05 INFO OWLQN: Val and Grad Norm: 0.215638 (rel: 0.000151) 0.00183619\n",
      "23/01/30 15:58:05 INFO OWLQN: Step Size: 1.000\n",
      "23/01/30 15:58:05 INFO OWLQN: Val and Grad Norm: 0.215593 (rel: 9.68e-05) 0.00101425\n",
      "23/01/30 15:58:05 INFO OWLQN: Step Size: 1.000\n",
      "23/01/30 15:58:05 INFO OWLQN: Val and Grad Norm: 0.215618 (rel: 9.56e-05) 0.00101036\n",
      "23/01/30 15:58:05 INFO OWLQN: Step Size: 1.000\n",
      "23/01/30 15:58:05 INFO OWLQN: Val and Grad Norm: 0.215587 (rel: 2.78e-05) 0.00124505\n",
      "23/01/30 15:58:05 INFO OWLQN: Step Size: 1.000\n",
      "23/01/30 15:58:05 INFO OWLQN: Val and Grad Norm: 0.215612 (rel: 2.72e-05) 0.00124241\n",
      "23/01/30 15:58:05 INFO OWLQN: Step Size: 1.000\n",
      "23/01/30 15:58:05 INFO OWLQN: Val and Grad Norm: 0.215582 (rel: 2.05e-05) 0.000337952\n",
      "23/01/30 15:58:05 INFO OWLQN: Step Size: 1.000\n",
      "23/01/30 15:58:05 INFO OWLQN: Val and Grad Norm: 0.215607 (rel: 2.03e-05) 0.000341413\n",
      "23/01/30 15:58:05 INFO OWLQN: Step Size: 1.000\n",
      "23/01/30 15:58:05 INFO OWLQN: Val and Grad Norm: 0.215582 (rel: 2.45e-06) 0.000214369\n",
      "23/01/30 15:58:05 INFO OWLQN: Step Size: 1.000\n",
      "23/01/30 15:58:05 INFO OWLQN: Val and Grad Norm: 0.215607 (rel: 2.40e-06) 0.000211187\n",
      "23/01/30 15:58:06 INFO OWLQN: Step Size: 1.000\n",
      "23/01/30 15:58:06 INFO OWLQN: Val and Grad Norm: 0.215581 (rel: 2.94e-06) 0.000176852\n",
      "23/01/30 15:58:06 INFO OWLQN: Step Size: 1.000\n",
      "23/01/30 15:58:06 INFO OWLQN: Val and Grad Norm: 0.215606 (rel: 2.79e-06) 0.000174855\n",
      "23/01/30 15:58:06 INFO OWLQN: Step Size: 1.000\n",
      "23/01/30 15:58:06 INFO OWLQN: Val and Grad Norm: 0.215580 (rel: 5.26e-06) 0.000255994\n",
      "23/01/30 15:58:06 INFO OWLQN: Step Size: 1.000\n",
      "23/01/30 15:58:06 INFO OWLQN: Val and Grad Norm: 0.215605 (rel: 5.10e-06) 0.000258890\n",
      "23/01/30 15:58:06 INFO OWLQN: Step Size: 1.000\n",
      "23/01/30 15:58:06 INFO OWLQN: Val and Grad Norm: 0.215580 (rel: 2.79e-07) 0.000393826\n",
      "23/01/30 15:58:06 INFO OWLQN: Step Size: 1.000\n",
      "23/01/30 15:58:06 INFO OWLQN: Val and Grad Norm: 0.215605 (rel: 5.20e-07) 0.000382784\n",
      "23/01/30 15:58:06 INFO OWLQN: Step Size: 1.000\n",
      "23/01/30 15:58:06 INFO OWLQN: Val and Grad Norm: 0.215580 (rel: 1.79e-06) 0.000100572\n",
      "23/01/30 15:58:06 INFO OWLQN: Step Size: 1.000\n",
      "23/01/30 15:58:06 INFO OWLQN: Val and Grad Norm: 0.215605 (rel: 1.65e-06) 0.000103290\n",
      "23/01/30 15:58:06 INFO OWLQN: Step Size: 1.000\n",
      "23/01/30 15:58:06 INFO OWLQN: Val and Grad Norm: 0.215580 (rel: 2.44e-07) 7.38325e-05\n",
      "23/01/30 15:58:06 INFO OWLQN: Step Size: 1.000\n",
      "23/01/30 15:58:06 INFO OWLQN: Val and Grad Norm: 0.215605 (rel: 2.76e-07) 7.76707e-05\n",
      "23/01/30 15:58:06 INFO OWLQN: Step Size: 1.000\n",
      "23/01/30 15:58:06 INFO OWLQN: Val and Grad Norm: 0.215579 (rel: 5.72e-07) 8.39734e-05\n",
      "23/01/30 15:58:07 INFO OWLQN: Step Size: 1.000\n",
      "23/01/30 15:58:07 INFO OWLQN: Val and Grad Norm: 0.215604 (rel: 7.30e-07) 9.71912e-05\n",
      "23/01/30 15:58:07 INFO OWLQN: Step Size: 1.000\n",
      "23/01/30 15:58:07 INFO OWLQN: Val and Grad Norm: 0.215579 (rel: 5.78e-07) 0.000118085\n",
      "23/01/30 15:58:07 INFO OWLQN: Step Size: 1.000\n",
      "23/01/30 15:58:07 INFO OWLQN: Val and Grad Norm: 0.215604 (rel: 4.83e-07) 0.000162185\n",
      "23/01/30 15:58:07 INFO OWLQN: Step Size: 0.5000\n",
      "23/01/30 15:58:07 INFO OWLQN: Val and Grad Norm: 0.215579 (rel: 2.43e-07) 0.000102911\n",
      "23/01/30 15:58:07 INFO OWLQN: Step Size: 0.5000\n",
      "23/01/30 15:58:07 INFO OWLQN: Val and Grad Norm: 0.215604 (rel: 4.27e-07) 9.18924e-05\n",
      "23/01/30 15:58:07 INFO OWLQN: Step Size: 0.5000\n",
      "23/01/30 15:58:07 INFO OWLQN: Val and Grad Norm: 0.215579 (rel: 2.77e-07) 6.43438e-05\n",
      "23/01/30 15:58:07 INFO OWLQN: Step Size: 0.5000\n",
      "23/01/30 15:58:07 INFO OWLQN: Val and Grad Norm: 0.215604 (rel: 2.28e-07) 7.62354e-05\n",
      "23/01/30 15:58:08 INFO OWLQN: Step Size: 0.5000\n",
      "23/01/30 15:58:08 INFO OWLQN: Val and Grad Norm: 0.215579 (rel: 1.26e-07) 7.62621e-05\n",
      "23/01/30 15:58:08 INFO OWLQN: Step Size: 0.5000\n",
      "23/01/30 15:58:08 INFO OWLQN: Val and Grad Norm: 0.215604 (rel: 1.23e-07) 6.75719e-05\n",
      "23/01/30 15:58:08 INFO OWLQN: Step Size: 0.5000\n",
      "23/01/30 15:58:08 INFO OWLQN: Val and Grad Norm: 0.215579 (rel: 1.04e-07) 6.43320e-05\n",
      "23/01/30 15:58:08 INFO OWLQN: Step Size: 0.5000\n",
      "23/01/30 15:58:08 INFO OWLQN: Val and Grad Norm: 0.215604 (rel: 1.11e-07) 6.32084e-05\n",
      "23/01/30 15:58:08 INFO OWLQN: Step Size: 0.5000\n",
      "23/01/30 15:58:08 INFO OWLQN: Val and Grad Norm: 0.215579 (rel: 1.16e-07) 4.43619e-05\n",
      "23/01/30 15:58:08 INFO OWLQN: Step Size: 0.5000\n",
      "23/01/30 15:58:08 INFO OWLQN: Val and Grad Norm: 0.215604 (rel: 8.86e-08) 5.92555e-05\n",
      "23/01/30 15:58:09 INFO OWLQN: Step Size: 0.5000\n",
      "23/01/30 15:58:09 INFO OWLQN: Val and Grad Norm: 0.215579 (rel: 3.82e-08) 6.05239e-05\n",
      "23/01/30 15:58:09 INFO OWLQN: Step Size: 0.5000\n",
      "23/01/30 15:58:09 INFO OWLQN: Val and Grad Norm: 0.215604 (rel: 8.82e-08) 4.91559e-05\n",
      "23/01/30 15:58:09 INFO OWLQN: Step Size: 0.5000\n",
      "23/01/30 15:58:09 INFO OWLQN: Val and Grad Norm: 0.215579 (rel: 7.02e-08) 3.66822e-05\n",
      "23/01/30 15:58:09 INFO OWLQN: Step Size: 0.5000\n",
      "23/01/30 15:58:09 INFO OWLQN: Val and Grad Norm: 0.215604 (rel: 4.94e-08) 4.68396e-05\n",
      "23/01/30 15:58:10 INFO OWLQN: Step Size: 0.5000\n",
      "23/01/30 15:58:10 INFO OWLQN: Val and Grad Norm: 0.215579 (rel: 2.49e-08) 4.27841e-05\n",
      "23/01/30 15:58:10 INFO OWLQN: Step Size: 0.5000\n",
      "23/01/30 15:58:10 INFO OWLQN: Val and Grad Norm: 0.215604 (rel: 5.73e-08) 3.84205e-05\n",
      "23/01/30 15:58:10 INFO OWLQN: Step Size: 0.5000\n",
      "23/01/30 15:58:10 INFO OWLQN: Val and Grad Norm: 0.215579 (rel: 3.79e-08) 2.65887e-05\n",
      "23/01/30 15:58:10 INFO OWLQN: Step Size: 0.5000\n",
      "23/01/30 15:58:10 INFO OWLQN: Val and Grad Norm: 0.215604 (rel: 3.57e-08) 3.33611e-05\n",
      "23/01/30 15:58:10 INFO OWLQN: Step Size: 0.5000\n",
      "23/01/30 15:58:10 INFO OWLQN: Val and Grad Norm: 0.215579 (rel: 1.59e-08) 3.14365e-05\n",
      "23/01/30 15:58:10 INFO OWLQN: Step Size: 0.5000\n",
      "23/01/30 15:58:10 INFO OWLQN: Val and Grad Norm: 0.215604 (rel: 3.20e-08) 3.14324e-05\n",
      "23/01/30 15:58:10 INFO OWLQN: Step Size: 0.5000\n",
      "23/01/30 15:58:10 INFO OWLQN: Val and Grad Norm: 0.215579 (rel: 1.98e-08) 2.22673e-05\n",
      "23/01/30 15:58:10 INFO OWLQN: Step Size: 0.5000\n",
      "23/01/30 15:58:10 INFO OWLQN: Val and Grad Norm: 0.215604 (rel: 2.61e-08) 2.67310e-05\n",
      "23/01/30 15:58:11 INFO OWLQN: Step Size: 0.5000\n",
      "23/01/30 15:58:11 INFO OWLQN: Val and Grad Norm: 0.215579 (rel: 1.34e-08) 2.06537e-05\n",
      "23/01/30 15:58:11 INFO OWLQN: Step Size: 0.5000\n",
      "23/01/30 15:58:11 INFO OWLQN: Val and Grad Norm: 0.215604 (rel: 2.53e-08) 2.00217e-05\n",
      "23/01/30 15:58:11 INFO OWLQN: Step Size: 1.000\n",
      "23/01/30 15:58:11 INFO OWLQN: Val and Grad Norm: 0.215604 (rel: 5.85e-09) 3.64235e-05\n",
      "23/01/30 15:58:11 INFO OWLQN: Step Size: 0.5000\n",
      "23/01/30 15:58:11 INFO OWLQN: Val and Grad Norm: 0.215579 (rel: 1.09e-08) 1.59147e-05\n",
      "23/01/30 15:58:11 INFO OWLQN: Step Size: 1.000\n",
      "23/01/30 15:58:11 INFO OWLQN: Val and Grad Norm: 0.215604 (rel: 3.65e-08) 1.54195e-05\n",
      "23/01/30 15:58:11 INFO OWLQN: Step Size: 1.000\n",
      "23/01/30 15:58:11 INFO OWLQN: Val and Grad Norm: 0.215604 (rel: 6.39e-09) 1.33464e-05\n",
      "23/01/30 15:58:11 INFO OWLQN: Step Size: 0.5000\n",
      "23/01/30 15:58:11 INFO OWLQN: Val and Grad Norm: 0.215579 (rel: 8.17e-09) 1.52768e-05\n",
      "23/01/30 15:58:11 INFO OWLQN: Step Size: 1.000\n",
      "23/01/30 15:58:11 INFO OWLQN: Val and Grad Norm: 0.215604 (rel: 5.57e-09) 7.75609e-06\n",
      "23/01/30 15:58:11 INFO OWLQN: Step Size: 1.000\n",
      "23/01/30 15:58:11 INFO OWLQN: Val and Grad Norm: 0.215579 (rel: 1.91e-09) 2.72429e-05\n",
      "23/01/30 15:58:12 INFO OWLQN: Step Size: 1.000\n",
      "23/01/30 15:58:12 INFO OWLQN: Val and Grad Norm: 0.215604 (rel: 9.43e-09) 8.85863e-06\n",
      "23/01/30 15:58:12 INFO OWLQN: Step Size: 1.000\n",
      "23/01/30 15:58:12 INFO OWLQN: Val and Grad Norm: 0.215579 (rel: 1.46e-08) 7.16979e-06\n",
      "23/01/30 15:58:12 INFO OWLQN: Step Size: 1.000\n",
      "23/01/30 15:58:12 INFO OWLQN: Val and Grad Norm: 0.215579 (rel: 3.77e-09) 6.34578e-06\n",
      "23/01/30 15:58:12 INFO OWLQN: Step Size: 0.5000\n",
      "23/01/30 15:58:12 INFO OWLQN: Val and Grad Norm: 0.215604 (rel: 3.05e-09) 8.65114e-06\n",
      "23/01/30 15:58:12 INFO OWLQN: Step Size: 1.000\n",
      "23/01/30 15:58:12 INFO OWLQN: Val and Grad Norm: 0.215579 (rel: 6.49e-09) 9.31695e-06\n",
      "23/01/30 15:58:12 INFO OWLQN: Step Size: 1.000\n",
      "23/01/30 15:58:12 INFO OWLQN: Val and Grad Norm: 0.215604 (rel: 5.30e-10) 1.17616e-05\n",
      "23/01/30 15:58:12 INFO OWLQN: Converged because function values converged\n",
      "23/01/30 15:58:12 INFO OWLQN: Step Size: 0.5000\n",
      "23/01/30 15:58:12 INFO OWLQN: Val and Grad Norm: 0.215579 (rel: 2.54e-09) 5.81152e-06\n",
      "23/01/30 15:58:12 INFO OWLQN: Converged because function values converged\n",
      "23/01/30 15:58:16 INFO OWLQN: Step Size: 0.9826\n",
      "23/01/30 15:58:16 INFO OWLQN: Val and Grad Norm: 0.308303 (rel: 0.126) 0.176318\n",
      "23/01/30 15:58:16 INFO OWLQN: Step Size: 0.9826\n",
      "23/01/30 15:58:16 INFO OWLQN: Val and Grad Norm: 0.308322 (rel: 0.126) 0.176287\n",
      "23/01/30 15:58:16 INFO OWLQN: Step Size: 1.000\n",
      "23/01/30 15:58:16 INFO OWLQN: Val and Grad Norm: 0.242752 (rel: 0.213) 0.0718353\n",
      "23/01/30 15:58:16 INFO OWLQN: Step Size: 1.000\n",
      "23/01/30 15:58:16 INFO OWLQN: Val and Grad Norm: 0.242785 (rel: 0.213) 0.0718313\n",
      "23/01/30 15:58:16 INFO OWLQN: Step Size: 1.000\n",
      "23/01/30 15:58:16 INFO OWLQN: Val and Grad Norm: 0.232237 (rel: 0.0433) 0.0371507\n",
      "23/01/30 15:58:16 INFO OWLQN: Step Size: 1.000\n",
      "23/01/30 15:58:16 INFO OWLQN: Val and Grad Norm: 0.232272 (rel: 0.0433) 0.0371359\n",
      "23/01/30 15:58:16 INFO OWLQN: Step Size: 1.000\n",
      "23/01/30 15:58:16 INFO OWLQN: Val and Grad Norm: 0.224863 (rel: 0.0318) 0.0259015\n",
      "23/01/30 15:58:16 INFO OWLQN: Step Size: 1.000\n",
      "23/01/30 15:58:16 INFO OWLQN: Val and Grad Norm: 0.224905 (rel: 0.0317) 0.0258915\n",
      "23/01/30 15:58:16 INFO OWLQN: Step Size: 1.000\n",
      "23/01/30 15:58:16 INFO OWLQN: Val and Grad Norm: 0.221706 (rel: 0.0140) 0.0172801\n",
      "23/01/30 15:58:16 INFO OWLQN: Step Size: 1.000\n",
      "23/01/30 15:58:16 INFO OWLQN: Val and Grad Norm: 0.221749 (rel: 0.0140) 0.0172660\n",
      "23/01/30 15:58:16 INFO OWLQN: Step Size: 1.000\n",
      "23/01/30 15:58:16 INFO OWLQN: Val and Grad Norm: 0.219419 (rel: 0.0103) 0.00564897\n",
      "23/01/30 15:58:16 INFO OWLQN: Step Size: 1.000\n",
      "23/01/30 15:58:16 INFO OWLQN: Val and Grad Norm: 0.219466 (rel: 0.0103) 0.00565691\n",
      "23/01/30 15:58:16 INFO OWLQN: Step Size: 1.000\n",
      "23/01/30 15:58:16 INFO OWLQN: Val and Grad Norm: 0.219186 (rel: 0.00106) 0.00366099\n",
      "23/01/30 15:58:17 INFO OWLQN: Step Size: 1.000\n",
      "23/01/30 15:58:17 INFO OWLQN: Val and Grad Norm: 0.219232 (rel: 0.00106) 0.00365004\n",
      "23/01/30 15:58:17 INFO OWLQN: Step Size: 1.000\n",
      "23/01/30 15:58:17 INFO OWLQN: Val and Grad Norm: 0.219124 (rel: 0.000282) 0.00445735\n",
      "23/01/30 15:58:17 INFO OWLQN: Step Size: 1.000\n",
      "23/01/30 15:58:17 INFO OWLQN: Val and Grad Norm: 0.219171 (rel: 0.000277) 0.00446803\n",
      "23/01/30 15:58:17 INFO OWLQN: Step Size: 1.000\n",
      "23/01/30 15:58:17 INFO OWLQN: Val and Grad Norm: 0.219061 (rel: 0.000288) 0.00132990\n",
      "23/01/30 15:58:17 INFO OWLQN: Step Size: 1.000\n",
      "23/01/30 15:58:17 INFO OWLQN: Val and Grad Norm: 0.219108 (rel: 0.000287) 0.00130669\n",
      "23/01/30 15:58:17 INFO OWLQN: Step Size: 1.000\n",
      "23/01/30 15:58:17 INFO OWLQN: Val and Grad Norm: 0.219048 (rel: 5.77e-05) 0.000648086\n",
      "23/01/30 15:58:17 INFO OWLQN: Step Size: 1.000\n",
      "23/01/30 15:58:17 INFO OWLQN: Val and Grad Norm: 0.219096 (rel: 5.71e-05) 0.000642783\n",
      "23/01/30 15:58:17 INFO OWLQN: Step Size: 1.000\n",
      "23/01/30 15:58:17 INFO OWLQN: Val and Grad Norm: 0.219045 (rel: 1.68e-05) 0.000338990\n",
      "23/01/30 15:58:17 INFO OWLQN: Step Size: 1.000\n",
      "23/01/30 15:58:17 INFO OWLQN: Val and Grad Norm: 0.219092 (rel: 1.66e-05) 0.000338530\n",
      "23/01/30 15:58:17 INFO OWLQN: Step Size: 1.000\n",
      "23/01/30 15:58:17 INFO OWLQN: Val and Grad Norm: 0.219045 (rel: 7.41e-07) 0.000393382\n",
      "23/01/30 15:58:17 INFO OWLQN: Step Size: 1.000\n",
      "23/01/30 15:58:17 INFO OWLQN: Val and Grad Norm: 0.219092 (rel: 5.68e-07) 0.000400298\n",
      "23/01/30 15:58:17 INFO OWLQN: Step Size: 1.000\n",
      "23/01/30 15:58:17 INFO OWLQN: Val and Grad Norm: 0.219044 (rel: 1.69e-06) 0.000115119\n",
      "23/01/30 15:58:18 INFO OWLQN: Step Size: 1.000\n",
      "23/01/30 15:58:18 INFO OWLQN: Val and Grad Norm: 0.219091 (rel: 1.79e-06) 0.000111216\n",
      "23/01/30 15:58:18 INFO OWLQN: Step Size: 1.000\n",
      "23/01/30 15:58:18 INFO OWLQN: Val and Grad Norm: 0.219044 (rel: 4.04e-07) 8.57997e-05\n",
      "23/01/30 15:58:18 INFO OWLQN: Step Size: 1.000\n",
      "23/01/30 15:58:18 INFO OWLQN: Val and Grad Norm: 0.219091 (rel: 3.75e-07) 8.36756e-05\n",
      "23/01/30 15:58:18 INFO OWLQN: Step Size: 1.000\n",
      "23/01/30 15:58:18 INFO OWLQN: Val and Grad Norm: 0.219044 (rel: 7.73e-07) 6.02798e-05\n",
      "23/01/30 15:58:18 INFO OWLQN: Step Size: 1.000\n",
      "23/01/30 15:58:18 INFO OWLQN: Val and Grad Norm: 0.219091 (rel: 7.49e-07) 6.29047e-05\n",
      "23/01/30 15:58:18 INFO OWLQN: Step Size: 1.000\n",
      "23/01/30 15:58:18 INFO OWLQN: Val and Grad Norm: 0.219044 (rel: 1.40e-07) 0.000135063\n",
      "23/01/30 15:58:18 INFO OWLQN: Step Size: 1.000\n",
      "23/01/30 15:58:18 INFO OWLQN: Val and Grad Norm: 0.219091 (rel: 1.87e-07) 0.000131635\n",
      "23/01/30 15:58:18 INFO OWLQN: Step Size: 1.000\n",
      "23/01/30 15:58:18 INFO OWLQN: Val and Grad Norm: 0.219044 (rel: 2.76e-07) 0.000101415\n",
      "23/01/30 15:58:18 INFO OWLQN: Step Size: 1.000\n",
      "23/01/30 15:58:18 INFO OWLQN: Val and Grad Norm: 0.219091 (rel: 3.21e-07) 6.96600e-05\n",
      "23/01/30 15:58:18 INFO OWLQN: Step Size: 1.000\n",
      "23/01/30 15:58:18 INFO OWLQN: Val and Grad Norm: 0.219044 (rel: 9.13e-08) 2.77458e-05\n",
      "23/01/30 15:58:18 INFO OWLQN: Step Size: 1.000\n",
      "23/01/30 15:58:18 INFO OWLQN: Val and Grad Norm: 0.219091 (rel: 5.77e-08) 3.21989e-05\n",
      "23/01/30 15:58:18 INFO OWLQN: Step Size: 1.000\n",
      "23/01/30 15:58:18 INFO OWLQN: Val and Grad Norm: 0.219044 (rel: 1.86e-08) 2.28451e-05\n",
      "23/01/30 15:58:18 INFO OWLQN: Step Size: 1.000\n",
      "23/01/30 15:58:18 INFO OWLQN: Val and Grad Norm: 0.219091 (rel: 3.16e-08) 2.52615e-05\n",
      "23/01/30 15:58:19 INFO OWLQN: Step Size: 1.000\n",
      "23/01/30 15:58:19 INFO OWLQN: Val and Grad Norm: 0.219044 (rel: 6.75e-08) 2.56702e-05\n",
      "23/01/30 15:58:19 INFO OWLQN: Step Size: 1.000\n",
      "23/01/30 15:58:19 INFO OWLQN: Val and Grad Norm: 0.219091 (rel: 9.56e-08) 2.53195e-05\n",
      "23/01/30 15:58:19 INFO OWLQN: Step Size: 1.000\n",
      "23/01/30 15:58:19 INFO OWLQN: Val and Grad Norm: 0.219044 (rel: 3.88e-09) 5.61237e-05\n",
      "23/01/30 15:58:19 INFO OWLQN: Step Size: 1.000\n",
      "23/01/30 15:58:19 INFO OWLQN: Val and Grad Norm: 0.219044 (rel: 3.14e-08) 1.55402e-05\n",
      "23/01/30 15:58:19 INFO OWLQN: Step Size: 1.000\n",
      "23/01/30 15:58:19 INFO OWLQN: Val and Grad Norm: 0.219044 (rel: 7.30e-09) 1.06283e-05\n",
      "23/01/30 15:58:19 INFO OWLQN: Step Size: 0.2500\n",
      "23/01/30 15:58:19 INFO OWLQN: Val and Grad Norm: 0.219091 (rel: 1.03e-08) 2.52601e-05\n",
      "23/01/30 15:58:19 INFO OWLQN: Step Size: 1.000\n",
      "23/01/30 15:58:19 INFO OWLQN: Val and Grad Norm: 0.219044 (rel: 4.88e-09) 1.94249e-05\n",
      "23/01/30 15:58:19 INFO OWLQN: Step Size: 1.000\n",
      "23/01/30 15:58:19 INFO OWLQN: Val and Grad Norm: 0.219091 (rel: 1.27e-08) 2.21437e-05\n",
      "23/01/30 15:58:19 INFO OWLQN: Step Size: 1.000\n",
      "23/01/30 15:58:19 INFO OWLQN: Val and Grad Norm: 0.219044 (rel: 3.83e-09) 1.36977e-05\n",
      "23/01/30 15:58:19 INFO OWLQN: Step Size: 1.000\n",
      "23/01/30 15:58:19 INFO OWLQN: Val and Grad Norm: 0.219091 (rel: 7.87e-09) 1.82616e-05\n",
      "23/01/30 15:58:19 INFO OWLQN: Step Size: 1.000\n",
      "23/01/30 15:58:19 INFO OWLQN: Val and Grad Norm: 0.219044 (rel: 2.44e-09) 3.98155e-06\n",
      "23/01/30 15:58:19 INFO OWLQN: Step Size: 1.000\n",
      "23/01/30 15:58:19 INFO OWLQN: Val and Grad Norm: 0.219091 (rel: 8.47e-09) 1.01508e-05\n",
      "23/01/30 15:58:20 INFO OWLQN: Step Size: 1.000\n",
      "23/01/30 15:58:20 INFO OWLQN: Val and Grad Norm: 0.219044 (rel: 3.43e-10) 3.84855e-06\n",
      "23/01/30 15:58:20 INFO OWLQN: Step Size: 1.000\n",
      "23/01/30 15:58:20 INFO OWLQN: Val and Grad Norm: 0.219091 (rel: 2.79e-09) 1.08915e-05\n",
      "23/01/30 15:58:20 INFO OWLQN: Step Size: 1.000\n",
      "23/01/30 15:58:20 INFO OWLQN: Val and Grad Norm: 0.219044 (rel: 4.49e-10) 2.47193e-06\n",
      "23/01/30 15:58:20 INFO OWLQN: Step Size: 1.000\n",
      "23/01/30 15:58:20 INFO OWLQN: Val and Grad Norm: 0.219091 (rel: 2.70e-09) 5.40140e-06\n",
      "23/01/30 15:58:20 INFO OWLQN: Step Size: 1.000\n",
      "23/01/30 15:58:20 INFO OWLQN: Val and Grad Norm: 0.219044 (rel: 2.96e-10) 2.09321e-06\n",
      "23/01/30 15:58:20 INFO OWLQN: Step Size: 1.000\n",
      "23/01/30 15:58:20 INFO OWLQN: Val and Grad Norm: 0.219091 (rel: 9.90e-10) 2.98349e-06\n",
      "23/01/30 15:58:20 INFO OWLQN: Step Size: 1.000\n",
      "23/01/30 15:58:20 INFO OWLQN: Val and Grad Norm: 0.219044 (rel: 2.44e-10) 1.32733e-06\n",
      "23/01/30 15:58:20 INFO OWLQN: Step Size: 1.000\n",
      "23/01/30 15:58:20 INFO OWLQN: Val and Grad Norm: 0.219091 (rel: 6.44e-10) 2.37927e-06\n",
      "23/01/30 15:58:20 INFO OWLQN: Step Size: 1.000\n",
      "23/01/30 15:58:20 INFO OWLQN: Val and Grad Norm: 0.219044 (rel: 4.75e-11) 2.55172e-06\n",
      "23/01/30 15:58:20 INFO OWLQN: Step Size: 1.000\n",
      "23/01/30 15:58:20 INFO OWLQN: Val and Grad Norm: 0.219044 (rel: 6.58e-11) 7.99495e-07\n",
      "23/01/30 15:58:20 INFO OWLQN: Step Size: 0.5000\n",
      "23/01/30 15:58:20 INFO OWLQN: Val and Grad Norm: 0.219091 (rel: 2.36e-10) 4.10914e-06\n",
      "23/01/30 15:58:20 INFO OWLQN: Step Size: 1.000\n",
      "23/01/30 15:58:20 INFO OWLQN: Val and Grad Norm: 0.219044 (rel: 1.48e-11) 5.63419e-07\n",
      "23/01/30 15:58:20 INFO OWLQN: Converged because function values converged\n",
      "23/01/30 15:58:20 INFO OWLQN: Step Size: 1.000\n",
      "23/01/30 15:58:20 INFO OWLQN: Val and Grad Norm: 0.219091 (rel: 2.82e-10) 2.97211e-06\n",
      "23/01/30 15:58:21 INFO OWLQN: Step Size: 1.000\n",
      "23/01/30 15:58:21 INFO OWLQN: Val and Grad Norm: 0.219091 (rel: 1.77e-10) 1.76671e-06\n",
      "23/01/30 15:58:21 INFO OWLQN: Step Size: 1.000\n",
      "23/01/30 15:58:21 INFO OWLQN: Val and Grad Norm: 0.219091 (rel: 1.60e-10) 1.28711e-06\n",
      "23/01/30 15:58:21 INFO OWLQN: Step Size: 1.000\n",
      "23/01/30 15:58:21 INFO OWLQN: Val and Grad Norm: 0.219091 (rel: 1.34e-10) 1.50588e-06\n",
      "23/01/30 15:58:21 INFO OWLQN: Converged because function values converged\n",
      "23/01/30 15:58:24 INFO OWLQN: Step Size: 0.9862\n",
      "23/01/30 15:58:24 INFO OWLQN: Val and Grad Norm: 0.307500 (rel: 0.126) 0.176300\n",
      "23/01/30 15:58:24 INFO OWLQN: Step Size: 0.9862\n",
      "23/01/30 15:58:24 INFO OWLQN: Val and Grad Norm: 0.307490 (rel: 0.126) 0.176316\n",
      "23/01/30 15:58:24 INFO OWLQN: Step Size: 1.000\n",
      "23/01/30 15:58:24 INFO OWLQN: Val and Grad Norm: 0.240881 (rel: 0.217) 0.0724978\n",
      "23/01/30 15:58:24 INFO OWLQN: Step Size: 1.000\n",
      "23/01/30 15:58:24 INFO OWLQN: Val and Grad Norm: 0.240863 (rel: 0.217) 0.0724951\n",
      "23/01/30 15:58:24 INFO OWLQN: Step Size: 1.000\n",
      "23/01/30 15:58:24 INFO OWLQN: Val and Grad Norm: 0.229959 (rel: 0.0453) 0.0379162\n",
      "23/01/30 15:58:24 INFO OWLQN: Step Size: 1.000\n",
      "23/01/30 15:58:24 INFO OWLQN: Val and Grad Norm: 0.229941 (rel: 0.0453) 0.0379199\n",
      "23/01/30 15:58:25 INFO OWLQN: Step Size: 1.000\n",
      "23/01/30 15:58:25 INFO OWLQN: Val and Grad Norm: 0.221994 (rel: 0.0346) 0.0272937\n",
      "23/01/30 15:58:25 INFO OWLQN: Step Size: 1.000\n",
      "23/01/30 15:58:25 INFO OWLQN: Val and Grad Norm: 0.221973 (rel: 0.0347) 0.0272975\n",
      "23/01/30 15:58:25 INFO OWLQN: Step Size: 1.000\n",
      "23/01/30 15:58:25 INFO OWLQN: Val and Grad Norm: 0.218454 (rel: 0.0159) 0.0181805\n",
      "23/01/30 15:58:25 INFO OWLQN: Step Size: 1.000\n",
      "23/01/30 15:58:25 INFO OWLQN: Val and Grad Norm: 0.218431 (rel: 0.0160) 0.0181849\n",
      "23/01/30 15:58:25 INFO OWLQN: Step Size: 1.000\n",
      "23/01/30 15:58:25 INFO OWLQN: Val and Grad Norm: 0.215877 (rel: 0.0118) 0.0105450\n",
      "23/01/30 15:58:25 INFO OWLQN: Step Size: 1.000\n",
      "23/01/30 15:58:25 INFO OWLQN: Val and Grad Norm: 0.215853 (rel: 0.0118) 0.0105388\n",
      "23/01/30 15:58:25 INFO OWLQN: Step Size: 1.000\n",
      "23/01/30 15:58:25 INFO OWLQN: Val and Grad Norm: 0.215740 (rel: 0.000636) 0.0111342\n",
      "23/01/30 15:58:25 INFO OWLQN: Step Size: 1.000\n",
      "23/01/30 15:58:25 INFO OWLQN: Val and Grad Norm: 0.215716 (rel: 0.000635) 0.0111390\n",
      "23/01/30 15:58:25 INFO OWLQN: Step Size: 1.000\n",
      "23/01/30 15:58:25 INFO OWLQN: Val and Grad Norm: 0.215395 (rel: 0.00160) 0.00456779\n",
      "23/01/30 15:58:25 INFO OWLQN: Step Size: 1.000\n",
      "23/01/30 15:58:25 INFO OWLQN: Val and Grad Norm: 0.215371 (rel: 0.00160) 0.00456769\n",
      "23/01/30 15:58:26 INFO OWLQN: Step Size: 1.000\n",
      "23/01/30 15:58:26 INFO OWLQN: Val and Grad Norm: 0.215276 (rel: 0.000553) 0.00436769\n",
      "23/01/30 15:58:26 INFO OWLQN: Step Size: 1.000\n",
      "23/01/30 15:58:26 INFO OWLQN: Val and Grad Norm: 0.215252 (rel: 0.000553) 0.00436722\n",
      "23/01/30 15:58:26 INFO OWLQN: Step Size: 1.000\n",
      "23/01/30 15:58:26 INFO OWLQN: Val and Grad Norm: 0.215295 (rel: -9.08e-05) 0.00830138\n",
      "23/01/30 15:58:26 INFO OWLQN: Step Size: 1.000\n",
      "23/01/30 15:58:26 INFO OWLQN: Val and Grad Norm: 0.215270 (rel: -8.63e-05) 0.00829101\n",
      "23/01/30 15:58:26 INFO OWLQN: Step Size: 1.000\n",
      "23/01/30 15:58:26 INFO OWLQN: Val and Grad Norm: 0.215109 (rel: 0.000867) 0.00209133\n",
      "23/01/30 15:58:26 INFO OWLQN: Step Size: 1.000\n",
      "23/01/30 15:58:26 INFO OWLQN: Val and Grad Norm: 0.215084 (rel: 0.000866) 0.00209927\n",
      "23/01/30 15:58:26 INFO OWLQN: Step Size: 1.000\n",
      "23/01/30 15:58:26 INFO OWLQN: Val and Grad Norm: 0.215077 (rel: 0.000147) 0.00135033\n",
      "23/01/30 15:58:26 INFO OWLQN: Step Size: 1.000\n",
      "23/01/30 15:58:26 INFO OWLQN: Val and Grad Norm: 0.215052 (rel: 0.000148) 0.00135074\n",
      "23/01/30 15:58:26 INFO OWLQN: Step Size: 1.000\n",
      "23/01/30 15:58:26 INFO OWLQN: Val and Grad Norm: 0.215069 (rel: 3.70e-05) 0.00100495\n",
      "23/01/30 15:58:27 INFO OWLQN: Step Size: 1.000\n",
      "23/01/30 15:58:27 INFO OWLQN: Val and Grad Norm: 0.215044 (rel: 3.67e-05) 0.00102009\n",
      "23/01/30 15:58:27 INFO OWLQN: Step Size: 1.000\n",
      "23/01/30 15:58:27 INFO OWLQN: Val and Grad Norm: 0.215064 (rel: 2.29e-05) 0.000614944\n",
      "23/01/30 15:58:27 INFO OWLQN: Step Size: 1.000\n",
      "23/01/30 15:58:27 INFO OWLQN: Val and Grad Norm: 0.215039 (rel: 2.32e-05) 0.000608264\n",
      "23/01/30 15:58:27 INFO OWLQN: Step Size: 1.000\n",
      "23/01/30 15:58:27 INFO OWLQN: Val and Grad Norm: 0.215062 (rel: 7.73e-06) 0.000423409\n",
      "23/01/30 15:58:27 INFO OWLQN: Step Size: 1.000\n",
      "23/01/30 15:58:27 INFO OWLQN: Val and Grad Norm: 0.215037 (rel: 7.88e-06) 0.000419855\n",
      "23/01/30 15:58:27 INFO OWLQN: Step Size: 1.000\n",
      "23/01/30 15:58:27 INFO OWLQN: Val and Grad Norm: 0.215061 (rel: 5.99e-06) 0.000285910\n",
      "23/01/30 15:58:27 INFO OWLQN: Step Size: 1.000\n",
      "23/01/30 15:58:27 INFO OWLQN: Val and Grad Norm: 0.215036 (rel: 6.27e-06) 0.000284071\n",
      "23/01/30 15:58:27 INFO OWLQN: Step Size: 1.000\n",
      "23/01/30 15:58:27 INFO OWLQN: Val and Grad Norm: 0.215059 (rel: 9.00e-06) 0.000340215\n",
      "23/01/30 15:58:27 INFO OWLQN: Step Size: 1.000\n",
      "23/01/30 15:58:27 INFO OWLQN: Val and Grad Norm: 0.215034 (rel: 9.27e-06) 0.000342426\n",
      "23/01/30 15:58:28 INFO OWLQN: Step Size: 1.000\n",
      "23/01/30 15:58:28 INFO OWLQN: Val and Grad Norm: 0.215057 (rel: 8.21e-06) 0.000523441\n",
      "23/01/30 15:58:28 INFO OWLQN: Step Size: 1.000\n",
      "23/01/30 15:58:28 INFO OWLQN: Val and Grad Norm: 0.215032 (rel: 8.20e-06) 0.000521679\n",
      "23/01/30 15:58:28 INFO OWLQN: Step Size: 1.000\n",
      "23/01/30 15:58:28 INFO OWLQN: Val and Grad Norm: 0.215056 (rel: 7.99e-06) 0.000365126\n",
      "23/01/30 15:58:28 INFO OWLQN: Step Size: 1.000\n",
      "23/01/30 15:58:28 INFO OWLQN: Val and Grad Norm: 0.215031 (rel: 7.86e-06) 0.000343517\n",
      "23/01/30 15:58:28 INFO OWLQN: Step Size: 1.000\n",
      "23/01/30 15:58:28 INFO OWLQN: Val and Grad Norm: 0.215055 (rel: 1.61e-06) 0.000408307\n",
      "23/01/30 15:58:28 INFO OWLQN: Step Size: 1.000\n",
      "23/01/30 15:58:28 INFO OWLQN: Val and Grad Norm: 0.215030 (rel: 1.51e-06) 0.000402973\n",
      "23/01/30 15:58:28 INFO OWLQN: Step Size: 1.000\n",
      "23/01/30 15:58:28 INFO OWLQN: Val and Grad Norm: 0.215054 (rel: 5.16e-06) 0.000232209\n",
      "23/01/30 15:58:28 INFO OWLQN: Step Size: 1.000\n",
      "23/01/30 15:58:28 INFO OWLQN: Val and Grad Norm: 0.215029 (rel: 4.88e-06) 0.000242260\n",
      "23/01/30 15:58:28 INFO OWLQN: Step Size: 1.000\n",
      "23/01/30 15:58:28 INFO OWLQN: Val and Grad Norm: 0.215054 (rel: 1.42e-06) 0.000297584\n",
      "23/01/30 15:58:28 INFO OWLQN: Step Size: 1.000\n",
      "23/01/30 15:58:28 INFO OWLQN: Val and Grad Norm: 0.215029 (rel: 1.18e-06) 0.000343643\n",
      "23/01/30 15:58:28 INFO OWLQN: Step Size: 1.000\n",
      "23/01/30 15:58:28 INFO OWLQN: Val and Grad Norm: 0.215054 (rel: 1.44e-06) 0.000349652\n",
      "23/01/30 15:58:28 INFO OWLQN: Step Size: 1.000\n",
      "23/01/30 15:58:28 INFO OWLQN: Val and Grad Norm: 0.215028 (rel: 2.29e-06) 0.000276132\n",
      "23/01/30 15:58:28 INFO OWLQN: Step Size: 1.000\n",
      "23/01/30 15:58:28 INFO OWLQN: Val and Grad Norm: 0.215053 (rel: 1.54e-06) 0.000247177\n",
      "23/01/30 15:58:28 INFO OWLQN: Step Size: 1.000\n",
      "23/01/30 15:58:28 INFO OWLQN: Val and Grad Norm: 0.215028 (rel: 1.01e-06) 0.000259963\n",
      "23/01/30 15:58:28 INFO OWLQN: Step Size: 1.000\n",
      "23/01/30 15:58:28 INFO OWLQN: Val and Grad Norm: 0.215053 (rel: 1.22e-06) 0.000150182\n",
      "23/01/30 15:58:29 INFO OWLQN: Step Size: 1.000\n",
      "23/01/30 15:58:29 INFO OWLQN: Val and Grad Norm: 0.215028 (rel: 1.20e-06) 0.000163417\n",
      "23/01/30 15:58:29 INFO OWLQN: Step Size: 1.000\n",
      "23/01/30 15:58:29 INFO OWLQN: Val and Grad Norm: 0.215053 (rel: 5.51e-07) 0.000146401\n",
      "23/01/30 15:58:29 INFO OWLQN: Step Size: 1.000\n",
      "23/01/30 15:58:29 INFO OWLQN: Val and Grad Norm: 0.215028 (rel: 5.25e-07) 0.000155176\n",
      "23/01/30 15:58:29 INFO OWLQN: Step Size: 1.000\n",
      "23/01/30 15:58:29 INFO OWLQN: Val and Grad Norm: 0.215053 (rel: 4.57e-07) 0.000105914\n",
      "23/01/30 15:58:29 INFO OWLQN: Step Size: 1.000\n",
      "23/01/30 15:58:29 INFO OWLQN: Val and Grad Norm: 0.215028 (rel: 4.29e-07) 0.000106708\n",
      "23/01/30 15:58:29 INFO OWLQN: Step Size: 1.000\n",
      "23/01/30 15:58:29 INFO OWLQN: Val and Grad Norm: 0.215053 (rel: 2.26e-07) 8.30710e-05\n",
      "23/01/30 15:58:29 INFO OWLQN: Step Size: 1.000\n",
      "23/01/30 15:58:29 INFO OWLQN: Val and Grad Norm: 0.215028 (rel: 2.05e-07) 9.45170e-05\n",
      "23/01/30 15:58:29 INFO OWLQN: Step Size: 1.000\n",
      "23/01/30 15:58:29 INFO OWLQN: Val and Grad Norm: 0.215053 (rel: 1.95e-07) 5.05149e-05\n",
      "23/01/30 15:58:29 INFO OWLQN: Step Size: 1.000\n",
      "23/01/30 15:58:29 INFO OWLQN: Val and Grad Norm: 0.215028 (rel: 1.30e-07) 7.15329e-05\n",
      "23/01/30 15:58:29 INFO OWLQN: Step Size: 1.000\n",
      "23/01/30 15:58:29 INFO OWLQN: Val and Grad Norm: 0.215053 (rel: 7.65e-08) 3.39363e-05\n",
      "23/01/30 15:58:29 INFO OWLQN: Step Size: 1.000\n",
      "23/01/30 15:58:29 INFO OWLQN: Val and Grad Norm: 0.215028 (rel: 1.04e-07) 3.47777e-05\n",
      "23/01/30 15:58:29 INFO OWLQN: Step Size: 1.000\n",
      "23/01/30 15:58:29 INFO OWLQN: Val and Grad Norm: 0.215053 (rel: 3.60e-08) 2.69434e-05\n",
      "23/01/30 15:58:29 INFO OWLQN: Step Size: 1.000\n",
      "23/01/30 15:58:29 INFO OWLQN: Val and Grad Norm: 0.215028 (rel: 4.90e-08) 2.69585e-05\n",
      "23/01/30 15:58:30 INFO OWLQN: Step Size: 1.000\n",
      "23/01/30 15:58:30 INFO OWLQN: Val and Grad Norm: 0.215053 (rel: 1.76e-08) 2.65011e-05\n",
      "23/01/30 15:58:30 INFO OWLQN: Step Size: 1.000\n",
      "23/01/30 15:58:30 INFO OWLQN: Val and Grad Norm: 0.215028 (rel: 2.40e-08) 5.35710e-05\n",
      "23/01/30 15:58:30 INFO OWLQN: Step Size: 1.000\n",
      "23/01/30 15:58:30 INFO OWLQN: Val and Grad Norm: 0.215053 (rel: 1.15e-08) 1.67806e-05\n",
      "23/01/30 15:58:30 INFO OWLQN: Step Size: 1.000\n",
      "23/01/30 15:58:30 INFO OWLQN: Val and Grad Norm: 0.215028 (rel: 3.99e-08) 1.71879e-05\n",
      "23/01/30 15:58:30 INFO OWLQN: Step Size: 1.000\n",
      "23/01/30 15:58:30 INFO OWLQN: Val and Grad Norm: 0.215053 (rel: 9.72e-09) 1.17839e-05\n",
      "23/01/30 15:58:30 INFO OWLQN: Step Size: 1.000\n",
      "23/01/30 15:58:30 INFO OWLQN: Val and Grad Norm: 0.215028 (rel: 1.25e-08) 1.48164e-05\n",
      "23/01/30 15:58:30 INFO OWLQN: Step Size: 1.000\n",
      "23/01/30 15:58:30 INFO OWLQN: Val and Grad Norm: 0.215053 (rel: 1.33e-08) 1.22449e-05\n",
      "23/01/30 15:58:30 INFO OWLQN: Step Size: 1.000\n",
      "23/01/30 15:58:30 INFO OWLQN: Val and Grad Norm: 0.215028 (rel: 1.84e-08) 3.75083e-05\n",
      "23/01/30 15:58:30 INFO OWLQN: Step Size: 1.000\n",
      "23/01/30 15:58:30 INFO OWLQN: Val and Grad Norm: 0.215053 (rel: 1.26e-08) 2.10378e-05\n",
      "23/01/30 15:58:30 INFO OWLQN: Step Size: 1.000\n",
      "23/01/30 15:58:30 INFO OWLQN: Val and Grad Norm: 0.215028 (rel: 1.94e-08) 1.74865e-05\n",
      "23/01/30 15:58:30 INFO OWLQN: Step Size: 1.000\n",
      "23/01/30 15:58:30 INFO OWLQN: Val and Grad Norm: 0.215053 (rel: 4.69e-09) 1.94744e-05\n",
      "23/01/30 15:58:30 INFO OWLQN: Step Size: 1.000\n",
      "23/01/30 15:58:30 INFO OWLQN: Val and Grad Norm: 0.215028 (rel: 1.18e-08) 1.96916e-05\n",
      "23/01/30 15:58:31 INFO OWLQN: Step Size: 1.000\n",
      "23/01/30 15:58:31 INFO OWLQN: Val and Grad Norm: 0.215053 (rel: 1.06e-08) 9.26163e-06\n",
      "23/01/30 15:58:31 INFO OWLQN: Step Size: 1.000\n",
      "23/01/30 15:58:31 INFO OWLQN: Val and Grad Norm: 0.215028 (rel: 9.47e-09) 2.97472e-05\n",
      "23/01/30 15:58:31 INFO OWLQN: Step Size: 1.000\n",
      "23/01/30 15:58:31 INFO OWLQN: Val and Grad Norm: 0.215028 (rel: 6.68e-09) 2.73663e-05\n",
      "23/01/30 15:58:31 INFO OWLQN: Step Size: 0.5000\n",
      "23/01/30 15:58:31 INFO OWLQN: Val and Grad Norm: 0.215053 (rel: 3.50e-09) 8.70572e-06\n",
      "23/01/30 15:58:31 INFO OWLQN: Step Size: 1.000\n",
      "23/01/30 15:58:31 INFO OWLQN: Val and Grad Norm: 0.215028 (rel: 1.59e-08) 9.86409e-06\n",
      "23/01/30 15:58:31 INFO OWLQN: Step Size: 1.000\n",
      "23/01/30 15:58:31 INFO OWLQN: Val and Grad Norm: 0.215028 (rel: 2.47e-09) 7.20566e-06\n",
      "23/01/30 15:58:31 INFO OWLQN: Step Size: 0.5000\n",
      "23/01/30 15:58:31 INFO OWLQN: Val and Grad Norm: 0.215053 (rel: 3.05e-09) 8.56003e-06\n",
      "23/01/30 15:58:31 INFO OWLQN: Step Size: 1.000\n",
      "23/01/30 15:58:31 INFO OWLQN: Val and Grad Norm: 0.215028 (rel: 2.45e-09) 4.73463e-06\n",
      "23/01/30 15:58:32 INFO OWLQN: Step Size: 1.000\n",
      "23/01/30 15:58:32 INFO OWLQN: Val and Grad Norm: 0.215028 (rel: 1.59e-09) 8.97888e-06\n",
      "23/01/30 15:58:32 INFO OWLQN: Step Size: 0.5000\n",
      "23/01/30 15:58:32 INFO OWLQN: Val and Grad Norm: 0.215053 (rel: 1.86e-09) 1.01755e-05\n",
      "23/01/30 15:58:32 INFO OWLQN: Step Size: 1.000\n",
      "23/01/30 15:58:32 INFO OWLQN: Val and Grad Norm: 0.215028 (rel: 4.39e-10) 1.28954e-05\n",
      "23/01/30 15:58:32 INFO OWLQN: Converged because function values converged\n",
      "23/01/30 15:58:32 INFO OWLQN: Step Size: 0.5000\n",
      "23/01/30 15:58:32 INFO OWLQN: Val and Grad Norm: 0.215053 (rel: 1.86e-09) 7.81252e-06\n",
      "23/01/30 15:58:32 INFO OWLQN: Step Size: 0.5000\n",
      "23/01/30 15:58:32 INFO OWLQN: Val and Grad Norm: 0.215053 (rel: 1.15e-09) 6.36903e-06\n",
      "23/01/30 15:58:33 INFO OWLQN: Step Size: 0.5000\n",
      "23/01/30 15:58:33 INFO OWLQN: Val and Grad Norm: 0.215053 (rel: 7.85e-10) 5.75518e-06\n",
      "23/01/30 15:58:33 INFO OWLQN: Converged because function values converged\n",
      "23/01/30 15:58:35 INFO OWLQN: Step Size: 0.9862\n",
      "23/01/30 15:58:35 INFO OWLQN: Val and Grad Norm: 0.307580 (rel: 0.126) 0.175721\n",
      "23/01/30 15:58:35 INFO OWLQN: Step Size: 0.9862\n",
      "23/01/30 15:58:35 INFO OWLQN: Val and Grad Norm: 0.307599 (rel: 0.126) 0.175690\n",
      "23/01/30 15:58:35 INFO OWLQN: Step Size: 1.000\n",
      "23/01/30 15:58:35 INFO OWLQN: Val and Grad Norm: 0.242336 (rel: 0.212) 0.0718952\n",
      "23/01/30 15:58:35 INFO OWLQN: Step Size: 1.000\n",
      "23/01/30 15:58:35 INFO OWLQN: Val and Grad Norm: 0.242372 (rel: 0.212) 0.0719006\n",
      "23/01/30 15:58:35 INFO OWLQN: Step Size: 1.000\n",
      "23/01/30 15:58:35 INFO OWLQN: Val and Grad Norm: 0.231816 (rel: 0.0434) 0.0370634\n",
      "23/01/30 15:58:36 INFO OWLQN: Step Size: 1.000\n",
      "23/01/30 15:58:36 INFO OWLQN: Val and Grad Norm: 0.231852 (rel: 0.0434) 0.0370560\n",
      "23/01/30 15:58:36 INFO OWLQN: Step Size: 1.000\n",
      "23/01/30 15:58:36 INFO OWLQN: Val and Grad Norm: 0.224468 (rel: 0.0317) 0.0264249\n",
      "23/01/30 15:58:36 INFO OWLQN: Step Size: 1.000\n",
      "23/01/30 15:58:36 INFO OWLQN: Val and Grad Norm: 0.224510 (rel: 0.0317) 0.0264195\n",
      "23/01/30 15:58:36 INFO OWLQN: Step Size: 1.000\n",
      "23/01/30 15:58:36 INFO OWLQN: Val and Grad Norm: 0.221239 (rel: 0.0144) 0.0174264\n",
      "23/01/30 15:58:36 INFO OWLQN: Step Size: 1.000\n",
      "23/01/30 15:58:36 INFO OWLQN: Val and Grad Norm: 0.221282 (rel: 0.0144) 0.0174157\n",
      "23/01/30 15:58:36 INFO OWLQN: Step Size: 1.000\n",
      "23/01/30 15:58:36 INFO OWLQN: Val and Grad Norm: 0.219048 (rel: 0.00990) 0.00879470\n",
      "23/01/30 15:58:36 INFO OWLQN: Step Size: 1.000\n",
      "23/01/30 15:58:36 INFO OWLQN: Val and Grad Norm: 0.219093 (rel: 0.00989) 0.00877600\n",
      "23/01/30 15:58:36 INFO OWLQN: Step Size: 1.000\n",
      "23/01/30 15:58:36 INFO OWLQN: Val and Grad Norm: 0.218942 (rel: 0.000486) 0.00924237\n",
      "23/01/30 15:58:36 INFO OWLQN: Step Size: 1.000\n",
      "23/01/30 15:58:36 INFO OWLQN: Val and Grad Norm: 0.218988 (rel: 0.000478) 0.00924805\n",
      "23/01/30 15:58:36 INFO OWLQN: Step Size: 1.000\n",
      "23/01/30 15:58:36 INFO OWLQN: Val and Grad Norm: 0.218719 (rel: 0.00102) 0.00381718\n",
      "23/01/30 15:58:36 INFO OWLQN: Step Size: 1.000\n",
      "23/01/30 15:58:36 INFO OWLQN: Val and Grad Norm: 0.218765 (rel: 0.00102) 0.00381906\n",
      "23/01/30 15:58:36 INFO OWLQN: Step Size: 1.000\n",
      "23/01/30 15:58:36 INFO OWLQN: Val and Grad Norm: 0.218643 (rel: 0.000349) 0.00327552\n",
      "23/01/30 15:58:36 INFO OWLQN: Step Size: 1.000\n",
      "23/01/30 15:58:36 INFO OWLQN: Val and Grad Norm: 0.218689 (rel: 0.000350) 0.00327241\n",
      "23/01/30 15:58:37 INFO OWLQN: Step Size: 1.000\n",
      "23/01/30 15:58:37 INFO OWLQN: Val and Grad Norm: 0.218614 (rel: 0.000131) 0.00548159\n",
      "23/01/30 15:58:37 INFO OWLQN: Step Size: 1.000\n",
      "23/01/30 15:58:37 INFO OWLQN: Val and Grad Norm: 0.218661 (rel: 0.000127) 0.00549444\n",
      "23/01/30 15:58:37 INFO OWLQN: Step Size: 1.000\n",
      "23/01/30 15:58:37 INFO OWLQN: Val and Grad Norm: 0.218532 (rel: 0.000376) 0.00142152\n",
      "23/01/30 15:58:37 INFO OWLQN: Step Size: 1.000\n",
      "23/01/30 15:58:37 INFO OWLQN: Val and Grad Norm: 0.218579 (rel: 0.000375) 0.00141297\n",
      "23/01/30 15:58:37 INFO OWLQN: Step Size: 1.000\n",
      "23/01/30 15:58:37 INFO OWLQN: Val and Grad Norm: 0.218519 (rel: 5.65e-05) 0.000612784\n",
      "23/01/30 15:58:37 INFO OWLQN: Step Size: 1.000\n",
      "23/01/30 15:58:37 INFO OWLQN: Val and Grad Norm: 0.218567 (rel: 5.63e-05) 0.000612891\n",
      "23/01/30 15:58:37 INFO OWLQN: Step Size: 1.000\n",
      "23/01/30 15:58:37 INFO OWLQN: Val and Grad Norm: 0.218516 (rel: 1.34e-05) 0.000325680\n",
      "23/01/30 15:58:37 INFO OWLQN: Step Size: 1.000\n",
      "23/01/30 15:58:37 INFO OWLQN: Val and Grad Norm: 0.218564 (rel: 1.34e-05) 0.000323867\n",
      "23/01/30 15:58:37 INFO OWLQN: Step Size: 1.000\n",
      "23/01/30 15:58:37 INFO OWLQN: Val and Grad Norm: 0.218516 (rel: 1.80e-06) 0.000404720\n",
      "23/01/30 15:58:37 INFO OWLQN: Step Size: 1.000\n",
      "23/01/30 15:58:37 INFO OWLQN: Val and Grad Norm: 0.218563 (rel: 1.88e-06) 0.000398033\n",
      "23/01/30 15:58:37 INFO OWLQN: Step Size: 1.000\n",
      "23/01/30 15:58:37 INFO OWLQN: Val and Grad Norm: 0.218516 (rel: 1.76e-06) 0.000121083\n",
      "23/01/30 15:58:38 INFO OWLQN: Step Size: 1.000\n",
      "23/01/30 15:58:38 INFO OWLQN: Val and Grad Norm: 0.218563 (rel: 1.72e-06) 0.000120459\n",
      "23/01/30 15:58:38 INFO OWLQN: Step Size: 1.000\n",
      "23/01/30 15:58:38 INFO OWLQN: Val and Grad Norm: 0.218516 (rel: 4.13e-07) 0.000101905\n",
      "23/01/30 15:58:38 INFO OWLQN: Step Size: 1.000\n",
      "23/01/30 15:58:38 INFO OWLQN: Val and Grad Norm: 0.218563 (rel: 4.21e-07) 0.000104480\n",
      "23/01/30 15:58:38 INFO OWLQN: Step Size: 1.000\n",
      "23/01/30 15:58:38 INFO OWLQN: Val and Grad Norm: 0.218515 (rel: 8.91e-07) 9.33641e-05\n",
      "23/01/30 15:58:38 INFO OWLQN: Step Size: 1.000\n",
      "23/01/30 15:58:38 INFO OWLQN: Val and Grad Norm: 0.218563 (rel: 1.01e-06) 9.67633e-05\n",
      "23/01/30 15:58:38 INFO OWLQN: Step Size: 1.000\n",
      "23/01/30 15:58:38 INFO OWLQN: Val and Grad Norm: 0.218515 (rel: 5.66e-07) 0.000161969\n",
      "23/01/30 15:58:38 INFO OWLQN: Step Size: 1.000\n",
      "23/01/30 15:58:38 INFO OWLQN: Val and Grad Norm: 0.218563 (rel: 6.32e-07) 0.000168773\n",
      "23/01/30 15:58:38 INFO OWLQN: Step Size: 1.000\n",
      "23/01/30 15:58:38 INFO OWLQN: Val and Grad Norm: 0.218515 (rel: 3.87e-07) 8.83930e-05\n",
      "23/01/30 15:58:38 INFO OWLQN: Step Size: 1.000\n",
      "23/01/30 15:58:38 INFO OWLQN: Val and Grad Norm: 0.218563 (rel: 4.88e-07) 7.84217e-05\n",
      "23/01/30 15:58:38 INFO OWLQN: Step Size: 1.000\n",
      "23/01/30 15:58:38 INFO OWLQN: Val and Grad Norm: 0.218515 (rel: 1.21e-07) 5.08025e-05\n",
      "23/01/30 15:58:38 INFO OWLQN: Step Size: 1.000\n",
      "23/01/30 15:58:38 INFO OWLQN: Val and Grad Norm: 0.218563 (rel: 1.47e-07) 4.38265e-05\n",
      "23/01/30 15:58:38 INFO OWLQN: Step Size: 1.000\n",
      "23/01/30 15:58:38 INFO OWLQN: Val and Grad Norm: 0.218515 (rel: 1.40e-07) 4.93544e-05\n",
      "23/01/30 15:58:38 INFO OWLQN: Step Size: 1.000\n",
      "23/01/30 15:58:38 INFO OWLQN: Val and Grad Norm: 0.218563 (rel: 8.12e-08) 5.66737e-05\n",
      "23/01/30 15:58:38 INFO OWLQN: Step Size: 1.000\n",
      "23/01/30 15:58:38 INFO OWLQN: Val and Grad Norm: 0.218515 (rel: 8.41e-08) 7.49678e-05\n",
      "23/01/30 15:58:39 INFO OWLQN: Step Size: 1.000\n",
      "23/01/30 15:58:39 INFO OWLQN: Val and Grad Norm: 0.218562 (rel: 4.93e-08) 5.55081e-05\n",
      "23/01/30 15:58:39 INFO OWLQN: Step Size: 1.000\n",
      "23/01/30 15:58:39 INFO OWLQN: Val and Grad Norm: 0.218515 (rel: 9.65e-08) 4.73270e-05\n",
      "23/01/30 15:58:39 INFO OWLQN: Step Size: 1.000\n",
      "23/01/30 15:58:39 INFO OWLQN: Val and Grad Norm: 0.218562 (rel: 6.87e-08) 3.47095e-05\n",
      "23/01/30 15:58:39 INFO OWLQN: Step Size: 1.000\n",
      "23/01/30 15:58:39 INFO OWLQN: Val and Grad Norm: 0.218515 (rel: 5.48e-08) 2.32339e-05\n",
      "23/01/30 15:58:39 INFO OWLQN: Step Size: 1.000\n",
      "23/01/30 15:58:39 INFO OWLQN: Val and Grad Norm: 0.218562 (rel: 3.77e-08) 3.05997e-05\n",
      "23/01/30 15:58:39 INFO OWLQN: Step Size: 1.000\n",
      "23/01/30 15:58:39 INFO OWLQN: Val and Grad Norm: 0.218515 (rel: 1.63e-08) 1.65054e-05\n",
      "23/01/30 15:58:39 INFO OWLQN: Step Size: 1.000\n",
      "23/01/30 15:58:39 INFO OWLQN: Val and Grad Norm: 0.218562 (rel: 2.31e-08) 2.22548e-05\n",
      "23/01/30 15:58:39 INFO OWLQN: Step Size: 1.000\n",
      "23/01/30 15:58:39 INFO OWLQN: Val and Grad Norm: 0.218515 (rel: 1.02e-08) 1.55513e-05\n",
      "23/01/30 15:58:39 INFO OWLQN: Step Size: 1.000\n",
      "23/01/30 15:58:39 INFO OWLQN: Val and Grad Norm: 0.218562 (rel: 1.29e-08) 1.45432e-05\n",
      "23/01/30 15:58:39 INFO OWLQN: Step Size: 1.000\n",
      "23/01/30 15:58:39 INFO OWLQN: Val and Grad Norm: 0.218515 (rel: 6.93e-09) 1.26010e-05\n",
      "23/01/30 15:58:39 INFO OWLQN: Step Size: 1.000\n",
      "23/01/30 15:58:39 INFO OWLQN: Val and Grad Norm: 0.218562 (rel: 5.71e-09) 9.48669e-06\n",
      "23/01/30 15:58:39 INFO OWLQN: Step Size: 1.000\n",
      "23/01/30 15:58:39 INFO OWLQN: Val and Grad Norm: 0.218515 (rel: 3.76e-09) 6.71789e-06\n",
      "23/01/30 15:58:39 INFO OWLQN: Step Size: 1.000\n",
      "23/01/30 15:58:39 INFO OWLQN: Val and Grad Norm: 0.218562 (rel: 3.49e-09) 6.58569e-06\n",
      "23/01/30 15:58:39 INFO OWLQN: Step Size: 1.000\n",
      "23/01/30 15:58:39 INFO OWLQN: Val and Grad Norm: 0.218515 (rel: 1.27e-09) 3.83668e-06\n",
      "23/01/30 15:58:39 INFO OWLQN: Step Size: 1.000\n",
      "23/01/30 15:58:39 INFO OWLQN: Val and Grad Norm: 0.218562 (rel: 3.16e-09) 7.63128e-06\n",
      "23/01/30 15:58:39 INFO OWLQN: Step Size: 1.000\n",
      "23/01/30 15:58:39 INFO OWLQN: Val and Grad Norm: 0.218515 (rel: 1.05e-09) 3.21854e-06\n",
      "23/01/30 15:58:40 INFO OWLQN: Step Size: 1.000\n",
      "23/01/30 15:58:40 INFO OWLQN: Val and Grad Norm: 0.218562 (rel: 7.32e-10) 1.66870e-05\n",
      "23/01/30 15:58:40 INFO OWLQN: Step Size: 1.000\n",
      "23/01/30 15:58:40 INFO OWLQN: Val and Grad Norm: 0.218515 (rel: 9.72e-10) 5.47311e-06\n",
      "23/01/30 15:58:40 INFO OWLQN: Step Size: 1.000\n",
      "23/01/30 15:58:40 INFO OWLQN: Val and Grad Norm: 0.218562 (rel: 3.67e-09) 4.72671e-06\n",
      "23/01/30 15:58:40 INFO OWLQN: Step Size: 0.5000\n",
      "23/01/30 15:58:40 INFO OWLQN: Val and Grad Norm: 0.218515 (rel: 4.15e-10) 3.87070e-06\n",
      "23/01/30 15:58:40 INFO OWLQN: Step Size: 1.000\n",
      "23/01/30 15:58:40 INFO OWLQN: Val and Grad Norm: 0.218562 (rel: 8.80e-10) 4.11996e-06\n",
      "23/01/30 15:58:40 INFO OWLQN: Step Size: 1.000\n",
      "23/01/30 15:58:40 INFO OWLQN: Val and Grad Norm: 0.218515 (rel: 1.77e-10) 4.68774e-06\n",
      "23/01/30 15:58:40 INFO OWLQN: Step Size: 1.000\n",
      "23/01/30 15:58:40 INFO OWLQN: Val and Grad Norm: 0.218562 (rel: 1.88e-10) 6.95819e-06\n",
      "23/01/30 15:58:40 INFO OWLQN: Step Size: 1.000\n",
      "23/01/30 15:58:40 INFO OWLQN: Val and Grad Norm: 0.218515 (rel: 2.63e-10) 2.78488e-06\n",
      "23/01/30 15:58:40 INFO OWLQN: Step Size: 1.000\n",
      "23/01/30 15:58:40 INFO OWLQN: Val and Grad Norm: 0.218562 (rel: 7.58e-10) 2.89349e-06\n",
      "23/01/30 15:58:40 INFO OWLQN: Step Size: 1.000\n",
      "23/01/30 15:58:40 INFO OWLQN: Val and Grad Norm: 0.218562 (rel: 1.59e-10) 2.79513e-06\n",
      "23/01/30 15:58:40 INFO OWLQN: Step Size: 1.000\n",
      "23/01/30 15:58:40 INFO OWLQN: Val and Grad Norm: 0.218515 (rel: 1.19e-10) 1.84454e-06\n",
      "23/01/30 15:58:40 INFO OWLQN: Step Size: 1.000\n",
      "23/01/30 15:58:40 INFO OWLQN: Val and Grad Norm: 0.218562 (rel: 1.30e-10) 1.98431e-06\n",
      "23/01/30 15:58:40 INFO OWLQN: Converged because function values converged\n",
      "23/01/30 15:58:41 INFO OWLQN: Step Size: 1.000\n",
      "23/01/30 15:58:41 INFO OWLQN: Val and Grad Norm: 0.218515 (rel: 5.87e-11) 1.33725e-06\n",
      "23/01/30 15:58:41 INFO OWLQN: Converged because function values converged\n",
      "23/01/30 15:58:43 INFO OWLQN: Step Size: 0.9825\n",
      "23/01/30 15:58:43 INFO OWLQN: Val and Grad Norm: 0.307202 (rel: 0.126) 0.176674\n",
      "23/01/30 15:58:43 INFO OWLQN: Step Size: 0.9825\n",
      "23/01/30 15:58:43 INFO OWLQN: Val and Grad Norm: 0.307193 (rel: 0.126) 0.176689\n",
      "23/01/30 15:58:43 INFO OWLQN: Step Size: 1.000\n",
      "23/01/30 15:58:43 INFO OWLQN: Val and Grad Norm: 0.241090 (rel: 0.215) 0.0729834\n",
      "23/01/30 15:58:43 INFO OWLQN: Step Size: 1.000\n",
      "23/01/30 15:58:43 INFO OWLQN: Val and Grad Norm: 0.241071 (rel: 0.215) 0.0729804\n",
      "23/01/30 15:58:43 INFO OWLQN: Step Size: 1.000\n",
      "23/01/30 15:58:43 INFO OWLQN: Val and Grad Norm: 0.230246 (rel: 0.0450) 0.0383118\n",
      "23/01/30 15:58:43 INFO OWLQN: Step Size: 1.000\n",
      "23/01/30 15:58:43 INFO OWLQN: Val and Grad Norm: 0.230227 (rel: 0.0450) 0.0383158\n",
      "23/01/30 15:58:43 INFO OWLQN: Step Size: 1.000\n",
      "23/01/30 15:58:43 INFO OWLQN: Val and Grad Norm: 0.222248 (rel: 0.0347) 0.0268602\n",
      "23/01/30 15:58:44 INFO OWLQN: Step Size: 1.000\n",
      "23/01/30 15:58:44 INFO OWLQN: Val and Grad Norm: 0.222226 (rel: 0.0348) 0.0268632\n",
      "23/01/30 15:58:44 INFO OWLQN: Step Size: 1.000\n",
      "23/01/30 15:58:44 INFO OWLQN: Val and Grad Norm: 0.218712 (rel: 0.0159) 0.0180766\n",
      "23/01/30 15:58:44 INFO OWLQN: Step Size: 1.000\n",
      "23/01/30 15:58:44 INFO OWLQN: Val and Grad Norm: 0.218689 (rel: 0.0159) 0.0180803\n",
      "23/01/30 15:58:44 INFO OWLQN: Step Size: 1.000\n",
      "23/01/30 15:58:44 INFO OWLQN: Val and Grad Norm: 0.215907 (rel: 0.0128) 0.00691487\n",
      "23/01/30 15:58:44 INFO OWLQN: Step Size: 1.000\n",
      "23/01/30 15:58:44 INFO OWLQN: Val and Grad Norm: 0.215882 (rel: 0.0128) 0.00690570\n",
      "23/01/30 15:58:44 INFO OWLQN: Step Size: 1.000\n",
      "23/01/30 15:58:44 INFO OWLQN: Val and Grad Norm: 0.215564 (rel: 0.00159) 0.00437019\n",
      "23/01/30 15:58:44 INFO OWLQN: Step Size: 1.000\n",
      "23/01/30 15:58:44 INFO OWLQN: Val and Grad Norm: 0.215539 (rel: 0.00159) 0.00436608\n",
      "23/01/30 15:58:44 INFO OWLQN: Step Size: 1.000\n",
      "23/01/30 15:58:44 INFO OWLQN: Val and Grad Norm: 0.215496 (rel: 0.000317) 0.00605083\n",
      "23/01/30 15:58:44 INFO OWLQN: Step Size: 1.000\n",
      "23/01/30 15:58:44 INFO OWLQN: Val and Grad Norm: 0.215471 (rel: 0.000317) 0.00605139\n",
      "23/01/30 15:58:44 INFO OWLQN: Step Size: 1.000\n",
      "23/01/30 15:58:44 INFO OWLQN: Val and Grad Norm: 0.215377 (rel: 0.000550) 0.00193025\n",
      "23/01/30 15:58:44 INFO OWLQN: Step Size: 1.000\n",
      "23/01/30 15:58:44 INFO OWLQN: Val and Grad Norm: 0.215352 (rel: 0.000550) 0.00193505\n",
      "23/01/30 15:58:44 INFO OWLQN: Step Size: 1.000\n",
      "23/01/30 15:58:44 INFO OWLQN: Val and Grad Norm: 0.215350 (rel: 0.000125) 0.00109640\n",
      "23/01/30 15:58:44 INFO OWLQN: Step Size: 1.000\n",
      "23/01/30 15:58:44 INFO OWLQN: Val and Grad Norm: 0.215325 (rel: 0.000125) 0.00109932\n",
      "23/01/30 15:58:45 INFO OWLQN: Step Size: 1.000\n",
      "23/01/30 15:58:45 INFO OWLQN: Val and Grad Norm: 0.215337 (rel: 6.05e-05) 0.000661148\n",
      "23/01/30 15:58:45 INFO OWLQN: Step Size: 1.000\n",
      "23/01/30 15:58:45 INFO OWLQN: Val and Grad Norm: 0.215312 (rel: 6.07e-05) 0.000663570\n",
      "23/01/30 15:58:45 INFO OWLQN: Step Size: 0.5000\n",
      "23/01/30 15:58:45 INFO OWLQN: Val and Grad Norm: 0.215336 (rel: 7.35e-06) 0.000317491\n",
      "23/01/30 15:58:45 INFO OWLQN: Step Size: 0.5000\n",
      "23/01/30 15:58:45 INFO OWLQN: Val and Grad Norm: 0.215311 (rel: 7.41e-06) 0.000318292\n",
      "23/01/30 15:58:45 INFO OWLQN: Step Size: 1.000\n",
      "23/01/30 15:58:45 INFO OWLQN: Val and Grad Norm: 0.215335 (rel: 2.72e-06) 0.000253735\n",
      "23/01/30 15:58:45 INFO OWLQN: Step Size: 1.000\n",
      "23/01/30 15:58:45 INFO OWLQN: Val and Grad Norm: 0.215310 (rel: 2.77e-06) 0.000255113\n",
      "23/01/30 15:58:45 INFO OWLQN: Step Size: 1.000\n",
      "23/01/30 15:58:45 INFO OWLQN: Val and Grad Norm: 0.215334 (rel: 6.72e-06) 0.000326482\n",
      "23/01/30 15:58:45 INFO OWLQN: Step Size: 1.000\n",
      "23/01/30 15:58:45 INFO OWLQN: Val and Grad Norm: 0.215309 (rel: 6.84e-06) 0.000326784\n",
      "23/01/30 15:58:45 INFO OWLQN: Step Size: 1.000\n",
      "23/01/30 15:58:45 INFO OWLQN: Val and Grad Norm: 0.215333 (rel: 3.85e-06) 0.000424327\n",
      "23/01/30 15:58:45 INFO OWLQN: Step Size: 1.000\n",
      "23/01/30 15:58:45 INFO OWLQN: Val and Grad Norm: 0.215308 (rel: 3.98e-06) 0.000430303\n",
      "23/01/30 15:58:45 INFO OWLQN: Step Size: 1.000\n",
      "23/01/30 15:58:45 INFO OWLQN: Val and Grad Norm: 0.215332 (rel: 3.18e-06) 0.000195332\n",
      "23/01/30 15:58:46 INFO OWLQN: Step Size: 1.000\n",
      "23/01/30 15:58:46 INFO OWLQN: Val and Grad Norm: 0.215307 (rel: 3.25e-06) 0.000195348\n",
      "23/01/30 15:58:46 INFO OWLQN: Step Size: 1.000\n",
      "23/01/30 15:58:46 INFO OWLQN: Val and Grad Norm: 0.215332 (rel: 1.27e-06) 0.000175930\n",
      "23/01/30 15:58:46 INFO OWLQN: Step Size: 1.000\n",
      "23/01/30 15:58:46 INFO OWLQN: Val and Grad Norm: 0.215307 (rel: 1.22e-06) 0.000172197\n",
      "23/01/30 15:58:46 INFO OWLQN: Step Size: 1.000\n",
      "23/01/30 15:58:46 INFO OWLQN: Val and Grad Norm: 0.215332 (rel: 1.10e-06) 0.000136493\n",
      "23/01/30 15:58:46 INFO OWLQN: Step Size: 1.000\n",
      "23/01/30 15:58:46 INFO OWLQN: Val and Grad Norm: 0.215307 (rel: 1.06e-06) 0.000128276\n",
      "23/01/30 15:58:46 INFO OWLQN: Step Size: 1.000\n",
      "23/01/30 15:58:46 INFO OWLQN: Val and Grad Norm: 0.215331 (rel: 3.33e-07) 0.000239435\n",
      "23/01/30 15:58:46 INFO OWLQN: Step Size: 1.000\n",
      "23/01/30 15:58:46 INFO OWLQN: Val and Grad Norm: 0.215306 (rel: 8.71e-07) 0.000185521\n",
      "23/01/30 15:58:46 INFO OWLQN: Step Size: 1.000\n",
      "23/01/30 15:58:46 INFO OWLQN: Val and Grad Norm: 0.215331 (rel: 1.31e-06) 0.000206913\n",
      "23/01/30 15:58:46 INFO OWLQN: Step Size: 1.000\n",
      "23/01/30 15:58:46 INFO OWLQN: Val and Grad Norm: 0.215306 (rel: 6.98e-07) 0.000182285\n",
      "23/01/30 15:58:46 INFO OWLQN: Step Size: 1.000\n",
      "23/01/30 15:58:46 INFO OWLQN: Val and Grad Norm: 0.215331 (rel: 1.84e-07) 0.000274906\n",
      "23/01/30 15:58:46 INFO OWLQN: Step Size: 1.000\n",
      "23/01/30 15:58:46 INFO OWLQN: Val and Grad Norm: 0.215306 (rel: 3.73e-07) 0.000199916\n",
      "23/01/30 15:58:47 INFO OWLQN: Step Size: 1.000\n",
      "23/01/30 15:58:47 INFO OWLQN: Val and Grad Norm: 0.215331 (rel: 9.22e-07) 0.000158947\n",
      "23/01/30 15:58:47 INFO OWLQN: Step Size: 1.000\n",
      "23/01/30 15:58:47 INFO OWLQN: Val and Grad Norm: 0.215306 (rel: 1.03e-06) 0.000103458\n",
      "23/01/30 15:58:47 INFO OWLQN: Step Size: 1.000\n",
      "23/01/30 15:58:47 INFO OWLQN: Val and Grad Norm: 0.215331 (rel: 3.18e-07) 0.000141687\n",
      "23/01/30 15:58:47 INFO OWLQN: Step Size: 1.000\n",
      "23/01/30 15:58:47 INFO OWLQN: Val and Grad Norm: 0.215306 (rel: 2.06e-07) 7.19959e-05\n",
      "23/01/30 15:58:47 INFO OWLQN: Step Size: 1.000\n",
      "23/01/30 15:58:47 INFO OWLQN: Val and Grad Norm: 0.215331 (rel: 3.03e-07) 7.33170e-05\n",
      "23/01/30 15:58:47 INFO OWLQN: Step Size: 1.000\n",
      "23/01/30 15:58:47 INFO OWLQN: Val and Grad Norm: 0.215306 (rel: 1.42e-07) 4.03580e-05\n",
      "23/01/30 15:58:47 INFO OWLQN: Step Size: 1.000\n",
      "23/01/30 15:58:47 INFO OWLQN: Val and Grad Norm: 0.215331 (rel: 9.15e-08) 6.95402e-05\n",
      "23/01/30 15:58:47 INFO OWLQN: Step Size: 1.000\n",
      "23/01/30 15:58:47 INFO OWLQN: Val and Grad Norm: 0.215306 (rel: 2.86e-08) 5.16308e-05\n",
      "23/01/30 15:58:47 INFO OWLQN: Step Size: 1.000\n",
      "23/01/30 15:58:47 INFO OWLQN: Val and Grad Norm: 0.215331 (rel: 6.53e-08) 4.95138e-05\n",
      "23/01/30 15:58:47 INFO OWLQN: Step Size: 1.000\n",
      "23/01/30 15:58:47 INFO OWLQN: Val and Grad Norm: 0.215306 (rel: 3.59e-08) 2.86416e-05\n",
      "23/01/30 15:58:47 INFO OWLQN: Step Size: 1.000\n",
      "23/01/30 15:58:47 INFO OWLQN: Val and Grad Norm: 0.215331 (rel: 4.23e-08) 2.95117e-05\n",
      "23/01/30 15:58:48 INFO OWLQN: Step Size: 1.000\n",
      "23/01/30 15:58:48 INFO OWLQN: Val and Grad Norm: 0.215306 (rel: 1.48e-08) 1.56498e-05\n",
      "23/01/30 15:58:48 INFO OWLQN: Step Size: 1.000\n",
      "23/01/30 15:58:48 INFO OWLQN: Val and Grad Norm: 0.215331 (rel: 1.72e-08) 2.41179e-05\n",
      "23/01/30 15:58:48 INFO OWLQN: Step Size: 1.000\n",
      "23/01/30 15:58:48 INFO OWLQN: Val and Grad Norm: 0.215306 (rel: 1.12e-08) 1.18322e-05\n",
      "23/01/30 15:58:48 INFO OWLQN: Step Size: 1.000\n",
      "23/01/30 15:58:48 INFO OWLQN: Val and Grad Norm: 0.215331 (rel: 1.26e-08) 1.48892e-05\n",
      "23/01/30 15:58:48 INFO OWLQN: Step Size: 1.000\n",
      "23/01/30 15:58:48 INFO OWLQN: Val and Grad Norm: 0.215306 (rel: 1.44e-08) 1.18956e-05\n",
      "23/01/30 15:58:48 INFO OWLQN: Step Size: 1.000\n",
      "23/01/30 15:58:48 INFO OWLQN: Val and Grad Norm: 0.215331 (rel: 9.36e-09) 1.25603e-05\n",
      "23/01/30 15:58:48 INFO OWLQN: Step Size: 1.000\n",
      "23/01/30 15:58:48 INFO OWLQN: Val and Grad Norm: 0.215306 (rel: 1.38e-08) 1.92648e-05\n",
      "23/01/30 15:58:48 INFO OWLQN: Step Size: 1.000\n",
      "23/01/30 15:58:48 INFO OWLQN: Val and Grad Norm: 0.215331 (rel: 1.10e-08) 1.39533e-05\n",
      "23/01/30 15:58:48 INFO OWLQN: Step Size: 1.000\n",
      "23/01/30 15:58:48 INFO OWLQN: Val and Grad Norm: 0.215306 (rel: 6.76e-09) 1.88896e-05\n",
      "23/01/30 15:58:48 INFO OWLQN: Step Size: 1.000\n",
      "23/01/30 15:58:48 INFO OWLQN: Val and Grad Norm: 0.215331 (rel: 7.15e-09) 1.56368e-05\n",
      "23/01/30 15:58:48 INFO OWLQN: Step Size: 1.000\n",
      "23/01/30 15:58:48 INFO OWLQN: Val and Grad Norm: 0.215306 (rel: 3.11e-09) 1.84500e-05\n",
      "23/01/30 15:58:48 INFO OWLQN: Step Size: 1.000\n",
      "23/01/30 15:58:48 INFO OWLQN: Val and Grad Norm: 0.215331 (rel: 5.71e-09) 8.21512e-06\n",
      "23/01/30 15:58:48 INFO OWLQN: Step Size: 1.000\n",
      "23/01/30 15:58:48 INFO OWLQN: Val and Grad Norm: 0.215306 (rel: 5.70e-09) 1.35503e-05\n",
      "23/01/30 15:58:48 INFO OWLQN: Step Size: 1.000\n",
      "23/01/30 15:58:48 INFO OWLQN: Val and Grad Norm: 0.215331 (rel: 3.79e-09) 7.05041e-06\n",
      "23/01/30 15:58:49 INFO OWLQN: Step Size: 1.000\n",
      "23/01/30 15:58:49 INFO OWLQN: Val and Grad Norm: 0.215306 (rel: 2.70e-09) 8.76582e-06\n",
      "23/01/30 15:58:49 INFO OWLQN: Step Size: 1.000\n",
      "23/01/30 15:58:49 INFO OWLQN: Val and Grad Norm: 0.215331 (rel: 4.14e-09) 7.44994e-06\n",
      "23/01/30 15:58:49 INFO OWLQN: Step Size: 1.000\n",
      "23/01/30 15:58:49 INFO OWLQN: Val and Grad Norm: 0.215306 (rel: 2.14e-09) 8.26951e-06\n",
      "23/01/30 15:58:49 INFO OWLQN: Step Size: 1.000\n",
      "23/01/30 15:58:49 INFO OWLQN: Val and Grad Norm: 0.215331 (rel: 6.30e-10) 1.22912e-05\n",
      "23/01/30 15:58:49 INFO OWLQN: Step Size: 1.000\n",
      "23/01/30 15:58:49 INFO OWLQN: Val and Grad Norm: 0.215306 (rel: 1.61e-09) 8.11058e-06\n",
      "23/01/30 15:58:49 INFO OWLQN: Step Size: 1.000\n",
      "23/01/30 15:58:49 INFO OWLQN: Val and Grad Norm: 0.215331 (rel: 3.06e-09) 7.19808e-06\n",
      "23/01/30 15:58:49 INFO OWLQN: Step Size: 1.000\n",
      "23/01/30 15:58:49 INFO OWLQN: Val and Grad Norm: 0.215306 (rel: 1.10e-09) 8.10203e-06\n",
      "23/01/30 15:58:49 INFO OWLQN: Step Size: 1.000\n",
      "23/01/30 15:58:49 INFO OWLQN: Val and Grad Norm: 0.215331 (rel: 8.66e-10) 5.88815e-06\n",
      "23/01/30 15:58:49 INFO OWLQN: Step Size: 1.000\n",
      "23/01/30 15:58:49 INFO OWLQN: Val and Grad Norm: 0.215306 (rel: 1.45e-09) 6.31963e-06\n",
      "23/01/30 15:58:49 INFO OWLQN: Step Size: 1.000\n",
      "23/01/30 15:58:49 INFO OWLQN: Val and Grad Norm: 0.215331 (rel: 9.78e-10) 3.71222e-06\n",
      "23/01/30 15:58:49 INFO OWLQN: Step Size: 1.000\n",
      "23/01/30 15:58:49 INFO OWLQN: Val and Grad Norm: 0.215306 (rel: 1.01e-09) 4.53291e-06\n",
      "23/01/30 15:58:49 INFO OWLQN: Step Size: 1.000\n",
      "23/01/30 15:58:49 INFO OWLQN: Val and Grad Norm: 0.215331 (rel: 8.97e-10) 3.32717e-06\n",
      "23/01/30 15:58:49 INFO OWLQN: Step Size: 1.000\n",
      "23/01/30 15:58:49 INFO OWLQN: Val and Grad Norm: 0.215306 (rel: 4.62e-10) 5.11322e-06\n",
      "23/01/30 15:58:49 INFO OWLQN: Converged because function values converged\n",
      "23/01/30 15:58:50 INFO OWLQN: Step Size: 0.5000\n",
      "23/01/30 15:58:50 INFO OWLQN: Val and Grad Norm: 0.215331 (rel: 5.99e-10) 4.89453e-06\n",
      "23/01/30 15:58:50 INFO OWLQN: Converged because function values converged\n",
      "23/01/30 15:58:52 INFO OWLQN: Step Size: 0.9825\n",
      "23/01/30 15:58:52 INFO OWLQN: Val and Grad Norm: 0.307283 (rel: 0.126) 0.176094\n",
      "23/01/30 15:58:52 INFO OWLQN: Step Size: 0.9825\n",
      "23/01/30 15:58:52 INFO OWLQN: Val and Grad Norm: 0.307302 (rel: 0.126) 0.176063\n",
      "23/01/30 15:58:52 INFO OWLQN: Step Size: 1.000\n",
      "23/01/30 15:58:52 INFO OWLQN: Val and Grad Norm: 0.242525 (rel: 0.211) 0.0723862\n",
      "23/01/30 15:58:52 INFO OWLQN: Step Size: 1.000\n",
      "23/01/30 15:58:52 INFO OWLQN: Val and Grad Norm: 0.242561 (rel: 0.211) 0.0723922\n",
      "23/01/30 15:58:52 INFO OWLQN: Step Size: 1.000\n",
      "23/01/30 15:58:52 INFO OWLQN: Val and Grad Norm: 0.232074 (rel: 0.0431) 0.0374635\n",
      "23/01/30 15:58:52 INFO OWLQN: Step Size: 1.000\n",
      "23/01/30 15:58:52 INFO OWLQN: Val and Grad Norm: 0.232110 (rel: 0.0431) 0.0374555\n",
      "23/01/30 15:58:52 INFO OWLQN: Step Size: 1.000\n",
      "23/01/30 15:58:52 INFO OWLQN: Val and Grad Norm: 0.224689 (rel: 0.0318) 0.0260444\n",
      "23/01/30 15:58:52 INFO OWLQN: Step Size: 1.000\n",
      "23/01/30 15:58:52 INFO OWLQN: Val and Grad Norm: 0.224731 (rel: 0.0318) 0.0260336\n",
      "23/01/30 15:58:52 INFO OWLQN: Step Size: 1.000\n",
      "23/01/30 15:58:52 INFO OWLQN: Val and Grad Norm: 0.221460 (rel: 0.0144) 0.0173530\n",
      "23/01/30 15:58:52 INFO OWLQN: Step Size: 1.000\n",
      "23/01/30 15:58:52 INFO OWLQN: Val and Grad Norm: 0.221504 (rel: 0.0144) 0.0173409\n",
      "23/01/30 15:58:52 INFO OWLQN: Step Size: 1.000\n",
      "23/01/30 15:58:52 INFO OWLQN: Val and Grad Norm: 0.219265 (rel: 0.00991) 0.00919501\n",
      "23/01/30 15:58:52 INFO OWLQN: Step Size: 1.000\n",
      "23/01/30 15:58:52 INFO OWLQN: Val and Grad Norm: 0.219312 (rel: 0.00990) 0.00921039\n",
      "23/01/30 15:58:53 INFO OWLQN: Step Size: 1.000\n",
      "23/01/30 15:58:53 INFO OWLQN: Val and Grad Norm: 0.219135 (rel: 0.000595) 0.00878255\n",
      "23/01/30 15:58:53 INFO OWLQN: Step Size: 1.000\n",
      "23/01/30 15:58:53 INFO OWLQN: Val and Grad Norm: 0.219180 (rel: 0.000598) 0.00876198\n",
      "23/01/30 15:58:53 INFO OWLQN: Step Size: 1.000\n",
      "23/01/30 15:58:53 INFO OWLQN: Val and Grad Norm: 0.218935 (rel: 0.000913) 0.00369734\n",
      "23/01/30 15:58:53 INFO OWLQN: Step Size: 1.000\n",
      "23/01/30 15:58:53 INFO OWLQN: Val and Grad Norm: 0.218981 (rel: 0.000910) 0.00369892\n",
      "23/01/30 15:58:53 INFO OWLQN: Step Size: 1.000\n",
      "23/01/30 15:58:53 INFO OWLQN: Val and Grad Norm: 0.218864 (rel: 0.000321) 0.00317898\n",
      "23/01/30 15:58:53 INFO OWLQN: Step Size: 1.000\n",
      "23/01/30 15:58:53 INFO OWLQN: Val and Grad Norm: 0.218910 (rel: 0.000322) 0.00318133\n",
      "23/01/30 15:58:53 INFO OWLQN: Step Size: 1.000\n",
      "23/01/30 15:58:53 INFO OWLQN: Val and Grad Norm: 0.218806 (rel: 0.000268) 0.00409845\n",
      "23/01/30 15:58:53 INFO OWLQN: Step Size: 1.000\n",
      "23/01/30 15:58:53 INFO OWLQN: Val and Grad Norm: 0.218853 (rel: 0.000264) 0.00412406\n",
      "23/01/30 15:58:53 INFO OWLQN: Step Size: 1.000\n",
      "23/01/30 15:58:53 INFO OWLQN: Val and Grad Norm: 0.218758 (rel: 0.000217) 0.00164534\n",
      "23/01/30 15:58:53 INFO OWLQN: Step Size: 1.000\n",
      "23/01/30 15:58:53 INFO OWLQN: Val and Grad Norm: 0.218805 (rel: 0.000218) 0.00158003\n",
      "23/01/30 15:58:53 INFO OWLQN: Step Size: 1.000\n",
      "23/01/30 15:58:53 INFO OWLQN: Val and Grad Norm: 0.218749 (rel: 4.21e-05) 0.000611587\n",
      "23/01/30 15:58:53 INFO OWLQN: Step Size: 1.000\n",
      "23/01/30 15:58:53 INFO OWLQN: Val and Grad Norm: 0.218796 (rel: 4.09e-05) 0.000611257\n",
      "23/01/30 15:58:53 INFO OWLQN: Step Size: 1.000\n",
      "23/01/30 15:58:53 INFO OWLQN: Val and Grad Norm: 0.218746 (rel: 1.13e-05) 0.000289827\n",
      "23/01/30 15:58:53 INFO OWLQN: Step Size: 1.000\n",
      "23/01/30 15:58:53 INFO OWLQN: Val and Grad Norm: 0.218794 (rel: 9.40e-06) 0.000506128\n",
      "23/01/30 15:58:54 INFO OWLQN: Step Size: 1.000\n",
      "23/01/30 15:58:54 INFO OWLQN: Val and Grad Norm: 0.218746 (rel: 3.03e-06) 0.000188930\n",
      "23/01/30 15:58:54 INFO OWLQN: Step Size: 1.000\n",
      "23/01/30 15:58:54 INFO OWLQN: Val and Grad Norm: 0.218793 (rel: 4.07e-06) 0.000323188\n",
      "23/01/30 15:58:54 INFO OWLQN: Step Size: 1.000\n",
      "23/01/30 15:58:54 INFO OWLQN: Val and Grad Norm: 0.218746 (rel: 5.40e-07) 0.000186656\n",
      "23/01/30 15:58:54 INFO OWLQN: Step Size: 1.000\n",
      "23/01/30 15:58:54 INFO OWLQN: Val and Grad Norm: 0.218793 (rel: 1.13e-06) 0.000106601\n",
      "23/01/30 15:58:54 INFO OWLQN: Step Size: 1.000\n",
      "23/01/30 15:58:54 INFO OWLQN: Val and Grad Norm: 0.218746 (rel: 3.97e-07) 9.58275e-05\n",
      "23/01/30 15:58:54 INFO OWLQN: Step Size: 1.000\n",
      "23/01/30 15:58:54 INFO OWLQN: Val and Grad Norm: 0.218793 (rel: 3.33e-07) 9.34025e-05\n",
      "23/01/30 15:58:54 INFO OWLQN: Step Size: 1.000\n",
      "23/01/30 15:58:54 INFO OWLQN: Val and Grad Norm: 0.218746 (rel: 3.82e-07) 7.77343e-05\n",
      "23/01/30 15:58:54 INFO OWLQN: Step Size: 1.000\n",
      "23/01/30 15:58:54 INFO OWLQN: Val and Grad Norm: 0.218793 (rel: 8.50e-07) 0.000127734\n",
      "23/01/30 15:58:54 INFO OWLQN: Step Size: 1.000\n",
      "23/01/30 15:58:54 INFO OWLQN: Val and Grad Norm: 0.218745 (rel: 4.93e-07) 6.66945e-05\n",
      "23/01/30 15:58:54 INFO OWLQN: Step Size: 1.000\n",
      "23/01/30 15:58:54 INFO OWLQN: Val and Grad Norm: 0.218792 (rel: 3.33e-07) 0.000164689\n",
      "23/01/30 15:58:54 INFO OWLQN: Step Size: 1.000\n",
      "23/01/30 15:58:54 INFO OWLQN: Val and Grad Norm: 0.218745 (rel: 2.77e-07) 0.000116540\n",
      "23/01/30 15:58:54 INFO OWLQN: Step Size: 1.000\n",
      "23/01/30 15:58:54 INFO OWLQN: Val and Grad Norm: 0.218792 (rel: 3.08e-07) 6.82528e-05\n",
      "23/01/30 15:58:54 INFO OWLQN: Step Size: 1.000\n",
      "23/01/30 15:58:54 INFO OWLQN: Val and Grad Norm: 0.218745 (rel: 2.62e-07) 6.12079e-05\n",
      "23/01/30 15:58:54 INFO OWLQN: Step Size: 1.000\n",
      "23/01/30 15:58:54 INFO OWLQN: Val and Grad Norm: 0.218792 (rel: 1.91e-07) 5.61518e-05\n",
      "23/01/30 15:58:55 INFO OWLQN: Step Size: 1.000\n",
      "23/01/30 15:58:55 INFO OWLQN: Val and Grad Norm: 0.218745 (rel: 5.62e-08) 2.59660e-05\n",
      "23/01/30 15:58:55 INFO OWLQN: Step Size: 1.000\n",
      "23/01/30 15:58:55 INFO OWLQN: Val and Grad Norm: 0.218792 (rel: 1.48e-07) 4.75577e-05\n",
      "23/01/30 15:58:55 INFO OWLQN: Step Size: 1.000\n",
      "23/01/30 15:58:55 INFO OWLQN: Val and Grad Norm: 0.218745 (rel: 2.80e-08) 2.22668e-05\n",
      "23/01/30 15:58:55 INFO OWLQN: Step Size: 1.000\n",
      "23/01/30 15:58:55 INFO OWLQN: Val and Grad Norm: 0.218745 (rel: 3.70e-08) 1.86427e-05\n",
      "23/01/30 15:58:55 INFO OWLQN: Step Size: 0.5000\n",
      "23/01/30 15:58:55 INFO OWLQN: Val and Grad Norm: 0.218792 (rel: 4.45e-08) 4.24555e-05\n",
      "23/01/30 15:58:55 INFO OWLQN: Step Size: 0.5000\n",
      "23/01/30 15:58:55 INFO OWLQN: Val and Grad Norm: 0.218745 (rel: 1.52e-08) 1.94252e-05\n",
      "23/01/30 15:58:55 INFO OWLQN: Step Size: 0.5000\n",
      "23/01/30 15:58:55 INFO OWLQN: Val and Grad Norm: 0.218792 (rel: 4.82e-08) 2.23565e-05\n",
      "23/01/30 15:58:55 INFO OWLQN: Step Size: 1.000\n",
      "23/01/30 15:58:55 INFO OWLQN: Val and Grad Norm: 0.218745 (rel: 7.97e-09) 2.32087e-05\n",
      "23/01/30 15:58:55 INFO OWLQN: Step Size: 1.000\n",
      "23/01/30 15:58:55 INFO OWLQN: Val and Grad Norm: 0.218745 (rel: 9.03e-09) 1.25969e-05\n",
      "23/01/30 15:58:56 INFO OWLQN: Step Size: 0.5000\n",
      "23/01/30 15:58:56 INFO OWLQN: Val and Grad Norm: 0.218792 (rel: 1.77e-08) 1.88672e-05\n",
      "23/01/30 15:58:56 INFO OWLQN: Step Size: 1.000\n",
      "23/01/30 15:58:56 INFO OWLQN: Val and Grad Norm: 0.218745 (rel: 3.20e-09) 8.25705e-06\n",
      "23/01/30 15:58:56 INFO OWLQN: Step Size: 1.000\n",
      "23/01/30 15:58:56 INFO OWLQN: Val and Grad Norm: 0.218745 (rel: 1.71e-09) 4.43452e-06\n",
      "23/01/30 15:58:56 INFO OWLQN: Step Size: 0.5000\n",
      "23/01/30 15:58:56 INFO OWLQN: Val and Grad Norm: 0.218792 (rel: 9.88e-09) 1.58775e-05\n",
      "23/01/30 15:58:56 INFO OWLQN: Step Size: 1.000\n",
      "23/01/30 15:58:56 INFO OWLQN: Val and Grad Norm: 0.218745 (rel: 9.44e-10) 3.11446e-06\n",
      "23/01/30 15:58:56 INFO OWLQN: Step Size: 1.000\n",
      "23/01/30 15:58:56 INFO OWLQN: Val and Grad Norm: 0.218792 (rel: 2.90e-09) 2.65093e-05\n",
      "23/01/30 15:58:56 INFO OWLQN: Step Size: 1.000\n",
      "23/01/30 15:58:56 INFO OWLQN: Val and Grad Norm: 0.218745 (rel: 4.99e-10) 2.87029e-06\n",
      "23/01/30 15:58:56 INFO OWLQN: Step Size: 1.000\n",
      "23/01/30 15:58:56 INFO OWLQN: Val and Grad Norm: 0.218792 (rel: 1.07e-08) 9.52762e-06\n",
      "23/01/30 15:58:56 INFO OWLQN: Step Size: 1.000\n",
      "23/01/30 15:58:56 INFO OWLQN: Val and Grad Norm: 0.218745 (rel: 3.40e-10) 2.81209e-06\n",
      "23/01/30 15:58:56 INFO OWLQN: Step Size: 1.000\n",
      "23/01/30 15:58:56 INFO OWLQN: Val and Grad Norm: 0.218792 (rel: 1.66e-09) 5.51130e-06\n",
      "23/01/30 15:58:56 INFO OWLQN: Step Size: 1.000\n",
      "23/01/30 15:58:56 INFO OWLQN: Val and Grad Norm: 0.218745 (rel: 2.99e-10) 1.60355e-06\n",
      "23/01/30 15:58:56 INFO OWLQN: Step Size: 1.000\n",
      "23/01/30 15:58:56 INFO OWLQN: Val and Grad Norm: 0.218792 (rel: 1.41e-09) 4.43356e-06\n",
      "23/01/30 15:58:56 INFO OWLQN: Step Size: 1.000\n",
      "23/01/30 15:58:56 INFO OWLQN: Val and Grad Norm: 0.218745 (rel: 2.23e-10) 1.81372e-06\n",
      "23/01/30 15:58:56 INFO OWLQN: Step Size: 1.000\n",
      "23/01/30 15:58:56 INFO OWLQN: Val and Grad Norm: 0.218792 (rel: 1.25e-09) 7.39292e-06\n",
      "23/01/30 15:58:56 INFO OWLQN: Step Size: 1.000\n",
      "23/01/30 15:58:56 INFO OWLQN: Val and Grad Norm: 0.218745 (rel: 1.19e-10) 2.01125e-06\n",
      "23/01/30 15:58:57 INFO OWLQN: Step Size: 1.000\n",
      "23/01/30 15:58:57 INFO OWLQN: Val and Grad Norm: 0.218792 (rel: 9.12e-10) 4.58923e-06\n",
      "23/01/30 15:58:57 INFO OWLQN: Step Size: 1.000\n",
      "23/01/30 15:58:57 INFO OWLQN: Val and Grad Norm: 0.218745 (rel: 9.08e-11) 7.29431e-07\n",
      "23/01/30 15:58:57 INFO OWLQN: Converged because function values converged\n",
      "23/01/30 15:58:57 INFO OWLQN: Step Size: 1.000\n",
      "23/01/30 15:58:57 INFO OWLQN: Val and Grad Norm: 0.218792 (rel: 3.47e-10) 2.21508e-06\n",
      "23/01/30 15:58:57 INFO OWLQN: Step Size: 1.000\n",
      "23/01/30 15:58:57 INFO OWLQN: Val and Grad Norm: 0.218792 (rel: 3.18e-10) 2.29337e-06\n",
      "23/01/30 15:58:57 INFO OWLQN: Step Size: 1.000\n",
      "23/01/30 15:58:57 INFO OWLQN: Val and Grad Norm: 0.218792 (rel: 1.52e-10) 4.17482e-06\n",
      "23/01/30 15:58:57 INFO OWLQN: Step Size: 1.000\n",
      "23/01/30 15:58:57 INFO OWLQN: Val and Grad Norm: 0.218792 (rel: 1.45e-10) 4.55985e-06\n",
      "23/01/30 15:58:57 INFO OWLQN: Step Size: 1.000\n",
      "23/01/30 15:58:57 INFO OWLQN: Val and Grad Norm: 0.218792 (rel: 3.30e-10) 1.72322e-06\n",
      "23/01/30 15:58:57 INFO OWLQN: Converged because function values converged\n",
      "23/01/30 15:58:59 INFO OWLQN: Step Size: 0.9840\n",
      "23/01/30 15:58:59 INFO OWLQN: Val and Grad Norm: 0.306794 (rel: 0.126) 0.176810\n",
      "23/01/30 15:58:59 INFO OWLQN: Step Size: 0.9840\n",
      "23/01/30 15:58:59 INFO OWLQN: Val and Grad Norm: 0.306784 (rel: 0.126) 0.176825\n",
      "23/01/30 15:58:59 INFO OWLQN: Step Size: 1.000\n",
      "23/01/30 15:58:59 INFO OWLQN: Val and Grad Norm: 0.240098 (rel: 0.217) 0.0717719\n",
      "23/01/30 15:58:59 INFO OWLQN: Step Size: 1.000\n",
      "23/01/30 15:58:59 INFO OWLQN: Val and Grad Norm: 0.240080 (rel: 0.217) 0.0717688\n",
      "23/01/30 15:58:59 INFO OWLQN: Step Size: 1.000\n",
      "23/01/30 15:58:59 INFO OWLQN: Val and Grad Norm: 0.229350 (rel: 0.0448) 0.0378948\n",
      "23/01/30 15:59:00 INFO OWLQN: Step Size: 1.000\n",
      "23/01/30 15:59:00 INFO OWLQN: Val and Grad Norm: 0.229332 (rel: 0.0448) 0.0378985\n",
      "23/01/30 15:59:00 INFO OWLQN: Step Size: 1.000\n",
      "23/01/30 15:59:00 INFO OWLQN: Val and Grad Norm: 0.221390 (rel: 0.0347) 0.0264834\n",
      "23/01/30 15:59:00 INFO OWLQN: Step Size: 1.000\n",
      "23/01/30 15:59:00 INFO OWLQN: Val and Grad Norm: 0.221369 (rel: 0.0347) 0.0264886\n",
      "23/01/30 15:59:00 INFO OWLQN: Step Size: 1.000\n",
      "23/01/30 15:59:00 INFO OWLQN: Val and Grad Norm: 0.217754 (rel: 0.0164) 0.0176824\n",
      "23/01/30 15:59:00 INFO OWLQN: Step Size: 1.000\n",
      "23/01/30 15:59:00 INFO OWLQN: Val and Grad Norm: 0.217732 (rel: 0.0164) 0.0176889\n",
      "23/01/30 15:59:00 INFO OWLQN: Step Size: 1.000\n",
      "23/01/30 15:59:00 INFO OWLQN: Val and Grad Norm: 0.215655 (rel: 0.00964) 0.0167991\n",
      "23/01/30 15:59:00 INFO OWLQN: Step Size: 1.000\n",
      "23/01/30 15:59:00 INFO OWLQN: Val and Grad Norm: 0.215631 (rel: 0.00965) 0.0167981\n",
      "23/01/30 15:59:00 INFO OWLQN: Step Size: 1.000\n",
      "23/01/30 15:59:00 INFO OWLQN: Val and Grad Norm: 0.215066 (rel: 0.00273) 0.00396593\n",
      "23/01/30 15:59:00 INFO OWLQN: Step Size: 1.000\n",
      "23/01/30 15:59:00 INFO OWLQN: Val and Grad Norm: 0.215042 (rel: 0.00273) 0.00396314\n",
      "23/01/30 15:59:00 INFO OWLQN: Step Size: 1.000\n",
      "23/01/30 15:59:00 INFO OWLQN: Val and Grad Norm: 0.214954 (rel: 0.000521) 0.00341080\n",
      "23/01/30 15:59:00 INFO OWLQN: Step Size: 1.000\n",
      "23/01/30 15:59:00 INFO OWLQN: Val and Grad Norm: 0.214930 (rel: 0.000521) 0.00340876\n",
      "23/01/30 15:59:00 INFO OWLQN: Step Size: 1.000\n",
      "23/01/30 15:59:00 INFO OWLQN: Val and Grad Norm: 0.214959 (rel: -2.15e-05) 0.00698235\n",
      "23/01/30 15:59:00 INFO OWLQN: Step Size: 1.000\n",
      "23/01/30 15:59:00 INFO OWLQN: Val and Grad Norm: 0.214934 (rel: -1.94e-05) 0.00698323\n",
      "23/01/30 15:59:00 INFO OWLQN: Step Size: 1.000\n",
      "23/01/30 15:59:00 INFO OWLQN: Val and Grad Norm: 0.214810 (rel: 0.000691) 0.00160305\n",
      "23/01/30 15:59:01 INFO OWLQN: Step Size: 1.000\n",
      "23/01/30 15:59:01 INFO OWLQN: Val and Grad Norm: 0.214786 (rel: 0.000692) 0.00160670\n",
      "23/01/30 15:59:01 INFO OWLQN: Step Size: 1.000\n",
      "23/01/30 15:59:01 INFO OWLQN: Val and Grad Norm: 0.214792 (rel: 8.33e-05) 0.000984133\n",
      "23/01/30 15:59:01 INFO OWLQN: Step Size: 1.000\n",
      "23/01/30 15:59:01 INFO OWLQN: Val and Grad Norm: 0.214768 (rel: 8.39e-05) 0.000981995\n",
      "23/01/30 15:59:01 INFO OWLQN: Step Size: 1.000\n",
      "23/01/30 15:59:01 INFO OWLQN: Val and Grad Norm: 0.214783 (rel: 4.17e-05) 0.000660350\n",
      "23/01/30 15:59:01 INFO OWLQN: Step Size: 1.000\n",
      "23/01/30 15:59:01 INFO OWLQN: Val and Grad Norm: 0.214759 (rel: 4.15e-05) 0.000697015\n",
      "23/01/30 15:59:01 INFO OWLQN: Step Size: 0.5000\n",
      "23/01/30 15:59:01 INFO OWLQN: Val and Grad Norm: 0.214782 (rel: 8.08e-06) 0.000393651\n",
      "23/01/30 15:59:01 INFO OWLQN: Step Size: 0.5000\n",
      "23/01/30 15:59:01 INFO OWLQN: Val and Grad Norm: 0.214757 (rel: 8.67e-06) 0.000366327\n",
      "23/01/30 15:59:01 INFO OWLQN: Step Size: 1.000\n",
      "23/01/30 15:59:01 INFO OWLQN: Val and Grad Norm: 0.214781 (rel: 3.01e-06) 0.000215083\n",
      "23/01/30 15:59:01 INFO OWLQN: Step Size: 1.000\n",
      "23/01/30 15:59:01 INFO OWLQN: Val and Grad Norm: 0.214756 (rel: 2.88e-06) 0.000219049\n",
      "23/01/30 15:59:01 INFO OWLQN: Step Size: 1.000\n",
      "23/01/30 15:59:01 INFO OWLQN: Val and Grad Norm: 0.214780 (rel: 3.16e-06) 0.000193904\n",
      "23/01/30 15:59:01 INFO OWLQN: Step Size: 1.000\n",
      "23/01/30 15:59:01 INFO OWLQN: Val and Grad Norm: 0.214756 (rel: 3.74e-06) 0.000208675\n",
      "23/01/30 15:59:01 INFO OWLQN: Step Size: 1.000\n",
      "23/01/30 15:59:01 INFO OWLQN: Val and Grad Norm: 0.214780 (rel: 3.62e-06) 0.000173861\n",
      "23/01/30 15:59:01 INFO OWLQN: Step Size: 1.000\n",
      "23/01/30 15:59:01 INFO OWLQN: Val and Grad Norm: 0.214755 (rel: 3.78e-06) 0.000180209\n",
      "23/01/30 15:59:02 INFO OWLQN: Step Size: 1.000\n",
      "23/01/30 15:59:02 INFO OWLQN: Val and Grad Norm: 0.214779 (rel: 1.63e-06) 0.000264331\n",
      "23/01/30 15:59:02 INFO OWLQN: Step Size: 1.000\n",
      "23/01/30 15:59:02 INFO OWLQN: Val and Grad Norm: 0.214754 (rel: 1.61e-06) 0.000260139\n",
      "23/01/30 15:59:02 INFO OWLQN: Step Size: 1.000\n",
      "23/01/30 15:59:02 INFO OWLQN: Val and Grad Norm: 0.214779 (rel: 6.40e-07) 9.29584e-05\n",
      "23/01/30 15:59:02 INFO OWLQN: Step Size: 1.000\n",
      "23/01/30 15:59:02 INFO OWLQN: Val and Grad Norm: 0.214754 (rel: 6.06e-07) 8.42453e-05\n",
      "23/01/30 15:59:02 INFO OWLQN: Step Size: 1.000\n",
      "23/01/30 15:59:02 INFO OWLQN: Val and Grad Norm: 0.214779 (rel: 8.47e-08) 4.08158e-05\n",
      "23/01/30 15:59:02 INFO OWLQN: Step Size: 1.000\n",
      "23/01/30 15:59:02 INFO OWLQN: Val and Grad Norm: 0.214754 (rel: 7.74e-08) 4.02194e-05\n",
      "23/01/30 15:59:02 INFO OWLQN: Step Size: 1.000\n",
      "23/01/30 15:59:02 INFO OWLQN: Val and Grad Norm: 0.214779 (rel: 4.12e-08) 3.19748e-05\n",
      "23/01/30 15:59:02 INFO OWLQN: Step Size: 1.000\n",
      "23/01/30 15:59:02 INFO OWLQN: Val and Grad Norm: 0.214754 (rel: 4.13e-08) 3.19070e-05\n",
      "23/01/30 15:59:02 INFO OWLQN: Step Size: 1.000\n",
      "23/01/30 15:59:02 INFO OWLQN: Val and Grad Norm: 0.214779 (rel: 8.78e-08) 2.96546e-05\n",
      "23/01/30 15:59:02 INFO OWLQN: Step Size: 1.000\n",
      "23/01/30 15:59:02 INFO OWLQN: Val and Grad Norm: 0.214754 (rel: 8.23e-08) 2.61929e-05\n",
      "23/01/30 15:59:02 INFO OWLQN: Step Size: 1.000\n",
      "23/01/30 15:59:02 INFO OWLQN: Val and Grad Norm: 0.214779 (rel: 5.12e-08) 4.64467e-05\n",
      "23/01/30 15:59:02 INFO OWLQN: Step Size: 1.000\n",
      "23/01/30 15:59:02 INFO OWLQN: Val and Grad Norm: 0.214754 (rel: 4.41e-08) 4.02823e-05\n",
      "23/01/30 15:59:03 INFO OWLQN: Step Size: 1.000\n",
      "23/01/30 15:59:03 INFO OWLQN: Val and Grad Norm: 0.214779 (rel: 6.50e-08) 2.58519e-05\n",
      "23/01/30 15:59:03 INFO OWLQN: Step Size: 1.000\n",
      "23/01/30 15:59:03 INFO OWLQN: Val and Grad Norm: 0.214754 (rel: 5.61e-08) 2.18533e-05\n",
      "23/01/30 15:59:03 INFO OWLQN: Step Size: 0.5000\n",
      "23/01/30 15:59:03 INFO OWLQN: Step Size: 0.5000\n",
      "23/01/30 15:59:03 INFO OWLQN: Val and Grad Norm: 0.214754 (rel: 1.68e-08) 3.45334e-05\n",
      "23/01/30 15:59:03 INFO OWLQN: Val and Grad Norm: 0.214779 (rel: 2.63e-08) 3.70052e-05\n",
      "23/01/30 15:59:03 INFO OWLQN: Step Size: 0.5000\n",
      "23/01/30 15:59:03 INFO OWLQN: Val and Grad Norm: 0.214779 (rel: 3.06e-08) 2.49504e-05\n",
      "23/01/30 15:59:03 INFO OWLQN: Step Size: 0.5000\n",
      "23/01/30 15:59:03 INFO OWLQN: Val and Grad Norm: 0.214754 (rel: 2.53e-08) 1.94047e-05\n",
      "23/01/30 15:59:04 INFO OWLQN: Step Size: 0.5000\n",
      "23/01/30 15:59:04 INFO OWLQN: Val and Grad Norm: 0.214779 (rel: 1.73e-08) 3.12233e-05\n",
      "23/01/30 15:59:04 INFO OWLQN: Step Size: 0.5000\n",
      "23/01/30 15:59:04 INFO OWLQN: Val and Grad Norm: 0.214754 (rel: 8.59e-09) 3.13571e-05\n",
      "23/01/30 15:59:04 INFO OWLQN: Step Size: 0.5000\n",
      "23/01/30 15:59:04 INFO OWLQN: Val and Grad Norm: 0.214779 (rel: 2.04e-08) 2.75539e-05\n",
      "23/01/30 15:59:04 INFO OWLQN: Step Size: 0.5000\n",
      "23/01/30 15:59:04 INFO OWLQN: Val and Grad Norm: 0.214754 (rel: 2.09e-08) 1.93419e-05\n",
      "23/01/30 15:59:04 INFO OWLQN: Step Size: 0.5000\n",
      "23/01/30 15:59:04 INFO OWLQN: Val and Grad Norm: 0.214779 (rel: 1.37e-08) 3.06355e-05\n",
      "23/01/30 15:59:04 INFO OWLQN: Step Size: 0.5000\n",
      "23/01/30 15:59:04 INFO OWLQN: Val and Grad Norm: 0.214754 (rel: 8.83e-09) 2.55625e-05\n",
      "23/01/30 15:59:04 INFO OWLQN: Step Size: 0.5000\n",
      "23/01/30 15:59:04 INFO OWLQN: Val and Grad Norm: 0.214754 (rel: 1.36e-08) 2.06299e-05\n",
      "23/01/30 15:59:04 INFO OWLQN: Step Size: 0.5000\n",
      "23/01/30 15:59:04 INFO OWLQN: Val and Grad Norm: 0.214779 (rel: 1.53e-08) 2.58548e-05\n",
      "23/01/30 15:59:05 INFO OWLQN: Step Size: 0.5000\n",
      "23/01/30 15:59:05 INFO OWLQN: Val and Grad Norm: 0.214754 (rel: 9.07e-09) 2.40086e-05\n",
      "23/01/30 15:59:05 INFO OWLQN: Step Size: 0.5000\n",
      "23/01/30 15:59:05 INFO OWLQN: Val and Grad Norm: 0.214779 (rel: 9.96e-09) 2.72118e-05\n",
      "23/01/30 15:59:05 INFO OWLQN: Step Size: 0.5000\n",
      "23/01/30 15:59:05 INFO OWLQN: Val and Grad Norm: 0.214754 (rel: 7.82e-09) 2.37435e-05\n",
      "23/01/30 15:59:05 INFO OWLQN: Step Size: 0.5000\n",
      "23/01/30 15:59:05 INFO OWLQN: Val and Grad Norm: 0.214779 (rel: 1.19e-08) 2.36944e-05\n",
      "23/01/30 15:59:05 INFO OWLQN: Step Size: 0.5000\n",
      "23/01/30 15:59:05 INFO OWLQN: Val and Grad Norm: 0.214754 (rel: 8.42e-09) 1.90017e-05\n",
      "23/01/30 15:59:05 INFO OWLQN: Step Size: 0.5000\n",
      "23/01/30 15:59:05 INFO OWLQN: Val and Grad Norm: 0.214779 (rel: 6.95e-09) 2.34065e-05\n",
      "23/01/30 15:59:05 INFO OWLQN: Step Size: 0.5000\n",
      "23/01/30 15:59:05 INFO OWLQN: Val and Grad Norm: 0.214754 (rel: 5.00e-09) 1.77506e-05\n",
      "23/01/30 15:59:05 INFO OWLQN: Step Size: 0.5000\n",
      "23/01/30 15:59:05 INFO OWLQN: Val and Grad Norm: 0.214779 (rel: 9.85e-09) 1.77715e-05\n",
      "23/01/30 15:59:06 INFO OWLQN: Step Size: 0.5000\n",
      "23/01/30 15:59:06 INFO OWLQN: Val and Grad Norm: 0.214754 (rel: 4.42e-09) 1.54969e-05\n",
      "23/01/30 15:59:06 INFO OWLQN: Step Size: 0.5000\n",
      "23/01/30 15:59:06 INFO OWLQN: Val and Grad Norm: 0.214779 (rel: 4.93e-09) 1.82541e-05\n",
      "23/01/30 15:59:06 INFO OWLQN: Step Size: 0.5000\n",
      "23/01/30 15:59:06 INFO OWLQN: Val and Grad Norm: 0.214754 (rel: 2.84e-09) 1.44394e-05\n",
      "23/01/30 15:59:06 INFO OWLQN: Step Size: 0.5000\n",
      "23/01/30 15:59:06 INFO OWLQN: Val and Grad Norm: 0.214779 (rel: 5.55e-09) 1.35827e-05\n",
      "23/01/30 15:59:06 INFO OWLQN: Step Size: 0.5000\n",
      "23/01/30 15:59:06 INFO OWLQN: Val and Grad Norm: 0.214754 (rel: 2.99e-09) 1.07690e-05\n",
      "23/01/30 15:59:06 INFO OWLQN: Converged because function values converged\n",
      "23/01/30 15:59:06 INFO OWLQN: Step Size: 0.5000\n",
      "23/01/30 15:59:06 INFO OWLQN: Val and Grad Norm: 0.214779 (rel: 2.97e-09) 1.37152e-05\n",
      "23/01/30 15:59:06 INFO OWLQN: Converged because function values converged\n",
      "23/01/30 15:59:08 INFO OWLQN: Step Size: 0.9840\n",
      "23/01/30 15:59:08 INFO OWLQN: Val and Grad Norm: 0.306874 (rel: 0.126) 0.176231\n",
      "23/01/30 15:59:08 INFO OWLQN: Step Size: 0.9840\n",
      "23/01/30 15:59:08 INFO OWLQN: Val and Grad Norm: 0.306893 (rel: 0.126) 0.176200\n",
      "23/01/30 15:59:08 INFO OWLQN: Step Size: 1.000\n",
      "23/01/30 15:59:08 INFO OWLQN: Val and Grad Norm: 0.241559 (rel: 0.213) 0.0712084\n",
      "23/01/30 15:59:08 INFO OWLQN: Step Size: 1.000\n",
      "23/01/30 15:59:08 INFO OWLQN: Val and Grad Norm: 0.241595 (rel: 0.213) 0.0712146\n",
      "23/01/30 15:59:08 INFO OWLQN: Step Size: 1.000\n",
      "23/01/30 15:59:08 INFO OWLQN: Val and Grad Norm: 0.231199 (rel: 0.0429) 0.0370658\n",
      "23/01/30 15:59:09 INFO OWLQN: Step Size: 1.000\n",
      "23/01/30 15:59:09 INFO OWLQN: Val and Grad Norm: 0.231235 (rel: 0.0429) 0.0370583\n",
      "23/01/30 15:59:09 INFO OWLQN: Step Size: 1.000\n",
      "23/01/30 15:59:09 INFO OWLQN: Val and Grad Norm: 0.223852 (rel: 0.0318) 0.0257417\n",
      "23/01/30 15:59:09 INFO OWLQN: Step Size: 1.000\n",
      "23/01/30 15:59:09 INFO OWLQN: Val and Grad Norm: 0.223893 (rel: 0.0318) 0.0257313\n",
      "23/01/30 15:59:09 INFO OWLQN: Step Size: 1.000\n",
      "23/01/30 15:59:09 INFO OWLQN: Val and Grad Norm: 0.220569 (rel: 0.0147) 0.0164199\n",
      "23/01/30 15:59:09 INFO OWLQN: Step Size: 1.000\n",
      "23/01/30 15:59:09 INFO OWLQN: Val and Grad Norm: 0.220613 (rel: 0.0146) 0.0164103\n",
      "23/01/30 15:59:09 INFO OWLQN: Step Size: 1.000\n",
      "23/01/30 15:59:09 INFO OWLQN: Val and Grad Norm: 0.218625 (rel: 0.00881) 0.00845236\n",
      "23/01/30 15:59:09 INFO OWLQN: Step Size: 1.000\n",
      "23/01/30 15:59:09 INFO OWLQN: Val and Grad Norm: 0.218670 (rel: 0.00880) 0.00845070\n",
      "23/01/30 15:59:09 INFO OWLQN: Step Size: 1.000\n",
      "23/01/30 15:59:09 INFO OWLQN: Val and Grad Norm: 0.218312 (rel: 0.00143) 0.00435332\n",
      "23/01/30 15:59:09 INFO OWLQN: Step Size: 1.000\n",
      "23/01/30 15:59:09 INFO OWLQN: Val and Grad Norm: 0.218358 (rel: 0.00143) 0.00434403\n",
      "23/01/30 15:59:09 INFO OWLQN: Step Size: 1.000\n",
      "23/01/30 15:59:09 INFO OWLQN: Val and Grad Norm: 0.218230 (rel: 0.000378) 0.00240084\n",
      "23/01/30 15:59:09 INFO OWLQN: Step Size: 1.000\n",
      "23/01/30 15:59:09 INFO OWLQN: Val and Grad Norm: 0.218275 (rel: 0.000378) 0.00240067\n",
      "23/01/30 15:59:09 INFO OWLQN: Step Size: 1.000\n",
      "23/01/30 15:59:09 INFO OWLQN: Val and Grad Norm: 0.218216 (rel: 6.21e-05) 0.00314953\n",
      "23/01/30 15:59:09 INFO OWLQN: Step Size: 1.000\n",
      "23/01/30 15:59:09 INFO OWLQN: Val and Grad Norm: 0.218263 (rel: 5.75e-05) 0.00317143\n",
      "23/01/30 15:59:09 INFO OWLQN: Step Size: 1.000\n",
      "23/01/30 15:59:09 INFO OWLQN: Val and Grad Norm: 0.218178 (rel: 0.000173) 0.00170791\n",
      "23/01/30 15:59:09 INFO OWLQN: Step Size: 1.000\n",
      "23/01/30 15:59:09 INFO OWLQN: Val and Grad Norm: 0.218225 (rel: 0.000174) 0.00163613\n",
      "23/01/30 15:59:09 INFO OWLQN: Step Size: 1.000\n",
      "23/01/30 15:59:09 INFO OWLQN: Val and Grad Norm: 0.218170 (rel: 3.79e-05) 0.000895166\n",
      "23/01/30 15:59:09 INFO OWLQN: Step Size: 1.000\n",
      "23/01/30 15:59:09 INFO OWLQN: Val and Grad Norm: 0.218217 (rel: 3.54e-05) 0.000909894\n",
      "23/01/30 15:59:10 INFO OWLQN: Step Size: 1.000\n",
      "23/01/30 15:59:10 INFO OWLQN: Val and Grad Norm: 0.218167 (rel: 1.49e-05) 0.000543153\n",
      "23/01/30 15:59:10 INFO OWLQN: Step Size: 1.000\n",
      "23/01/30 15:59:10 INFO OWLQN: Val and Grad Norm: 0.218214 (rel: 1.57e-05) 0.000540071\n",
      "23/01/30 15:59:10 INFO OWLQN: Step Size: 1.000\n",
      "23/01/30 15:59:10 INFO OWLQN: Val and Grad Norm: 0.218166 (rel: 4.71e-06) 0.000253889\n",
      "23/01/30 15:59:10 INFO OWLQN: Step Size: 1.000\n",
      "23/01/30 15:59:10 INFO OWLQN: Val and Grad Norm: 0.218213 (rel: 4.20e-06) 0.000235019\n",
      "23/01/30 15:59:10 INFO OWLQN: Step Size: 1.000\n",
      "23/01/30 15:59:10 INFO OWLQN: Val and Grad Norm: 0.218165 (rel: 1.53e-06) 0.000124789\n",
      "23/01/30 15:59:10 INFO OWLQN: Step Size: 1.000\n",
      "23/01/30 15:59:10 INFO OWLQN: Val and Grad Norm: 0.218212 (rel: 1.33e-06) 0.000142007\n",
      "23/01/30 15:59:10 INFO OWLQN: Step Size: 1.000\n",
      "23/01/30 15:59:10 INFO OWLQN: Val and Grad Norm: 0.218165 (rel: 7.31e-07) 8.26758e-05\n",
      "23/01/30 15:59:10 INFO OWLQN: Step Size: 1.000\n",
      "23/01/30 15:59:10 INFO OWLQN: Val and Grad Norm: 0.218212 (rel: 6.09e-07) 8.43429e-05\n",
      "23/01/30 15:59:10 INFO OWLQN: Step Size: 1.000\n",
      "23/01/30 15:59:10 INFO OWLQN: Val and Grad Norm: 0.218165 (rel: 5.57e-07) 7.11394e-05\n",
      "23/01/30 15:59:10 INFO OWLQN: Step Size: 1.000\n",
      "23/01/30 15:59:10 INFO OWLQN: Val and Grad Norm: 0.218212 (rel: 3.20e-07) 6.60804e-05\n",
      "23/01/30 15:59:10 INFO OWLQN: Step Size: 1.000\n",
      "23/01/30 15:59:10 INFO OWLQN: Val and Grad Norm: 0.218165 (rel: 7.61e-08) 0.000131107\n",
      "23/01/30 15:59:10 INFO OWLQN: Step Size: 1.000\n",
      "23/01/30 15:59:10 INFO OWLQN: Val and Grad Norm: 0.218212 (rel: 2.94e-07) 7.78074e-05\n",
      "23/01/30 15:59:11 INFO OWLQN: Step Size: 1.000\n",
      "23/01/30 15:59:11 INFO OWLQN: Val and Grad Norm: 0.218165 (rel: 3.00e-07) 4.35290e-05\n",
      "23/01/30 15:59:11 INFO OWLQN: Step Size: 1.000\n",
      "23/01/30 15:59:11 INFO OWLQN: Val and Grad Norm: 0.218212 (rel: 2.19e-07) 6.72086e-05\n",
      "23/01/30 15:59:11 INFO OWLQN: Step Size: 1.000\n",
      "23/01/30 15:59:11 INFO OWLQN: Val and Grad Norm: 0.218165 (rel: 7.80e-08) 4.19080e-05\n",
      "23/01/30 15:59:11 INFO OWLQN: Step Size: 1.000\n",
      "23/01/30 15:59:11 INFO OWLQN: Val and Grad Norm: 0.218212 (rel: 1.23e-07) 5.48926e-05\n",
      "23/01/30 15:59:11 INFO OWLQN: Step Size: 1.000\n",
      "23/01/30 15:59:11 INFO OWLQN: Val and Grad Norm: 0.218165 (rel: 9.00e-08) 3.74958e-05\n",
      "23/01/30 15:59:11 INFO OWLQN: Step Size: 1.000\n",
      "23/01/30 15:59:11 INFO OWLQN: Val and Grad Norm: 0.218212 (rel: 7.61e-08) 4.30258e-05\n",
      "23/01/30 15:59:11 INFO OWLQN: Step Size: 1.000\n",
      "23/01/30 15:59:11 INFO OWLQN: Val and Grad Norm: 0.218212 (rel: 2.27e-08) 5.83197e-05\n",
      "23/01/30 15:59:11 INFO OWLQN: Step Size: 0.5000\n",
      "23/01/30 15:59:11 INFO OWLQN: Val and Grad Norm: 0.218165 (rel: 4.66e-08) 2.96705e-05\n",
      "23/01/30 15:59:11 INFO OWLQN: Step Size: 1.000\n",
      "23/01/30 15:59:11 INFO OWLQN: Val and Grad Norm: 0.218212 (rel: 7.13e-08) 3.27627e-05\n",
      "23/01/30 15:59:11 INFO OWLQN: Step Size: 1.000\n",
      "23/01/30 15:59:11 INFO OWLQN: Val and Grad Norm: 0.218165 (rel: 1.24e-08) 4.48558e-05\n",
      "23/01/30 15:59:11 INFO OWLQN: Step Size: 1.000\n",
      "23/01/30 15:59:11 INFO OWLQN: Val and Grad Norm: 0.218212 (rel: 2.40e-08) 2.13337e-05\n",
      "23/01/30 15:59:11 INFO OWLQN: Step Size: 1.000\n",
      "23/01/30 15:59:11 INFO OWLQN: Val and Grad Norm: 0.218165 (rel: 4.62e-08) 2.52618e-05\n",
      "23/01/30 15:59:11 INFO OWLQN: Step Size: 1.000\n",
      "23/01/30 15:59:11 INFO OWLQN: Val and Grad Norm: 0.218212 (rel: 1.32e-08) 1.87502e-05\n",
      "23/01/30 15:59:11 INFO OWLQN: Step Size: 1.000\n",
      "23/01/30 15:59:11 INFO OWLQN: Val and Grad Norm: 0.218165 (rel: 1.13e-08) 1.60726e-05\n",
      "23/01/30 15:59:11 INFO OWLQN: Step Size: 1.000\n",
      "23/01/30 15:59:11 INFO OWLQN: Val and Grad Norm: 0.218165 (rel: 5.73e-09) 9.70506e-06\n",
      "23/01/30 15:59:11 INFO OWLQN: Step Size: 1.000\n",
      "23/01/30 15:59:11 INFO OWLQN: Val and Grad Norm: 0.218212 (rel: 9.79e-09) 1.58203e-05\n",
      "23/01/30 15:59:12 INFO OWLQN: Step Size: 1.000\n",
      "23/01/30 15:59:12 INFO OWLQN: Val and Grad Norm: 0.218165 (rel: 2.59e-09) 9.29248e-06\n",
      "23/01/30 15:59:12 INFO OWLQN: Step Size: 1.000\n",
      "23/01/30 15:59:12 INFO OWLQN: Val and Grad Norm: 0.218212 (rel: 5.86e-09) 1.06295e-05\n",
      "23/01/30 15:59:12 INFO OWLQN: Step Size: 1.000\n",
      "23/01/30 15:59:12 INFO OWLQN: Val and Grad Norm: 0.218165 (rel: 1.95e-09) 4.63577e-06\n",
      "23/01/30 15:59:12 INFO OWLQN: Step Size: 1.000\n",
      "23/01/30 15:59:12 INFO OWLQN: Val and Grad Norm: 0.218212 (rel: 2.88e-09) 6.89765e-06\n",
      "23/01/30 15:59:12 INFO OWLQN: Step Size: 1.000\n",
      "23/01/30 15:59:12 INFO OWLQN: Val and Grad Norm: 0.218165 (rel: 7.05e-10) 3.19876e-06\n",
      "23/01/30 15:59:12 INFO OWLQN: Step Size: 1.000\n",
      "23/01/30 15:59:12 INFO OWLQN: Val and Grad Norm: 0.218212 (rel: 1.25e-09) 3.34256e-06\n",
      "23/01/30 15:59:12 INFO OWLQN: Step Size: 1.000\n",
      "23/01/30 15:59:12 INFO OWLQN: Val and Grad Norm: 0.218165 (rel: 4.76e-10) 2.37935e-06\n",
      "23/01/30 15:59:12 INFO OWLQN: Step Size: 1.000\n",
      "23/01/30 15:59:12 INFO OWLQN: Val and Grad Norm: 0.218212 (rel: 7.86e-10) 2.50519e-06\n",
      "23/01/30 15:59:12 INFO OWLQN: Step Size: 1.000\n",
      "23/01/30 15:59:12 INFO OWLQN: Val and Grad Norm: 0.218165 (rel: 2.73e-10) 2.13495e-06\n",
      "23/01/30 15:59:12 INFO OWLQN: Step Size: 1.000\n",
      "23/01/30 15:59:12 INFO OWLQN: Val and Grad Norm: 0.218212 (rel: 6.97e-10) 2.88149e-06\n",
      "23/01/30 15:59:12 INFO OWLQN: Step Size: 1.000\n",
      "23/01/30 15:59:12 INFO OWLQN: Val and Grad Norm: 0.218165 (rel: 1.30e-10) 1.78147e-06\n",
      "23/01/30 15:59:12 INFO OWLQN: Step Size: 1.000\n",
      "23/01/30 15:59:12 INFO OWLQN: Val and Grad Norm: 0.218165 (rel: 9.54e-11) 9.98465e-07\n",
      "23/01/30 15:59:12 INFO OWLQN: Step Size: 0.5000\n",
      "23/01/30 15:59:12 INFO OWLQN: Val and Grad Norm: 0.218212 (rel: 1.99e-10) 2.78448e-06\n",
      "23/01/30 15:59:12 INFO OWLQN: Step Size: 1.000\n",
      "23/01/30 15:59:12 INFO OWLQN: Val and Grad Norm: 0.218165 (rel: 7.31e-11) 8.51248e-07\n",
      "23/01/30 15:59:13 INFO OWLQN: Step Size: 1.000\n",
      "23/01/30 15:59:13 INFO OWLQN: Val and Grad Norm: 0.218212 (rel: 1.24e-10) 2.20234e-06\n",
      "23/01/30 15:59:13 INFO OWLQN: Step Size: 1.000\n",
      "23/01/30 15:59:13 INFO OWLQN: Val and Grad Norm: 0.218165 (rel: 3.74e-11) 1.60577e-06\n",
      "23/01/30 15:59:13 INFO OWLQN: Converged because function values converged\n",
      "23/01/30 15:59:13 INFO OWLQN: Step Size: 1.000\n",
      "23/01/30 15:59:13 INFO OWLQN: Val and Grad Norm: 0.218212 (rel: 5.68e-11) 1.93152e-06\n",
      "23/01/30 15:59:13 INFO OWLQN: Step Size: 1.000\n",
      "23/01/30 15:59:13 INFO OWLQN: Val and Grad Norm: 0.218212 (rel: 4.70e-11) 1.26799e-06\n",
      "23/01/30 15:59:13 INFO OWLQN: Converged because function values converged\n",
      "23/01/30 15:59:15 INFO OWLQN: Step Size: 0.9910\n",
      "23/01/30 15:59:15 INFO OWLQN: Val and Grad Norm: 0.305512 (rel: 0.126) 0.175607\n",
      "23/01/30 15:59:15 INFO OWLQN: Step Size: 0.9910\n",
      "23/01/30 15:59:15 INFO OWLQN: Val and Grad Norm: 0.305521 (rel: 0.126) 0.175591\n",
      "23/01/30 15:59:15 INFO OWLQN: Step Size: 1.000\n",
      "23/01/30 15:59:15 INFO OWLQN: Val and Grad Norm: 0.239366 (rel: 0.217) 0.0723410\n",
      "23/01/30 15:59:15 INFO OWLQN: Step Size: 1.000\n",
      "23/01/30 15:59:15 INFO OWLQN: Val and Grad Norm: 0.239384 (rel: 0.216) 0.0723435\n",
      "23/01/30 15:59:15 INFO OWLQN: Step Size: 1.000\n",
      "23/01/30 15:59:15 INFO OWLQN: Val and Grad Norm: 0.228447 (rel: 0.0456) 0.0376373\n",
      "23/01/30 15:59:15 INFO OWLQN: Step Size: 1.000\n",
      "23/01/30 15:59:15 INFO OWLQN: Val and Grad Norm: 0.228465 (rel: 0.0456) 0.0376333\n",
      "23/01/30 15:59:15 INFO OWLQN: Step Size: 1.000\n",
      "23/01/30 15:59:15 INFO OWLQN: Val and Grad Norm: 0.220561 (rel: 0.0345) 0.0266691\n",
      "23/01/30 15:59:15 INFO OWLQN: Step Size: 1.000\n",
      "23/01/30 15:59:15 INFO OWLQN: Val and Grad Norm: 0.220582 (rel: 0.0345) 0.0266649\n",
      "23/01/30 15:59:15 INFO OWLQN: Step Size: 1.000\n",
      "23/01/30 15:59:15 INFO OWLQN: Val and Grad Norm: 0.216876 (rel: 0.0167) 0.0173417\n",
      "23/01/30 15:59:15 INFO OWLQN: Step Size: 1.000\n",
      "23/01/30 15:59:15 INFO OWLQN: Val and Grad Norm: 0.216898 (rel: 0.0167) 0.0173359\n",
      "23/01/30 15:59:15 INFO OWLQN: Step Size: 1.000\n",
      "23/01/30 15:59:15 INFO OWLQN: Val and Grad Norm: 0.214599 (rel: 0.0105) 0.0131064\n",
      "23/01/30 15:59:15 INFO OWLQN: Step Size: 1.000\n",
      "23/01/30 15:59:15 INFO OWLQN: Val and Grad Norm: 0.214622 (rel: 0.0105) 0.0131101\n",
      "23/01/30 15:59:16 INFO OWLQN: Step Size: 1.000\n",
      "23/01/30 15:59:16 INFO OWLQN: Val and Grad Norm: 0.214226 (rel: 0.00174) 0.00679251\n",
      "23/01/30 15:59:16 INFO OWLQN: Step Size: 1.000\n",
      "23/01/30 15:59:16 INFO OWLQN: Val and Grad Norm: 0.214250 (rel: 0.00174) 0.00678819\n",
      "23/01/30 15:59:16 INFO OWLQN: Step Size: 1.000\n",
      "23/01/30 15:59:16 INFO OWLQN: Val and Grad Norm: 0.214043 (rel: 0.000856) 0.00388365\n",
      "23/01/30 15:59:16 INFO OWLQN: Step Size: 1.000\n",
      "23/01/30 15:59:16 INFO OWLQN: Val and Grad Norm: 0.214066 (rel: 0.000855) 0.00388486\n",
      "23/01/30 15:59:16 INFO OWLQN: Step Size: 1.000\n",
      "23/01/30 15:59:16 INFO OWLQN: Val and Grad Norm: 0.213922 (rel: 0.000566) 0.00396992\n",
      "23/01/30 15:59:16 INFO OWLQN: Step Size: 1.000\n",
      "23/01/30 15:59:16 INFO OWLQN: Val and Grad Norm: 0.213945 (rel: 0.000565) 0.00397278\n",
      "23/01/30 15:59:16 INFO OWLQN: Step Size: 1.000\n",
      "23/01/30 15:59:16 INFO OWLQN: Val and Grad Norm: 0.213866 (rel: 0.000260) 0.00537914\n",
      "23/01/30 15:59:16 INFO OWLQN: Step Size: 1.000\n",
      "23/01/30 15:59:16 INFO OWLQN: Val and Grad Norm: 0.213889 (rel: 0.000262) 0.00532944\n",
      "23/01/30 15:59:16 INFO OWLQN: Step Size: 1.000\n",
      "23/01/30 15:59:16 INFO OWLQN: Val and Grad Norm: 0.213805 (rel: 0.000282) 0.00202730\n",
      "23/01/30 15:59:16 INFO OWLQN: Step Size: 1.000\n",
      "23/01/30 15:59:16 INFO OWLQN: Val and Grad Norm: 0.213830 (rel: 0.000277) 0.00204158\n",
      "23/01/30 15:59:16 INFO OWLQN: Step Size: 1.000\n",
      "23/01/30 15:59:16 INFO OWLQN: Val and Grad Norm: 0.213792 (rel: 6.34e-05) 0.000927151\n",
      "23/01/30 15:59:16 INFO OWLQN: Step Size: 1.000\n",
      "23/01/30 15:59:16 INFO OWLQN: Val and Grad Norm: 0.213816 (rel: 6.41e-05) 0.000928892\n",
      "23/01/30 15:59:16 INFO OWLQN: Step Size: 1.000\n",
      "23/01/30 15:59:16 INFO OWLQN: Val and Grad Norm: 0.213788 (rel: 1.83e-05) 0.000560817\n",
      "23/01/30 15:59:16 INFO OWLQN: Step Size: 1.000\n",
      "23/01/30 15:59:16 INFO OWLQN: Val and Grad Norm: 0.213813 (rel: 1.83e-05) 0.000560889\n",
      "23/01/30 15:59:16 INFO OWLQN: Step Size: 1.000\n",
      "23/01/30 15:59:16 INFO OWLQN: Val and Grad Norm: 0.213785 (rel: 1.28e-05) 0.000601819\n",
      "23/01/30 15:59:17 INFO OWLQN: Step Size: 1.000\n",
      "23/01/30 15:59:17 INFO OWLQN: Val and Grad Norm: 0.213810 (rel: 1.27e-05) 0.000607464\n",
      "23/01/30 15:59:17 INFO OWLQN: Step Size: 1.000\n",
      "23/01/30 15:59:17 INFO OWLQN: Val and Grad Norm: 0.213784 (rel: 7.76e-06) 0.000339661\n",
      "23/01/30 15:59:17 INFO OWLQN: Step Size: 1.000\n",
      "23/01/30 15:59:17 INFO OWLQN: Val and Grad Norm: 0.213808 (rel: 7.84e-06) 0.000342761\n",
      "23/01/30 15:59:17 INFO OWLQN: Step Size: 1.000\n",
      "23/01/30 15:59:17 INFO OWLQN: Val and Grad Norm: 0.213782 (rel: 7.20e-06) 0.000368388\n",
      "23/01/30 15:59:17 INFO OWLQN: Step Size: 1.000\n",
      "23/01/30 15:59:17 INFO OWLQN: Val and Grad Norm: 0.213807 (rel: 7.27e-06) 0.000377948\n",
      "23/01/30 15:59:17 INFO OWLQN: Step Size: 1.000\n",
      "23/01/30 15:59:17 INFO OWLQN: Val and Grad Norm: 0.213782 (rel: 1.08e-06) 0.000951140\n",
      "23/01/30 15:59:17 INFO OWLQN: Step Size: 1.000\n",
      "23/01/30 15:59:17 INFO OWLQN: Val and Grad Norm: 0.213806 (rel: 2.10e-06) 0.000901335\n",
      "23/01/30 15:59:17 INFO OWLQN: Step Size: 1.000\n",
      "23/01/30 15:59:17 INFO OWLQN: Val and Grad Norm: 0.213778 (rel: 1.90e-05) 0.000304011\n",
      "23/01/30 15:59:17 INFO OWLQN: Step Size: 1.000\n",
      "23/01/30 15:59:17 INFO OWLQN: Val and Grad Norm: 0.213802 (rel: 1.79e-05) 0.000340680\n",
      "23/01/30 15:59:17 INFO OWLQN: Step Size: 1.000\n",
      "23/01/30 15:59:17 INFO OWLQN: Val and Grad Norm: 0.213777 (rel: 4.31e-06) 0.000280390\n",
      "23/01/30 15:59:17 INFO OWLQN: Step Size: 1.000\n",
      "23/01/30 15:59:17 INFO OWLQN: Val and Grad Norm: 0.213801 (rel: 5.93e-06) 0.000240459\n",
      "23/01/30 15:59:17 INFO OWLQN: Step Size: 1.000\n",
      "23/01/30 15:59:17 INFO OWLQN: Val and Grad Norm: 0.213777 (rel: 1.22e-06) 0.000623286\n",
      "23/01/30 15:59:17 INFO OWLQN: Step Size: 1.000\n",
      "23/01/30 15:59:17 INFO OWLQN: Val and Grad Norm: 0.213775 (rel: 5.58e-06) 0.000206208\n",
      "23/01/30 15:59:17 INFO OWLQN: Step Size: 0.5000\n",
      "23/01/30 15:59:17 INFO OWLQN: Val and Grad Norm: 0.213801 (rel: 2.22e-06) 0.000327995\n",
      "23/01/30 15:59:17 INFO OWLQN: Step Size: 1.000\n",
      "23/01/30 15:59:17 INFO OWLQN: Val and Grad Norm: 0.213775 (rel: 6.40e-07) 0.000353338\n",
      "23/01/30 15:59:17 INFO OWLQN: Step Size: 1.000\n",
      "23/01/30 15:59:17 INFO OWLQN: Val and Grad Norm: 0.213775 (rel: 2.37e-06) 0.000235284\n",
      "23/01/30 15:59:18 INFO OWLQN: Step Size: 0.5000\n",
      "23/01/30 15:59:18 INFO OWLQN: Val and Grad Norm: 0.213800 (rel: 2.34e-06) 0.000223819\n",
      "23/01/30 15:59:18 INFO OWLQN: Step Size: 1.000\n",
      "23/01/30 15:59:18 INFO OWLQN: Val and Grad Norm: 0.213774 (rel: 1.37e-06) 0.000128989\n",
      "23/01/30 15:59:18 INFO OWLQN: Step Size: 1.000\n",
      "23/01/30 15:59:18 INFO OWLQN: Val and Grad Norm: 0.213774 (rel: 5.96e-07) 0.000126029\n",
      "23/01/30 15:59:18 INFO OWLQN: Step Size: 0.5000\n",
      "23/01/30 15:59:18 INFO OWLQN: Val and Grad Norm: 0.213800 (rel: 2.17e-06) 0.000221351\n",
      "23/01/30 15:59:18 INFO OWLQN: Step Size: 1.000\n",
      "23/01/30 15:59:18 INFO OWLQN: Val and Grad Norm: 0.213774 (rel: 3.48e-07) 8.84595e-05\n",
      "23/01/30 15:59:18 INFO OWLQN: Step Size: 1.000\n",
      "23/01/30 15:59:18 INFO OWLQN: Val and Grad Norm: 0.213774 (rel: 2.21e-07) 5.09284e-05\n",
      "23/01/30 15:59:18 INFO OWLQN: Step Size: 0.5000\n",
      "23/01/30 15:59:18 INFO OWLQN: Val and Grad Norm: 0.213799 (rel: 5.76e-07) 0.000281823\n",
      "23/01/30 15:59:18 INFO OWLQN: Step Size: 1.000\n",
      "23/01/30 15:59:18 INFO OWLQN: Val and Grad Norm: 0.213774 (rel: 6.74e-08) 2.13342e-05\n",
      "23/01/30 15:59:18 INFO OWLQN: Step Size: 1.000\n",
      "23/01/30 15:59:18 INFO OWLQN: Val and Grad Norm: 0.213774 (rel: 1.77e-08) 2.04661e-05\n",
      "23/01/30 15:59:18 INFO OWLQN: Step Size: 0.5000\n",
      "23/01/30 15:59:18 INFO OWLQN: Val and Grad Norm: 0.213799 (rel: 1.76e-06) 0.000135753\n",
      "23/01/30 15:59:18 INFO OWLQN: Step Size: 1.000\n",
      "23/01/30 15:59:18 INFO OWLQN: Val and Grad Norm: 0.213774 (rel: 1.42e-08) 2.59383e-05\n",
      "23/01/30 15:59:18 INFO OWLQN: Step Size: 1.000\n",
      "23/01/30 15:59:18 INFO OWLQN: Val and Grad Norm: 0.213774 (rel: 1.63e-08) 1.08150e-05\n",
      "23/01/30 15:59:19 INFO OWLQN: Step Size: 0.5000\n",
      "23/01/30 15:59:19 INFO OWLQN: Val and Grad Norm: 0.213799 (rel: 3.49e-07) 0.000163540\n",
      "23/01/30 15:59:19 INFO OWLQN: Step Size: 1.000\n",
      "23/01/30 15:59:19 INFO OWLQN: Val and Grad Norm: 0.213774 (rel: 6.41e-09) 1.17843e-05\n",
      "23/01/30 15:59:19 INFO OWLQN: Step Size: 1.000\n",
      "23/01/30 15:59:19 INFO OWLQN: Val and Grad Norm: 0.213799 (rel: 4.79e-07) 0.000252963\n",
      "23/01/30 15:59:19 INFO OWLQN: Step Size: 1.000\n",
      "23/01/30 15:59:19 INFO OWLQN: Val and Grad Norm: 0.213774 (rel: 3.20e-09) 1.23995e-05\n",
      "23/01/30 15:59:19 INFO OWLQN: Step Size: 1.000\n",
      "23/01/30 15:59:19 INFO OWLQN: Val and Grad Norm: 0.213799 (rel: 8.83e-07) 0.000143308\n",
      "23/01/30 15:59:19 INFO OWLQN: Step Size: 1.000\n",
      "23/01/30 15:59:19 INFO OWLQN: Val and Grad Norm: 0.213774 (rel: 2.23e-09) 5.74956e-06\n",
      "23/01/30 15:59:19 INFO OWLQN: Step Size: 1.000\n",
      "23/01/30 15:59:19 INFO OWLQN: Val and Grad Norm: 0.213799 (rel: 2.45e-07) 8.27389e-05\n",
      "23/01/30 15:59:19 INFO OWLQN: Step Size: 1.000\n",
      "23/01/30 15:59:19 INFO OWLQN: Val and Grad Norm: 0.213774 (rel: 1.94e-09) 5.69804e-06\n",
      "23/01/30 15:59:19 INFO OWLQN: Step Size: 1.000\n",
      "23/01/30 15:59:19 INFO OWLQN: Val and Grad Norm: 0.213799 (rel: 1.02e-07) 5.20479e-05\n",
      "23/01/30 15:59:19 INFO OWLQN: Step Size: 1.000\n",
      "23/01/30 15:59:19 INFO OWLQN: Val and Grad Norm: 0.213774 (rel: 3.17e-09) 8.41780e-06\n",
      "23/01/30 15:59:19 INFO OWLQN: Step Size: 1.000\n",
      "23/01/30 15:59:19 INFO OWLQN: Val and Grad Norm: 0.213799 (rel: 5.81e-08) 2.94864e-05\n",
      "23/01/30 15:59:20 INFO OWLQN: Step Size: 1.000\n",
      "23/01/30 15:59:20 INFO OWLQN: Val and Grad Norm: 0.213774 (rel: 2.01e-09) 1.05518e-05\n",
      "23/01/30 15:59:20 INFO OWLQN: Step Size: 1.000\n",
      "23/01/30 15:59:20 INFO OWLQN: Val and Grad Norm: 0.213799 (rel: 5.37e-08) 2.30941e-05\n",
      "23/01/30 15:59:20 INFO OWLQN: Step Size: 1.000\n",
      "23/01/30 15:59:20 INFO OWLQN: Val and Grad Norm: 0.213774 (rel: 1.54e-09) 1.22154e-05\n",
      "23/01/30 15:59:20 INFO OWLQN: Step Size: 1.000\n",
      "23/01/30 15:59:20 INFO OWLQN: Val and Grad Norm: 0.213799 (rel: 8.19e-08) 2.36799e-05\n",
      "23/01/30 15:59:20 INFO OWLQN: Step Size: 1.000\n",
      "23/01/30 15:59:20 INFO OWLQN: Val and Grad Norm: 0.213774 (rel: 2.76e-09) 6.29580e-06\n",
      "23/01/30 15:59:20 INFO OWLQN: Step Size: 1.000\n",
      "23/01/30 15:59:20 INFO OWLQN: Val and Grad Norm: 0.213774 (rel: 9.16e-10) 6.35075e-06\n",
      "23/01/30 15:59:20 INFO OWLQN: Step Size: 0.5000\n",
      "23/01/30 15:59:20 INFO OWLQN: Val and Grad Norm: 0.213799 (rel: 2.55e-08) 2.80716e-05\n",
      "23/01/30 15:59:20 INFO OWLQN: Step Size: 1.000\n",
      "23/01/30 15:59:20 INFO OWLQN: Val and Grad Norm: 0.213774 (rel: 4.77e-10) 5.84527e-06\n",
      "23/01/30 15:59:20 INFO OWLQN: Step Size: 1.000\n",
      "23/01/30 15:59:20 INFO OWLQN: Val and Grad Norm: 0.213799 (rel: 1.50e-08) 9.32778e-06\n",
      "23/01/30 15:59:20 INFO OWLQN: Step Size: 1.000\n",
      "23/01/30 15:59:20 INFO OWLQN: Val and Grad Norm: 0.213774 (rel: 6.48e-10) 4.70220e-06\n",
      "23/01/30 15:59:20 INFO OWLQN: Step Size: 1.000\n",
      "23/01/30 15:59:20 INFO OWLQN: Val and Grad Norm: 0.213799 (rel: 6.22e-09) 8.06733e-06\n",
      "23/01/30 15:59:20 INFO OWLQN: Step Size: 1.000\n",
      "23/01/30 15:59:20 INFO OWLQN: Val and Grad Norm: 0.213774 (rel: 3.73e-10) 3.44386e-06\n",
      "23/01/30 15:59:20 INFO OWLQN: Converged because function values converged\n",
      "23/01/30 15:59:20 INFO OWLQN: Step Size: 1.000\n",
      "23/01/30 15:59:20 INFO OWLQN: Val and Grad Norm: 0.213799 (rel: 8.26e-09) 2.09116e-05\n",
      "23/01/30 15:59:20 INFO OWLQN: Step Size: 1.000\n",
      "23/01/30 15:59:20 INFO OWLQN: Val and Grad Norm: 0.213799 (rel: 3.90e-09) 2.22584e-05\n",
      "23/01/30 15:59:21 INFO OWLQN: Step Size: 1.000\n",
      "23/01/30 15:59:21 INFO OWLQN: Val and Grad Norm: 0.213799 (rel: 7.00e-09) 8.58411e-06\n",
      "23/01/30 15:59:21 INFO OWLQN: Step Size: 1.000\n",
      "23/01/30 15:59:21 INFO OWLQN: Val and Grad Norm: 0.213799 (rel: 2.35e-09) 8.14157e-06\n",
      "23/01/30 15:59:21 INFO OWLQN: Step Size: 1.000\n",
      "23/01/30 15:59:21 INFO OWLQN: Val and Grad Norm: 0.213799 (rel: 4.11e-10) 1.30462e-05\n",
      "23/01/30 15:59:21 INFO OWLQN: Step Size: 1.000\n",
      "23/01/30 15:59:21 INFO OWLQN: Val and Grad Norm: 0.213799 (rel: 3.38e-09) 6.22448e-06\n",
      "23/01/30 15:59:21 INFO OWLQN: Step Size: 1.000\n",
      "23/01/30 15:59:21 INFO OWLQN: Val and Grad Norm: 0.213799 (rel: 6.05e-10) 7.32683e-06\n",
      "23/01/30 15:59:21 INFO OWLQN: Step Size: 1.000\n",
      "23/01/30 15:59:21 INFO OWLQN: Val and Grad Norm: 0.213799 (rel: 9.49e-10) 4.84492e-06\n",
      "23/01/30 15:59:21 INFO OWLQN: Step Size: 1.000\n",
      "23/01/30 15:59:21 INFO OWLQN: Val and Grad Norm: 0.213799 (rel: 6.13e-10) 5.43383e-06\n",
      "23/01/30 15:59:21 INFO OWLQN: Step Size: 1.000\n",
      "23/01/30 15:59:21 INFO OWLQN: Val and Grad Norm: 0.213799 (rel: 6.04e-10) 4.66069e-06\n",
      "23/01/30 15:59:21 INFO OWLQN: Converged because function values converged\n",
      "23/01/30 15:59:23 INFO OWLQN: Step Size: 0.9910\n",
      "23/01/30 15:59:23 INFO OWLQN: Val and Grad Norm: 0.305601 (rel: 0.126) 0.175012\n",
      "23/01/30 15:59:23 INFO OWLQN: Step Size: 1.000\n",
      "23/01/30 15:59:23 INFO OWLQN: Val and Grad Norm: 0.240835 (rel: 0.212) 0.0717594\n",
      "23/01/30 15:59:23 INFO OWLQN: Step Size: 1.000\n",
      "23/01/30 15:59:23 INFO OWLQN: Val and Grad Norm: 0.230312 (rel: 0.0437) 0.0367912\n",
      "23/01/30 15:59:23 INFO OWLQN: Step Size: 1.000\n",
      "23/01/30 15:59:23 INFO OWLQN: Val and Grad Norm: 0.223039 (rel: 0.0316) 0.0258227\n",
      "23/01/30 15:59:23 INFO OWLQN: Step Size: 1.000\n",
      "23/01/30 15:59:23 INFO OWLQN: Val and Grad Norm: 0.219690 (rel: 0.0150) 0.0166622\n",
      "23/01/30 15:59:23 INFO OWLQN: Step Size: 1.000\n",
      "23/01/30 15:59:23 INFO OWLQN: Val and Grad Norm: 0.217754 (rel: 0.00881) 0.0108390\n",
      "23/01/30 15:59:24 INFO OWLQN: Step Size: 1.000\n",
      "23/01/30 15:59:24 INFO OWLQN: Val and Grad Norm: 0.217498 (rel: 0.00118) 0.00590816\n",
      "23/01/30 15:59:24 INFO OWLQN: Step Size: 1.000\n",
      "23/01/30 15:59:24 INFO OWLQN: Val and Grad Norm: 0.217376 (rel: 0.000559) 0.00314596\n",
      "23/01/30 15:59:24 INFO OWLQN: Step Size: 1.000\n",
      "23/01/30 15:59:24 INFO OWLQN: Val and Grad Norm: 0.217289 (rel: 0.000398) 0.00259802\n",
      "23/01/30 15:59:24 INFO OWLQN: Step Size: 0.9910\n",
      "23/01/30 15:59:24 INFO OWLQN: Val and Grad Norm: 0.305621 (rel: 0.126) 0.174981\n",
      "23/01/30 15:59:24 INFO OWLQN: Step Size: 1.000\n",
      "23/01/30 15:59:24 INFO OWLQN: Val and Grad Norm: 0.217268 (rel: 9.67e-05) 0.00291869\n",
      "23/01/30 15:59:24 INFO OWLQN: Step Size: 1.000\n",
      "23/01/30 15:59:24 INFO OWLQN: Val and Grad Norm: 0.240871 (rel: 0.212) 0.0717644\n",
      "23/01/30 15:59:24 INFO OWLQN: Step Size: 1.000\n",
      "23/01/30 15:59:24 INFO OWLQN: Val and Grad Norm: 0.217226 (rel: 0.000196) 0.000977429\n",
      "23/01/30 15:59:24 INFO OWLQN: Step Size: 1.000\n",
      "23/01/30 15:59:24 INFO OWLQN: Val and Grad Norm: 0.230349 (rel: 0.0437) 0.0367832\n",
      "23/01/30 15:59:24 INFO OWLQN: Step Size: 1.000\n",
      "23/01/30 15:59:24 INFO OWLQN: Val and Grad Norm: 0.217221 (rel: 2.35e-05) 0.000578657\n",
      "23/01/30 15:59:24 INFO OWLQN: Step Size: 1.000\n",
      "23/01/30 15:59:24 INFO OWLQN: Val and Grad Norm: 0.223080 (rel: 0.0316) 0.0258141\n",
      "23/01/30 15:59:24 INFO OWLQN: Step Size: 1.000\n",
      "23/01/30 15:59:24 INFO OWLQN: Val and Grad Norm: 0.217219 (rel: 7.54e-06) 0.000210392\n",
      "23/01/30 15:59:24 INFO OWLQN: Step Size: 1.000\n",
      "23/01/30 15:59:24 INFO OWLQN: Val and Grad Norm: 0.219733 (rel: 0.0150) 0.0166505\n",
      "23/01/30 15:59:24 INFO OWLQN: Step Size: 1.000\n",
      "23/01/30 15:59:24 INFO OWLQN: Val and Grad Norm: 0.217219 (rel: 1.64e-06) 0.000156561\n",
      "23/01/30 15:59:25 INFO OWLQN: Step Size: 1.000\n",
      "23/01/30 15:59:25 INFO OWLQN: Val and Grad Norm: 0.217800 (rel: 0.00880) 0.0108453\n",
      "23/01/30 15:59:25 INFO OWLQN: Step Size: 1.000\n",
      "23/01/30 15:59:25 INFO OWLQN: Val and Grad Norm: 0.217218 (rel: 1.31e-06) 0.000158497\n",
      "23/01/30 15:59:25 INFO OWLQN: Step Size: 1.000\n",
      "23/01/30 15:59:25 INFO OWLQN: Val and Grad Norm: 0.217543 (rel: 0.00118) 0.00589406\n",
      "23/01/30 15:59:25 INFO OWLQN: Step Size: 1.000\n",
      "23/01/30 15:59:25 INFO OWLQN: Val and Grad Norm: 0.217218 (rel: 1.37e-06) 0.000138383\n",
      "23/01/30 15:59:25 INFO OWLQN: Step Size: 1.000\n",
      "23/01/30 15:59:25 INFO OWLQN: Val and Grad Norm: 0.217422 (rel: 0.000559) 0.00314901\n",
      "23/01/30 15:59:25 INFO OWLQN: Step Size: 1.000\n",
      "23/01/30 15:59:25 INFO OWLQN: Val and Grad Norm: 0.217218 (rel: 1.72e-06) 0.000110049\n",
      "23/01/30 15:59:25 INFO OWLQN: Step Size: 1.000\n",
      "23/01/30 15:59:25 INFO OWLQN: Val and Grad Norm: 0.217335 (rel: 0.000400) 0.00259637\n",
      "23/01/30 15:59:25 INFO OWLQN: Step Size: 1.000\n",
      "23/01/30 15:59:25 INFO OWLQN: Val and Grad Norm: 0.217314 (rel: 9.35e-05) 0.00291217\n",
      "23/01/30 15:59:25 INFO OWLQN: Step Size: 0.5000\n",
      "23/01/30 15:59:25 INFO OWLQN: Val and Grad Norm: 0.217218 (rel: 7.75e-08) 0.000183569\n",
      "23/01/30 15:59:25 INFO OWLQN: Step Size: 1.000\n",
      "23/01/30 15:59:25 INFO OWLQN: Val and Grad Norm: 0.217272 (rel: 0.000195) 0.000976652\n",
      "23/01/30 15:59:26 INFO OWLQN: Step Size: 1.000\n",
      "23/01/30 15:59:26 INFO OWLQN: Val and Grad Norm: 0.217218 (rel: 5.58e-07) 0.000123030\n",
      "23/01/30 15:59:26 INFO OWLQN: Step Size: 1.000\n",
      "23/01/30 15:59:26 INFO OWLQN: Val and Grad Norm: 0.217267 (rel: 2.30e-05) 0.000575820\n",
      "23/01/30 15:59:26 INFO OWLQN: Step Size: 1.000\n",
      "23/01/30 15:59:26 INFO OWLQN: Val and Grad Norm: 0.217217 (rel: 3.61e-07) 5.23282e-05\n",
      "23/01/30 15:59:26 INFO OWLQN: Step Size: 1.000\n",
      "23/01/30 15:59:26 INFO OWLQN: Val and Grad Norm: 0.217266 (rel: 6.03e-06) 0.000396101\n",
      "23/01/30 15:59:26 INFO OWLQN: Step Size: 1.000\n",
      "23/01/30 15:59:26 INFO OWLQN: Val and Grad Norm: 0.217217 (rel: 5.05e-08) 2.60892e-05\n",
      "23/01/30 15:59:26 INFO OWLQN: Step Size: 1.000\n",
      "23/01/30 15:59:26 INFO OWLQN: Val and Grad Norm: 0.217265 (rel: 3.06e-06) 0.000173832\n",
      "23/01/30 15:59:26 INFO OWLQN: Step Size: 1.000\n",
      "23/01/30 15:59:26 INFO OWLQN: Val and Grad Norm: 0.217217 (rel: 1.83e-08) 1.52374e-05\n",
      "23/01/30 15:59:26 INFO OWLQN: Step Size: 1.000\n",
      "23/01/30 15:59:26 INFO OWLQN: Val and Grad Norm: 0.217265 (rel: 9.49e-07) 0.000154210\n",
      "23/01/30 15:59:26 INFO OWLQN: Step Size: 1.000\n",
      "23/01/30 15:59:26 INFO OWLQN: Val and Grad Norm: 0.217217 (rel: 1.74e-08) 1.27250e-05\n",
      "23/01/30 15:59:26 INFO OWLQN: Step Size: 1.000\n",
      "23/01/30 15:59:26 INFO OWLQN: Val and Grad Norm: 0.217265 (rel: 9.86e-07) 0.000129449\n",
      "23/01/30 15:59:26 INFO OWLQN: Step Size: 1.000\n",
      "23/01/30 15:59:26 INFO OWLQN: Val and Grad Norm: 0.217217 (rel: 1.25e-08) 2.14879e-05\n",
      "23/01/30 15:59:27 INFO OWLQN: Step Size: 1.000\n",
      "23/01/30 15:59:27 INFO OWLQN: Val and Grad Norm: 0.217264 (rel: 1.26e-06) 0.000277789\n",
      "23/01/30 15:59:27 INFO OWLQN: Step Size: 1.000\n",
      "23/01/30 15:59:27 INFO OWLQN: Val and Grad Norm: 0.217217 (rel: 6.51e-09) 1.42162e-05\n",
      "23/01/30 15:59:27 INFO OWLQN: Step Size: 1.000\n",
      "23/01/30 15:59:27 INFO OWLQN: Val and Grad Norm: 0.217264 (rel: 1.50e-06) 0.000157560\n",
      "23/01/30 15:59:27 INFO OWLQN: Step Size: 1.000\n",
      "23/01/30 15:59:27 INFO OWLQN: Val and Grad Norm: 0.217217 (rel: 3.12e-09) 7.79810e-06\n",
      "23/01/30 15:59:27 INFO OWLQN: Step Size: 1.000\n",
      "23/01/30 15:59:27 INFO OWLQN: Val and Grad Norm: 0.217264 (rel: 5.91e-07) 0.000136765\n",
      "23/01/30 15:59:27 INFO OWLQN: Step Size: 1.000\n",
      "23/01/30 15:59:27 INFO OWLQN: Val and Grad Norm: 0.217217 (rel: 3.20e-09) 5.62768e-06\n",
      "23/01/30 15:59:27 INFO OWLQN: Step Size: 1.000\n",
      "23/01/30 15:59:27 INFO OWLQN: Val and Grad Norm: 0.217264 (rel: 4.98e-07) 6.09216e-05\n",
      "23/01/30 15:59:27 INFO OWLQN: Step Size: 1.000\n",
      "23/01/30 15:59:27 INFO OWLQN: Val and Grad Norm: 0.217217 (rel: 3.00e-09) 5.34991e-06\n",
      "23/01/30 15:59:27 INFO OWLQN: Step Size: 1.000\n",
      "23/01/30 15:59:27 INFO OWLQN: Val and Grad Norm: 0.217264 (rel: 1.05e-07) 5.74296e-05\n",
      "23/01/30 15:59:27 INFO OWLQN: Step Size: 1.000\n",
      "23/01/30 15:59:27 INFO OWLQN: Val and Grad Norm: 0.217264 (rel: 8.41e-08) 3.68441e-05\n",
      "23/01/30 15:59:28 INFO OWLQN: Step Size: 0.5000\n",
      "23/01/30 15:59:28 INFO OWLQN: Val and Grad Norm: 0.217217 (rel: 1.08e-09) 4.71354e-06\n",
      "23/01/30 15:59:28 INFO OWLQN: Step Size: 1.000\n",
      "23/01/30 15:59:28 INFO OWLQN: Val and Grad Norm: 0.217264 (rel: 3.74e-08) 2.12742e-05\n",
      "23/01/30 15:59:28 INFO OWLQN: Step Size: 1.000\n",
      "23/01/30 15:59:28 INFO OWLQN: Val and Grad Norm: 0.217217 (rel: 3.97e-10) 3.81270e-06\n",
      "23/01/30 15:59:28 INFO OWLQN: Step Size: 1.000\n",
      "23/01/30 15:59:28 INFO OWLQN: Val and Grad Norm: 0.217264 (rel: 1.96e-08) 1.40097e-05\n",
      "23/01/30 15:59:28 INFO OWLQN: Step Size: 1.000\n",
      "23/01/30 15:59:28 INFO OWLQN: Val and Grad Norm: 0.217217 (rel: 2.57e-10) 2.42073e-06\n",
      "23/01/30 15:59:28 INFO OWLQN: Step Size: 1.000\n",
      "23/01/30 15:59:28 INFO OWLQN: Val and Grad Norm: 0.217264 (rel: 1.06e-08) 8.21188e-06\n",
      "23/01/30 15:59:28 INFO OWLQN: Step Size: 1.000\n",
      "23/01/30 15:59:28 INFO OWLQN: Val and Grad Norm: 0.217217 (rel: 1.65e-10) 1.22602e-06\n",
      "23/01/30 15:59:28 INFO OWLQN: Step Size: 1.000\n",
      "23/01/30 15:59:28 INFO OWLQN: Val and Grad Norm: 0.217264 (rel: 4.32e-09) 6.89466e-06\n",
      "23/01/30 15:59:28 INFO OWLQN: Step Size: 1.000\n",
      "23/01/30 15:59:28 INFO OWLQN: Val and Grad Norm: 0.217217 (rel: 6.36e-11) 8.78220e-07\n",
      "23/01/30 15:59:28 INFO OWLQN: Step Size: 1.000\n",
      "23/01/30 15:59:28 INFO OWLQN: Val and Grad Norm: 0.217264 (rel: 2.82e-09) 4.39187e-06\n",
      "23/01/30 15:59:28 INFO OWLQN: Step Size: 1.000\n",
      "23/01/30 15:59:28 INFO OWLQN: Val and Grad Norm: 0.217217 (rel: 5.85e-11) 9.69820e-07\n",
      "23/01/30 15:59:28 INFO OWLQN: Step Size: 1.000\n",
      "23/01/30 15:59:28 INFO OWLQN: Step Size: 1.000\n",
      "23/01/30 15:59:28 INFO OWLQN: Val and Grad Norm: 0.217217 (rel: 1.84e-11) 1.37466e-06\n",
      "23/01/30 15:59:28 INFO OWLQN: Val and Grad Norm: 0.217264 (rel: 1.07e-09) 8.09671e-06\n",
      "23/01/30 15:59:29 INFO OWLQN: Step Size: 1.000\n",
      "23/01/30 15:59:29 INFO OWLQN: Val and Grad Norm: 0.217264 (rel: 8.39e-10) 4.92036e-06\n",
      "23/01/30 15:59:29 INFO OWLQN: Step Size: 1.000\n",
      "23/01/30 15:59:29 INFO OWLQN: Val and Grad Norm: 0.217217 (rel: 3.26e-11) 5.29569e-07\n",
      "23/01/30 15:59:29 INFO OWLQN: Converged because function values converged\n",
      "23/01/30 15:59:29 INFO OWLQN: Step Size: 1.000\n",
      "23/01/30 15:59:29 INFO OWLQN: Val and Grad Norm: 0.217264 (rel: 2.78e-10) 2.21633e-06\n",
      "23/01/30 15:59:29 INFO OWLQN: Step Size: 1.000\n",
      "23/01/30 15:59:29 INFO OWLQN: Val and Grad Norm: 0.217264 (rel: 2.43e-10) 1.66702e-06\n",
      "23/01/30 15:59:29 INFO OWLQN: Step Size: 1.000\n",
      "23/01/30 15:59:29 INFO OWLQN: Val and Grad Norm: 0.217264 (rel: 2.43e-10) 1.50434e-06\n",
      "23/01/30 15:59:30 INFO OWLQN: Step Size: 0.5000\n",
      "23/01/30 15:59:30 INFO OWLQN: Val and Grad Norm: 0.217264 (rel: 7.00e-11) 1.82075e-06\n",
      "23/01/30 15:59:30 INFO OWLQN: Step Size: 1.000\n",
      "23/01/30 15:59:30 INFO OWLQN: Val and Grad Norm: 0.217264 (rel: 6.79e-11) 1.87575e-06\n",
      "23/01/30 15:59:30 INFO OWLQN: Step Size: 1.000\n",
      "23/01/30 15:59:30 INFO OWLQN: Val and Grad Norm: 0.217264 (rel: 3.82e-11) 1.53661e-06\n",
      "23/01/30 15:59:30 INFO OWLQN: Step Size: 1.000\n",
      "23/01/30 15:59:30 INFO OWLQN: Val and Grad Norm: 0.217264 (rel: 3.74e-11) 9.85542e-07\n",
      "23/01/30 15:59:30 INFO OWLQN: Step Size: 1.000\n",
      "23/01/30 15:59:30 INFO OWLQN: Val and Grad Norm: 0.217264 (rel: 1.86e-11) 6.34998e-07\n",
      "23/01/30 15:59:30 INFO OWLQN: Converged because function values converged\n",
      "23/01/30 15:59:33 INFO OWLQN: Step Size: 0.9835\n",
      "23/01/30 15:59:33 INFO OWLQN: Val and Grad Norm: 0.306706 (rel: 0.127) 0.177145\n",
      "23/01/30 15:59:33 INFO OWLQN: Step Size: 0.9835\n",
      "23/01/30 15:59:33 INFO OWLQN: Val and Grad Norm: 0.306716 (rel: 0.127) 0.177130\n",
      "23/01/30 15:59:33 INFO OWLQN: Step Size: 1.000\n",
      "23/01/30 15:59:33 INFO OWLQN: Val and Grad Norm: 0.239313 (rel: 0.220) 0.0719511\n",
      "23/01/30 15:59:33 INFO OWLQN: Step Size: 1.000\n",
      "23/01/30 15:59:33 INFO OWLQN: Val and Grad Norm: 0.239331 (rel: 0.220) 0.0719532\n",
      "23/01/30 15:59:33 INFO OWLQN: Step Size: 1.000\n",
      "23/01/30 15:59:33 INFO OWLQN: Val and Grad Norm: 0.228416 (rel: 0.0455) 0.0378193\n",
      "23/01/30 15:59:33 INFO OWLQN: Step Size: 1.000\n",
      "23/01/30 15:59:33 INFO OWLQN: Val and Grad Norm: 0.228435 (rel: 0.0455) 0.0378157\n",
      "23/01/30 15:59:33 INFO OWLQN: Step Size: 1.000\n",
      "23/01/30 15:59:33 INFO OWLQN: Val and Grad Norm: 0.220342 (rel: 0.0353) 0.0264128\n",
      "23/01/30 15:59:33 INFO OWLQN: Step Size: 1.000\n",
      "23/01/30 15:59:33 INFO OWLQN: Val and Grad Norm: 0.220363 (rel: 0.0353) 0.0264086\n",
      "23/01/30 15:59:33 INFO OWLQN: Step Size: 1.000\n",
      "23/01/30 15:59:33 INFO OWLQN: Val and Grad Norm: 0.216621 (rel: 0.0169) 0.0177920\n",
      "23/01/30 15:59:33 INFO OWLQN: Step Size: 1.000\n",
      "23/01/30 15:59:33 INFO OWLQN: Val and Grad Norm: 0.216644 (rel: 0.0169) 0.0177860\n",
      "23/01/30 15:59:33 INFO OWLQN: Step Size: 1.000\n",
      "23/01/30 15:59:33 INFO OWLQN: Val and Grad Norm: 0.214483 (rel: 0.00987) 0.0167279\n",
      "23/01/30 15:59:33 INFO OWLQN: Step Size: 1.000\n",
      "23/01/30 15:59:33 INFO OWLQN: Val and Grad Norm: 0.214507 (rel: 0.00986) 0.0167280\n",
      "23/01/30 15:59:34 INFO OWLQN: Step Size: 1.000\n",
      "23/01/30 15:59:34 INFO OWLQN: Val and Grad Norm: 0.213884 (rel: 0.00279) 0.00397980\n",
      "23/01/30 15:59:34 INFO OWLQN: Step Size: 1.000\n",
      "23/01/30 15:59:34 INFO OWLQN: Val and Grad Norm: 0.213908 (rel: 0.00279) 0.00398134\n",
      "23/01/30 15:59:34 INFO OWLQN: Step Size: 1.000\n",
      "23/01/30 15:59:34 INFO OWLQN: Val and Grad Norm: 0.213773 (rel: 0.000520) 0.00333675\n",
      "23/01/30 15:59:34 INFO OWLQN: Step Size: 1.000\n",
      "23/01/30 15:59:34 INFO OWLQN: Val and Grad Norm: 0.213797 (rel: 0.000520) 0.00333837\n",
      "23/01/30 15:59:34 INFO OWLQN: Step Size: 1.000\n",
      "23/01/30 15:59:34 INFO OWLQN: Val and Grad Norm: 0.213838 (rel: -0.000307) 0.00898842\n",
      "23/01/30 15:59:34 INFO OWLQN: Step Size: 1.000\n",
      "23/01/30 15:59:34 INFO OWLQN: Val and Grad Norm: 0.213863 (rel: -0.000312) 0.00899790\n",
      "23/01/30 15:59:34 INFO OWLQN: Step Size: 1.000\n",
      "23/01/30 15:59:34 INFO OWLQN: Val and Grad Norm: 0.213619 (rel: 0.00103) 0.00171569\n",
      "23/01/30 15:59:34 INFO OWLQN: Step Size: 1.000\n",
      "23/01/30 15:59:34 INFO OWLQN: Val and Grad Norm: 0.213644 (rel: 0.00103) 0.00172027\n",
      "23/01/30 15:59:34 INFO OWLQN: Step Size: 1.000\n",
      "23/01/30 15:59:34 INFO OWLQN: Val and Grad Norm: 0.213605 (rel: 6.65e-05) 0.00105592\n",
      "23/01/30 15:59:34 INFO OWLQN: Step Size: 1.000\n",
      "23/01/30 15:59:34 INFO OWLQN: Val and Grad Norm: 0.213629 (rel: 6.63e-05) 0.00105433\n",
      "23/01/30 15:59:34 INFO OWLQN: Step Size: 1.000\n",
      "23/01/30 15:59:34 INFO OWLQN: Val and Grad Norm: 0.213595 (rel: 4.62e-05) 0.000414954\n",
      "23/01/30 15:59:34 INFO OWLQN: Step Size: 1.000\n",
      "23/01/30 15:59:34 INFO OWLQN: Val and Grad Norm: 0.213620 (rel: 4.53e-05) 0.000445483\n",
      "23/01/30 15:59:34 INFO OWLQN: Step Size: 1.000\n",
      "23/01/30 15:59:34 INFO OWLQN: Val and Grad Norm: 0.213594 (rel: 5.79e-06) 0.000535847\n",
      "23/01/30 15:59:34 INFO OWLQN: Step Size: 1.000\n",
      "23/01/30 15:59:34 INFO OWLQN: Val and Grad Norm: 0.213619 (rel: 3.41e-06) 0.000723175\n",
      "23/01/30 15:59:34 INFO OWLQN: Step Size: 1.000\n",
      "23/01/30 15:59:34 INFO OWLQN: Val and Grad Norm: 0.213593 (rel: 4.62e-06) 0.000219265\n",
      "23/01/30 15:59:34 INFO OWLQN: Step Size: 1.000\n",
      "23/01/30 15:59:34 INFO OWLQN: Val and Grad Norm: 0.213618 (rel: 6.14e-06) 0.000239813\n",
      "23/01/30 15:59:34 INFO OWLQN: Step Size: 1.000\n",
      "23/01/30 15:59:34 INFO OWLQN: Val and Grad Norm: 0.213592 (rel: 2.48e-06) 0.000224350\n",
      "23/01/30 15:59:35 INFO OWLQN: Step Size: 1.000\n",
      "23/01/30 15:59:35 INFO OWLQN: Val and Grad Norm: 0.213617 (rel: 1.94e-06) 0.000206062\n",
      "23/01/30 15:59:35 INFO OWLQN: Step Size: 1.000\n",
      "23/01/30 15:59:35 INFO OWLQN: Val and Grad Norm: 0.213591 (rel: 4.58e-06) 0.000178603\n",
      "23/01/30 15:59:35 INFO OWLQN: Step Size: 1.000\n",
      "23/01/30 15:59:35 INFO OWLQN: Val and Grad Norm: 0.213616 (rel: 4.16e-06) 0.000190523\n",
      "23/01/30 15:59:35 INFO OWLQN: Step Size: 1.000\n",
      "23/01/30 15:59:35 INFO OWLQN: Val and Grad Norm: 0.213616 (rel: 1.55e-06) 0.000644031\n",
      "23/01/30 15:59:35 INFO OWLQN: Step Size: 0.5000\n",
      "23/01/30 15:59:35 INFO OWLQN: Val and Grad Norm: 0.213591 (rel: 1.95e-06) 0.000256718\n",
      "23/01/30 15:59:35 INFO OWLQN: Step Size: 1.000\n",
      "23/01/30 15:59:35 INFO OWLQN: Val and Grad Norm: 0.213615 (rel: 4.36e-06) 9.28845e-05\n",
      "23/01/30 15:59:35 INFO OWLQN: Step Size: 1.000\n",
      "23/01/30 15:59:35 INFO OWLQN: Val and Grad Norm: 0.213590 (rel: 1.18e-06) 0.000127353\n",
      "23/01/30 15:59:35 INFO OWLQN: Step Size: 1.000\n",
      "23/01/30 15:59:35 INFO OWLQN: Val and Grad Norm: 0.213615 (rel: 1.87e-07) 8.37153e-05\n",
      "23/01/30 15:59:35 INFO OWLQN: Step Size: 1.000\n",
      "23/01/30 15:59:35 INFO OWLQN: Val and Grad Norm: 0.213590 (rel: 4.60e-07) 9.27104e-05\n",
      "23/01/30 15:59:35 INFO OWLQN: Step Size: 1.000\n",
      "23/01/30 15:59:35 INFO OWLQN: Val and Grad Norm: 0.213615 (rel: 4.14e-07) 7.67598e-05\n",
      "23/01/30 15:59:35 INFO OWLQN: Step Size: 1.000\n",
      "23/01/30 15:59:35 INFO OWLQN: Val and Grad Norm: 0.213590 (rel: 5.51e-07) 7.67988e-05\n",
      "23/01/30 15:59:35 INFO OWLQN: Step Size: 1.000\n",
      "23/01/30 15:59:35 INFO OWLQN: Val and Grad Norm: 0.213615 (rel: 1.95e-07) 0.000174991\n",
      "23/01/30 15:59:35 INFO OWLQN: Step Size: 1.000\n",
      "23/01/30 15:59:35 INFO OWLQN: Val and Grad Norm: 0.213590 (rel: 6.38e-07) 0.000219462\n",
      "23/01/30 15:59:35 INFO OWLQN: Step Size: 1.000\n",
      "23/01/30 15:59:35 INFO OWLQN: Val and Grad Norm: 0.213615 (rel: 5.18e-07) 0.000166992\n",
      "23/01/30 15:59:35 INFO OWLQN: Step Size: 1.000\n",
      "23/01/30 15:59:35 INFO OWLQN: Val and Grad Norm: 0.213590 (rel: 6.96e-07) 0.000203765\n",
      "23/01/30 15:59:36 INFO OWLQN: Step Size: 1.000\n",
      "23/01/30 15:59:36 INFO OWLQN: Val and Grad Norm: 0.213615 (rel: 4.33e-07) 8.23921e-05\n",
      "23/01/30 15:59:36 INFO OWLQN: Step Size: 1.000\n",
      "23/01/30 15:59:36 INFO OWLQN: Val and Grad Norm: 0.213590 (rel: 6.06e-07) 9.44498e-05\n",
      "23/01/30 15:59:36 INFO OWLQN: Step Size: 1.000\n",
      "23/01/30 15:59:36 INFO OWLQN: Val and Grad Norm: 0.213615 (rel: 2.31e-07) 7.08794e-05\n",
      "23/01/30 15:59:36 INFO OWLQN: Step Size: 1.000\n",
      "23/01/30 15:59:36 INFO OWLQN: Val and Grad Norm: 0.213590 (rel: 1.40e-07) 8.92147e-05\n",
      "23/01/30 15:59:36 INFO OWLQN: Step Size: 1.000\n",
      "23/01/30 15:59:36 INFO OWLQN: Val and Grad Norm: 0.213615 (rel: 1.69e-07) 0.000101146\n",
      "23/01/30 15:59:36 INFO OWLQN: Step Size: 1.000\n",
      "23/01/30 15:59:36 INFO OWLQN: Val and Grad Norm: 0.213590 (rel: 1.60e-07) 5.71835e-05\n",
      "23/01/30 15:59:36 INFO OWLQN: Step Size: 1.000\n",
      "23/01/30 15:59:36 INFO OWLQN: Val and Grad Norm: 0.213615 (rel: 1.53e-07) 0.000107170\n",
      "23/01/30 15:59:36 INFO OWLQN: Step Size: 1.000\n",
      "23/01/30 15:59:36 INFO OWLQN: Val and Grad Norm: 0.213590 (rel: 4.79e-08) 6.46035e-05\n",
      "23/01/30 15:59:36 INFO OWLQN: Step Size: 1.000\n",
      "23/01/30 15:59:36 INFO OWLQN: Val and Grad Norm: 0.213615 (rel: 2.21e-07) 5.46252e-05\n",
      "23/01/30 15:59:36 INFO OWLQN: Step Size: 1.000\n",
      "23/01/30 15:59:36 INFO OWLQN: Val and Grad Norm: 0.213590 (rel: 1.00e-07) 4.01459e-05\n",
      "23/01/30 15:59:36 INFO OWLQN: Step Size: 1.000\n",
      "23/01/30 15:59:36 INFO OWLQN: Val and Grad Norm: 0.213615 (rel: 7.75e-08) 4.01636e-05\n",
      "23/01/30 15:59:36 INFO OWLQN: Step Size: 1.000\n",
      "23/01/30 15:59:36 INFO OWLQN: Val and Grad Norm: 0.213590 (rel: 3.69e-08) 2.63590e-05\n",
      "23/01/30 15:59:36 INFO OWLQN: Step Size: 1.000\n",
      "23/01/30 15:59:36 INFO OWLQN: Val and Grad Norm: 0.213615 (rel: 5.20e-08) 2.20553e-05\n",
      "23/01/30 15:59:36 INFO OWLQN: Step Size: 1.000\n",
      "23/01/30 15:59:36 INFO OWLQN: Val and Grad Norm: 0.213590 (rel: 2.11e-08) 1.77242e-05\n",
      "23/01/30 15:59:37 INFO OWLQN: Step Size: 1.000\n",
      "23/01/30 15:59:37 INFO OWLQN: Val and Grad Norm: 0.213615 (rel: 1.90e-08) 1.64281e-05\n",
      "23/01/30 15:59:37 INFO OWLQN: Step Size: 1.000\n",
      "23/01/30 15:59:37 INFO OWLQN: Val and Grad Norm: 0.213590 (rel: 1.39e-08) 1.04330e-05\n",
      "23/01/30 15:59:37 INFO OWLQN: Step Size: 1.000\n",
      "23/01/30 15:59:37 INFO OWLQN: Val and Grad Norm: 0.213615 (rel: 5.11e-09) 1.47588e-05\n",
      "23/01/30 15:59:37 INFO OWLQN: Step Size: 1.000\n",
      "23/01/30 15:59:37 INFO OWLQN: Val and Grad Norm: 0.213590 (rel: 3.62e-09) 1.30538e-05\n",
      "23/01/30 15:59:37 INFO OWLQN: Step Size: 1.000\n",
      "23/01/30 15:59:37 INFO OWLQN: Val and Grad Norm: 0.213615 (rel: 2.91e-09) 6.19351e-06\n",
      "23/01/30 15:59:37 INFO OWLQN: Step Size: 1.000\n",
      "23/01/30 15:59:37 INFO OWLQN: Val and Grad Norm: 0.213590 (rel: 2.97e-09) 5.51700e-06\n",
      "23/01/30 15:59:37 INFO OWLQN: Step Size: 1.000\n",
      "23/01/30 15:59:37 INFO OWLQN: Val and Grad Norm: 0.213615 (rel: 1.80e-09) 6.03888e-06\n",
      "23/01/30 15:59:37 INFO OWLQN: Step Size: 1.000\n",
      "23/01/30 15:59:37 INFO OWLQN: Val and Grad Norm: 0.213590 (rel: 8.24e-10) 4.38469e-06\n",
      "23/01/30 15:59:37 INFO OWLQN: Step Size: 1.000\n",
      "23/01/30 15:59:37 INFO OWLQN: Val and Grad Norm: 0.213615 (rel: 3.29e-09) 7.94756e-06\n",
      "23/01/30 15:59:37 INFO OWLQN: Step Size: 1.000\n",
      "23/01/30 15:59:37 INFO OWLQN: Val and Grad Norm: 0.213590 (rel: 1.07e-09) 4.91481e-06\n",
      "23/01/30 15:59:37 INFO OWLQN: Step Size: 1.000\n",
      "23/01/30 15:59:37 INFO OWLQN: Val and Grad Norm: 0.213615 (rel: 2.30e-09) 1.28188e-05\n",
      "23/01/30 15:59:37 INFO OWLQN: Step Size: 1.000\n",
      "23/01/30 15:59:37 INFO OWLQN: Val and Grad Norm: 0.213590 (rel: 1.39e-09) 6.39775e-06\n",
      "23/01/30 15:59:37 INFO OWLQN: Step Size: 1.000\n",
      "23/01/30 15:59:37 INFO OWLQN: Val and Grad Norm: 0.213615 (rel: 2.52e-09) 4.65047e-06\n",
      "23/01/30 15:59:37 INFO OWLQN: Step Size: 1.000\n",
      "23/01/30 15:59:37 INFO OWLQN: Val and Grad Norm: 0.213590 (rel: 5.42e-10) 7.05119e-06\n",
      "23/01/30 15:59:37 INFO OWLQN: Step Size: 1.000\n",
      "23/01/30 15:59:37 INFO OWLQN: Val and Grad Norm: 0.213615 (rel: 9.38e-10) 4.58727e-06\n",
      "23/01/30 15:59:37 INFO OWLQN: Step Size: 1.000\n",
      "23/01/30 15:59:37 INFO OWLQN: Val and Grad Norm: 0.213590 (rel: 7.37e-10) 5.33773e-06\n",
      "23/01/30 15:59:37 INFO OWLQN: Step Size: 1.000\n",
      "23/01/30 15:59:37 INFO OWLQN: Val and Grad Norm: 0.213615 (rel: 1.20e-09) 4.85622e-06\n",
      "23/01/30 15:59:37 INFO OWLQN: Step Size: 1.000\n",
      "23/01/30 15:59:37 INFO OWLQN: Val and Grad Norm: 0.213590 (rel: 4.58e-10) 2.82526e-06\n",
      "23/01/30 15:59:38 INFO OWLQN: Step Size: 1.000\n",
      "23/01/30 15:59:38 INFO OWLQN: Val and Grad Norm: 0.213615 (rel: 4.82e-10) 6.20690e-06\n",
      "23/01/30 15:59:38 INFO OWLQN: Step Size: 1.000\n",
      "23/01/30 15:59:38 INFO OWLQN: Val and Grad Norm: 0.213590 (rel: 2.14e-10) 2.07607e-06\n",
      "23/01/30 15:59:38 INFO OWLQN: Step Size: 1.000\n",
      "23/01/30 15:59:38 INFO OWLQN: Val and Grad Norm: 0.213615 (rel: 8.43e-10) 2.16648e-06\n",
      "23/01/30 15:59:38 INFO OWLQN: Step Size: 1.000\n",
      "23/01/30 15:59:38 INFO OWLQN: Val and Grad Norm: 0.213590 (rel: 1.33e-10) 2.04774e-06\n",
      "23/01/30 15:59:38 INFO OWLQN: Step Size: 1.000\n",
      "23/01/30 15:59:38 INFO OWLQN: Val and Grad Norm: 0.213615 (rel: 2.24e-10) 1.92922e-06\n",
      "23/01/30 15:59:38 INFO OWLQN: Converged because function values converged\n",
      "23/01/30 15:59:38 INFO OWLQN: Step Size: 1.000\n",
      "23/01/30 15:59:38 INFO OWLQN: Val and Grad Norm: 0.213590 (rel: 1.39e-10) 2.10461e-06\n",
      "23/01/30 15:59:38 INFO OWLQN: Converged because function values converged\n",
      "23/01/30 15:59:40 INFO OWLQN: Step Size: 0.9835\n",
      "23/01/30 15:59:40 INFO OWLQN: Val and Grad Norm: 0.306796 (rel: 0.126) 0.176550\n",
      "23/01/30 15:59:40 INFO OWLQN: Step Size: 1.000\n",
      "23/01/30 15:59:40 INFO OWLQN: Val and Grad Norm: 0.240808 (rel: 0.215) 0.0713766\n",
      "23/01/30 15:59:40 INFO OWLQN: Step Size: 0.9835\n",
      "23/01/30 15:59:40 INFO OWLQN: Val and Grad Norm: 0.306815 (rel: 0.126) 0.176519\n",
      "23/01/30 15:59:40 INFO OWLQN: Step Size: 1.000\n",
      "23/01/30 15:59:40 INFO OWLQN: Val and Grad Norm: 0.230308 (rel: 0.0436) 0.0369828\n",
      "23/01/30 15:59:40 INFO OWLQN: Step Size: 1.000\n",
      "23/01/30 15:59:40 INFO OWLQN: Val and Grad Norm: 0.240844 (rel: 0.215) 0.0713807\n",
      "23/01/30 15:59:40 INFO OWLQN: Step Size: 1.000\n",
      "23/01/30 15:59:40 INFO OWLQN: Val and Grad Norm: 0.222860 (rel: 0.0323) 0.0256528\n",
      "23/01/30 15:59:40 INFO OWLQN: Step Size: 1.000\n",
      "23/01/30 15:59:40 INFO OWLQN: Val and Grad Norm: 0.230345 (rel: 0.0436) 0.0369755\n",
      "23/01/30 15:59:40 INFO OWLQN: Step Size: 1.000\n",
      "23/01/30 15:59:40 INFO OWLQN: Val and Grad Norm: 0.219490 (rel: 0.0151) 0.0171096\n",
      "23/01/30 15:59:40 INFO OWLQN: Step Size: 1.000\n",
      "23/01/30 15:59:40 INFO OWLQN: Val and Grad Norm: 0.222902 (rel: 0.0323) 0.0256460\n",
      "23/01/30 15:59:41 INFO OWLQN: Step Size: 1.000\n",
      "23/01/30 15:59:41 INFO OWLQN: Val and Grad Norm: 0.217648 (rel: 0.00839) 0.0136165\n",
      "23/01/30 15:59:41 INFO OWLQN: Step Size: 1.000\n",
      "23/01/30 15:59:41 INFO OWLQN: Val and Grad Norm: 0.219535 (rel: 0.0151) 0.0171000\n",
      "23/01/30 15:59:41 INFO OWLQN: Step Size: 1.000\n",
      "23/01/30 15:59:41 INFO OWLQN: Val and Grad Norm: 0.217244 (rel: 0.00185) 0.00332621\n",
      "23/01/30 15:59:41 INFO OWLQN: Step Size: 1.000\n",
      "23/01/30 15:59:41 INFO OWLQN: Val and Grad Norm: 0.217694 (rel: 0.00839) 0.0136160\n",
      "23/01/30 15:59:41 INFO OWLQN: Step Size: 1.000\n",
      "23/01/30 15:59:41 INFO OWLQN: Val and Grad Norm: 0.217173 (rel: 0.000326) 0.00265162\n",
      "23/01/30 15:59:41 INFO OWLQN: Step Size: 1.000\n",
      "23/01/30 15:59:41 INFO OWLQN: Val and Grad Norm: 0.217290 (rel: 0.00185) 0.00332857\n",
      "23/01/30 15:59:41 INFO OWLQN: Step Size: 1.000\n",
      "23/01/30 15:59:41 INFO OWLQN: Val and Grad Norm: 0.217160 (rel: 6.18e-05) 0.00560049\n",
      "23/01/30 15:59:41 INFO OWLQN: Step Size: 1.000\n",
      "23/01/30 15:59:41 INFO OWLQN: Val and Grad Norm: 0.217219 (rel: 0.000327) 0.00265474\n",
      "23/01/30 15:59:41 INFO OWLQN: Step Size: 1.000\n",
      "23/01/30 15:59:41 INFO OWLQN: Val and Grad Norm: 0.217075 (rel: 0.000389) 0.00131117\n",
      "23/01/30 15:59:41 INFO OWLQN: Step Size: 1.000\n",
      "23/01/30 15:59:41 INFO OWLQN: Val and Grad Norm: 0.217207 (rel: 5.57e-05) 0.00563269\n",
      "23/01/30 15:59:41 INFO OWLQN: Step Size: 1.000\n",
      "23/01/30 15:59:41 INFO OWLQN: Val and Grad Norm: 0.217069 (rel: 2.83e-05) 0.000488082\n",
      "23/01/30 15:59:41 INFO OWLQN: Step Size: 1.000\n",
      "23/01/30 15:59:41 INFO OWLQN: Val and Grad Norm: 0.217122 (rel: 0.000391) 0.00129898\n",
      "23/01/30 15:59:42 INFO OWLQN: Step Size: 1.000\n",
      "23/01/30 15:59:42 INFO OWLQN: Val and Grad Norm: 0.217068 (rel: 7.89e-06) 0.000306550\n",
      "23/01/30 15:59:42 INFO OWLQN: Step Size: 1.000\n",
      "23/01/30 15:59:42 INFO OWLQN: Val and Grad Norm: 0.217116 (rel: 2.82e-05) 0.000488280\n",
      "23/01/30 15:59:42 INFO OWLQN: Step Size: 1.000\n",
      "23/01/30 15:59:42 INFO OWLQN: Val and Grad Norm: 0.217067 (rel: 2.96e-06) 0.000200511\n",
      "23/01/30 15:59:42 INFO OWLQN: Step Size: 1.000\n",
      "23/01/30 15:59:42 INFO OWLQN: Val and Grad Norm: 0.217115 (rel: 7.94e-06) 0.000300306\n",
      "23/01/30 15:59:42 INFO OWLQN: Step Size: 1.000\n",
      "23/01/30 15:59:42 INFO OWLQN: Val and Grad Norm: 0.217067 (rel: 1.18e-06) 0.000116783\n",
      "23/01/30 15:59:42 INFO OWLQN: Step Size: 1.000\n",
      "23/01/30 15:59:42 INFO OWLQN: Val and Grad Norm: 0.217114 (rel: 2.84e-06) 0.000197761\n",
      "23/01/30 15:59:42 INFO OWLQN: Step Size: 1.000\n",
      "23/01/30 15:59:42 INFO OWLQN: Val and Grad Norm: 0.217066 (rel: 8.84e-07) 0.000151542\n",
      "23/01/30 15:59:42 INFO OWLQN: Step Size: 1.000\n",
      "23/01/30 15:59:42 INFO OWLQN: Val and Grad Norm: 0.217114 (rel: 1.13e-06) 0.000114493\n",
      "23/01/30 15:59:42 INFO OWLQN: Step Size: 1.000\n",
      "23/01/30 15:59:42 INFO OWLQN: Val and Grad Norm: 0.217066 (rel: 7.73e-07) 8.06197e-05\n",
      "23/01/30 15:59:42 INFO OWLQN: Step Size: 1.000\n",
      "23/01/30 15:59:42 INFO OWLQN: Val and Grad Norm: 0.217113 (rel: 8.33e-07) 0.000145401\n",
      "23/01/30 15:59:42 INFO OWLQN: Step Size: 1.000\n",
      "23/01/30 15:59:42 INFO OWLQN: Val and Grad Norm: 0.217066 (rel: 2.50e-07) 6.22869e-05\n",
      "23/01/30 15:59:42 INFO OWLQN: Step Size: 1.000\n",
      "23/01/30 15:59:42 INFO OWLQN: Val and Grad Norm: 0.217113 (rel: 7.32e-07) 7.71726e-05\n",
      "23/01/30 15:59:42 INFO OWLQN: Step Size: 1.000\n",
      "23/01/30 15:59:42 INFO OWLQN: Val and Grad Norm: 0.217066 (rel: 1.14e-07) 4.75370e-05\n",
      "23/01/30 15:59:43 INFO OWLQN: Step Size: 1.000\n",
      "23/01/30 15:59:43 INFO OWLQN: Val and Grad Norm: 0.217113 (rel: 2.39e-07) 5.97726e-05\n",
      "23/01/30 15:59:43 INFO OWLQN: Step Size: 1.000\n",
      "23/01/30 15:59:43 INFO OWLQN: Val and Grad Norm: 0.217066 (rel: 6.24e-08) 2.68763e-05\n",
      "23/01/30 15:59:43 INFO OWLQN: Step Size: 1.000\n",
      "23/01/30 15:59:43 INFO OWLQN: Val and Grad Norm: 0.217113 (rel: 1.16e-07) 4.51703e-05\n",
      "23/01/30 15:59:43 INFO OWLQN: Step Size: 1.000\n",
      "23/01/30 15:59:43 INFO OWLQN: Step Size: 1.000\n",
      "23/01/30 15:59:43 INFO OWLQN: Val and Grad Norm: 0.217066 (rel: 7.66e-08) 2.81000e-05\n",
      "23/01/30 15:59:43 INFO OWLQN: Val and Grad Norm: 0.217113 (rel: 6.46e-08) 2.66198e-05\n",
      "23/01/30 15:59:43 INFO OWLQN: Step Size: 1.000\n",
      "23/01/30 15:59:43 INFO OWLQN: Val and Grad Norm: 0.217066 (rel: 1.34e-08) 5.46809e-05\n",
      "23/01/30 15:59:43 INFO OWLQN: Step Size: 1.000\n",
      "23/01/30 15:59:43 INFO OWLQN: Val and Grad Norm: 0.217113 (rel: 8.09e-08) 2.77038e-05\n",
      "23/01/30 15:59:43 INFO OWLQN: Step Size: 1.000\n",
      "23/01/30 15:59:43 INFO OWLQN: Val and Grad Norm: 0.217066 (rel: 7.13e-08) 1.78545e-05\n",
      "23/01/30 15:59:43 INFO OWLQN: Step Size: 1.000\n",
      "23/01/30 15:59:43 INFO OWLQN: Val and Grad Norm: 0.217113 (rel: 1.40e-08) 4.92659e-05\n",
      "23/01/30 15:59:43 INFO OWLQN: Step Size: 1.000\n",
      "23/01/30 15:59:43 INFO OWLQN: Val and Grad Norm: 0.217066 (rel: 7.16e-09) 1.08501e-05\n",
      "23/01/30 15:59:43 INFO OWLQN: Step Size: 1.000\n",
      "23/01/30 15:59:43 INFO OWLQN: Val and Grad Norm: 0.217113 (rel: 6.02e-08) 1.59826e-05\n",
      "23/01/30 15:59:43 INFO OWLQN: Step Size: 1.000\n",
      "23/01/30 15:59:43 INFO OWLQN: Val and Grad Norm: 0.217066 (rel: 3.44e-09) 6.51906e-06\n",
      "23/01/30 15:59:43 INFO OWLQN: Step Size: 1.000\n",
      "23/01/30 15:59:43 INFO OWLQN: Val and Grad Norm: 0.217113 (rel: 4.93e-09) 1.35094e-05\n",
      "23/01/30 15:59:43 INFO OWLQN: Step Size: 1.000\n",
      "23/01/30 15:59:43 INFO OWLQN: Val and Grad Norm: 0.217066 (rel: 1.40e-09) 6.16602e-06\n",
      "23/01/30 15:59:44 INFO OWLQN: Step Size: 1.000\n",
      "23/01/30 15:59:44 INFO OWLQN: Val and Grad Norm: 0.217113 (rel: 2.89e-09) 6.27112e-06\n",
      "23/01/30 15:59:44 INFO OWLQN: Step Size: 1.000\n",
      "23/01/30 15:59:44 INFO OWLQN: Val and Grad Norm: 0.217066 (rel: 8.29e-10) 3.59240e-06\n",
      "23/01/30 15:59:44 INFO OWLQN: Step Size: 1.000\n",
      "23/01/30 15:59:44 INFO OWLQN: Val and Grad Norm: 0.217113 (rel: 1.05e-09) 5.47315e-06\n",
      "23/01/30 15:59:44 INFO OWLQN: Step Size: 1.000\n",
      "23/01/30 15:59:44 INFO OWLQN: Val and Grad Norm: 0.217066 (rel: 3.56e-10) 2.39219e-06\n",
      "23/01/30 15:59:44 INFO OWLQN: Step Size: 1.000\n",
      "23/01/30 15:59:44 INFO OWLQN: Val and Grad Norm: 0.217113 (rel: 5.83e-10) 3.75343e-06\n",
      "23/01/30 15:59:44 INFO OWLQN: Step Size: 1.000\n",
      "23/01/30 15:59:44 INFO OWLQN: Val and Grad Norm: 0.217066 (rel: 3.37e-10) 2.59534e-06\n",
      "23/01/30 15:59:44 INFO OWLQN: Step Size: 1.000\n",
      "23/01/30 15:59:44 INFO OWLQN: Val and Grad Norm: 0.217113 (rel: 2.38e-10) 1.78960e-06\n",
      "23/01/30 15:59:44 INFO OWLQN: Step Size: 1.000\n",
      "23/01/30 15:59:44 INFO OWLQN: Val and Grad Norm: 0.217066 (rel: 8.50e-11) 5.14691e-06\n",
      "23/01/30 15:59:44 INFO OWLQN: Step Size: 1.000\n",
      "23/01/30 15:59:44 INFO OWLQN: Val and Grad Norm: 0.217113 (rel: 1.49e-10) 1.40841e-06\n",
      "23/01/30 15:59:44 INFO OWLQN: Step Size: 1.000\n",
      "23/01/30 15:59:44 INFO OWLQN: Val and Grad Norm: 0.217066 (rel: 4.47e-10) 1.65647e-06\n",
      "23/01/30 15:59:44 INFO OWLQN: Step Size: 1.000\n",
      "23/01/30 15:59:44 INFO OWLQN: Val and Grad Norm: 0.217113 (rel: 1.72e-10) 1.51045e-06\n",
      "23/01/30 15:59:44 INFO OWLQN: Step Size: 1.000\n",
      "23/01/30 15:59:44 INFO OWLQN: Val and Grad Norm: 0.217066 (rel: 7.88e-11) 1.80220e-06\n",
      "23/01/30 15:59:44 INFO OWLQN: Step Size: 1.000\n",
      "23/01/30 15:59:44 INFO OWLQN: Val and Grad Norm: 0.217113 (rel: 5.18e-11) 1.70105e-06\n",
      "23/01/30 15:59:44 INFO OWLQN: Step Size: 1.000\n",
      "23/01/30 15:59:44 INFO OWLQN: Val and Grad Norm: 0.217066 (rel: 7.45e-11) 1.63013e-06\n",
      "23/01/30 15:59:45 INFO OWLQN: Step Size: 1.000\n",
      "23/01/30 15:59:45 INFO OWLQN: Val and Grad Norm: 0.217113 (rel: 5.01e-11) 7.22057e-07\n",
      "23/01/30 15:59:45 INFO OWLQN: Step Size: 1.000\n",
      "23/01/30 15:59:45 INFO OWLQN: Val and Grad Norm: 0.217066 (rel: 5.99e-11) 1.09474e-06\n",
      "23/01/30 15:59:45 INFO OWLQN: Step Size: 1.000\n",
      "23/01/30 15:59:45 INFO OWLQN: Val and Grad Norm: 0.217066 (rel: 3.90e-11) 7.09867e-07\n",
      "23/01/30 15:59:45 INFO OWLQN: Converged because function values converged\n",
      "23/01/30 15:59:45 INFO OWLQN: Step Size: 1.000\n",
      "23/01/30 15:59:45 INFO OWLQN: Val and Grad Norm: 0.217113 (rel: 2.42e-11) 5.31304e-07\n",
      "23/01/30 15:59:45 INFO OWLQN: Step Size: 1.000\n",
      "23/01/30 15:59:45 INFO OWLQN: Val and Grad Norm: 0.217113 (rel: 1.18e-11) 8.01828e-07\n",
      "23/01/30 15:59:45 INFO OWLQN: Step Size: 1.000\n",
      "23/01/30 15:59:45 INFO OWLQN: Val and Grad Norm: 0.217113 (rel: 1.56e-11) 5.30262e-07\n",
      "23/01/30 15:59:45 INFO OWLQN: Converged because function values converged\n",
      "23/01/30 15:59:47 INFO OWLQN: Step Size: 0.9903\n",
      "23/01/30 15:59:47 INFO OWLQN: Val and Grad Norm: 0.306105 (rel: 0.126) 0.175421\n",
      "23/01/30 15:59:47 INFO OWLQN: Step Size: 0.9903\n",
      "23/01/30 15:59:47 INFO OWLQN: Val and Grad Norm: 0.306115 (rel: 0.126) 0.175405\n",
      "23/01/30 15:59:48 INFO OWLQN: Step Size: 1.000\n",
      "23/01/30 15:59:48 INFO OWLQN: Val and Grad Norm: 0.240590 (rel: 0.214) 0.0722644\n",
      "23/01/30 15:59:48 INFO OWLQN: Step Size: 1.000\n",
      "23/01/30 15:59:48 INFO OWLQN: Val and Grad Norm: 0.240608 (rel: 0.214) 0.0722674\n",
      "23/01/30 15:59:48 INFO OWLQN: Step Size: 1.000\n",
      "23/01/30 15:59:48 INFO OWLQN: Val and Grad Norm: 0.229877 (rel: 0.0445) 0.0377388\n",
      "23/01/30 15:59:48 INFO OWLQN: Step Size: 1.000\n",
      "23/01/30 15:59:48 INFO OWLQN: Val and Grad Norm: 0.229896 (rel: 0.0445) 0.0377346\n",
      "23/01/30 15:59:48 INFO OWLQN: Step Size: 1.000\n",
      "23/01/30 15:59:48 INFO OWLQN: Val and Grad Norm: 0.222095 (rel: 0.0339) 0.0266274\n",
      "23/01/30 15:59:48 INFO OWLQN: Step Size: 1.000\n",
      "23/01/30 15:59:48 INFO OWLQN: Val and Grad Norm: 0.222116 (rel: 0.0338) 0.0266226\n",
      "23/01/30 15:59:48 INFO OWLQN: Step Size: 1.000\n",
      "23/01/30 15:59:48 INFO OWLQN: Val and Grad Norm: 0.218452 (rel: 0.0164) 0.0174414\n",
      "23/01/30 15:59:48 INFO OWLQN: Step Size: 1.000\n",
      "23/01/30 15:59:48 INFO OWLQN: Val and Grad Norm: 0.218475 (rel: 0.0164) 0.0174355\n",
      "23/01/30 15:59:48 INFO OWLQN: Step Size: 1.000\n",
      "23/01/30 15:59:48 INFO OWLQN: Val and Grad Norm: 0.216400 (rel: 0.00939) 0.0149690\n",
      "23/01/30 15:59:48 INFO OWLQN: Step Size: 1.000\n",
      "23/01/30 15:59:48 INFO OWLQN: Val and Grad Norm: 0.216424 (rel: 0.00939) 0.0149743\n",
      "23/01/30 15:59:48 INFO OWLQN: Step Size: 1.000\n",
      "23/01/30 15:59:48 INFO OWLQN: Val and Grad Norm: 0.215785 (rel: 0.00284) 0.00707994\n",
      "23/01/30 15:59:48 INFO OWLQN: Step Size: 1.000\n",
      "23/01/30 15:59:48 INFO OWLQN: Val and Grad Norm: 0.215809 (rel: 0.00284) 0.00707404\n",
      "23/01/30 15:59:48 INFO OWLQN: Step Size: 1.000\n",
      "23/01/30 15:59:48 INFO OWLQN: Val and Grad Norm: 0.215593 (rel: 0.000894) 0.00380983\n",
      "23/01/30 15:59:48 INFO OWLQN: Step Size: 1.000\n",
      "23/01/30 15:59:48 INFO OWLQN: Val and Grad Norm: 0.215617 (rel: 0.000893) 0.00381196\n",
      "23/01/30 15:59:49 INFO OWLQN: Step Size: 1.000\n",
      "23/01/30 15:59:49 INFO OWLQN: Val and Grad Norm: 0.215512 (rel: 0.000375) 0.00484765\n",
      "23/01/30 15:59:49 INFO OWLQN: Step Size: 1.000\n",
      "23/01/30 15:59:49 INFO OWLQN: Val and Grad Norm: 0.215536 (rel: 0.000373) 0.00485326\n",
      "23/01/30 15:59:49 INFO OWLQN: Step Size: 1.000\n",
      "23/01/30 15:59:49 INFO OWLQN: Val and Grad Norm: 0.215426 (rel: 0.000398) 0.00279746\n",
      "23/01/30 15:59:49 INFO OWLQN: Step Size: 1.000\n",
      "23/01/30 15:59:49 INFO OWLQN: Val and Grad Norm: 0.215451 (rel: 0.000397) 0.00276372\n",
      "23/01/30 15:59:49 INFO OWLQN: Step Size: 1.000\n",
      "23/01/30 15:59:49 INFO OWLQN: Val and Grad Norm: 0.215374 (rel: 0.000240) 0.00186049\n",
      "23/01/30 15:59:49 INFO OWLQN: Step Size: 1.000\n",
      "23/01/30 15:59:49 INFO OWLQN: Val and Grad Norm: 0.215399 (rel: 0.000242) 0.00173809\n",
      "23/01/30 15:59:49 INFO OWLQN: Step Size: 1.000\n",
      "23/01/30 15:59:49 INFO OWLQN: Val and Grad Norm: 0.215365 (rel: 4.59e-05) 0.00164024\n",
      "23/01/30 15:59:49 INFO OWLQN: Step Size: 1.000\n",
      "23/01/30 15:59:49 INFO OWLQN: Val and Grad Norm: 0.215390 (rel: 4.13e-05) 0.00170198\n",
      "23/01/30 15:59:49 INFO OWLQN: Step Size: 1.000\n",
      "23/01/30 15:59:49 INFO OWLQN: Val and Grad Norm: 0.215358 (rel: 2.89e-05) 0.000497409\n",
      "23/01/30 15:59:49 INFO OWLQN: Step Size: 1.000\n",
      "23/01/30 15:59:49 INFO OWLQN: Val and Grad Norm: 0.215383 (rel: 3.02e-05) 0.000485869\n",
      "23/01/30 15:59:49 INFO OWLQN: Step Size: 1.000\n",
      "23/01/30 15:59:49 INFO OWLQN: Val and Grad Norm: 0.215357 (rel: 5.75e-06) 0.000409679\n",
      "23/01/30 15:59:49 INFO OWLQN: Step Size: 1.000\n",
      "23/01/30 15:59:49 INFO OWLQN: Val and Grad Norm: 0.215382 (rel: 5.39e-06) 0.000383293\n",
      "23/01/30 15:59:50 INFO OWLQN: Step Size: 1.000\n",
      "23/01/30 15:59:50 INFO OWLQN: Val and Grad Norm: 0.215356 (rel: 6.36e-06) 0.000321328\n",
      "23/01/30 15:59:50 INFO OWLQN: Step Size: 1.000\n",
      "23/01/30 15:59:50 INFO OWLQN: Val and Grad Norm: 0.215381 (rel: 6.59e-06) 0.000285319\n",
      "23/01/30 15:59:50 INFO OWLQN: Step Size: 1.000\n",
      "23/01/30 15:59:50 INFO OWLQN: Val and Grad Norm: 0.215355 (rel: 4.09e-06) 0.000269468\n",
      "23/01/30 15:59:50 INFO OWLQN: Step Size: 1.000\n",
      "23/01/30 15:59:50 INFO OWLQN: Val and Grad Norm: 0.215380 (rel: 4.87e-06) 0.000279935\n",
      "23/01/30 15:59:50 INFO OWLQN: Step Size: 1.000\n",
      "23/01/30 15:59:50 INFO OWLQN: Val and Grad Norm: 0.215354 (rel: 6.05e-06) 0.000389109\n",
      "23/01/30 15:59:50 INFO OWLQN: Step Size: 1.000\n",
      "23/01/30 15:59:50 INFO OWLQN: Val and Grad Norm: 0.215378 (rel: 6.83e-06) 0.000327153\n",
      "23/01/30 15:59:50 INFO OWLQN: Step Size: 1.000\n",
      "23/01/30 15:59:50 INFO OWLQN: Val and Grad Norm: 0.215353 (rel: 3.45e-06) 0.000564107\n",
      "23/01/30 15:59:50 INFO OWLQN: Step Size: 1.000\n",
      "23/01/30 15:59:50 INFO OWLQN: Val and Grad Norm: 0.215377 (rel: 7.10e-06) 0.000347337\n",
      "23/01/30 15:59:50 INFO OWLQN: Step Size: 1.000\n",
      "23/01/30 15:59:50 INFO OWLQN: Val and Grad Norm: 0.215352 (rel: 4.64e-06) 0.000213685\n",
      "23/01/30 15:59:50 INFO OWLQN: Step Size: 1.000\n",
      "23/01/30 15:59:50 INFO OWLQN: Val and Grad Norm: 0.215375 (rel: 6.44e-06) 0.000219713\n",
      "23/01/30 15:59:50 INFO OWLQN: Step Size: 1.000\n",
      "23/01/30 15:59:50 INFO OWLQN: Val and Grad Norm: 0.215351 (rel: 2.94e-06) 0.000333860\n",
      "23/01/30 15:59:50 INFO OWLQN: Step Size: 1.000\n",
      "23/01/30 15:59:50 INFO OWLQN: Val and Grad Norm: 0.215375 (rel: 1.06e-06) 0.000446771\n",
      "23/01/30 15:59:50 INFO OWLQN: Step Size: 1.000\n",
      "23/01/30 15:59:50 INFO OWLQN: Val and Grad Norm: 0.215351 (rel: 1.08e-06) 0.000369617\n",
      "23/01/30 15:59:50 INFO OWLQN: Step Size: 1.000\n",
      "23/01/30 15:59:50 INFO OWLQN: Val and Grad Norm: 0.215374 (rel: 2.23e-06) 0.000119567\n",
      "23/01/30 15:59:50 INFO OWLQN: Step Size: 1.000\n",
      "23/01/30 15:59:50 INFO OWLQN: Val and Grad Norm: 0.215350 (rel: 3.16e-06) 0.000321431\n",
      "23/01/30 15:59:50 INFO OWLQN: Step Size: 1.000\n",
      "23/01/30 15:59:50 INFO OWLQN: Val and Grad Norm: 0.215374 (rel: 3.45e-07) 8.16707e-05\n",
      "23/01/30 15:59:50 INFO OWLQN: Step Size: 1.000\n",
      "23/01/30 15:59:50 INFO OWLQN: Val and Grad Norm: 0.215350 (rel: 1.64e-06) 0.000322644\n",
      "23/01/30 15:59:50 INFO OWLQN: Step Size: 1.000\n",
      "23/01/30 15:59:50 INFO OWLQN: Val and Grad Norm: 0.215374 (rel: 2.10e-07) 5.51440e-05\n",
      "23/01/30 15:59:51 INFO OWLQN: Step Size: 1.000\n",
      "23/01/30 15:59:51 INFO OWLQN: Val and Grad Norm: 0.215349 (rel: 2.28e-06) 0.000113452\n",
      "23/01/30 15:59:51 INFO OWLQN: Step Size: 1.000\n",
      "23/01/30 15:59:51 INFO OWLQN: Val and Grad Norm: 0.215374 (rel: 1.38e-07) 5.54680e-05\n",
      "23/01/30 15:59:51 INFO OWLQN: Step Size: 1.000\n",
      "23/01/30 15:59:51 INFO OWLQN: Val and Grad Norm: 0.215349 (rel: 3.53e-07) 0.000124700\n",
      "23/01/30 15:59:51 INFO OWLQN: Step Size: 1.000\n",
      "23/01/30 15:59:51 INFO OWLQN: Val and Grad Norm: 0.215374 (rel: 1.08e-07) 3.95555e-05\n",
      "23/01/30 15:59:51 INFO OWLQN: Step Size: 1.000\n",
      "23/01/30 15:59:51 INFO OWLQN: Val and Grad Norm: 0.215349 (rel: 3.93e-07) 7.08136e-05\n",
      "23/01/30 15:59:51 INFO OWLQN: Step Size: 1.000\n",
      "23/01/30 15:59:51 INFO OWLQN: Val and Grad Norm: 0.215374 (rel: 7.63e-08) 3.58002e-05\n",
      "23/01/30 15:59:51 INFO OWLQN: Step Size: 1.000\n",
      "23/01/30 15:59:51 INFO OWLQN: Val and Grad Norm: 0.215349 (rel: 1.45e-07) 6.57689e-05\n",
      "23/01/30 15:59:51 INFO OWLQN: Step Size: 1.000\n",
      "23/01/30 15:59:51 INFO OWLQN: Val and Grad Norm: 0.215374 (rel: 8.59e-08) 2.89625e-05\n",
      "23/01/30 15:59:51 INFO OWLQN: Step Size: 1.000\n",
      "23/01/30 15:59:51 INFO OWLQN: Val and Grad Norm: 0.215349 (rel: 1.14e-07) 4.04150e-05\n",
      "23/01/30 15:59:51 INFO OWLQN: Step Size: 1.000\n",
      "23/01/30 15:59:51 INFO OWLQN: Val and Grad Norm: 0.215374 (rel: 9.82e-08) 4.95281e-05\n",
      "23/01/30 15:59:51 INFO OWLQN: Step Size: 1.000\n",
      "23/01/30 15:59:51 INFO OWLQN: Val and Grad Norm: 0.215349 (rel: 4.40e-08) 3.21384e-05\n",
      "23/01/30 15:59:51 INFO OWLQN: Step Size: 1.000\n",
      "23/01/30 15:59:51 INFO OWLQN: Val and Grad Norm: 0.215374 (rel: 3.02e-08) 5.70466e-05\n",
      "23/01/30 15:59:51 INFO OWLQN: Step Size: 1.000\n",
      "23/01/30 15:59:51 INFO OWLQN: Val and Grad Norm: 0.215349 (rel: 3.19e-08) 2.41290e-05\n",
      "23/01/30 15:59:51 INFO OWLQN: Step Size: 1.000\n",
      "23/01/30 15:59:51 INFO OWLQN: Val and Grad Norm: 0.215374 (rel: 6.95e-08) 3.30834e-05\n",
      "23/01/30 15:59:52 INFO OWLQN: Step Size: 1.000\n",
      "23/01/30 15:59:52 INFO OWLQN: Val and Grad Norm: 0.215349 (rel: 2.33e-08) 1.86394e-05\n",
      "23/01/30 15:59:52 INFO OWLQN: Step Size: 1.000\n",
      "23/01/30 15:59:52 INFO OWLQN: Val and Grad Norm: 0.215374 (rel: 3.00e-08) 3.19134e-05\n",
      "23/01/30 15:59:52 INFO OWLQN: Step Size: 1.000\n",
      "23/01/30 15:59:52 INFO OWLQN: Val and Grad Norm: 0.215349 (rel: 1.47e-08) 2.44745e-05\n",
      "23/01/30 15:59:52 INFO OWLQN: Step Size: 1.000\n",
      "23/01/30 15:59:52 INFO OWLQN: Val and Grad Norm: 0.215374 (rel: 3.13e-08) 2.29240e-05\n",
      "23/01/30 15:59:52 INFO OWLQN: Step Size: 1.000\n",
      "23/01/30 15:59:52 INFO OWLQN: Val and Grad Norm: 0.215349 (rel: 1.43e-08) 2.27803e-05\n",
      "23/01/30 15:59:52 INFO OWLQN: Step Size: 1.000\n",
      "23/01/30 15:59:52 INFO OWLQN: Val and Grad Norm: 0.215374 (rel: 1.91e-08) 2.21784e-05\n",
      "23/01/30 15:59:52 INFO OWLQN: Step Size: 1.000\n",
      "23/01/30 15:59:52 INFO OWLQN: Val and Grad Norm: 0.215349 (rel: 1.53e-08) 1.40184e-05\n",
      "23/01/30 15:59:52 INFO OWLQN: Step Size: 1.000\n",
      "23/01/30 15:59:52 INFO OWLQN: Val and Grad Norm: 0.215374 (rel: 1.10e-08) 1.79000e-05\n",
      "23/01/30 15:59:52 INFO OWLQN: Step Size: 1.000\n",
      "23/01/30 15:59:52 INFO OWLQN: Val and Grad Norm: 0.215349 (rel: 1.56e-08) 1.84291e-05\n",
      "23/01/30 15:59:52 INFO OWLQN: Step Size: 1.000\n",
      "23/01/30 15:59:52 INFO OWLQN: Val and Grad Norm: 0.215374 (rel: 7.08e-09) 1.17747e-05\n",
      "23/01/30 15:59:52 INFO OWLQN: Step Size: 1.000\n",
      "23/01/30 15:59:52 INFO OWLQN: Val and Grad Norm: 0.215374 (rel: 3.47e-09) 7.62361e-06\n",
      "23/01/30 15:59:52 INFO OWLQN: Step Size: 0.5000\n",
      "23/01/30 15:59:52 INFO OWLQN: Val and Grad Norm: 0.215349 (rel: 8.22e-09) 2.45059e-05\n",
      "23/01/30 15:59:52 INFO OWLQN: Step Size: 1.000\n",
      "23/01/30 15:59:52 INFO OWLQN: Val and Grad Norm: 0.215374 (rel: 1.73e-09) 4.78975e-06\n",
      "23/01/30 15:59:52 INFO OWLQN: Step Size: 1.000\n",
      "23/01/30 15:59:52 INFO OWLQN: Val and Grad Norm: 0.215374 (rel: 1.19e-09) 4.26041e-06\n",
      "23/01/30 15:59:53 INFO OWLQN: Step Size: 0.5000\n",
      "23/01/30 15:59:53 INFO OWLQN: Val and Grad Norm: 0.215349 (rel: 1.06e-08) 1.58557e-05\n",
      "23/01/30 15:59:53 INFO OWLQN: Step Size: 1.000\n",
      "23/01/30 15:59:53 INFO OWLQN: Val and Grad Norm: 0.215349 (rel: 4.09e-09) 2.71499e-05\n",
      "23/01/30 15:59:53 INFO OWLQN: Step Size: 0.5000\n",
      "23/01/30 15:59:53 INFO OWLQN: Val and Grad Norm: 0.215374 (rel: 4.58e-10) 3.98097e-06\n",
      "23/01/30 15:59:53 INFO OWLQN: Step Size: 1.000\n",
      "23/01/30 15:59:53 INFO OWLQN: Val and Grad Norm: 0.215349 (rel: 6.03e-09) 3.02730e-05\n",
      "23/01/30 15:59:53 INFO OWLQN: Step Size: 1.000\n",
      "23/01/30 15:59:53 INFO OWLQN: Val and Grad Norm: 0.215374 (rel: 1.10e-10) 6.42626e-06\n",
      "23/01/30 15:59:53 INFO OWLQN: Converged because function values converged\n",
      "23/01/30 15:59:53 INFO OWLQN: Step Size: 1.000\n",
      "23/01/30 15:59:53 INFO OWLQN: Val and Grad Norm: 0.215349 (rel: 1.48e-08) 1.32411e-05\n",
      "23/01/30 15:59:53 INFO OWLQN: Step Size: 1.000\n",
      "23/01/30 15:59:53 INFO OWLQN: Val and Grad Norm: 0.215349 (rel: 3.13e-09) 8.13065e-06\n",
      "23/01/30 15:59:53 INFO OWLQN: Step Size: 1.000\n",
      "23/01/30 15:59:53 INFO OWLQN: Val and Grad Norm: 0.215349 (rel: 1.39e-09) 7.04800e-06\n",
      "23/01/30 15:59:53 INFO OWLQN: Step Size: 1.000\n",
      "23/01/30 15:59:53 INFO OWLQN: Val and Grad Norm: 0.215349 (rel: 9.46e-10) 5.65933e-06\n",
      "23/01/30 15:59:53 INFO OWLQN: Converged because function values converged\n",
      "23/01/30 15:59:56 INFO OWLQN: Step Size: 0.9903\n",
      "23/01/30 15:59:56 INFO OWLQN: Val and Grad Norm: 0.306215 (rel: 0.126) 0.174795\n",
      "23/01/30 15:59:56 INFO OWLQN: Step Size: 0.9903\n",
      "23/01/30 15:59:56 INFO OWLQN: Val and Grad Norm: 0.306195 (rel: 0.126) 0.174826\n",
      "23/01/30 15:59:56 INFO OWLQN: Step Size: 1.000\n",
      "23/01/30 15:59:56 INFO OWLQN: Val and Grad Norm: 0.242078 (rel: 0.209) 0.0716870\n",
      "23/01/30 15:59:56 INFO OWLQN: Step Size: 1.000\n",
      "23/01/30 15:59:56 INFO OWLQN: Val and Grad Norm: 0.242041 (rel: 0.210) 0.0716805\n",
      "23/01/30 15:59:56 INFO OWLQN: Step Size: 1.000\n",
      "23/01/30 15:59:56 INFO OWLQN: Val and Grad Norm: 0.231752 (rel: 0.0427) 0.0368850\n",
      "23/01/30 15:59:56 INFO OWLQN: Step Size: 1.000\n",
      "23/01/30 15:59:56 INFO OWLQN: Val and Grad Norm: 0.231716 (rel: 0.0427) 0.0368935\n",
      "23/01/30 15:59:56 INFO OWLQN: Step Size: 1.000\n",
      "23/01/30 15:59:56 INFO OWLQN: Val and Grad Norm: 0.224575 (rel: 0.0310) 0.0257903\n",
      "23/01/30 15:59:56 INFO OWLQN: Step Size: 1.000\n",
      "23/01/30 15:59:56 INFO OWLQN: Val and Grad Norm: 0.224533 (rel: 0.0310) 0.0257983\n",
      "23/01/30 15:59:56 INFO OWLQN: Step Size: 1.000\n",
      "23/01/30 15:59:56 INFO OWLQN: Val and Grad Norm: 0.221265 (rel: 0.0147) 0.0167580\n",
      "23/01/30 15:59:56 INFO OWLQN: Step Size: 1.000\n",
      "23/01/30 15:59:56 INFO OWLQN: Val and Grad Norm: 0.221220 (rel: 0.0148) 0.0167684\n",
      "23/01/30 15:59:56 INFO OWLQN: Step Size: 1.000\n",
      "23/01/30 15:59:56 INFO OWLQN: Val and Grad Norm: 0.219496 (rel: 0.00799) 0.0126022\n",
      "23/01/30 15:59:56 INFO OWLQN: Step Size: 1.000\n",
      "23/01/30 15:59:56 INFO OWLQN: Val and Grad Norm: 0.219449 (rel: 0.00801) 0.0125979\n",
      "23/01/30 15:59:56 INFO OWLQN: Step Size: 1.000\n",
      "23/01/30 15:59:56 INFO OWLQN: Val and Grad Norm: 0.219057 (rel: 0.00200) 0.00607100\n",
      "23/01/30 15:59:57 INFO OWLQN: Step Size: 1.000\n",
      "23/01/30 15:59:57 INFO OWLQN: Val and Grad Norm: 0.219010 (rel: 0.00200) 0.00607500\n",
      "23/01/30 15:59:57 INFO OWLQN: Step Size: 1.000\n",
      "23/01/30 15:59:57 INFO OWLQN: Val and Grad Norm: 0.218929 (rel: 0.000585) 0.00306977\n",
      "23/01/30 15:59:57 INFO OWLQN: Step Size: 1.000\n",
      "23/01/30 15:59:57 INFO OWLQN: Val and Grad Norm: 0.218882 (rel: 0.000585) 0.00306499\n",
      "23/01/30 15:59:57 INFO OWLQN: Step Size: 1.000\n",
      "23/01/30 15:59:57 INFO OWLQN: Val and Grad Norm: 0.218857 (rel: 0.000326) 0.00292702\n",
      "23/01/30 15:59:57 INFO OWLQN: Step Size: 1.000\n",
      "23/01/30 15:59:57 INFO OWLQN: Val and Grad Norm: 0.218811 (rel: 0.000325) 0.00292488\n",
      "23/01/30 15:59:57 INFO OWLQN: Step Size: 1.000\n",
      "23/01/30 15:59:57 INFO OWLQN: Val and Grad Norm: 0.218835 (rel: 0.000103) 0.00235354\n",
      "23/01/30 15:59:57 INFO OWLQN: Step Size: 1.000\n",
      "23/01/30 15:59:57 INFO OWLQN: Val and Grad Norm: 0.218788 (rel: 0.000106) 0.00235514\n",
      "23/01/30 15:59:57 INFO OWLQN: Step Size: 1.000\n",
      "23/01/30 15:59:57 INFO OWLQN: Val and Grad Norm: 0.218795 (rel: 0.000181) 0.00137518\n",
      "23/01/30 15:59:57 INFO OWLQN: Step Size: 1.000\n",
      "23/01/30 15:59:57 INFO OWLQN: Val and Grad Norm: 0.218748 (rel: 0.000182) 0.00139197\n",
      "23/01/30 15:59:57 INFO OWLQN: Step Size: 1.000\n",
      "23/01/30 15:59:57 INFO OWLQN: Val and Grad Norm: 0.218788 (rel: 3.37e-05) 0.000556660\n",
      "23/01/30 15:59:57 INFO OWLQN: Step Size: 1.000\n",
      "23/01/30 15:59:57 INFO OWLQN: Val and Grad Norm: 0.218741 (rel: 3.47e-05) 0.000550514\n",
      "23/01/30 15:59:57 INFO OWLQN: Step Size: 1.000\n",
      "23/01/30 15:59:57 INFO OWLQN: Val and Grad Norm: 0.218787 (rel: 5.11e-06) 0.000279699\n",
      "23/01/30 15:59:57 INFO OWLQN: Step Size: 1.000\n",
      "23/01/30 15:59:57 INFO OWLQN: Val and Grad Norm: 0.218740 (rel: 5.02e-06) 0.000284774\n",
      "23/01/30 15:59:57 INFO OWLQN: Step Size: 1.000\n",
      "23/01/30 15:59:57 INFO OWLQN: Val and Grad Norm: 0.218786 (rel: 1.71e-06) 0.000141076\n",
      "23/01/30 15:59:57 INFO OWLQN: Step Size: 1.000\n",
      "23/01/30 15:59:57 INFO OWLQN: Val and Grad Norm: 0.218739 (rel: 1.81e-06) 0.000141046\n",
      "23/01/30 15:59:57 INFO OWLQN: Step Size: 1.000\n",
      "23/01/30 15:59:57 INFO OWLQN: Val and Grad Norm: 0.218786 (rel: 7.35e-07) 0.000127197\n",
      "23/01/30 15:59:57 INFO OWLQN: Step Size: 1.000\n",
      "23/01/30 15:59:57 INFO OWLQN: Val and Grad Norm: 0.218739 (rel: 7.63e-07) 0.000127172\n",
      "23/01/30 15:59:58 INFO OWLQN: Step Size: 1.000\n",
      "23/01/30 15:59:58 INFO OWLQN: Val and Grad Norm: 0.218786 (rel: 6.01e-07) 0.000103144\n",
      "23/01/30 15:59:58 INFO OWLQN: Step Size: 1.000\n",
      "23/01/30 15:59:58 INFO OWLQN: Val and Grad Norm: 0.218739 (rel: 6.14e-07) 0.000104890\n",
      "23/01/30 15:59:58 INFO OWLQN: Step Size: 1.000\n",
      "23/01/30 15:59:58 INFO OWLQN: Val and Grad Norm: 0.218786 (rel: 6.74e-07) 0.000194981\n",
      "23/01/30 15:59:58 INFO OWLQN: Step Size: 1.000\n",
      "23/01/30 15:59:58 INFO OWLQN: Val and Grad Norm: 0.218739 (rel: 6.39e-07) 0.000192094\n",
      "23/01/30 15:59:58 INFO OWLQN: Step Size: 1.000\n",
      "23/01/30 15:59:58 INFO OWLQN: Val and Grad Norm: 0.218786 (rel: 6.19e-07) 0.000147564\n",
      "23/01/30 15:59:58 INFO OWLQN: Step Size: 1.000\n",
      "23/01/30 15:59:58 INFO OWLQN: Val and Grad Norm: 0.218739 (rel: 6.07e-07) 0.000128678\n",
      "23/01/30 15:59:58 INFO OWLQN: Step Size: 1.000\n",
      "23/01/30 15:59:58 INFO OWLQN: Val and Grad Norm: 0.218786 (rel: 4.40e-07) 7.34566e-05\n",
      "23/01/30 15:59:58 INFO OWLQN: Step Size: 1.000\n",
      "23/01/30 15:59:58 INFO OWLQN: Val and Grad Norm: 0.218739 (rel: 3.70e-07) 7.13956e-05\n",
      "23/01/30 15:59:58 INFO OWLQN: Step Size: 1.000\n",
      "23/01/30 15:59:58 INFO OWLQN: Val and Grad Norm: 0.218786 (rel: 1.22e-07) 9.71456e-05\n",
      "23/01/30 15:59:58 INFO OWLQN: Step Size: 1.000\n",
      "23/01/30 15:59:58 INFO OWLQN: Val and Grad Norm: 0.218738 (rel: 1.41e-07) 9.18209e-05\n",
      "23/01/30 15:59:58 INFO OWLQN: Step Size: 1.000\n",
      "23/01/30 15:59:58 INFO OWLQN: Val and Grad Norm: 0.218786 (rel: 1.64e-07) 7.35669e-05\n",
      "23/01/30 15:59:58 INFO OWLQN: Step Size: 1.000\n",
      "23/01/30 15:59:58 INFO OWLQN: Val and Grad Norm: 0.218738 (rel: 1.87e-07) 6.68241e-05\n",
      "23/01/30 15:59:58 INFO OWLQN: Step Size: 1.000\n",
      "23/01/30 15:59:58 INFO OWLQN: Val and Grad Norm: 0.218786 (rel: 1.20e-07) 5.21806e-05\n",
      "23/01/30 15:59:58 INFO OWLQN: Step Size: 1.000\n",
      "23/01/30 15:59:58 INFO OWLQN: Val and Grad Norm: 0.218738 (rel: 1.08e-07) 5.43999e-05\n",
      "23/01/30 15:59:58 INFO OWLQN: Step Size: 1.000\n",
      "23/01/30 15:59:58 INFO OWLQN: Val and Grad Norm: 0.218786 (rel: 5.46e-08) 3.36558e-05\n",
      "23/01/30 15:59:58 INFO OWLQN: Step Size: 1.000\n",
      "23/01/30 15:59:58 INFO OWLQN: Val and Grad Norm: 0.218738 (rel: 7.08e-08) 3.70804e-05\n",
      "23/01/30 15:59:58 INFO OWLQN: Step Size: 1.000\n",
      "23/01/30 15:59:58 INFO OWLQN: Val and Grad Norm: 0.218786 (rel: 2.89e-08) 3.00824e-05\n",
      "23/01/30 15:59:59 INFO OWLQN: Step Size: 1.000\n",
      "23/01/30 15:59:59 INFO OWLQN: Val and Grad Norm: 0.218738 (rel: 3.31e-08) 2.69444e-05\n",
      "23/01/30 15:59:59 INFO OWLQN: Step Size: 1.000\n",
      "23/01/30 15:59:59 INFO OWLQN: Val and Grad Norm: 0.218786 (rel: 1.84e-08) 2.01475e-05\n",
      "23/01/30 15:59:59 INFO OWLQN: Step Size: 1.000\n",
      "23/01/30 15:59:59 INFO OWLQN: Val and Grad Norm: 0.218738 (rel: 1.66e-08) 1.82882e-05\n",
      "23/01/30 15:59:59 INFO OWLQN: Step Size: 1.000\n",
      "23/01/30 15:59:59 INFO OWLQN: Val and Grad Norm: 0.218786 (rel: 1.17e-08) 1.58916e-05\n",
      "23/01/30 15:59:59 INFO OWLQN: Step Size: 1.000\n",
      "23/01/30 15:59:59 INFO OWLQN: Val and Grad Norm: 0.218738 (rel: 9.51e-09) 1.06516e-05\n",
      "23/01/30 15:59:59 INFO OWLQN: Step Size: 1.000\n",
      "23/01/30 15:59:59 INFO OWLQN: Val and Grad Norm: 0.218786 (rel: 6.36e-09) 8.97235e-06\n",
      "23/01/30 15:59:59 INFO OWLQN: Step Size: 1.000\n",
      "23/01/30 15:59:59 INFO OWLQN: Val and Grad Norm: 0.218738 (rel: 4.88e-09) 7.40510e-06\n",
      "23/01/30 15:59:59 INFO OWLQN: Step Size: 1.000\n",
      "23/01/30 15:59:59 INFO OWLQN: Val and Grad Norm: 0.218786 (rel: 3.03e-09) 6.01266e-06\n",
      "23/01/30 15:59:59 INFO OWLQN: Step Size: 1.000\n",
      "23/01/30 15:59:59 INFO OWLQN: Val and Grad Norm: 0.218738 (rel: 2.23e-09) 7.48945e-06\n",
      "23/01/30 15:59:59 INFO OWLQN: Step Size: 1.000\n",
      "23/01/30 15:59:59 INFO OWLQN: Val and Grad Norm: 0.218786 (rel: 2.57e-09) 5.07421e-06\n",
      "23/01/30 15:59:59 INFO OWLQN: Step Size: 1.000\n",
      "23/01/30 15:59:59 INFO OWLQN: Val and Grad Norm: 0.218738 (rel: 1.26e-09) 4.23714e-06\n",
      "23/01/30 15:59:59 INFO OWLQN: Step Size: 1.000\n",
      "23/01/30 15:59:59 INFO OWLQN: Val and Grad Norm: 0.218786 (rel: 2.28e-09) 7.88245e-06\n",
      "23/01/30 15:59:59 INFO OWLQN: Step Size: 1.000\n",
      "23/01/30 15:59:59 INFO OWLQN: Val and Grad Norm: 0.218738 (rel: 6.90e-10) 3.24031e-06\n",
      "23/01/30 15:59:59 INFO OWLQN: Step Size: 1.000\n",
      "23/01/30 15:59:59 INFO OWLQN: Val and Grad Norm: 0.218786 (rel: 1.67e-09) 6.75265e-06\n",
      "23/01/30 15:59:59 INFO OWLQN: Step Size: 1.000\n",
      "23/01/30 15:59:59 INFO OWLQN: Val and Grad Norm: 0.218738 (rel: 7.35e-10) 3.98208e-06\n",
      "23/01/30 15:59:59 INFO OWLQN: Step Size: 1.000\n",
      "23/01/30 15:59:59 INFO OWLQN: Val and Grad Norm: 0.218786 (rel: 4.35e-10) 5.49957e-06\n",
      "23/01/30 16:00:00 INFO OWLQN: Step Size: 1.000\n",
      "23/01/30 16:00:00 INFO OWLQN: Val and Grad Norm: 0.218738 (rel: 5.56e-10) 2.88758e-06\n",
      "23/01/30 16:00:00 INFO OWLQN: Step Size: 1.000\n",
      "23/01/30 16:00:00 INFO OWLQN: Val and Grad Norm: 0.218786 (rel: 5.58e-10) 3.82143e-06\n",
      "23/01/30 16:00:00 INFO OWLQN: Step Size: 1.000\n",
      "23/01/30 16:00:00 INFO OWLQN: Val and Grad Norm: 0.218738 (rel: 3.14e-10) 1.81113e-06\n",
      "23/01/30 16:00:00 INFO OWLQN: Step Size: 1.000\n",
      "23/01/30 16:00:00 INFO OWLQN: Val and Grad Norm: 0.218786 (rel: 2.12e-10) 3.41771e-06\n",
      "23/01/30 16:00:00 INFO OWLQN: Step Size: 1.000\n",
      "23/01/30 16:00:00 INFO OWLQN: Val and Grad Norm: 0.218738 (rel: 4.20e-11) 2.82476e-06\n",
      "23/01/30 16:00:00 INFO OWLQN: Step Size: 1.000\n",
      "23/01/30 16:00:00 INFO OWLQN: Val and Grad Norm: 0.218786 (rel: 2.24e-10) 2.82542e-06\n",
      "23/01/30 16:00:00 INFO OWLQN: Step Size: 1.000\n",
      "23/01/30 16:00:00 INFO OWLQN: Val and Grad Norm: 0.218738 (rel: 1.41e-10) 1.04498e-06\n",
      "23/01/30 16:00:00 INFO OWLQN: Step Size: 1.000\n",
      "23/01/30 16:00:00 INFO OWLQN: Val and Grad Norm: 0.218786 (rel: 1.24e-10) 1.94485e-06\n",
      "23/01/30 16:00:00 INFO OWLQN: Converged because function values converged\n",
      "23/01/30 16:00:00 INFO OWLQN: Step Size: 1.000\n",
      "23/01/30 16:00:00 INFO OWLQN: Val and Grad Norm: 0.218738 (rel: 3.79e-11) 7.62595e-07\n",
      "23/01/30 16:00:00 INFO OWLQN: Converged because function values converged\n",
      "23/01/30 16:00:02 INFO OWLQN: Step Size: 0.9870\n",
      "23/01/30 16:00:02 INFO OWLQN: Val and Grad Norm: 0.308505 (rel: 0.125) 0.175761\n",
      "23/01/30 16:00:02 INFO OWLQN: Step Size: 0.9870\n",
      "23/01/30 16:00:02 INFO OWLQN: Val and Grad Norm: 0.308495 (rel: 0.125) 0.175777\n",
      "23/01/30 16:00:03 INFO OWLQN: Step Size: 1.000\n",
      "23/01/30 16:00:03 INFO OWLQN: Val and Grad Norm: 0.242540 (rel: 0.214) 0.0717558\n",
      "23/01/30 16:00:03 INFO OWLQN: Step Size: 1.000\n",
      "23/01/30 16:00:03 INFO OWLQN: Val and Grad Norm: 0.242522 (rel: 0.214) 0.0717528\n",
      "23/01/30 16:00:03 INFO OWLQN: Step Size: 1.000\n",
      "23/01/30 16:00:03 INFO OWLQN: Val and Grad Norm: 0.231919 (rel: 0.0438) 0.0373915\n",
      "23/01/30 16:00:03 INFO OWLQN: Step Size: 1.000\n",
      "23/01/30 16:00:03 INFO OWLQN: Val and Grad Norm: 0.231901 (rel: 0.0438) 0.0373955\n",
      "23/01/30 16:00:03 INFO OWLQN: Step Size: 1.000\n",
      "23/01/30 16:00:03 INFO OWLQN: Val and Grad Norm: 0.224207 (rel: 0.0333) 0.0262653\n",
      "23/01/30 16:00:03 INFO OWLQN: Step Size: 1.000\n",
      "23/01/30 16:00:03 INFO OWLQN: Val and Grad Norm: 0.224186 (rel: 0.0333) 0.0262664\n",
      "23/01/30 16:00:03 INFO OWLQN: Step Size: 1.000\n",
      "23/01/30 16:00:03 INFO OWLQN: Val and Grad Norm: 0.220856 (rel: 0.0149) 0.0177030\n",
      "23/01/30 16:00:03 INFO OWLQN: Step Size: 1.000\n",
      "23/01/30 16:00:03 INFO OWLQN: Val and Grad Norm: 0.220833 (rel: 0.0150) 0.0177054\n",
      "23/01/30 16:00:03 INFO OWLQN: Step Size: 1.000\n",
      "23/01/30 16:00:03 INFO OWLQN: Val and Grad Norm: 0.218471 (rel: 0.0108) 0.0101905\n",
      "23/01/30 16:00:03 INFO OWLQN: Step Size: 1.000\n",
      "23/01/30 16:00:03 INFO OWLQN: Val and Grad Norm: 0.218447 (rel: 0.0108) 0.0101795\n",
      "23/01/30 16:00:03 INFO OWLQN: Step Size: 1.000\n",
      "23/01/30 16:00:03 INFO OWLQN: Val and Grad Norm: 0.218318 (rel: 0.000697) 0.0102873\n",
      "23/01/30 16:00:03 INFO OWLQN: Step Size: 1.000\n",
      "23/01/30 16:00:03 INFO OWLQN: Val and Grad Norm: 0.218295 (rel: 0.000696) 0.0102886\n",
      "23/01/30 16:00:03 INFO OWLQN: Step Size: 1.000\n",
      "23/01/30 16:00:03 INFO OWLQN: Val and Grad Norm: 0.218023 (rel: 0.00136) 0.00437292\n",
      "23/01/30 16:00:03 INFO OWLQN: Step Size: 1.000\n",
      "23/01/30 16:00:03 INFO OWLQN: Val and Grad Norm: 0.217999 (rel: 0.00136) 0.00436875\n",
      "23/01/30 16:00:03 INFO OWLQN: Step Size: 1.000\n",
      "23/01/30 16:00:03 INFO OWLQN: Val and Grad Norm: 0.217914 (rel: 0.000497) 0.00408169\n",
      "23/01/30 16:00:03 INFO OWLQN: Step Size: 1.000\n",
      "23/01/30 16:00:03 INFO OWLQN: Val and Grad Norm: 0.217890 (rel: 0.000498) 0.00408084\n",
      "23/01/30 16:00:04 INFO OWLQN: Step Size: 1.000\n",
      "23/01/30 16:00:04 INFO OWLQN: Val and Grad Norm: 0.217747 (rel: 0.000769) 0.00219451\n",
      "23/01/30 16:00:04 INFO OWLQN: Step Size: 1.000\n",
      "23/01/30 16:00:04 INFO OWLQN: Val and Grad Norm: 0.217722 (rel: 0.000772) 0.00218504\n",
      "23/01/30 16:00:04 INFO OWLQN: Step Size: 0.5000\n",
      "23/01/30 16:00:04 INFO OWLQN: Val and Grad Norm: 0.217726 (rel: 9.27e-05) 0.00167996\n",
      "23/01/30 16:00:04 INFO OWLQN: Step Size: 0.5000\n",
      "23/01/30 16:00:04 INFO OWLQN: Val and Grad Norm: 0.217702 (rel: 9.16e-05) 0.00167826\n",
      "23/01/30 16:00:04 INFO OWLQN: Step Size: 1.000\n",
      "23/01/30 16:00:04 INFO OWLQN: Val and Grad Norm: 0.217715 (rel: 5.03e-05) 0.000661987\n",
      "23/01/30 16:00:04 INFO OWLQN: Step Size: 1.000\n",
      "23/01/30 16:00:04 INFO OWLQN: Val and Grad Norm: 0.217691 (rel: 5.01e-05) 0.000645650\n",
      "23/01/30 16:00:04 INFO OWLQN: Step Size: 1.000\n",
      "23/01/30 16:00:04 INFO OWLQN: Val and Grad Norm: 0.217714 (rel: 7.43e-06) 0.000357213\n",
      "23/01/30 16:00:04 INFO OWLQN: Step Size: 1.000\n",
      "23/01/30 16:00:04 INFO OWLQN: Val and Grad Norm: 0.217689 (rel: 7.30e-06) 0.000364585\n",
      "23/01/30 16:00:04 INFO OWLQN: Step Size: 1.000\n",
      "23/01/30 16:00:04 INFO OWLQN: Val and Grad Norm: 0.217713 (rel: 5.83e-06) 0.000339642\n",
      "23/01/30 16:00:04 INFO OWLQN: Step Size: 1.000\n",
      "23/01/30 16:00:04 INFO OWLQN: Val and Grad Norm: 0.217688 (rel: 5.93e-06) 0.000327976\n",
      "23/01/30 16:00:04 INFO OWLQN: Step Size: 1.000\n",
      "23/01/30 16:00:04 INFO OWLQN: Val and Grad Norm: 0.217710 (rel: 1.36e-05) 0.000408298\n",
      "23/01/30 16:00:04 INFO OWLQN: Step Size: 1.000\n",
      "23/01/30 16:00:04 INFO OWLQN: Val and Grad Norm: 0.217685 (rel: 1.58e-05) 0.000388239\n",
      "23/01/30 16:00:04 INFO OWLQN: Step Size: 1.000\n",
      "23/01/30 16:00:04 INFO OWLQN: Val and Grad Norm: 0.217709 (rel: 2.82e-06) 0.000838761\n",
      "23/01/30 16:00:04 INFO OWLQN: Step Size: 1.000\n",
      "23/01/30 16:00:04 INFO OWLQN: Val and Grad Norm: 0.217684 (rel: 3.80e-06) 0.000831573\n",
      "23/01/30 16:00:04 INFO OWLQN: Step Size: 1.000\n",
      "23/01/30 16:00:04 INFO OWLQN: Val and Grad Norm: 0.217706 (rel: 1.50e-05) 0.000283077\n",
      "23/01/30 16:00:05 INFO OWLQN: Step Size: 1.000\n",
      "23/01/30 16:00:05 INFO OWLQN: Val and Grad Norm: 0.217681 (rel: 1.54e-05) 0.000254936\n",
      "23/01/30 16:00:05 INFO OWLQN: Step Size: 1.000\n",
      "23/01/30 16:00:05 INFO OWLQN: Val and Grad Norm: 0.217705 (rel: 3.12e-06) 0.000367970\n",
      "23/01/30 16:00:05 INFO OWLQN: Step Size: 1.000\n",
      "23/01/30 16:00:05 INFO OWLQN: Val and Grad Norm: 0.217680 (rel: 3.51e-06) 0.000213835\n",
      "23/01/30 16:00:05 INFO OWLQN: Step Size: 1.000\n",
      "23/01/30 16:00:05 INFO OWLQN: Val and Grad Norm: 0.217705 (rel: 1.43e-06) 0.000388524\n",
      "23/01/30 16:00:05 INFO OWLQN: Step Size: 1.000\n",
      "23/01/30 16:00:05 INFO OWLQN: Val and Grad Norm: 0.217680 (rel: 3.04e-07) 0.000324192\n",
      "23/01/30 16:00:05 INFO OWLQN: Step Size: 1.000\n",
      "23/01/30 16:00:05 INFO OWLQN: Val and Grad Norm: 0.217704 (rel: 3.45e-06) 0.000235990\n",
      "23/01/30 16:00:05 INFO OWLQN: Step Size: 1.000\n",
      "23/01/30 16:00:05 INFO OWLQN: Val and Grad Norm: 0.217679 (rel: 2.39e-06) 0.000165487\n",
      "23/01/30 16:00:05 INFO OWLQN: Step Size: 1.000\n",
      "23/01/30 16:00:05 INFO OWLQN: Val and Grad Norm: 0.217704 (rel: 8.08e-07) 0.000240384\n",
      "23/01/30 16:00:05 INFO OWLQN: Step Size: 1.000\n",
      "23/01/30 16:00:05 INFO OWLQN: Val and Grad Norm: 0.217679 (rel: 4.55e-07) 0.000140779\n",
      "23/01/30 16:00:05 INFO OWLQN: Step Size: 1.000\n",
      "23/01/30 16:00:05 INFO OWLQN: Val and Grad Norm: 0.217704 (rel: 1.40e-06) 0.000159581\n",
      "23/01/30 16:00:05 INFO OWLQN: Step Size: 1.000\n",
      "23/01/30 16:00:05 INFO OWLQN: Val and Grad Norm: 0.217679 (rel: 6.55e-07) 8.06481e-05\n",
      "23/01/30 16:00:05 INFO OWLQN: Step Size: 1.000\n",
      "23/01/30 16:00:05 INFO OWLQN: Val and Grad Norm: 0.217703 (rel: 4.45e-07) 0.000143280\n",
      "23/01/30 16:00:05 INFO OWLQN: Step Size: 1.000\n",
      "23/01/30 16:00:05 INFO OWLQN: Val and Grad Norm: 0.217679 (rel: 2.23e-07) 8.37031e-05\n",
      "23/01/30 16:00:05 INFO OWLQN: Step Size: 1.000\n",
      "23/01/30 16:00:05 INFO OWLQN: Val and Grad Norm: 0.217703 (rel: 4.61e-07) 8.16815e-05\n",
      "23/01/30 16:00:05 INFO OWLQN: Step Size: 1.000\n",
      "23/01/30 16:00:05 INFO OWLQN: Val and Grad Norm: 0.217679 (rel: 1.68e-07) 8.97245e-05\n",
      "23/01/30 16:00:05 INFO OWLQN: Step Size: 1.000\n",
      "23/01/30 16:00:05 INFO OWLQN: Val and Grad Norm: 0.217703 (rel: 1.86e-07) 7.45824e-05\n",
      "23/01/30 16:00:06 INFO OWLQN: Step Size: 1.000\n",
      "23/01/30 16:00:06 INFO OWLQN: Val and Grad Norm: 0.217679 (rel: 1.35e-07) 3.25523e-05\n",
      "23/01/30 16:00:06 INFO OWLQN: Step Size: 1.000\n",
      "23/01/30 16:00:06 INFO OWLQN: Val and Grad Norm: 0.217703 (rel: 1.47e-07) 5.09919e-05\n",
      "23/01/30 16:00:06 INFO OWLQN: Step Size: 1.000\n",
      "23/01/30 16:00:06 INFO OWLQN: Val and Grad Norm: 0.217679 (rel: 5.15e-08) 3.01877e-05\n",
      "23/01/30 16:00:06 INFO OWLQN: Step Size: 1.000\n",
      "23/01/30 16:00:06 INFO OWLQN: Val and Grad Norm: 0.217703 (rel: 7.21e-08) 4.36627e-05\n",
      "23/01/30 16:00:06 INFO OWLQN: Step Size: 1.000\n",
      "23/01/30 16:00:06 INFO OWLQN: Val and Grad Norm: 0.217679 (rel: 1.07e-08) 8.04501e-05\n",
      "23/01/30 16:00:06 INFO OWLQN: Step Size: 1.000\n",
      "23/01/30 16:00:06 INFO OWLQN: Val and Grad Norm: 0.217703 (rel: 5.49e-08) 2.46498e-05\n",
      "23/01/30 16:00:06 INFO OWLQN: Step Size: 1.000\n",
      "23/01/30 16:00:06 INFO OWLQN: Val and Grad Norm: 0.217679 (rel: 5.42e-08) 2.08907e-05\n",
      "23/01/30 16:00:06 INFO OWLQN: Step Size: 1.000\n",
      "23/01/30 16:00:06 INFO OWLQN: Val and Grad Norm: 0.217703 (rel: 2.46e-08) 1.74380e-05\n",
      "23/01/30 16:00:06 INFO OWLQN: Step Size: 1.000\n",
      "23/01/30 16:00:06 INFO OWLQN: Val and Grad Norm: 0.217679 (rel: 1.73e-08) 2.49561e-05\n",
      "23/01/30 16:00:06 INFO OWLQN: Step Size: 1.000\n",
      "23/01/30 16:00:06 INFO OWLQN: Val and Grad Norm: 0.217703 (rel: 1.75e-08) 1.16466e-05\n",
      "23/01/30 16:00:06 INFO OWLQN: Step Size: 1.000\n",
      "23/01/30 16:00:06 INFO OWLQN: Val and Grad Norm: 0.217679 (rel: 2.68e-08) 2.35054e-05\n",
      "23/01/30 16:00:06 INFO OWLQN: Step Size: 1.000\n",
      "23/01/30 16:00:06 INFO OWLQN: Val and Grad Norm: 0.217703 (rel: 1.90e-08) 2.20373e-05\n",
      "23/01/30 16:00:06 INFO OWLQN: Step Size: 1.000\n",
      "23/01/30 16:00:06 INFO OWLQN: Val and Grad Norm: 0.217703 (rel: 7.73e-09) 3.72703e-05\n",
      "23/01/30 16:00:06 INFO OWLQN: Step Size: 0.5000\n",
      "23/01/30 16:00:06 INFO OWLQN: Val and Grad Norm: 0.217679 (rel: 1.29e-08) 3.27795e-05\n",
      "23/01/30 16:00:06 INFO OWLQN: Step Size: 1.000\n",
      "23/01/30 16:00:06 INFO OWLQN: Val and Grad Norm: 0.217703 (rel: 1.24e-08) 1.11269e-05\n",
      "23/01/30 16:00:07 INFO OWLQN: Step Size: 0.5000\n",
      "23/01/30 16:00:07 INFO OWLQN: Val and Grad Norm: 0.217679 (rel: 1.82e-08) 2.73753e-05\n",
      "23/01/30 16:00:07 INFO OWLQN: Step Size: 1.000\n",
      "23/01/30 16:00:07 INFO OWLQN: Val and Grad Norm: 0.217703 (rel: 4.21e-09) 9.30017e-06\n",
      "23/01/30 16:00:07 INFO OWLQN: Step Size: 1.000\n",
      "23/01/30 16:00:07 INFO OWLQN: Val and Grad Norm: 0.217703 (rel: 6.38e-09) 8.08399e-06\n",
      "23/01/30 16:00:07 INFO OWLQN: Step Size: 0.5000\n",
      "23/01/30 16:00:07 INFO OWLQN: Val and Grad Norm: 0.217679 (rel: 1.83e-08) 2.73294e-05\n",
      "23/01/30 16:00:07 INFO OWLQN: Step Size: 0.5000\n",
      "23/01/30 16:00:07 INFO OWLQN: Val and Grad Norm: 0.217703 (rel: 2.82e-09) 1.21178e-05\n",
      "23/01/30 16:00:07 INFO OWLQN: Step Size: 0.5000\n",
      "23/01/30 16:00:07 INFO OWLQN: Val and Grad Norm: 0.217679 (rel: 2.00e-08) 1.82604e-05\n",
      "23/01/30 16:00:07 INFO OWLQN: Step Size: 0.5000\n",
      "23/01/30 16:00:07 INFO OWLQN: Val and Grad Norm: 0.217703 (rel: 2.32e-09) 8.66972e-06\n",
      "23/01/30 16:00:07 INFO OWLQN: Step Size: 0.5000\n",
      "23/01/30 16:00:07 INFO OWLQN: Val and Grad Norm: 0.217679 (rel: 8.78e-09) 2.73789e-05\n",
      "23/01/30 16:00:07 INFO OWLQN: Step Size: 0.5000\n",
      "23/01/30 16:00:07 INFO OWLQN: Val and Grad Norm: 0.217703 (rel: 1.79e-09) 6.97104e-06\n",
      "23/01/30 16:00:07 INFO OWLQN: Step Size: 0.5000\n",
      "23/01/30 16:00:07 INFO OWLQN: Val and Grad Norm: 0.217679 (rel: 9.54e-09) 2.69503e-05\n",
      "23/01/30 16:00:08 INFO OWLQN: Step Size: 0.5000\n",
      "23/01/30 16:00:08 INFO OWLQN: Val and Grad Norm: 0.217703 (rel: 1.24e-09) 7.64481e-06\n",
      "23/01/30 16:00:08 INFO OWLQN: Step Size: 0.5000\n",
      "23/01/30 16:00:08 INFO OWLQN: Val and Grad Norm: 0.217679 (rel: 1.30e-08) 2.42381e-05\n",
      "23/01/30 16:00:08 INFO OWLQN: Step Size: 0.5000\n",
      "23/01/30 16:00:08 INFO OWLQN: Val and Grad Norm: 0.217703 (rel: 9.63e-10) 6.77535e-06\n",
      "23/01/30 16:00:08 INFO OWLQN: Step Size: 0.5000\n",
      "23/01/30 16:00:08 INFO OWLQN: Val and Grad Norm: 0.217679 (rel: 7.75e-09) 1.95843e-05\n",
      "23/01/30 16:00:08 INFO OWLQN: Step Size: 0.5000\n",
      "23/01/30 16:00:08 INFO OWLQN: Val and Grad Norm: 0.217703 (rel: 9.03e-10) 5.88897e-06\n",
      "23/01/30 16:00:08 INFO OWLQN: Converged because function values converged\n",
      "23/01/30 16:00:08 INFO OWLQN: Step Size: 0.5000\n",
      "23/01/30 16:00:08 INFO OWLQN: Val and Grad Norm: 0.217679 (rel: 5.52e-09) 1.96075e-05\n",
      "23/01/30 16:00:08 INFO OWLQN: Step Size: 0.5000\n",
      "23/01/30 16:00:08 INFO OWLQN: Val and Grad Norm: 0.217679 (rel: 5.70e-09) 1.43556e-05\n",
      "23/01/30 16:00:08 INFO OWLQN: Converged because function values converged\n",
      "23/01/30 16:00:10 INFO OWLQN: Step Size: 0.9870\n",
      "23/01/30 16:00:10 INFO OWLQN: Val and Grad Norm: 0.308585 (rel: 0.125) 0.175182\n",
      "23/01/30 16:00:10 INFO OWLQN: Step Size: 0.9870\n",
      "23/01/30 16:00:10 INFO OWLQN: Val and Grad Norm: 0.308605 (rel: 0.125) 0.175151\n",
      "23/01/30 16:00:10 INFO OWLQN: Step Size: 1.000\n",
      "23/01/30 16:00:10 INFO OWLQN: Val and Grad Norm: 0.243979 (rel: 0.209) 0.0711568\n",
      "23/01/30 16:00:10 INFO OWLQN: Step Size: 1.000\n",
      "23/01/30 16:00:10 INFO OWLQN: Val and Grad Norm: 0.244015 (rel: 0.209) 0.0711627\n",
      "23/01/30 16:00:10 INFO OWLQN: Step Size: 1.000\n",
      "23/01/30 16:00:10 INFO OWLQN: Val and Grad Norm: 0.233749 (rel: 0.0419) 0.0365526\n",
      "23/01/30 16:00:10 INFO OWLQN: Step Size: 1.000\n",
      "23/01/30 16:00:10 INFO OWLQN: Val and Grad Norm: 0.233785 (rel: 0.0419) 0.0365445\n",
      "23/01/30 16:00:11 INFO OWLQN: Step Size: 1.000\n",
      "23/01/30 16:00:11 INFO OWLQN: Val and Grad Norm: 0.226632 (rel: 0.0304) 0.0254659\n",
      "23/01/30 16:00:11 INFO OWLQN: Step Size: 1.000\n",
      "23/01/30 16:00:11 INFO OWLQN: Val and Grad Norm: 0.226673 (rel: 0.0304) 0.0254594\n",
      "23/01/30 16:00:11 INFO OWLQN: Step Size: 1.000\n",
      "23/01/30 16:00:11 INFO OWLQN: Val and Grad Norm: 0.223572 (rel: 0.0135) 0.0169844\n",
      "23/01/30 16:00:11 INFO OWLQN: Step Size: 1.000\n",
      "23/01/30 16:00:11 INFO OWLQN: Val and Grad Norm: 0.223615 (rel: 0.0135) 0.0169740\n",
      "23/01/30 16:00:11 INFO OWLQN: Step Size: 1.000\n",
      "23/01/30 16:00:11 INFO OWLQN: Val and Grad Norm: 0.221543 (rel: 0.00907) 0.00860542\n",
      "23/01/30 16:00:11 INFO OWLQN: Step Size: 1.000\n",
      "23/01/30 16:00:11 INFO OWLQN: Val and Grad Norm: 0.221589 (rel: 0.00906) 0.00862258\n",
      "23/01/30 16:00:11 INFO OWLQN: Step Size: 1.000\n",
      "23/01/30 16:00:11 INFO OWLQN: Val and Grad Norm: 0.221415 (rel: 0.000579) 0.00826612\n",
      "23/01/30 16:00:11 INFO OWLQN: Step Size: 1.000\n",
      "23/01/30 16:00:11 INFO OWLQN: Val and Grad Norm: 0.221460 (rel: 0.000583) 0.00824595\n",
      "23/01/30 16:00:11 INFO OWLQN: Step Size: 1.000\n",
      "23/01/30 16:00:11 INFO OWLQN: Val and Grad Norm: 0.221238 (rel: 0.000797) 0.00368177\n",
      "23/01/30 16:00:11 INFO OWLQN: Step Size: 1.000\n",
      "23/01/30 16:00:11 INFO OWLQN: Val and Grad Norm: 0.221284 (rel: 0.000794) 0.00368547\n",
      "23/01/30 16:00:11 INFO OWLQN: Step Size: 1.000\n",
      "23/01/30 16:00:11 INFO OWLQN: Val and Grad Norm: 0.221163 (rel: 0.000340) 0.00313969\n",
      "23/01/30 16:00:11 INFO OWLQN: Step Size: 1.000\n",
      "23/01/30 16:00:11 INFO OWLQN: Val and Grad Norm: 0.221208 (rel: 0.000341) 0.00314239\n",
      "23/01/30 16:00:11 INFO OWLQN: Step Size: 1.000\n",
      "23/01/30 16:00:11 INFO OWLQN: Val and Grad Norm: 0.221148 (rel: 6.95e-05) 0.00563060\n",
      "23/01/30 16:00:11 INFO OWLQN: Step Size: 1.000\n",
      "23/01/30 16:00:11 INFO OWLQN: Val and Grad Norm: 0.221061 (rel: 0.000392) 0.00140605\n",
      "23/01/30 16:00:11 INFO OWLQN: Step Size: 1.000\n",
      "23/01/30 16:00:11 INFO OWLQN: Val and Grad Norm: 0.221194 (rel: 6.40e-05) 0.00564775\n",
      "23/01/30 16:00:11 INFO OWLQN: Step Size: 1.000\n",
      "23/01/30 16:00:11 INFO OWLQN: Val and Grad Norm: 0.221048 (rel: 5.73e-05) 0.000572380\n",
      "23/01/30 16:00:11 INFO OWLQN: Step Size: 1.000\n",
      "23/01/30 16:00:11 INFO OWLQN: Val and Grad Norm: 0.221107 (rel: 0.000393) 0.00139788\n",
      "23/01/30 16:00:12 INFO OWLQN: Step Size: 1.000\n",
      "23/01/30 16:00:12 INFO OWLQN: Val and Grad Norm: 0.221094 (rel: 5.69e-05) 0.000573224\n",
      "23/01/30 16:00:12 INFO OWLQN: Step Size: 1.000\n",
      "23/01/30 16:00:12 INFO OWLQN: Val and Grad Norm: 0.221046 (rel: 1.13e-05) 0.000317685\n",
      "23/01/30 16:00:12 INFO OWLQN: Step Size: 1.000\n",
      "23/01/30 16:00:12 INFO OWLQN: Val and Grad Norm: 0.221045 (rel: 3.05e-06) 0.000276559\n",
      "23/01/30 16:00:12 INFO OWLQN: Step Size: 1.000\n",
      "23/01/30 16:00:12 INFO OWLQN: Val and Grad Norm: 0.221092 (rel: 1.14e-05) 0.000302931\n",
      "23/01/30 16:00:12 INFO OWLQN: Step Size: 1.000\n",
      "23/01/30 16:00:12 INFO OWLQN: Val and Grad Norm: 0.221045 (rel: 1.35e-06) 0.000170360\n",
      "23/01/30 16:00:12 INFO OWLQN: Step Size: 1.000\n",
      "23/01/30 16:00:12 INFO OWLQN: Val and Grad Norm: 0.221091 (rel: 3.02e-06) 0.000276038\n",
      "23/01/30 16:00:12 INFO OWLQN: Step Size: 1.000\n",
      "23/01/30 16:00:12 INFO OWLQN: Val and Grad Norm: 0.221045 (rel: 9.44e-07) 0.000136592\n",
      "23/01/30 16:00:12 INFO OWLQN: Step Size: 1.000\n",
      "23/01/30 16:00:12 INFO OWLQN: Val and Grad Norm: 0.221091 (rel: 1.38e-06) 0.000166181\n",
      "23/01/30 16:00:12 INFO OWLQN: Step Size: 1.000\n",
      "23/01/30 16:00:12 INFO OWLQN: Val and Grad Norm: 0.221044 (rel: 1.44e-06) 0.000136914\n",
      "23/01/30 16:00:12 INFO OWLQN: Step Size: 1.000\n",
      "23/01/30 16:00:12 INFO OWLQN: Val and Grad Norm: 0.221091 (rel: 9.81e-07) 0.000136223\n",
      "23/01/30 16:00:12 INFO OWLQN: Step Size: 1.000\n",
      "23/01/30 16:00:12 INFO OWLQN: Val and Grad Norm: 0.221044 (rel: 3.31e-07) 0.000246892\n",
      "23/01/30 16:00:12 INFO OWLQN: Step Size: 1.000\n",
      "23/01/30 16:00:12 INFO OWLQN: Val and Grad Norm: 0.221090 (rel: 1.49e-06) 0.000150303\n",
      "23/01/30 16:00:12 INFO OWLQN: Step Size: 1.000\n",
      "23/01/30 16:00:12 INFO OWLQN: Val and Grad Norm: 0.221044 (rel: 1.42e-06) 7.70246e-05\n",
      "23/01/30 16:00:12 INFO OWLQN: Step Size: 1.000\n",
      "23/01/30 16:00:12 INFO OWLQN: Val and Grad Norm: 0.221090 (rel: 4.29e-07) 0.000232680\n",
      "23/01/30 16:00:12 INFO OWLQN: Step Size: 1.000\n",
      "23/01/30 16:00:12 INFO OWLQN: Val and Grad Norm: 0.221044 (rel: 2.64e-07) 0.000121283\n",
      "23/01/30 16:00:12 INFO OWLQN: Step Size: 1.000\n",
      "23/01/30 16:00:12 INFO OWLQN: Val and Grad Norm: 0.221090 (rel: 1.17e-06) 8.69419e-05\n",
      "23/01/30 16:00:12 INFO OWLQN: Step Size: 1.000\n",
      "23/01/30 16:00:12 INFO OWLQN: Val and Grad Norm: 0.221044 (rel: 1.89e-07) 6.96518e-05\n",
      "23/01/30 16:00:12 INFO OWLQN: Step Size: 1.000\n",
      "23/01/30 16:00:12 INFO OWLQN: Val and Grad Norm: 0.221090 (rel: 2.37e-07) 0.000118085\n",
      "23/01/30 16:00:13 INFO OWLQN: Step Size: 1.000\n",
      "23/01/30 16:00:13 INFO OWLQN: Val and Grad Norm: 0.221044 (rel: 1.49e-07) 8.01013e-05\n",
      "23/01/30 16:00:13 INFO OWLQN: Step Size: 1.000\n",
      "23/01/30 16:00:13 INFO OWLQN: Val and Grad Norm: 0.221090 (rel: 2.55e-07) 8.88289e-05\n",
      "23/01/30 16:00:13 INFO OWLQN: Step Size: 1.000\n",
      "23/01/30 16:00:13 INFO OWLQN: Val and Grad Norm: 0.221044 (rel: 9.24e-08) 6.22884e-05\n",
      "23/01/30 16:00:13 INFO OWLQN: Step Size: 1.000\n",
      "23/01/30 16:00:13 INFO OWLQN: Val and Grad Norm: 0.221090 (rel: 1.69e-07) 7.95922e-05\n",
      "23/01/30 16:00:13 INFO OWLQN: Step Size: 1.000\n",
      "23/01/30 16:00:13 INFO OWLQN: Val and Grad Norm: 0.221044 (rel: 8.97e-08) 3.41043e-05\n",
      "23/01/30 16:00:13 INFO OWLQN: Step Size: 1.000\n",
      "23/01/30 16:00:13 INFO OWLQN: Val and Grad Norm: 0.221090 (rel: 1.45e-07) 5.62882e-05\n",
      "23/01/30 16:00:13 INFO OWLQN: Step Size: 1.000\n",
      "23/01/30 16:00:13 INFO OWLQN: Val and Grad Norm: 0.221044 (rel: 2.95e-08) 2.26989e-05\n",
      "23/01/30 16:00:13 INFO OWLQN: Step Size: 1.000\n",
      "23/01/30 16:00:13 INFO OWLQN: Val and Grad Norm: 0.221090 (rel: 6.73e-08) 4.45518e-05\n",
      "23/01/30 16:00:13 INFO OWLQN: Step Size: 1.000\n",
      "23/01/30 16:00:13 INFO OWLQN: Val and Grad Norm: 0.221044 (rel: 1.66e-08) 1.47156e-05\n",
      "23/01/30 16:00:13 INFO OWLQN: Step Size: 1.000\n",
      "23/01/30 16:00:13 INFO OWLQN: Val and Grad Norm: 0.221090 (rel: 4.15e-08) 2.27695e-05\n",
      "23/01/30 16:00:13 INFO OWLQN: Step Size: 1.000\n",
      "23/01/30 16:00:13 INFO OWLQN: Val and Grad Norm: 0.221044 (rel: 1.41e-08) 1.21750e-05\n",
      "23/01/30 16:00:13 INFO OWLQN: Step Size: 1.000\n",
      "23/01/30 16:00:13 INFO OWLQN: Val and Grad Norm: 0.221090 (rel: 1.01e-08) 1.36686e-05\n",
      "23/01/30 16:00:13 INFO OWLQN: Step Size: 1.000\n",
      "23/01/30 16:00:13 INFO OWLQN: Val and Grad Norm: 0.221044 (rel: 6.83e-09) 1.41494e-05\n",
      "23/01/30 16:00:13 INFO OWLQN: Step Size: 1.000\n",
      "23/01/30 16:00:13 INFO OWLQN: Val and Grad Norm: 0.221090 (rel: 6.21e-09) 9.46233e-06\n",
      "23/01/30 16:00:13 INFO OWLQN: Step Size: 1.000\n",
      "23/01/30 16:00:13 INFO OWLQN: Val and Grad Norm: 0.221044 (rel: 2.43e-09) 1.47120e-05\n",
      "23/01/30 16:00:14 INFO OWLQN: Step Size: 1.000\n",
      "23/01/30 16:00:14 INFO OWLQN: Val and Grad Norm: 0.221090 (rel: 5.36e-09) 9.04277e-06\n",
      "23/01/30 16:00:14 INFO OWLQN: Step Size: 1.000\n",
      "23/01/30 16:00:14 INFO OWLQN: Val and Grad Norm: 0.221044 (rel: 1.94e-09) 4.35787e-06\n",
      "23/01/30 16:00:14 INFO OWLQN: Step Size: 1.000\n",
      "23/01/30 16:00:14 INFO OWLQN: Val and Grad Norm: 0.221090 (rel: 4.02e-09) 7.52122e-06\n",
      "23/01/30 16:00:14 INFO OWLQN: Step Size: 1.000\n",
      "23/01/30 16:00:14 INFO OWLQN: Val and Grad Norm: 0.221044 (rel: 4.67e-10) 2.89223e-06\n",
      "23/01/30 16:00:14 INFO OWLQN: Step Size: 1.000\n",
      "23/01/30 16:00:14 INFO OWLQN: Val and Grad Norm: 0.221090 (rel: 1.41e-09) 5.97523e-06\n",
      "23/01/30 16:00:14 INFO OWLQN: Step Size: 1.000\n",
      "23/01/30 16:00:14 INFO OWLQN: Val and Grad Norm: 0.221044 (rel: 4.95e-10) 2.42870e-06\n",
      "23/01/30 16:00:14 INFO OWLQN: Step Size: 1.000\n",
      "23/01/30 16:00:14 INFO OWLQN: Val and Grad Norm: 0.221090 (rel: 5.32e-10) 2.90355e-06\n",
      "23/01/30 16:00:14 INFO OWLQN: Step Size: 1.000\n",
      "23/01/30 16:00:14 INFO OWLQN: Val and Grad Norm: 0.221044 (rel: 6.15e-10) 2.68499e-06\n",
      "23/01/30 16:00:14 INFO OWLQN: Step Size: 1.000\n",
      "23/01/30 16:00:14 INFO OWLQN: Val and Grad Norm: 0.221090 (rel: 1.97e-10) 1.96856e-06\n",
      "23/01/30 16:00:14 INFO OWLQN: Step Size: 1.000\n",
      "23/01/30 16:00:14 INFO OWLQN: Val and Grad Norm: 0.221090 (rel: 1.65e-10) 1.48326e-06\n",
      "23/01/30 16:00:14 INFO OWLQN: Step Size: 0.5000\n",
      "23/01/30 16:00:14 INFO OWLQN: Val and Grad Norm: 0.221044 (rel: 3.39e-10) 2.74322e-06\n",
      "23/01/30 16:00:14 INFO OWLQN: Step Size: 1.000\n",
      "23/01/30 16:00:14 INFO OWLQN: Val and Grad Norm: 0.221090 (rel: 1.58e-10) 1.68675e-06\n",
      "23/01/30 16:00:14 INFO OWLQN: Step Size: 1.000\n",
      "23/01/30 16:00:14 INFO OWLQN: Val and Grad Norm: 0.221044 (rel: 9.86e-11) 3.75143e-06\n",
      "23/01/30 16:00:14 INFO OWLQN: Step Size: 1.000\n",
      "23/01/30 16:00:14 INFO OWLQN: Val and Grad Norm: 0.221090 (rel: 9.88e-11) 1.55845e-06\n",
      "23/01/30 16:00:14 INFO OWLQN: Step Size: 1.000\n",
      "23/01/30 16:00:14 INFO OWLQN: Val and Grad Norm: 0.221044 (rel: 2.97e-10) 1.73886e-06\n",
      "23/01/30 16:00:15 INFO OWLQN: Step Size: 1.000\n",
      "23/01/30 16:00:15 INFO OWLQN: Val and Grad Norm: 0.221090 (rel: 7.59e-11) 1.05719e-06\n",
      "23/01/30 16:00:15 INFO OWLQN: Step Size: 1.000\n",
      "23/01/30 16:00:15 INFO OWLQN: Val and Grad Norm: 0.221044 (rel: 6.04e-11) 8.48375e-07\n",
      "23/01/30 16:00:15 INFO OWLQN: Step Size: 1.000\n",
      "23/01/30 16:00:15 INFO OWLQN: Val and Grad Norm: 0.221090 (rel: 3.80e-11) 1.22671e-06\n",
      "23/01/30 16:00:15 INFO OWLQN: Step Size: 1.000\n",
      "23/01/30 16:00:15 INFO OWLQN: Val and Grad Norm: 0.221044 (rel: 1.79e-11) 6.44327e-07\n",
      "23/01/30 16:00:15 INFO OWLQN: Converged because function values converged\n",
      "23/01/30 16:00:15 INFO OWLQN: Step Size: 1.000\n",
      "23/01/30 16:00:15 INFO OWLQN: Val and Grad Norm: 0.221090 (rel: 3.91e-11) 7.77102e-07\n",
      "23/01/30 16:00:15 INFO OWLQN: Converged because function values converged\n",
      "23/01/30 16:00:17 INFO OWLQN: Step Size: 0.9859\n",
      "23/01/30 16:00:17 INFO OWLQN: Val and Grad Norm: 0.307085 (rel: 0.126) 0.176369\n",
      "23/01/30 16:00:17 INFO OWLQN: Step Size: 1.000\n",
      "23/01/30 16:00:17 INFO OWLQN: Val and Grad Norm: 0.240536 (rel: 0.217) 0.0722411\n",
      "23/01/30 16:00:17 INFO OWLQN: Step Size: 1.000\n",
      "23/01/30 16:00:17 INFO OWLQN: Val and Grad Norm: 0.229710 (rel: 0.0450) 0.0378230\n",
      "23/01/30 16:00:17 INFO OWLQN: Step Size: 1.000\n",
      "23/01/30 16:00:17 INFO OWLQN: Val and Grad Norm: 0.221781 (rel: 0.0345) 0.0266978\n",
      "23/01/30 16:00:17 INFO OWLQN: Step Size: 1.000\n",
      "23/01/30 16:00:17 INFO OWLQN: Val and Grad Norm: 0.218351 (rel: 0.0155) 0.0182280\n",
      "23/01/30 16:00:17 INFO OWLQN: Step Size: 1.000\n",
      "23/01/30 16:00:17 INFO OWLQN: Val and Grad Norm: 0.215835 (rel: 0.0115) 0.0102246\n",
      "23/01/30 16:00:17 INFO OWLQN: Step Size: 1.000\n",
      "23/01/30 16:00:17 INFO OWLQN: Val and Grad Norm: 0.215702 (rel: 0.000613) 0.0110774\n",
      "23/01/30 16:00:17 INFO OWLQN: Step Size: 1.000\n",
      "23/01/30 16:00:17 INFO OWLQN: Val and Grad Norm: 0.215370 (rel: 0.00154) 0.00431847\n",
      "23/01/30 16:00:17 INFO OWLQN: Step Size: 1.000\n",
      "23/01/30 16:00:17 INFO OWLQN: Val and Grad Norm: 0.215262 (rel: 0.000503) 0.00386608\n",
      "23/01/30 16:00:17 INFO OWLQN: Step Size: 1.000\n",
      "23/01/30 16:00:17 INFO OWLQN: Val and Grad Norm: 0.215266 (rel: -2.00e-05) 0.00776589\n",
      "23/01/30 16:00:17 INFO OWLQN: Step Size: 1.000\n",
      "23/01/30 16:00:17 INFO OWLQN: Val and Grad Norm: 0.215098 (rel: 0.000779) 0.00184225\n",
      "23/01/30 16:00:17 INFO OWLQN: Step Size: 1.000\n",
      "23/01/30 16:00:17 INFO OWLQN: Val and Grad Norm: 0.215073 (rel: 0.000118) 0.000947589\n",
      "23/01/30 16:00:17 INFO OWLQN: Step Size: 1.000\n",
      "23/01/30 16:00:17 INFO OWLQN: Val and Grad Norm: 0.215066 (rel: 3.30e-05) 0.000528651\n",
      "23/01/30 16:00:17 INFO OWLQN: Step Size: 1.000\n",
      "23/01/30 16:00:17 INFO OWLQN: Val and Grad Norm: 0.215064 (rel: 9.77e-06) 0.000373246\n",
      "23/01/30 16:00:17 INFO OWLQN: Step Size: 1.000\n",
      "23/01/30 16:00:17 INFO OWLQN: Val and Grad Norm: 0.215063 (rel: 4.80e-06) 0.000266998\n",
      "23/01/30 16:00:17 INFO OWLQN: Step Size: 1.000\n",
      "23/01/30 16:00:17 INFO OWLQN: Val and Grad Norm: 0.215061 (rel: 6.21e-06) 0.000285669\n",
      "23/01/30 16:00:17 INFO OWLQN: Step Size: 1.000\n",
      "23/01/30 16:00:17 INFO OWLQN: Val and Grad Norm: 0.215060 (rel: 4.42e-06) 0.000676765\n",
      "23/01/30 16:00:18 INFO OWLQN: Step Size: 1.000\n",
      "23/01/30 16:00:18 INFO OWLQN: Val and Grad Norm: 0.215059 (rel: 7.69e-06) 0.000199579\n",
      "23/01/30 16:00:18 INFO OWLQN: Step Size: 1.000\n",
      "23/01/30 16:00:18 INFO OWLQN: Val and Grad Norm: 0.215058 (rel: 1.86e-06) 0.000169456\n",
      "23/01/30 16:00:18 INFO OWLQN: Step Size: 1.000\n",
      "23/01/30 16:00:18 INFO OWLQN: Val and Grad Norm: 0.215058 (rel: 3.67e-06) 0.000187808\n",
      "23/01/30 16:00:18 INFO OWLQN: Step Size: 0.5000\n",
      "23/01/30 16:00:18 INFO OWLQN: Val and Grad Norm: 0.215057 (rel: 7.66e-07) 0.000291374\n",
      "23/01/30 16:00:18 INFO OWLQN: Step Size: 1.000\n",
      "23/01/30 16:00:18 INFO OWLQN: Val and Grad Norm: 0.215057 (rel: 4.93e-07) 0.000328908\n",
      "23/01/30 16:00:18 INFO OWLQN: Step Size: 1.000\n",
      "23/01/30 16:00:18 INFO OWLQN: Val and Grad Norm: 0.215057 (rel: 2.29e-06) 7.24670e-05\n",
      "23/01/30 16:00:18 INFO OWLQN: Step Size: 1.000\n",
      "23/01/30 16:00:18 INFO OWLQN: Val and Grad Norm: 0.215057 (rel: 9.47e-08) 5.55312e-05\n",
      "23/01/30 16:00:18 INFO OWLQN: Step Size: 1.000\n",
      "23/01/30 16:00:18 INFO OWLQN: Val and Grad Norm: 0.215057 (rel: 4.10e-08) 2.65775e-05\n",
      "23/01/30 16:00:18 INFO OWLQN: Step Size: 1.000\n",
      "23/01/30 16:00:18 INFO OWLQN: Val and Grad Norm: 0.215057 (rel: 3.04e-08) 1.68431e-05\n",
      "23/01/30 16:00:18 INFO OWLQN: Step Size: 1.000\n",
      "23/01/30 16:00:18 INFO OWLQN: Val and Grad Norm: 0.215057 (rel: 1.86e-08) 1.65289e-05\n",
      "23/01/30 16:00:18 INFO OWLQN: Step Size: 1.000\n",
      "23/01/30 16:00:18 INFO OWLQN: Val and Grad Norm: 0.215057 (rel: 9.66e-09) 1.18212e-05\n",
      "23/01/30 16:00:18 INFO OWLQN: Step Size: 1.000\n",
      "23/01/30 16:00:18 INFO OWLQN: Val and Grad Norm: 0.215057 (rel: 5.08e-09) 8.52983e-06\n",
      "23/01/30 16:00:18 INFO OWLQN: Step Size: 1.000\n",
      "23/01/30 16:00:18 INFO OWLQN: Val and Grad Norm: 0.215057 (rel: 5.65e-09) 1.24946e-05\n",
      "23/01/30 16:00:18 INFO OWLQN: Step Size: 1.000\n",
      "23/01/30 16:00:18 INFO OWLQN: Val and Grad Norm: 0.215057 (rel: 5.40e-09) 1.39554e-05\n",
      "23/01/30 16:00:18 INFO OWLQN: Step Size: 1.000\n",
      "23/01/30 16:00:18 INFO OWLQN: Val and Grad Norm: 0.215057 (rel: 3.93e-09) 1.30133e-05\n",
      "23/01/30 16:00:18 INFO OWLQN: Step Size: 1.000\n",
      "23/01/30 16:00:18 INFO OWLQN: Val and Grad Norm: 0.215057 (rel: 1.04e-09) 1.76063e-05\n",
      "23/01/30 16:00:18 INFO OWLQN: Step Size: 1.000\n",
      "23/01/30 16:00:18 INFO OWLQN: Val and Grad Norm: 0.215057 (rel: 4.03e-09) 1.58905e-05\n",
      "23/01/30 16:00:19 INFO OWLQN: Step Size: 1.000\n",
      "23/01/30 16:00:19 INFO OWLQN: Val and Grad Norm: 0.215057 (rel: 3.52e-09) 6.49463e-06\n",
      "23/01/30 16:00:19 INFO OWLQN: Step Size: 1.000\n",
      "23/01/30 16:00:19 INFO OWLQN: Val and Grad Norm: 0.215057 (rel: 1.16e-09) 3.62812e-06\n",
      "23/01/30 16:00:19 INFO OWLQN: Step Size: 1.000\n",
      "23/01/30 16:00:19 INFO OWLQN: Val and Grad Norm: 0.215057 (rel: 8.87e-10) 5.31184e-06\n",
      "23/01/30 16:00:19 INFO OWLQN: Step Size: 1.000\n",
      "23/01/30 16:00:19 INFO OWLQN: Val and Grad Norm: 0.215057 (rel: 4.19e-10) 5.51485e-06\n",
      "23/01/30 16:00:19 INFO OWLQN: Step Size: 1.000\n",
      "23/01/30 16:00:19 INFO OWLQN: Val and Grad Norm: 0.215057 (rel: 3.95e-10) 4.00632e-06\n",
      "23/01/30 16:00:19 INFO OWLQN: Step Size: 1.000\n",
      "23/01/30 16:00:19 INFO OWLQN: Val and Grad Norm: 0.215057 (rel: 3.15e-10) 2.00484e-06\n",
      "23/01/30 16:00:19 INFO OWLQN: Step Size: 1.000\n",
      "23/01/30 16:00:19 INFO OWLQN: Val and Grad Norm: 0.215057 (rel: 2.78e-10) 1.89526e-06\n",
      "23/01/30 16:00:19 INFO OWLQN: Step Size: 0.5000\n",
      "23/01/30 16:00:19 INFO OWLQN: Val and Grad Norm: 0.215057 (rel: 1.04e-10) 4.70124e-06\n",
      "23/01/30 16:00:19 INFO OWLQN: Converged because function values converged\n"
     ]
    },
    {
     "data": {
      "text/plain": [
       "\u001b[36mcvmodel1\u001b[39m: \u001b[32mCrossValidatorModel\u001b[39m = CrossValidatorModel: uid=cv_310b21052e7d, bestModel=LogisticRegressionModel: uid=logreg_c3d52860028e, numClasses=2, numFeatures=80, numFolds=10"
      ]
     },
     "execution_count": 258,
     "metadata": {},
     "output_type": "execute_result"
    }
   ],
   "source": [
    "// Run train validation split, and choose the best set of parameters.\n",
    "val cvmodel1 = xfoldValidator.fit(trainingDF2)"
   ]
  },
  {
   "cell_type": "code",
   "execution_count": 259,
   "metadata": {},
   "outputs": [
    {
     "data": {
      "text/plain": [
       "\u001b[36mlrModel2\u001b[39m: \u001b[32mModel\u001b[39m[\u001b[32m_\u001b[39m] = LogisticRegressionModel: uid=logreg_c3d52860028e, numClasses=2, numFeatures=80"
      ]
     },
     "execution_count": 259,
     "metadata": {},
     "output_type": "execute_result"
    }
   ],
   "source": [
    "val lrModel2 = cvmodel1.bestModel"
   ]
  },
  {
   "cell_type": "code",
   "execution_count": 260,
   "metadata": {
    "id": "480a09a44b824e02b93861fe41eee4d2"
   },
   "outputs": [
    {
     "name": "stdout",
     "output_type": "stream",
     "text": [
      "---Cross-fold validated Logistic Regression Model was fit using parameters:---{\n",
      "\tlogreg_c3d52860028e-aggregationDepth: 2,\n",
      "\tlogreg_c3d52860028e-elasticNetParam: 0.01,\n",
      "\tlogreg_c3d52860028e-family: binomial,\n",
      "\tlogreg_c3d52860028e-featuresCol: features,\n",
      "\tlogreg_c3d52860028e-fitIntercept: true,\n",
      "\tlogreg_c3d52860028e-labelCol: label,\n",
      "\tlogreg_c3d52860028e-maxBlockSizeInMB: 0.0,\n",
      "\tlogreg_c3d52860028e-maxIter: 100,\n",
      "\tlogreg_c3d52860028e-predictionCol: prediction,\n",
      "\tlogreg_c3d52860028e-probabilityCol: probability,\n",
      "\tlogreg_c3d52860028e-rawPredictionCol: rawPrediction,\n",
      "\tlogreg_c3d52860028e-regParam: 0.0025,\n",
      "\tlogreg_c3d52860028e-standardization: true,\n",
      "\tlogreg_c3d52860028e-threshold: 0.35,\n",
      "\tlogreg_c3d52860028e-tol: 1.0E-6\n",
      "}\n"
     ]
    }
   ],
   "source": [
    "// we can view the hyper-parameters for the best model selected by grid-search.\n",
    "// This prints the parameter (name: value) pairs, where names are unique IDs for this instance.\n",
    "\n",
    "println(s\"---Cross-fold validated Logistic Regression Model was fit using parameters:---${lrModel2.extractParamMap}\")"
   ]
  },
  {
   "cell_type": "code",
   "execution_count": 261,
   "metadata": {},
   "outputs": [
    {
     "name": "stdout",
     "output_type": "stream",
     "text": [
      "+-------------------+------------------+-------------------+\n",
      "|             Metric|           Class_0|            Class_1|\n",
      "+-------------------+------------------+-------------------+\n",
      "|  Prediction labels|               0.0|                1.0|\n",
      "| True Positive Rate| 0.957126830599436| 0.5419262098706277|\n",
      "|             Recall| 0.957126830599436| 0.5419262098706277|\n",
      "|          Precision|0.9428895725678784| 0.6153427638737758|\n",
      "|False Positive Rate|0.4580737901293723|0.04287316940056396|\n",
      "|          F-measure|0.9499548600662052| 0.5763057324840765|\n",
      "|     Total Accuracy|               0.0| 0.9104831112905396|\n",
      "|     Area Under ROC|               0.0| 0.9326249601072021|\n",
      "+-------------------+------------------+-------------------+\n",
      "\n"
     ]
    },
    {
     "data": {
      "text/plain": [
       "\u001b[36mlrmodel2_summary\u001b[39m: \u001b[32mDataFrame\u001b[39m = [Metric: string, Class_0: double ... 1 more field]"
      ]
     },
     "execution_count": 261,
     "metadata": {},
     "output_type": "execute_result"
    }
   ],
   "source": [
    "val lrmodel2_summary = getModelFitSummary(spark.sparkContext, lrModel2.asInstanceOf[LogisticRegressionModel])\n",
    "\n",
    "lrmodel2_summary.show(10)"
   ]
  },
  {
   "cell_type": "code",
   "execution_count": 262,
   "metadata": {},
   "outputs": [
    {
     "name": "stdout",
     "output_type": "stream",
     "text": [
      "+-------------------+-------------------+-------------------+------------------+-------------------+\n",
      "|             Metric|      Model1_Class0|      Model1_Class1|     Model2_Class0|      Model2_Class1|\n",
      "+-------------------+-------------------+-------------------+------------------+-------------------+\n",
      "|     Area Under ROC|                0.0| 0.9366489871543373|               0.0| 0.9326249601072021|\n",
      "|          F-measure| 0.9496091145991152| 0.5888751545117429|0.9499548600662052| 0.5763057324840765|\n",
      "|False Positive Rate|0.43245175125089347|0.04599695585996956|0.4580737901293723|0.04287316940056396|\n",
      "|          Precision| 0.9452554744525548|  0.611867454405343|0.9428895725678784| 0.6153427638737758|\n",
      "|  Prediction labels|                0.0|                1.0|               0.0|                1.0|\n",
      "|             Recall| 0.9540030441400305| 0.5675482487491065| 0.957126830599436| 0.5419262098706277|\n",
      "|     Total Accuracy|                0.0|  0.910222150241585|               0.0| 0.9104831112905396|\n",
      "| True Positive Rate| 0.9540030441400305| 0.5675482487491065| 0.957126830599436| 0.5419262098706277|\n",
      "+-------------------+-------------------+-------------------+------------------+-------------------+\n",
      "\n"
     ]
    }
   ],
   "source": [
    "lrmodel1_summary.createOrReplaceTempView(\"m1perf\");\n",
    "lrmodel2_summary.createOrReplaceTempView(\"m2perf\");\n",
    "\n",
    "spark.sql(\n",
    "    \"\"\"SELECT m1.Metric,\n",
    "    m1.Class_0 as Model1_Class0, m1.Class_1 as Model1_Class1,\n",
    "    m2.Class_0 as Model2_Class0, m2.Class_1 as Model2_Class1\n",
    "    from m1perf m1\n",
    "    inner join m2perf m2 on m2.Metric=m1.Metric\"\"\"\n",
    "    ).show();"
   ]
  },
  {
   "cell_type": "markdown",
   "metadata": {},
   "source": [
    "---\n",
    "## Evaluate model performance on test set"
   ]
  },
  {
   "cell_type": "code",
   "execution_count": 263,
   "metadata": {
    "id": "0120a162dfc74657a3a3443ec03cfd32"
   },
   "outputs": [
    {
     "data": {
      "text/plain": [
       "defined \u001b[32mfunction\u001b[39m \u001b[36mlogScoringMetric\u001b[39m"
      ]
     },
     "execution_count": 263,
     "metadata": {},
     "output_type": "execute_result"
    }
   ],
   "source": [
    "// Define a convenience function to calculate log-loss:\n",
    "def logScoringMetric(inputDF: DataFrame, predictProb:String=\"p1\", labelCol:String = \"label\"): Double = {\n",
    "    import org.apache.spark.sql.{DataFrame, Dataset, Row, SparkSession, functions}\n",
    "    import org.apache.spark.sql.functions.{col, udf, _}\n",
    "    import spark.implicits._\n",
    "\n",
    "    val testResultsLoglossDF = inputDF.withColumn(\n",
    "      \"loglossT1\",\n",
    "      col(\"label\") * org.apache.spark.sql.functions.log(col(\"p1\")) * -1.0\n",
    "    ).withColumn(\n",
    "      colName = \"loglossT2\",\n",
    "      org.apache.spark.sql.functions.expr(\"1 - p1\")\n",
    "    ).withColumn(\n",
    "      \"logloss\",\n",
    "      col(\"loglossT1\") + org.apache.spark.sql.functions.log(col(\"loglossT2\")) * expr(\"1 - label\")\n",
    "    ).drop(colNames = \"loglossT1\", \"loglossT2\")\n",
    "\n",
    "    val logloss: Any = testResultsLoglossDF.select(avg(\"logloss\")).collect()(0)(0);\n",
    "\n",
    "    return logloss.asInstanceOf[Double]\n",
    "}"
   ]
  },
  {
   "cell_type": "code",
   "execution_count": 264,
   "metadata": {
    "id": "faca9d9fb8804d9b8ce18811605b5c1f"
   },
   "outputs": [
    {
     "data": {
      "text/plain": [
       "defined \u001b[32mfunction\u001b[39m \u001b[36maddBinaryProbabilities\u001b[39m"
      ]
     },
     "execution_count": 264,
     "metadata": {},
     "output_type": "execute_result"
    }
   ],
   "source": [
    "// define a convenience function to split probability vector column into classs 1 probability column\n",
    "def addBinaryProbabilities(inputDF: org.apache.spark.sql.DataFrame, probCol:String = \"probability\"): DataFrame = {\n",
    "\n",
    "    import org.apache.spark.sql.{DataFrame, Dataset, Row, SparkSession, functions}\n",
    "    import org.apache.spark.sql.functions.{col, udf, _}\n",
    "    import spark.implicits._\n",
    "\n",
    "    // Breakup vector field \"probability\" into prob of class \"1\":\n",
    "    // Create a UDF to convert VectorUDT to ArrayType\n",
    "    val vecToArray = udf((xs: linalg.Vector) => xs.toArray)\n",
    "    // Add a ArrayType Column: PredictProbabArr\n",
    "    val dfProbArr = inputDF.withColumn(\"PredictProbabArr\", vecToArray($\"probability\"))\n",
    "    // Array of element names that need to be fetched:\n",
    "    val elements = Array(\"p0\", \"p1\")\n",
    "    // Create a SQL-like expression using the array\n",
    "    val sqlExpr = elements.zipWithIndex.map { case (alias, idx) => col(\"PredictProbabArr\").getItem(idx).as(alias) }\n",
    "    //add the columns to the dataframe\n",
    "    val testResultWithProbsDF = dfProbArr.select((col(\"*\") +: sqlExpr): _*)\n",
    "      .drop(colNames = \"PredictProbabArr\", \"p0\")\n",
    "\n",
    "    return testResultWithProbsDF\n",
    "}"
   ]
  },
  {
   "cell_type": "code",
   "execution_count": 266,
   "metadata": {
    "id": "e5049577a1f4465e822c4ae49b9e9948"
   },
   "outputs": [
    {
     "data": {
      "text/plain": [
       "\u001b[36mclass1ProbColName\u001b[39m: \u001b[32mString\u001b[39m = \u001b[32m\"p1\"\u001b[39m"
      ]
     },
     "execution_count": 266,
     "metadata": {},
     "output_type": "execute_result"
    }
   ],
   "source": [
    "// use specific column name to store class1 probabilities\n",
    "val class1ProbColName = \"p1\""
   ]
  },
  {
   "cell_type": "code",
   "execution_count": 271,
   "metadata": {},
   "outputs": [
    {
     "data": {
      "text/plain": [
       "\u001b[36mbinEvalPR\u001b[39m: \u001b[32mBinaryClassificationEvaluator\u001b[39m = BinaryClassificationEvaluator: uid=binEval_81eac8a5b98c, metricName=areaUnderPR, numBins=1000"
      ]
     },
     "execution_count": 271,
     "metadata": {},
     "output_type": "execute_result"
    }
   ],
   "source": [
    "val binEvalPR = new BinaryClassificationEvaluator()\n",
    "  .setMetricName(\"areaUnderPR\")\n",
    "  .setLabelCol(labelColname)"
   ]
  },
  {
   "cell_type": "code",
   "execution_count": 272,
   "metadata": {},
   "outputs": [
    {
     "data": {
      "text/plain": [
       "\u001b[36mbinEvalROC\u001b[39m: \u001b[32mBinaryClassificationEvaluator\u001b[39m = BinaryClassificationEvaluator: uid=binEval_2a47427bae4b, metricName=areaUnderROC, numBins=1000"
      ]
     },
     "execution_count": 272,
     "metadata": {},
     "output_type": "execute_result"
    }
   ],
   "source": [
    "val binEvalROC = new BinaryClassificationEvaluator().setLabelCol(labelColname)"
   ]
  },
  {
   "cell_type": "markdown",
   "metadata": {},
   "source": [
    "### Evaluate Logistic Regression Models"
   ]
  },
  {
   "cell_type": "code",
   "execution_count": 275,
   "metadata": {
    "id": "e5049577a1f4465e822c4ae49b9e9948"
   },
   "outputs": [
    {
     "name": "stdout",
     "output_type": "stream",
     "text": [
      "Generating inferences on test set for -> Logistic Regression models:\n"
     ]
    },
    {
     "data": {
      "text/plain": [
       "\u001b[36mtestResultLR1\u001b[39m: \u001b[32mDataFrame\u001b[39m = [age: double, job: string ... 44 more fields]\n",
       "\u001b[36mtestResultLR2\u001b[39m: \u001b[32mDataFrame\u001b[39m = [age: double, job: string ... 38 more fields]"
      ]
     },
     "execution_count": 275,
     "metadata": {},
     "output_type": "execute_result"
    }
   ],
   "source": [
    "// Make predictions on test data using the Transformer.transform() method.\n",
    "// Note: model.transform will only use the 'features' column.\n",
    "println(\"Generating inferences on test set for -> Logistic Regression models:\")\n",
    "\n",
    "val testResultLR1 = lrModel1.transform(testDF);\n",
    "val testResultLR2 = lrModel2.transform(testDF2);"
   ]
  },
  {
   "cell_type": "code",
   "execution_count": 273,
   "metadata": {
    "id": "e5049577a1f4465e822c4ae49b9e9948"
   },
   "outputs": [
    {
     "name": "stdout",
     "output_type": "stream",
     "text": [
      "Logistic Regression Model 1: For test set, Area under Precision-Recall curve is: 0.5875903105939474\n",
      "Logistic Regression Model 1: For test set, Area under ROC curve is: 0.9295516336693499\n"
     ]
    }
   ],
   "source": [
    "println(\"Logistic Regression Model 1: For test set, Area under Precision-Recall curve is: \" + binEvalPR.evaluate(testResultLR1).doubleValue());\n",
    "\n",
    "println(\"Logistic Regression Model 1: For test set, Area under ROC curve is: \" + binEvalROC.evaluate(testResultLR1).doubleValue());"
   ]
  },
  {
   "cell_type": "code",
   "execution_count": 274,
   "metadata": {
    "id": "e5049577a1f4465e822c4ae49b9e9948"
   },
   "outputs": [
    {
     "name": "stdout",
     "output_type": "stream",
     "text": [
      "Logistic Regression Model 2: For test set, Area under Precision-Recall curve is: 0.5851839562542677\n",
      "Logistic Regression Model 2: For test set, Area under ROC curve is: 0.9287183059783829\n"
     ]
    }
   ],
   "source": [
    "println(\"Logistic Regression Model 2: For test set, Area under Precision-Recall curve is: \" + binEvalPR.evaluate(testResultLR2).doubleValue());\n",
    "\n",
    "println(\"Logistic Regression Model 2: For test set, Area under ROC curve is: \" + binEvalROC.evaluate(testResultLR2).doubleValue());"
   ]
  },
  {
   "cell_type": "markdown",
   "metadata": {},
   "source": [
    "---\n",
    "## Train a Gradient Boosted Trees Model"
   ]
  },
  {
   "cell_type": "code",
   "execution_count": 276,
   "metadata": {
    "id": "a1168391ae1d4d59ad19b7fbe75b5369"
   },
   "outputs": [
    {
     "data": {
      "text/plain": [
       "\u001b[36mgbt\u001b[39m: \u001b[32mGBTClassifier\u001b[39m = gbtc_78e536cb4af2"
      ]
     },
     "execution_count": 276,
     "metadata": {},
     "output_type": "execute_result"
    }
   ],
   "source": [
    "val gbt = new GBTClassifier()\n",
    "      .setLabelCol(labelColname)\n",
    "      .setFeaturesCol(\"features\")\n",
    "      .setMaxIter(10)\n",
    "      .setStepSize(0.4)\n",
    "      .setMaxBins(32)\n",
    "      .setFeatureSubsetStrategy(\"auto\")"
   ]
  },
  {
   "cell_type": "code",
   "execution_count": 277,
   "metadata": {
    "id": "a1168391ae1d4d59ad19b7fbe75b5369"
   },
   "outputs": [
    {
     "name": "stdout",
     "output_type": "stream",
     "text": [
      "---Gradient Boosted Decision Trees parameters for training:---\n",
      " cacheNodeIds: If false, the algorithm will pass trees to executors to match instances with nodes. If true, the algorithm will cache node IDs for each instance. Caching can speed up training of deeper trees. (default: false)\n",
      "checkpointInterval: set checkpoint interval (>= 1) or disable checkpoint (-1). E.g. 10 means that the cache will get checkpointed every 10 iterations. Note: this setting will be ignored if the checkpoint directory is not set in the SparkContext (default: 10)\n",
      "featureSubsetStrategy: The number of features to consider for splits at each tree node. Supported options: auto, all, onethird, sqrt, log2, (0.0-1.0], [1-n]. (default: all, current: auto)\n",
      "featuresCol: features column name (default: features, current: features)\n",
      "impurity: Criterion used for information gain calculation (case-insensitive). Supported options: variance (default: variance)\n",
      "labelCol: label column name (default: label, current: label)\n",
      "leafCol: Leaf indices column name. Predicted leaf index of each instance in each tree by preorder (default: )\n",
      "lossType: Loss function which GBT tries to minimize (case-insensitive). Supported options: logistic (default: logistic)\n",
      "maxBins: Max number of bins for discretizing continuous features.  Must be at least 2 and at least number of categories for any categorical feature. (default: 32, current: 32)\n",
      "maxDepth: Maximum depth of the tree. (Nonnegative) E.g., depth 0 means 1 leaf node; depth 1 means 1 internal node + 2 leaf nodes. Must be in range [0, 30]. (default: 5)\n",
      "maxIter: maximum number of iterations (>= 0) (default: 20, current: 10)\n",
      "maxMemoryInMB: Maximum memory in MB allocated to histogram aggregation. (default: 256)\n",
      "minInfoGain: Minimum information gain for a split to be considered at a tree node. (default: 0.0)\n",
      "minInstancesPerNode: Minimum number of instances each child must have after split.  If a split causes the left or right child to have fewer than minInstancesPerNode, the split will be discarded as invalid. Must be at least 1. (default: 1)\n",
      "minWeightFractionPerNode: Minimum fraction of the weighted sample count that each child must have after split. If a split causes the fraction of the total weight in the left or right child to be less than minWeightFractionPerNode, the split will be discarded as invalid. Should be in interval [0.0, 0.5) (default: 0.0)\n",
      "predictionCol: prediction column name (default: prediction)\n",
      "probabilityCol: Column name for predicted class conditional probabilities. Note: Not all models output well-calibrated probability estimates! These probabilities should be treated as confidences, not precise probabilities (default: probability)\n",
      "rawPredictionCol: raw prediction (a.k.a. confidence) column name (default: rawPrediction)\n",
      "seed: random seed (default: -1287390502)\n",
      "stepSize: Step size (a.k.a. learning rate) in interval (0, 1] for shrinking the contribution of each estimator. (default: 0.1, current: 0.4)\n",
      "subsamplingRate: Fraction of the training data used for learning each decision tree, in range (0, 1]. (default: 1.0)\n",
      "thresholds: Thresholds in multi-class classification to adjust the probability of predicting each class. Array must have length equal to the number of classes, with values > 0 excepting that at most one value may be 0. The class with largest value p/t is predicted, where p is the original probability of that class and t is the class's threshold (undefined)\n",
      "validationIndicatorCol: name of the column that indicates whether each row is for training or for validation. False indicates training; true indicates validation. (undefined)\n",
      "validationTol: Threshold for stopping early when fit with validation is used.If the error rate on the validation input changes by less than the validationTol,then learning will stop early (before `maxIter`).This parameter is ignored when fit without validation is used. (default: 0.01)\n",
      "weightCol: weight column name. If this is not set or empty, we treat all instance weights as 1.0 (undefined)\n",
      "\n"
     ]
    }
   ],
   "source": [
    "// Print out the parameters, documentation, and any default values.\n",
    "println(s\"---Gradient Boosted Decision Trees parameters for training:---\\n ${gbt.explainParams()}\\n\")"
   ]
  },
  {
   "cell_type": "code",
   "execution_count": 278,
   "metadata": {
    "id": "a1168391ae1d4d59ad19b7fbe75b5369"
   },
   "outputs": [
    {
     "data": {
      "text/plain": [
       "\u001b[36mgbdtModel1\u001b[39m: \u001b[32mml\u001b[39m.\u001b[32mclassification\u001b[39m.\u001b[32mGBTClassificationModel\u001b[39m = GBTClassificationModel: uid = gbtc_78e536cb4af2, numTrees=10, numClasses=2, numFeatures=50"
      ]
     },
     "execution_count": 278,
     "metadata": {},
     "output_type": "execute_result"
    }
   ],
   "source": [
    "val gbdtModel1 = gbt.fit(trainingDF)"
   ]
  },
  {
   "cell_type": "code",
   "execution_count": 279,
   "metadata": {},
   "outputs": [
    {
     "data": {
      "text/plain": [
       "\u001b[36mres278\u001b[39m: \u001b[32mInt\u001b[39m = \u001b[32m2\u001b[39m"
      ]
     },
     "execution_count": 279,
     "metadata": {},
     "output_type": "execute_result"
    }
   ],
   "source": [
    "gbdtModel1.numClasses"
   ]
  },
  {
   "cell_type": "code",
   "execution_count": 280,
   "metadata": {
    "id": "a1168391ae1d4d59ad19b7fbe75b5369"
   },
   "outputs": [
    {
     "data": {
      "text/plain": [
       "\u001b[36mgbdtParamGrid\u001b[39m: \u001b[32mArray\u001b[39m[\u001b[32mml\u001b[39m.\u001b[32mparam\u001b[39m.\u001b[32mParamMap\u001b[39m] = \u001b[33mArray\u001b[39m(\n",
       "  {\n",
       "\tgbtc_78e536cb4af2-maxDepth: 4,\n",
       "\tgbtc_78e536cb4af2-minInstancesPerNode: 4\n",
       "},\n",
       "  {\n",
       "\tgbtc_78e536cb4af2-maxDepth: 5,\n",
       "\tgbtc_78e536cb4af2-minInstancesPerNode: 4\n",
       "},\n",
       "  {\n",
       "\tgbtc_78e536cb4af2-maxDepth: 4,\n",
       "\tgbtc_78e536cb4af2-minInstancesPerNode: 8\n",
       "},\n",
       "  {\n",
       "\tgbtc_78e536cb4af2-maxDepth: 5,\n",
       "\tgbtc_78e536cb4af2-minInstancesPerNode: 8\n",
       "}\n",
       ")"
      ]
     },
     "execution_count": 280,
     "metadata": {},
     "output_type": "execute_result"
    }
   ],
   "source": [
    "val gbdtParamGrid = new ParamGridBuilder()\n",
    "  .addGrid(gbt.minInstancesPerNode, Array(4,8))\n",
    "  .addGrid(gbt.maxDepth, Array(4, 5))\n",
    "  .build()"
   ]
  },
  {
   "cell_type": "code",
   "execution_count": 281,
   "metadata": {
    "id": "a1168391ae1d4d59ad19b7fbe75b5369"
   },
   "outputs": [
    {
     "data": {
      "text/plain": [
       "\u001b[36mbinaryEvaluator\u001b[39m: \u001b[32mBinaryClassificationEvaluator\u001b[39m = BinaryClassificationEvaluator: uid=binEval_181899c3ccfa, metricName=areaUnderPR, numBins=1000"
      ]
     },
     "execution_count": 281,
     "metadata": {},
     "output_type": "execute_result"
    }
   ],
   "source": [
    "val binaryEvaluator = new BinaryClassificationEvaluator()\n",
    "  .setLabelCol(labelColname)\n",
    "  .setMetricName(\"areaUnderPR\");"
   ]
  },
  {
   "cell_type": "code",
   "execution_count": 282,
   "metadata": {
    "id": "a1168391ae1d4d59ad19b7fbe75b5369"
   },
   "outputs": [
    {
     "data": {
      "text/plain": [
       "\u001b[36mxfoldValidator\u001b[39m: \u001b[32mCrossValidator\u001b[39m = cv_5d3faabb4550"
      ]
     },
     "execution_count": 282,
     "metadata": {},
     "output_type": "execute_result"
    }
   ],
   "source": [
    "val xfoldValidator = new CrossValidator()\n",
    "  .setEstimator(gbt)\n",
    "  .setNumFolds(10)\n",
    "  .setEvaluator(binaryEvaluator)\n",
    "  .setEstimatorParamMaps(gbdtParamGrid)\n",
    "  .setCollectSubModels(false)\n",
    "  .setParallelism(2)"
   ]
  },
  {
   "cell_type": "code",
   "execution_count": 291,
   "metadata": {
    "id": "a1168391ae1d4d59ad19b7fbe75b5369"
   },
   "outputs": [
    {
     "name": "stderr",
     "output_type": "stream",
     "text": [
      "23/01/30 16:28:58 INFO SparkMLDemo: Started training GBDT model via x-fold cross validation\n",
      "23/01/30 16:35:12 INFO SparkMLDemo: Finished training the GBDT model.\n"
     ]
    },
    {
     "data": {
      "text/plain": [
       "\u001b[36mgbdtModelCV\u001b[39m: \u001b[32mCrossValidatorModel\u001b[39m = CrossValidatorModel: uid=cv_5d3faabb4550, bestModel=GBTClassificationModel: uid = gbtc_78e536cb4af2, numTrees=10, numClasses=2, numFeatures=80, numFolds=10"
      ]
     },
     "execution_count": 291,
     "metadata": {},
     "output_type": "execute_result"
    }
   ],
   "source": [
    "// Run train validation split, and choose the best set of parameters.\n",
    "logger.info(\"Started training GBDT model via x-fold cross validation\")\n",
    "val gbdtModelCV = xfoldValidator.fit(trainingDF2)\n",
    "logger.info(\"Finished training the GBDT model.\")"
   ]
  },
  {
   "cell_type": "code",
   "execution_count": 292,
   "metadata": {},
   "outputs": [
    {
     "data": {
      "text/plain": [
       "\u001b[36mgbdtModel2\u001b[39m: \u001b[32mModel\u001b[39m[\u001b[32m_\u001b[39m] = GBTClassificationModel: uid = gbtc_78e536cb4af2, numTrees=10, numClasses=2, numFeatures=80"
      ]
     },
     "execution_count": 292,
     "metadata": {},
     "output_type": "execute_result"
    }
   ],
   "source": [
    "val gbdtModel2 = gbdtModelCV.bestModel"
   ]
  },
  {
   "cell_type": "code",
   "execution_count": 293,
   "metadata": {
    "id": "a1168391ae1d4d59ad19b7fbe75b5369"
   },
   "outputs": [
    {
     "name": "stdout",
     "output_type": "stream",
     "text": [
      "{\n",
      "\tgbtc_78e536cb4af2-cacheNodeIds: false,\n",
      "\tgbtc_78e536cb4af2-checkpointInterval: 10,\n",
      "\tgbtc_78e536cb4af2-featureSubsetStrategy: auto,\n",
      "\tgbtc_78e536cb4af2-featuresCol: features,\n",
      "\tgbtc_78e536cb4af2-impurity: variance,\n",
      "\tgbtc_78e536cb4af2-labelCol: label,\n",
      "\tgbtc_78e536cb4af2-leafCol: ,\n",
      "\tgbtc_78e536cb4af2-lossType: logistic,\n",
      "\tgbtc_78e536cb4af2-maxBins: 32,\n",
      "\tgbtc_78e536cb4af2-maxDepth: 4,\n",
      "\tgbtc_78e536cb4af2-maxIter: 10,\n",
      "\tgbtc_78e536cb4af2-maxMemoryInMB: 256,\n",
      "\tgbtc_78e536cb4af2-minInfoGain: 0.0,\n",
      "\tgbtc_78e536cb4af2-minInstancesPerNode: 8,\n",
      "\tgbtc_78e536cb4af2-minWeightFractionPerNode: 0.0,\n",
      "\tgbtc_78e536cb4af2-predictionCol: prediction,\n",
      "\tgbtc_78e536cb4af2-probabilityCol: probability,\n",
      "\tgbtc_78e536cb4af2-rawPredictionCol: rawPrediction,\n",
      "\tgbtc_78e536cb4af2-seed: -1287390502,\n",
      "\tgbtc_78e536cb4af2-stepSize: 0.4,\n",
      "\tgbtc_78e536cb4af2-subsamplingRate: 1.0,\n",
      "\tgbtc_78e536cb4af2-validationTol: 0.01\n",
      "}\n"
     ]
    }
   ],
   "source": [
    "// This prints the parameter (name: value) pairs, where names are unique IDs for this instance.\n",
    "println( gbdtModel2.extractParamMap )"
   ]
  },
  {
   "cell_type": "markdown",
   "metadata": {},
   "source": [
    "### Evaluate Gradient Boosted Decision Trees Model"
   ]
  },
  {
   "cell_type": "code",
   "execution_count": 294,
   "metadata": {},
   "outputs": [
    {
     "data": {
      "text/plain": [
       "\u001b[36mtestResultGBDT1\u001b[39m: \u001b[32mDataFrame\u001b[39m = [age: double, job: string ... 44 more fields]\n",
       "\u001b[36mtestResultGBDT2\u001b[39m: \u001b[32mDataFrame\u001b[39m = [age: double, job: string ... 38 more fields]"
      ]
     },
     "execution_count": 294,
     "metadata": {},
     "output_type": "execute_result"
    }
   ],
   "source": [
    "val testResultGBDT1 = gbdtModel1.transform(testDF);\n",
    "val testResultGBDT2 = gbdtModel2.transform(testDF2);"
   ]
  },
  {
   "cell_type": "code",
   "execution_count": 289,
   "metadata": {},
   "outputs": [
    {
     "name": "stdout",
     "output_type": "stream",
     "text": [
      "Gradient Boosted Decision Trees Model 1: For test set, Area under Precision-Recall curve is: 0.6252967079198892\n",
      "Gradient Boosted Decision Trees Model 1: For test set, Area under ROC curve is: 0.9387421301490524\n"
     ]
    }
   ],
   "source": [
    "println(\n",
    "    \"Gradient Boosted Decision Trees Model 1: For test set, Area under Precision-Recall curve is: \" + binEvalPR.evaluate(testResultGBDT1).doubleValue()\n",
    ");\n",
    "\n",
    "println(\n",
    "    \"Gradient Boosted Decision Trees Model 1: For test set, Area under ROC curve is: \" + binEvalROC.evaluate(testResultGBDT1).doubleValue()\n",
    ");"
   ]
  },
  {
   "cell_type": "code",
   "execution_count": 295,
   "metadata": {},
   "outputs": [
    {
     "name": "stdout",
     "output_type": "stream",
     "text": [
      "Gradient Boosted Decision Trees Model 2: For test set, Area under Precision-Recall curve is: 0.6671679471854852\n",
      "Gradient Boosted Decision Trees Model 2: For test set, Area under ROC curve is: 0.9450175728633119\n"
     ]
    }
   ],
   "source": [
    "println(\"Gradient Boosted Decision Trees Model 2: For test set, Area under Precision-Recall curve is: \" + binEvalPR.evaluate(testResultGBDT2).doubleValue());\n",
    "\n",
    "println(\"Gradient Boosted Decision Trees Model 2: For test set, Area under ROC curve is: \" + binEvalROC.evaluate(testResultGBDT2).doubleValue());"
   ]
  },
  {
   "cell_type": "markdown",
   "metadata": {},
   "source": [
    "## Persisting Models to Storage\n",
    "\n",
    "All models and pipelines can be saved to disk.\n",
    "\n",
    "The default data format for saving to disk is Parquet which also compresses the data structure using SNAPPY compression."
   ]
  },
  {
   "cell_type": "code",
   "execution_count": 278,
   "metadata": {
    "id": "a53a16549a4d4cda8c573f97a4fc691b"
   },
   "outputs": [
    {
     "name": "stdout",
     "output_type": "stream",
     "text": [
      "Now writing fitted LR model 1 to disk at: /tmp/lrmodel1\n"
     ]
    },
    {
     "name": "stderr",
     "output_type": "stream",
     "text": [
      "23/01/30 01:21:31 INFO FileOutputCommitter: File Output Committer Algorithm version is 1\n",
      "23/01/30 01:21:31 INFO FileOutputCommitter: FileOutputCommitter skip cleanup _temporary folders under output directory:false, ignore cleanup failures: false\n",
      "23/01/30 01:21:32 INFO FileOutputCommitter: File Output Committer Algorithm version is 1\n",
      "23/01/30 01:21:32 INFO FileOutputCommitter: FileOutputCommitter skip cleanup _temporary folders under output directory:false, ignore cleanup failures: false\n",
      "23/01/30 01:21:32 INFO FileOutputCommitter: File Output Committer Algorithm version is 1\n",
      "23/01/30 01:21:32 INFO FileOutputCommitter: FileOutputCommitter skip cleanup _temporary folders under output directory:false, ignore cleanup failures: false\n"
     ]
    }
   ],
   "source": [
    "println(\"Now writing fitted LR model 1 to disk at: /tmp/lrmodel1\")\n",
    "lrModel1.write.overwrite().save(\"/tmp/lrmodel1\")"
   ]
  },
  {
   "cell_type": "code",
   "execution_count": 279,
   "metadata": {},
   "outputs": [
    {
     "name": "stdout",
     "output_type": "stream",
     "text": [
      "Now writing fitted LR model 2 to disk at: /tmp/lrmodel2\n"
     ]
    },
    {
     "name": "stderr",
     "output_type": "stream",
     "text": [
      "23/01/30 01:21:33 INFO FileOutputCommitter: File Output Committer Algorithm version is 1\n",
      "23/01/30 01:21:33 INFO FileOutputCommitter: FileOutputCommitter skip cleanup _temporary folders under output directory:false, ignore cleanup failures: false\n",
      "23/01/30 01:21:33 INFO FileOutputCommitter: File Output Committer Algorithm version is 1\n",
      "23/01/30 01:21:33 INFO FileOutputCommitter: FileOutputCommitter skip cleanup _temporary folders under output directory:false, ignore cleanup failures: false\n",
      "23/01/30 01:21:33 INFO FileOutputCommitter: File Output Committer Algorithm version is 1\n",
      "23/01/30 01:21:33 INFO FileOutputCommitter: FileOutputCommitter skip cleanup _temporary folders under output directory:false, ignore cleanup failures: false\n"
     ]
    }
   ],
   "source": [
    "println(\"Now writing fitted LR model 2 to disk at: /tmp/lrmodel2\")\n",
    "lrModel1.write.overwrite().save(\"/tmp/lrmodel2\")"
   ]
  },
  {
   "cell_type": "code",
   "execution_count": 296,
   "metadata": {},
   "outputs": [
    {
     "name": "stdout",
     "output_type": "stream",
     "text": [
      "+----+-------+-------+-----------+---------+-------+----+----------+----------+-----------+--------+--------+-----+--------+-----------+------------+--------------+-------------+---------+-----------+---+-----+--------------+------------------+----------+\n",
      "| age|    job|marital|  education|defaulted|housing|loan|contact_no|month_name|day_of_week|duration|campaign|pdays|previous|   poutcome|emp_var_rate|cons_price_idx|cons_conf_idx|euribor3m|nr_employed|  y|label|idx_month_name|vec_idx_month_name|prediction|\n",
      "+----+-------+-------+-----------+---------+-------+----+----------+----------+-----------+--------+--------+-----+--------+-----------+------------+--------------+-------------+---------+-----------+---+-----+--------------+------------------+----------+\n",
      "|18.0|student| single|   basic.4y|       no|    yes| yes|  cellular|       apr|        thu|   184.0|     2.0|999.0|     0.0|nonexistent|        -1.8|        93.075|        -47.1|    1.365|     5099.1| no|  0.0|           5.0|     (9,[5],[1.0])|       0.0|\n",
      "|19.0|student| single|   basic.9y|       no|    yes|  no|  cellular|       apr|        tue|   299.0|     1.0|999.0|     0.0|nonexistent|        -1.8|        93.075|        -47.1|    1.453|     5099.1|yes|  1.0|           5.0|     (9,[5],[1.0])|       0.0|\n",
      "|19.0|student| single|   basic.9y|       no|    yes|  no|  cellular|       mar|        fri|   126.0|     4.0|999.0|     0.0|nonexistent|        -1.8|        92.843|        -50.0|     1.64|     5099.1|yes|  1.0|           8.0|     (9,[8],[1.0])|       0.0|\n",
      "|20.0| admin.| single|high.school|       no|     no|  no|  cellular|       jul|        wed|   208.0|     4.0|999.0|     0.0|nonexistent|         1.4|        93.918|        -42.7|    4.962|     5228.1| no|  0.0|           1.0|     (9,[1],[1.0])|       0.0|\n",
      "+----+-------+-------+-----------+---------+-------+----+----------+----------+-----------+--------+--------+-----+--------+-----------+------------+--------------+-------------+---------+-----------+---+-----+--------------+------------------+----------+\n",
      "only showing top 4 rows\n",
      "\n"
     ]
    },
    {
     "data": {
      "text/html": [
       "<div class=\"jp-RenderedText\">\n",
       "<pre><code><span style=\"color: rgb(0, 187, 187)\"><span class=\"ansi-cyan-fg\">droppedTestDF</span></span>: <span style=\"color: rgb(0, 187, 0)\"><span class=\"ansi-green-fg\">DataFrame</span></span> = [age: double, job: string ... 23 more fields]</code></pre>\n",
       "</div>"
      ],
      "text/plain": [
       "\u001b[36mdroppedTestDF\u001b[39m: \u001b[32mDataFrame\u001b[39m = [age: double, job: string ... 23 more fields]"
      ]
     },
     "metadata": {},
     "output_type": "display_data"
    }
   ],
   "source": [
    "// first, remove any vector columns since they cannot be written to a csv file:\n",
    "var droppedTestDF = testResultLR1.drop(\"features\", \"numericalfeatures\", \"scaledfeatures\",\n",
    "      \"rawPrediction\", \"probability\", \"idx_job\", \"idx_marital\", \"idx_education\", \"idx_defaulted\",\n",
    "      \"idx_housing\", \"idx_loan\", \"idx_day_of_week\", \"idx_poutcome\", \"vec_idx_job\", \"vec_idx_marital\",\n",
    "      \"vec_idx_education\", \"vec_idx_defaulted\", \"vec_idx_housing\", \"vec_idx_loan\", \"vec_idx_day_of_week\",\n",
    "      \"vec_idx_poutcome\")\n",
    "\n",
    "droppedTestDF.show(4)"
   ]
  },
  {
   "cell_type": "code",
   "execution_count": 281,
   "metadata": {},
   "outputs": [
    {
     "name": "stderr",
     "output_type": "stream",
     "text": [
      "23/01/30 01:21:42 INFO FileOutputCommitter: File Output Committer Algorithm version is 1\n",
      "23/01/30 01:21:42 INFO FileOutputCommitter: FileOutputCommitter skip cleanup _temporary folders under output directory:false, ignore cleanup failures: false\n"
     ]
    }
   ],
   "source": [
    "droppedTestDF.coalesce(numPartitions = 1)\n",
    "      .write.option(\"header\", value = true)\n",
    "      .mode(saveMode = \"overwrite\")\n",
    "      .csv(\"/tmp/lr1_predictions.csv\");"
   ]
  },
  {
   "cell_type": "markdown",
   "metadata": {},
   "source": [
    "---\n",
    "## Apache Spark GraphX Demo\n"
   ]
  },
  {
   "cell_type": "code",
   "execution_count": 63,
   "metadata": {},
   "outputs": [
    {
     "data": {
      "text/plain": [
       "\u001b[32mimport \u001b[39m\u001b[36mspark.implicits._\u001b[39m"
      ]
     },
     "execution_count": 63,
     "metadata": {},
     "output_type": "execute_result"
    }
   ],
   "source": [
    "// For implicit conversions like converting RDDs to DataFrames\n",
    "import spark.implicits._"
   ]
  },
  {
   "cell_type": "code",
   "execution_count": 61,
   "metadata": {},
   "outputs": [
    {
     "data": {
      "text/plain": [
       "defined \u001b[32mfunction\u001b[39m \u001b[36mprintAllEdges\u001b[39m"
      ]
     },
     "execution_count": 61,
     "metadata": {},
     "output_type": "execute_result"
    }
   ],
   "source": [
    "// define convenience function to print all edges of a graph:\n",
    "def printAllEdges( graph: Graph[(String, String), String] ): Unit = {\n",
    "    val facts: RDD[String] = graph.triplets.map(triplet => \n",
    "      \"(\" + triplet.srcAttr._1 + \") -- \" + triplet.attr + \" -- (\" + triplet.dstAttr._1 + \")\" );\n",
    "\n",
    "    facts.collect.foreach(println(_))\n",
    "}"
   ]
  },
  {
   "cell_type": "code",
   "execution_count": 62,
   "metadata": {},
   "outputs": [
    {
     "data": {
      "text/plain": [
       "defined \u001b[32mfunction\u001b[39m \u001b[36mprintGraphProperties\u001b[39m"
      ]
     },
     "execution_count": 62,
     "metadata": {},
     "output_type": "execute_result"
    }
   ],
   "source": [
    "def printGraphProperties(graph: Graph[(String, String), String] ): Unit = {\n",
    "    // graph operators:\n",
    "    println( \"Num of edges = \" + graph.numEdges )\n",
    "    println( \"Num of vertices = \" + graph.numVertices )\n",
    "    println( \"Num of inDegrees = \" + graph.inDegrees.count() )\n",
    "    println( \"Num of outDegrees = \" + graph.outDegrees.count() )\n",
    "    println( \"Num of degrees = \" + graph.degrees.count() )\n",
    "}"
   ]
  },
  {
   "cell_type": "markdown",
   "metadata": {},
   "source": [
    "### Sample Graph"
   ]
  },
  {
   "cell_type": "code",
   "execution_count": 64,
   "metadata": {},
   "outputs": [
    {
     "data": {
      "text/plain": [
       "\u001b[36musers\u001b[39m: \u001b[32mRDD\u001b[39m[(\u001b[32mVertexId\u001b[39m, (\u001b[32mString\u001b[39m, \u001b[32mString\u001b[39m))] = ParallelCollectionRDD[123] at parallelize at cmd63.sc:2"
      ]
     },
     "execution_count": 64,
     "metadata": {},
     "output_type": "execute_result"
    }
   ],
   "source": [
    "// Create an RDD for the vertices\n",
    "val users: RDD[(VertexId, (String, String))] =\n",
    "  sc.parallelize( Array(\n",
    "        (3L, (\"rxin\", \"student\"))\n",
    "      , (7L, (\"jgonzal\", \"postdoc\"))\n",
    "      , (1L, (\"somebody\", \"postdoc\"))\n",
    "      , (5L, (\"franklin\", \"prof\"))\n",
    "      , (2L, (\"istoica\", \"prof\"))\n",
    "      , (10L, (\"hoityToity\", \"student\"))\n",
    "     )\n",
    "   )"
   ]
  },
  {
   "cell_type": "code",
   "execution_count": 65,
   "metadata": {},
   "outputs": [
    {
     "data": {
      "text/plain": [
       "\u001b[36mrelationships\u001b[39m: \u001b[32mRDD\u001b[39m[\u001b[32mEdge\u001b[39m[\u001b[32mString\u001b[39m]] = ParallelCollectionRDD[124] at parallelize at cmd64.sc:2"
      ]
     },
     "execution_count": 65,
     "metadata": {},
     "output_type": "execute_result"
    }
   ],
   "source": [
    "// Create an RDD for edges\n",
    "val relationships: RDD[Edge[String]] =\n",
    "  sc.parallelize(\n",
    "      Array(\n",
    "      Edge(3L, 7L, \"collab\")\n",
    "      , Edge(5L, 3L, \"advisor\")\n",
    "      , Edge(2L, 5L, \"colleague\")\n",
    "      , Edge(5L, 7L, \"pi\")\n",
    "      , Edge(10L, 5L, \"friend\")\n",
    "      , Edge(10L, 1L, \"friend\")\n",
    "      )\n",
    "    )"
   ]
  },
  {
   "cell_type": "code",
   "execution_count": 66,
   "metadata": {},
   "outputs": [
    {
     "data": {
      "text/plain": [
       "\u001b[36mdefaultUser\u001b[39m: (\u001b[32mString\u001b[39m, \u001b[32mString\u001b[39m) = (\u001b[32m\"John Doe\"\u001b[39m, \u001b[32m\"Missing\"\u001b[39m)\r\n",
       "\u001b[36mgraph\u001b[39m: \u001b[32mGraph\u001b[39m[(\u001b[32mString\u001b[39m, \u001b[32mString\u001b[39m), \u001b[32mString\u001b[39m] = org.apache.spark.graphx.impl.GraphImpl@5ae6fd3f"
      ]
     },
     "execution_count": 66,
     "metadata": {},
     "output_type": "execute_result"
    }
   ],
   "source": [
    "// Define a default user in case there are relationship with missing user\n",
    "val defaultUser = (\"John Doe\", \"Missing\")\n",
    "\n",
    "// Build the initial Graph\n",
    "val graph = Graph(users, relationships, defaultUser)"
   ]
  },
  {
   "cell_type": "code",
   "execution_count": 67,
   "metadata": {},
   "outputs": [
    {
     "name": "stdout",
     "output_type": "stream",
     "text": [
      "Caching the graph:\n"
     ]
    },
    {
     "data": {
      "text/plain": [
       "\u001b[36mres66_1\u001b[39m: \u001b[32mGraph\u001b[39m[(\u001b[32mString\u001b[39m, \u001b[32mString\u001b[39m), \u001b[32mString\u001b[39m] = org.apache.spark.graphx.impl.GraphImpl@5ae6fd3f"
      ]
     },
     "execution_count": 67,
     "metadata": {},
     "output_type": "execute_result"
    }
   ],
   "source": [
    "println(\"Caching the graph:\")\n",
    "graph.cache()"
   ]
  },
  {
   "cell_type": "code",
   "execution_count": 71,
   "metadata": {},
   "outputs": [
    {
     "name": "stdout",
     "output_type": "stream",
     "text": [
      "(rxin) -- collab -- (jgonzal)\n",
      "(franklin) -- advisor -- (rxin)\n",
      "(istoica) -- colleague -- (franklin)\n",
      "(franklin) -- pi -- (jgonzal)\n",
      "(hoityToity) -- friend -- (franklin)\n",
      "(hoityToity) -- friend -- (somebody)\n"
     ]
    }
   ],
   "source": [
    "// print out the graph:\n",
    "printAllEdges( graph )"
   ]
  },
  {
   "cell_type": "code",
   "execution_count": 72,
   "metadata": {},
   "outputs": [
    {
     "name": "stdout",
     "output_type": "stream",
     "text": [
      "Num of edges = 6\n",
      "Num of vertices = 6\n",
      "Num of inDegrees = 4\n",
      "Num of outDegrees = 4\n",
      "Num of degrees = 6\n"
     ]
    }
   ],
   "source": [
    "// print out basic properties:\n",
    "printGraphProperties(graph)"
   ]
  },
  {
   "cell_type": "code",
   "execution_count": 68,
   "metadata": {},
   "outputs": [
    {
     "name": "stdout",
     "output_type": "stream",
     "text": [
      "Count all users which are postdocs:\n",
      "2\n"
     ]
    }
   ],
   "source": [
    "println(\"Count all users which are postdocs:\")\n",
    "println( graph.vertices.filter { case (id, (name, pos)) => pos == \"postdoc\" }.count )"
   ]
  },
  {
   "cell_type": "code",
   "execution_count": 69,
   "metadata": {},
   "outputs": [
    {
     "name": "stdout",
     "output_type": "stream",
     "text": [
      "Count all the edges where src > dst\n",
      "3\n"
     ]
    }
   ],
   "source": [
    "println( \"Count all the edges where src > dst\")\n",
    "println( graph.edges.filter(e => e.srcId > e.dstId).count )"
   ]
  },
  {
   "cell_type": "code",
   "execution_count": 129,
   "metadata": {},
   "outputs": [],
   "source": [
    "spark.stop()"
   ]
  },
  {
   "cell_type": "code",
   "execution_count": null,
   "metadata": {},
   "outputs": [],
   "source": []
  }
 ],
 "metadata": {
  "kernelspec": {
   "display_name": "Scala",
   "language": "scala",
   "name": "scala"
  },
  "language_info": {
   "codemirror_mode": "text/x-scala",
   "file_extension": ".sc",
   "mimetype": "text/x-scala",
   "name": "scala",
   "nbconvert_exporter": "script",
   "version": "2.12.16"
  }
 },
 "nbformat": 4,
 "nbformat_minor": 4
}
